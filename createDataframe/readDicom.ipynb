{
 "cells": [
  {
   "cell_type": "markdown",
   "metadata": {
    "vscode": {
     "languageId": "plaintext"
    }
   },
   "source": [
    "## Creating a dataframe"
   ]
  },
  {
   "cell_type": "markdown",
   "metadata": {},
   "source": [
    "This file takes a directory and processes the files in the given format, creating a <span style=\"color: green\"> pickle </span> file."
   ]
  },
  {
   "cell_type": "markdown",
   "metadata": {},
   "source": [
    "---\n",
    "\n",
    "\n",
    "#### <span style=\"color: red\">Question</span>\n",
    "\n",
    "I can see coordinates for fibrosis countour inside the .txt files:\n",
    "\n",
    " - What is the correct way to read and use said data?\n",
    " - Should I use them as segmentation, or should I develop/use transfer learning for a segmentation algorithm?\n",
    " - In cases with no fibrosis, how would i perform segmentation? Simply the relevant lung parts?\n",
    "\n",
    "#### <span style=\"color: green\">Answer</span>\n",
    "\n",
    "For now, not relevant. Lung masks are not needed right now, at least for simple binary classification, I can juist give numpy arrays of the entire DICOM file.\n",
    "\n",
    "\n",
    "---"
   ]
  },
  {
   "cell_type": "markdown",
   "metadata": {},
   "source": [
    "Imports"
   ]
  },
  {
   "cell_type": "code",
   "execution_count": 29,
   "metadata": {},
   "outputs": [],
   "source": [
    "import os\n",
    "import pandas as pd\n",
    "import pickle\n",
    "import pydicom\n",
    "import numpy as np\n",
    "import matplotlib.pyplot as plt\n",
    "import matplotlib.animation as animation\n",
    "\n",
    "# Export dataframe as .csv if only ID -> Label, .pkl otherwise"
   ]
  },
  {
   "cell_type": "code",
   "execution_count": 3,
   "metadata": {},
   "outputs": [],
   "source": [
    "# Setting variables \n",
    "\n",
    "#root_dir = 'X:\\\\RafaelAndre\\\\MedGIFT\\\\ILD_DB_txtROIs'\n",
    "\n",
    "root_dir = 'D:\\\\Rafa\\\\A1Uni\\\\2semestre\\\\Estágio\\\\data\\\\ILD_DB_txtROIs'"
   ]
  },
  {
   "cell_type": "markdown",
   "metadata": {},
   "source": [
    "## Code Planification and Intuition\n",
    "\n",
    "\n",
    "### Identify folders with nested folders\n",
    "\n",
    "This will help with os.walk issues down the line, due to potential exceptional folder name/number cases.\n",
    "\n",
    " - Enter folder\n",
    "    - If has subfolders, add to list\n",
    "    - Then, for each subfolder, apply function below\n",
    "\n",
    "### Main function\n",
    "\n",
    "This aims to obtain each file's id, as well as its respective DICOM data (transformed into tangible lossless data structures) and fibrosis classification in such a way that they can only be correctly assigned.\n",
    "\n",
    " - Get number of slices, num_slices = number of files in folder - 1\n",
    " - Get all file names except txt, and for each do name = str(parent_folder) + str(file_name) and put them in a list, where they are all in ascending order according to the number represented by the last 4 digits of each file name\n",
    " - For each file in that list, transform DICOM images into lossless np.array or matrix, place into data_dict, like {file_name: lossless_data_structure}\n",
    " - Enter all pairs into classification_dict, like {file_name:0}\n",
    " - Find .txt file\n",
    "    - read line by line:\n",
    "\n",
    "**The loop structure below makes it easy to identify id's in the dataframe, as they are named \"folder_number + slice_id\", and in a later implementation will contain every respective slice data.**\n",
    "\n",
    "While reading line by line:\n",
    " - find first occurrence of \"fibrosis\"\n",
    "   \n",
    "   - After finding fibrosis, start new loop until new \"label\" is found, and is not \"label: fibrosis\". For every \"slice_number: num\" found, get slice_file_name = file_names[num-1] (as the slices start at 1) (id: 1) to dictionary.\n",
    "\n",
    "   - If a new \"label\" is found and is not \"label: fibrosis\", then each slice_num under it does not count as it is not fibrosis. \n",
    "   \n",
    "   - Until the .txt file is not completely read, we keep searching for the \"fibrosis\" keyword, and repeating the loop above.\n",
    "\n",
    "### Dataframe creation and export\n",
    "\n",
    "After each folder iteration, the dictionary keeps being updated, and when all folders are finally analyzed, I should have a dataset with slice id's and their respective fibrosis classification.\n",
    "\n",
    "This means that I can use the {key,value} pairs inside the dictionary as data for the pandas library to build a tangible dataframe.\n",
    "\n",
    "The column names will be `SliceID`, `SliceData` and `Class`, where classification as 1 means that fibrosis is present, and 0 otherwise.\n",
    "\n",
    "**`Important:`** This type of data should not be stored in a .csv file, as the numpy arrays will be converted to strings, making it necessary to re-map them into arrays every time that file needs to be read. Pickle files are recommended. Creating, saving and reading `.pkl` files is demonstrated below."
   ]
  },
  {
   "cell_type": "code",
   "execution_count": 12,
   "metadata": {},
   "outputs": [],
   "source": [
    "# Obtains folders with subfolders\n",
    "def get_nested(base_path):\n",
    "    has_sub = []\n",
    "    for root, dirs, files in os.walk(base_path):\n",
    "        if dirs: has_sub.append(root)\n",
    "    return has_sub"
   ]
  },
  {
   "cell_type": "code",
   "execution_count": 13,
   "metadata": {},
   "outputs": [],
   "source": [
    "def get_dicom_lossless(folder_path):\n",
    "\n",
    "    # Get file names in ascending order\n",
    "    file_names = sorted(\n",
    "        [f for f in os.listdir(folder_path) if f.endswith('.dcm')],\n",
    "        key=lambda x: int(x[-8:-4])  # Last 4 digits of filename for sorting\n",
    "    )\n",
    "    \n",
    "    # Create relevant dictionaries\n",
    "    num_slices = len(file_names)\n",
    "    data_dict = {}\n",
    "    classification_dict = {}\n",
    "    \n",
    "    # Read DICOM files and store as numpy arrays\n",
    "    for file_name in file_names:\n",
    "        dicom_path = os.path.join(folder_path, file_name)\n",
    "        dicom_data = pydicom.dcmread(dicom_path)\n",
    "        np_array = dicom_data.pixel_array.astype(np.float32)  \n",
    "\n",
    "        # Creates {key,value} as {file_name, 0}\n",
    "        data_dict[file_name] = np_array \n",
    "        classification_dict[file_name] = 0  \n",
    "    \n",
    "    # Pull txt file\n",
    "    txt_file = next((f for f in os.listdir(folder_path) if f.endswith('.txt')), None)\n",
    "    \n",
    "    # If a txt file is found, start reading line by line\n",
    "    if txt_file:\n",
    "        txt_path = os.path.join(folder_path, txt_file)\n",
    "        with open(txt_path, 'r') as file:\n",
    "            lines = file.readlines()\n",
    "            fibrosis_found = False\n",
    "            \n",
    "            for line in lines:\n",
    "                line = line.strip().lower()\n",
    "                \n",
    "                # Finds fibrosis, enables flag\n",
    "                if \"fibrosis\" in line:\n",
    "                    fibrosis_found = True  \n",
    "                    continue\n",
    "                \n",
    "                if fibrosis_found:\n",
    "\n",
    "                    # Flag reset condition\n",
    "                    if \"label\" in line and \"fibrosis\" not in line:\n",
    "                        fibrosis_found = False  \n",
    "\n",
    "                    # Otherwise, for each slice_number, update {key,value}\n",
    "                    elif \"slice_number:\" in line:\n",
    "\n",
    "                        # Pull slice number, use as index\n",
    "                        slice_num = int(line.split(':')[-1].strip())\n",
    "                        if 1 <= slice_num <= num_slices:\n",
    "                            classification_dict[file_names[slice_num - 1]] = 1 \n",
    "    \n",
    "    return data_dict, classification_dict"
   ]
  },
  {
   "cell_type": "code",
   "execution_count": 16,
   "metadata": {},
   "outputs": [],
   "source": [
    "def create_dataframe(base_path):\n",
    "    full_dict = {}\n",
    "    \n",
    "    # Iterate through each folder\n",
    "    for root, dirs, _ in os.walk(base_path):\n",
    "        for subfolder in dirs:\n",
    "            folder_path = os.path.join(root, subfolder)\n",
    "            \n",
    "            if os.path.isdir(folder_path):\n",
    "\n",
    "                try:\n",
    "                    info_dict, class_dict = get_dicom_lossless(folder_path)\n",
    "                    \n",
    "                    for file_name, slice_data in info_dict.items():\n",
    "                        full_dict[file_name] = (slice_data, class_dict[file_name])\n",
    "                except Exception as e:\n",
    "                    print(f\"Error processing folder {folder_path}: {e}\")\n",
    "    \n",
    "    # Convert dictionary to DataFrame\n",
    "    df = pd.DataFrame([(k, v[0], v[1]) for k, v in full_dict.items()], columns=[\"SliceID\", \"SliceData\", \"Class\"])\n",
    "    \n",
    "    return df"
   ]
  },
  {
   "cell_type": "code",
   "execution_count": null,
   "metadata": {},
   "outputs": [
    {
     "name": "stdout",
     "output_type": "stream",
     "text": [
      "Error processing folder D:\\Rafa\\A1Uni\\2semestre\\Estágio\\data\\ILD_DB_txtROIs\\172: The number of bytes of pixel data is less than expected (260622 vs 524288 bytes) - the dataset may be corrupted, have an invalid group 0028 element value, or the transfer syntax may be incorrect\n",
      "Data saved successfully to fibrosis_data.pkl\n"
     ]
    }
   ],
   "source": [
    "df_fibrosis = create_dataframe(root_dir)"
   ]
  },
  {
   "cell_type": "code",
   "execution_count": 20,
   "metadata": {},
   "outputs": [
    {
     "name": "stdout",
     "output_type": "stream",
     "text": [
      "Data saved successfully to pickle_jar\\fibrosis_data.pkl\n"
     ]
    }
   ],
   "source": [
    "# Save DataFrame as a pickle file\n",
    "with open(\"..\\\\pickle_jar\\\\fibrosis_data.pkl\", 'wb') as f:\n",
    "    pickle.dump(df_fibrosis, f)\n",
    "\n",
    "print(f\"Data saved successfully to {\"pickle_jar\\\\fibrosis_data.pkl\"}\")"
   ]
  },
  {
   "cell_type": "code",
   "execution_count": null,
   "metadata": {},
   "outputs": [
    {
     "data": {
      "text/html": [
       "<div>\n",
       "<style scoped>\n",
       "    .dataframe tbody tr th:only-of-type {\n",
       "        vertical-align: middle;\n",
       "    }\n",
       "\n",
       "    .dataframe tbody tr th {\n",
       "        vertical-align: top;\n",
       "    }\n",
       "\n",
       "    .dataframe thead th {\n",
       "        text-align: right;\n",
       "    }\n",
       "</style>\n",
       "<table border=\"1\" class=\"dataframe\">\n",
       "  <thead>\n",
       "    <tr style=\"text-align: right;\">\n",
       "      <th></th>\n",
       "      <th>SliceID</th>\n",
       "      <th>SliceData</th>\n",
       "      <th>Class</th>\n",
       "    </tr>\n",
       "  </thead>\n",
       "  <tbody>\n",
       "    <tr>\n",
       "      <th>0</th>\n",
       "      <td>CT-0002-0001.dcm</td>\n",
       "      <td>[[-2000.0, -2000.0, -2000.0, -2000.0, -2000.0,...</td>\n",
       "      <td>0</td>\n",
       "    </tr>\n",
       "    <tr>\n",
       "      <th>1</th>\n",
       "      <td>CT-0002-0002.dcm</td>\n",
       "      <td>[[-2000.0, -2000.0, -2000.0, -2000.0, -2000.0,...</td>\n",
       "      <td>0</td>\n",
       "    </tr>\n",
       "    <tr>\n",
       "      <th>2</th>\n",
       "      <td>CT-0002-0003.dcm</td>\n",
       "      <td>[[-2000.0, -2000.0, -2000.0, -2000.0, -2000.0,...</td>\n",
       "      <td>0</td>\n",
       "    </tr>\n",
       "    <tr>\n",
       "      <th>3</th>\n",
       "      <td>CT-0002-0004.dcm</td>\n",
       "      <td>[[-2000.0, -2000.0, -2000.0, -2000.0, -2000.0,...</td>\n",
       "      <td>1</td>\n",
       "    </tr>\n",
       "    <tr>\n",
       "      <th>4</th>\n",
       "      <td>CT-0002-0005.dcm</td>\n",
       "      <td>[[-2000.0, -2000.0, -2000.0, -2000.0, -2000.0,...</td>\n",
       "      <td>1</td>\n",
       "    </tr>\n",
       "  </tbody>\n",
       "</table>\n",
       "</div>"
      ],
      "text/plain": [
       "            SliceID                                          SliceData  Class\n",
       "0  CT-0002-0001.dcm  [[-2000.0, -2000.0, -2000.0, -2000.0, -2000.0,...      0\n",
       "1  CT-0002-0002.dcm  [[-2000.0, -2000.0, -2000.0, -2000.0, -2000.0,...      0\n",
       "2  CT-0002-0003.dcm  [[-2000.0, -2000.0, -2000.0, -2000.0, -2000.0,...      0\n",
       "3  CT-0002-0004.dcm  [[-2000.0, -2000.0, -2000.0, -2000.0, -2000.0,...      1\n",
       "4  CT-0002-0005.dcm  [[-2000.0, -2000.0, -2000.0, -2000.0, -2000.0,...      1"
      ]
     },
     "execution_count": 21,
     "metadata": {},
     "output_type": "execute_result"
    }
   ],
   "source": [
    "# Visualizing dataframe and contents\n",
    "df_fibrosis.head(5)"
   ]
  },
  {
   "cell_type": "code",
   "execution_count": 22,
   "metadata": {},
   "outputs": [
    {
     "name": "stdout",
     "output_type": "stream",
     "text": [
      "<class 'pandas.core.frame.DataFrame'>\n",
      "RangeIndex: 2221 entries, 0 to 2220\n",
      "Data columns (total 3 columns):\n",
      " #   Column     Non-Null Count  Dtype \n",
      "---  ------     --------------  ----- \n",
      " 0   SliceID    2221 non-null   object\n",
      " 1   SliceData  2221 non-null   object\n",
      " 2   Class      2221 non-null   int64 \n",
      "dtypes: int64(1), object(2)\n",
      "memory usage: 52.2+ KB\n"
     ]
    }
   ],
   "source": [
    "df_fibrosis.info()"
   ]
  },
  {
   "cell_type": "code",
   "execution_count": null,
   "metadata": {},
   "outputs": [
    {
     "data": {
      "text/html": [
       "<div>\n",
       "<style scoped>\n",
       "    .dataframe tbody tr th:only-of-type {\n",
       "        vertical-align: middle;\n",
       "    }\n",
       "\n",
       "    .dataframe tbody tr th {\n",
       "        vertical-align: top;\n",
       "    }\n",
       "\n",
       "    .dataframe thead th {\n",
       "        text-align: right;\n",
       "    }\n",
       "</style>\n",
       "<table border=\"1\" class=\"dataframe\">\n",
       "  <thead>\n",
       "    <tr style=\"text-align: right;\">\n",
       "      <th></th>\n",
       "      <th>Class</th>\n",
       "    </tr>\n",
       "  </thead>\n",
       "  <tbody>\n",
       "    <tr>\n",
       "      <th>count</th>\n",
       "      <td>2221.000000</td>\n",
       "    </tr>\n",
       "    <tr>\n",
       "      <th>mean</th>\n",
       "      <td>0.102656</td>\n",
       "    </tr>\n",
       "    <tr>\n",
       "      <th>std</th>\n",
       "      <td>0.303578</td>\n",
       "    </tr>\n",
       "    <tr>\n",
       "      <th>min</th>\n",
       "      <td>0.000000</td>\n",
       "    </tr>\n",
       "    <tr>\n",
       "      <th>25%</th>\n",
       "      <td>0.000000</td>\n",
       "    </tr>\n",
       "    <tr>\n",
       "      <th>50%</th>\n",
       "      <td>0.000000</td>\n",
       "    </tr>\n",
       "    <tr>\n",
       "      <th>75%</th>\n",
       "      <td>0.000000</td>\n",
       "    </tr>\n",
       "    <tr>\n",
       "      <th>max</th>\n",
       "      <td>1.000000</td>\n",
       "    </tr>\n",
       "  </tbody>\n",
       "</table>\n",
       "</div>"
      ],
      "text/plain": [
       "             Class\n",
       "count  2221.000000\n",
       "mean      0.102656\n",
       "std       0.303578\n",
       "min       0.000000\n",
       "25%       0.000000\n",
       "50%       0.000000\n",
       "75%       0.000000\n",
       "max       1.000000"
      ]
     },
     "execution_count": 23,
     "metadata": {},
     "output_type": "execute_result"
    }
   ],
   "source": [
    "df_fibrosis.describe()"
   ]
  },
  {
   "cell_type": "code",
   "execution_count": 24,
   "metadata": {},
   "outputs": [],
   "source": [
    "df_fibrosis.to_csv(\"fibrosis_df_visualization.csv\", index=False)"
   ]
  },
  {
   "cell_type": "code",
   "execution_count": null,
   "metadata": {},
   "outputs": [],
   "source": [
    "def find_dicom_path(root_dir, dicom_filename):\n",
    "    \"\"\"\n",
    "    Search for the first occurrence of the given DICOM filename within the root directory.\n",
    "    \"\"\"\n",
    "    for root, _, files in os.walk(root_dir):\n",
    "        if dicom_filename in files:\n",
    "            return os.path.join(root, dicom_filename)\n",
    "    return None\n",
    "\n",
    "def animate_dicom_vs_numpy(folder_path):\n",
    "    \"\"\"\n",
    "    Animate the DICOM slices side by side with the processed numpy arrays.\n",
    "    \"\"\"\n",
    "    dicom_files = sorted(\n",
    "        [f for f in os.listdir(folder_path) if f.endswith('.dcm')],\n",
    "        key=lambda x: int(x[-8:-4])  # Extract last 4 digits of filename for sorting\n",
    "    )\n",
    "    \n",
    "    fig, axes = plt.subplots(1, 2, figsize=(10, 5))\n",
    "    \n",
    "    def update(frame):\n",
    "        dicom_path = os.path.join(folder_path, dicom_files[frame])\n",
    "        dicom_data = pydicom.dcmread(dicom_path)\n",
    "        original_image = dicom_data.pixel_array\n",
    "        np_array = original_image.astype(np.float32)\n",
    "        \n",
    "        axes[0].imshow(original_image, cmap='gray')\n",
    "        axes[0].set_title(\"Original DICOM Image\")\n",
    "        axes[0].axis(\"off\")\n",
    "        \n",
    "        axes[1].imshow(np_array, cmap='gray')\n",
    "        axes[1].set_title(\"Processed NumPy Array\")\n",
    "        axes[1].axis(\"off\")\n",
    "    \n",
    "    ani = animation.FuncAnimation(fig, update, frames=len(dicom_files), interval=200)\n",
    "    plt.show()\n",
    "    \n",
    "    return ani"
   ]
  },
  {
   "cell_type": "code",
   "execution_count": 31,
   "metadata": {},
   "outputs": [
    {
     "data": {
      "image/png": "[encoded data removed]",
      "text/plain": [
       "<Figure size 1000x500 with 2 Axes>"
      ]
     },
     "metadata": {},
     "output_type": "display_data"
    },
    {
     "data": {
      "text/plain": [
       "<matplotlib.animation.FuncAnimation at 0x20d807150d0>"
      ]
     },
     "execution_count": 31,
     "metadata": {},
     "output_type": "execute_result"
    }
   ],
   "source": [
    "animate_dicom_vs_numpy(\"D:\\\\Rafa\\\\A1Uni\\\\2semestre\\\\Estágio\\\\data\\\\ILD_DB_txtROIs\\\\7\")"
   ]
  },
  {
   "cell_type": "code",
   "execution_count": null,
   "metadata": {},
   "outputs": [],
   "source": []
  }
 ],
 "metadata": {
  "kernelspec": {
   "display_name": "fibrosis",
   "language": "python",
   "name": "python3"
  },
  "language_info": {
   "codemirror_mode": {
    "name": "ipython",
    "version": 3
   },
   "file_extension": ".py",
   "mimetype": "text/x-python",
   "name": "python",
   "nbconvert_exporter": "python",
   "pygments_lexer": "ipython3",
   "version": "3.12.9"
  }
 },
 "nbformat": 4,
 "nbformat_minor": 4
}
