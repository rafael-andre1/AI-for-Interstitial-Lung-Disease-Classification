{
 "cells": [
  {
   "cell_type": "markdown",
   "metadata": {},
   "source": [
    "# Data Preprocessing and Exploratory Analysis\n",
    "\n",
    "\n",
    "### <span style=\"color: red\">Warning</span>\n",
    "\n",
    "This version has outdated proportion results. Please refer to `dataIntegrity` inside `matlabComparison` for correct values."
   ]
  },
  {
   "cell_type": "markdown",
   "metadata": {},
   "source": [
    "This notebook documents the essential normalization, quality assessment and general preprocessing and analysis steps of the created dataframe.\n",
    "\n",
    "Initial ideas consist of:\n",
    "\n",
    " - Hounsfield Units Manual Normalization\n",
    " - Class Imbalance Identification (maintain data ratio on augmentation or aim for 50/50?)\n",
    " - Investigate new, possibly more meaningful metrics\n",
    " - General EDA\n",
    "\n",
    "The core objective of this notebook is to build a clean, augmented dataframe and export it to a `.pkl` file. The file will be used to compare augmentation performance. I assume this `.ipynb` file can possibly be reused (needs only changes on solutions due to observed issues) with the 3d dataset."
   ]
  },
  {
   "cell_type": "code",
   "execution_count": 2,
   "metadata": {},
   "outputs": [],
   "source": [
    "# Relevant imports\n",
    "\n",
    "import os\n",
    "import pandas as pd\n",
    "import pickle\n",
    "import random\n",
    "import pydicom\n",
    "import numpy as np\n",
    "import matplotlib.pyplot as plt\n",
    "from scipy.ndimage import gaussian_filter\n",
    "import seaborn as sns"
   ]
  },
  {
   "cell_type": "code",
   "execution_count": 3,
   "metadata": {},
   "outputs": [
    {
     "data": {
      "text/html": [
       "<div>\n",
       "<style scoped>\n",
       "    .dataframe tbody tr th:only-of-type {\n",
       "        vertical-align: middle;\n",
       "    }\n",
       "\n",
       "    .dataframe tbody tr th {\n",
       "        vertical-align: top;\n",
       "    }\n",
       "\n",
       "    .dataframe thead th {\n",
       "        text-align: right;\n",
       "    }\n",
       "</style>\n",
       "<table border=\"1\" class=\"dataframe\">\n",
       "  <thead>\n",
       "    <tr style=\"text-align: right;\">\n",
       "      <th></th>\n",
       "      <th>SliceID</th>\n",
       "      <th>SliceData</th>\n",
       "      <th>Class</th>\n",
       "    </tr>\n",
       "  </thead>\n",
       "  <tbody>\n",
       "    <tr>\n",
       "      <th>0</th>\n",
       "      <td>101__CT-0002-0001</td>\n",
       "      <td>[[-2000.0, -2000.0, -2000.0, -2000.0, -2000.0,...</td>\n",
       "      <td>0</td>\n",
       "    </tr>\n",
       "    <tr>\n",
       "      <th>1</th>\n",
       "      <td>101__CT-0002-0002</td>\n",
       "      <td>[[-2000.0, -2000.0, -2000.0, -2000.0, -2000.0,...</td>\n",
       "      <td>0</td>\n",
       "    </tr>\n",
       "    <tr>\n",
       "      <th>2</th>\n",
       "      <td>101__CT-0002-0003</td>\n",
       "      <td>[[-2000.0, -2000.0, -2000.0, -2000.0, -2000.0,...</td>\n",
       "      <td>0</td>\n",
       "    </tr>\n",
       "    <tr>\n",
       "      <th>3</th>\n",
       "      <td>101__CT-0002-0004</td>\n",
       "      <td>[[-2000.0, -2000.0, -2000.0, -2000.0, -2000.0,...</td>\n",
       "      <td>0</td>\n",
       "    </tr>\n",
       "    <tr>\n",
       "      <th>4</th>\n",
       "      <td>101__CT-0002-0005</td>\n",
       "      <td>[[-2000.0, -2000.0, -2000.0, -2000.0, -2000.0,...</td>\n",
       "      <td>0</td>\n",
       "    </tr>\n",
       "    <tr>\n",
       "      <th>5</th>\n",
       "      <td>101__CT-0002-0006</td>\n",
       "      <td>[[-2000.0, -2000.0, -2000.0, -2000.0, -2000.0,...</td>\n",
       "      <td>1</td>\n",
       "    </tr>\n",
       "    <tr>\n",
       "      <th>6</th>\n",
       "      <td>101__CT-0002-0007</td>\n",
       "      <td>[[-2000.0, -2000.0, -2000.0, -2000.0, -2000.0,...</td>\n",
       "      <td>0</td>\n",
       "    </tr>\n",
       "    <tr>\n",
       "      <th>7</th>\n",
       "      <td>101__CT-0002-0008</td>\n",
       "      <td>[[-2000.0, -2000.0, -2000.0, -2000.0, -2000.0,...</td>\n",
       "      <td>1</td>\n",
       "    </tr>\n",
       "    <tr>\n",
       "      <th>8</th>\n",
       "      <td>101__CT-0002-0009</td>\n",
       "      <td>[[-2000.0, -2000.0, -2000.0, -2000.0, -2000.0,...</td>\n",
       "      <td>0</td>\n",
       "    </tr>\n",
       "    <tr>\n",
       "      <th>9</th>\n",
       "      <td>101__CT-0002-0010</td>\n",
       "      <td>[[-2000.0, -2000.0, -2000.0, -2000.0, -2000.0,...</td>\n",
       "      <td>0</td>\n",
       "    </tr>\n",
       "  </tbody>\n",
       "</table>\n",
       "</div>"
      ],
      "text/plain": [
       "             SliceID                                          SliceData  Class\n",
       "0  101__CT-0002-0001  [[-2000.0, -2000.0, -2000.0, -2000.0, -2000.0,...      0\n",
       "1  101__CT-0002-0002  [[-2000.0, -2000.0, -2000.0, -2000.0, -2000.0,...      0\n",
       "2  101__CT-0002-0003  [[-2000.0, -2000.0, -2000.0, -2000.0, -2000.0,...      0\n",
       "3  101__CT-0002-0004  [[-2000.0, -2000.0, -2000.0, -2000.0, -2000.0,...      0\n",
       "4  101__CT-0002-0005  [[-2000.0, -2000.0, -2000.0, -2000.0, -2000.0,...      0\n",
       "5  101__CT-0002-0006  [[-2000.0, -2000.0, -2000.0, -2000.0, -2000.0,...      1\n",
       "6  101__CT-0002-0007  [[-2000.0, -2000.0, -2000.0, -2000.0, -2000.0,...      0\n",
       "7  101__CT-0002-0008  [[-2000.0, -2000.0, -2000.0, -2000.0, -2000.0,...      1\n",
       "8  101__CT-0002-0009  [[-2000.0, -2000.0, -2000.0, -2000.0, -2000.0,...      0\n",
       "9  101__CT-0002-0010  [[-2000.0, -2000.0, -2000.0, -2000.0, -2000.0,...      0"
      ]
     },
     "execution_count": 3,
     "metadata": {},
     "output_type": "execute_result"
    }
   ],
   "source": [
    "# Pulling dataframe \n",
    "\n",
    "#df_fibrosis = pd.read_pickle(r'D:\\\\Rafa\\\\A1Uni\\\\2semestre\\\\Estágio\\\\fibrosis_data.pkl')\n",
    "\n",
    "#df_fibrosis = pd.read_pickle(r'C:\\\\Users\\\\hasht\\Desktop\\\\fibrosis_data.pkl')\n",
    "\n",
    "df_fibrosis = pd.read_pickle(r'..\\..\\\\fibrosis_data.pkl')\n",
    "df_fibrosis.head(10)"
   ]
  },
  {
   "cell_type": "markdown",
   "metadata": {},
   "source": [
    "# Preliminary Analysis\n",
    "\n",
    "I won't be performing any type of specific statystical analysis here, since features will be derived by CNN. Instead, I will be focusing on normalization and augmentation, with the intent of enhancing algortihm performance."
   ]
  },
  {
   "cell_type": "code",
   "execution_count": 4,
   "metadata": {},
   "outputs": [
    {
     "name": "stdout",
     "output_type": "stream",
     "text": [
      "\n",
      "General overview:\n",
      "<class 'pandas.core.frame.DataFrame'>\n",
      "RangeIndex: 3074 entries, 0 to 3073\n",
      "Data columns (total 3 columns):\n",
      " #   Column     Non-Null Count  Dtype \n",
      "---  ------     --------------  ----- \n",
      " 0   SliceID    3074 non-null   object\n",
      " 1   SliceData  3074 non-null   object\n",
      " 2   Class      3074 non-null   int64 \n",
      "dtypes: int64(1), object(2)\n",
      "memory usage: 72.2+ KB\n"
     ]
    }
   ],
   "source": [
    "# General overview\n",
    "print(\"\\nGeneral overview:\")\n",
    "df_fibrosis.info()"
   ]
  },
  {
   "cell_type": "code",
   "execution_count": 5,
   "metadata": {},
   "outputs": [
    {
     "data": {
      "image/png": "[encoded data removed]",
      "text/plain": [
       "<Figure size 800x500 with 1 Axes>"
      ]
     },
     "metadata": {},
     "output_type": "display_data"
    },
    {
     "name": "stdout",
     "output_type": "stream",
     "text": [
      "Class\n",
      "0    90.403383\n",
      "1     9.596617\n",
      "Name: count, dtype: float64\n"
     ]
    }
   ],
   "source": [
    "# Plots class counts\n",
    "plt.figure(figsize=(8, 5))\n",
    "sns.countplot(data=df_fibrosis, x='Class', hue=\"Class\", palette='viridis', legend=False)\n",
    "\n",
    "plt.title('Class Distribution in df_fibrosis')\n",
    "plt.xlabel('Class')\n",
    "plt.ylabel('Count')\n",
    "plt.xticks(rotation=45)  \n",
    "plt.show()\n",
    "\n",
    "\n",
    "# Displays imbalance\n",
    "class_counts, total_samples = df_fibrosis['Class'].value_counts(), len(df_fibrosis)\n",
    "print((class_counts / total_samples) * 100)"
   ]
  },
  {
   "cell_type": "markdown",
   "metadata": {},
   "source": [
    "It is also important to verify if the predefined test split shares the same data proportion, for result validity:"
   ]
  },
  {
   "cell_type": "code",
   "execution_count": 6,
   "metadata": {},
   "outputs": [
    {
     "data": {
      "image/png": "[encoded data removed]",
      "text/plain": [
       "<Figure size 800x500 with 1 Axes>"
      ]
     },
     "metadata": {},
     "output_type": "display_data"
    },
    {
     "name": "stdout",
     "output_type": "stream",
     "text": [
      "Class\n",
      "0    99.335548\n",
      "1     0.664452\n",
      "Name: count, dtype: float64\n"
     ]
    }
   ],
   "source": [
    "df_fibrosis_test = df_fibrosis[df_fibrosis[\"SliceID\"].str.contains(\"HRCT_Pilot\")]\n",
    "\n",
    "# Plots class counts\n",
    "plt.figure(figsize=(8, 5))\n",
    "sns.countplot(data=df_fibrosis_test, x='Class', hue=\"Class\", palette='viridis', legend=False)\n",
    "\n",
    "plt.title('Class Distribution in df_fibrosis\\' predefined test folder')\n",
    "plt.xlabel('Class')\n",
    "plt.ylabel('Count')\n",
    "plt.xticks(rotation=45)  \n",
    "plt.show()\n",
    "\n",
    "\n",
    "# Displays imbalance\n",
    "class_counts, total_samples = df_fibrosis_test['Class'].value_counts(), len(df_fibrosis_test)\n",
    "print((class_counts / total_samples) * 100)"
   ]
  },
  {
   "cell_type": "markdown",
   "metadata": {},
   "source": [
    "After identifying the drastic class imbalance, I am faced with a dillema. I am already planning on applying data augmentation, so my options are:\n",
    "\n",
    " - **Equalizing or approximating proportions:** this would provide the model with roughly the same ammount of `fibrosis` vs `not_fibrosis` data. The issue is that I would be artifically affecting the natural proportion of fibrosis found in the study's population, as well as introducing a much higher portion of augmented data as `fibrosis` slices when compared to `not_fibrosis`.\n",
    "\n",
    " - **Keeping proportions:** this would ensure the correct representation of the study's population, maintaining potentially relevant data relationships. However, the model could be biased towards the majority class (`not_fibrosis`), or be much better at its detection when compared to `fibrosis`, due to the significantly reduced number of examples.\n",
    "\n",
    "\n",
    "In order to respect data integrity, I decided to apply augmentation while keeping proportions. As a way to correctly evaluate performance, weighted metrics will be employed after model training."
   ]
  },
  {
   "cell_type": "markdown",
   "metadata": {},
   "source": [
    "Aditionally, due to different class imbalances and the overwhelming class 0 size, I must take into consideration separate accuracies when evaluating performance. Classification when fibrosis is present is going to be quite challenging!"
   ]
  }
 ],
 "metadata": {
  "kernelspec": {
   "display_name": "fibrosis",
   "language": "python",
   "name": "python3"
  },
  "language_info": {
   "codemirror_mode": {
    "name": "ipython",
    "version": 3
   },
   "file_extension": ".py",
   "mimetype": "text/x-python",
   "name": "python",
   "nbconvert_exporter": "python",
   "pygments_lexer": "ipython3",
   "version": "3.12.9"
  }
 },
 "nbformat": 4,
 "nbformat_minor": 2
}
