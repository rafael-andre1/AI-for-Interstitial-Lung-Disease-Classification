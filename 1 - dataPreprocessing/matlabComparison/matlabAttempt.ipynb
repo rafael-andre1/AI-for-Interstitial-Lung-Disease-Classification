{
 "cells": [
  {
   "cell_type": "code",
   "execution_count": null,
   "id": "d66699da",
   "metadata": {},
   "outputs": [],
   "source": [
    "\n",
    "def load_roi_files(roi_file_name):\n",
    "    # List to store all the ROIs\n",
    "    rois = []\n",
    "\n",
    "    # Open the ROI file for reading\n",
    "    with open(roi_file_name, 'r') as file:\n",
    "        roi = {}\n",
    "        while True:\n",
    "            # Read a line from the file\n",
    "            line = file.readline()\n",
    "            \n",
    "            # Stop if we reach the end of the file\n",
    "            if not line:\n",
    "                break\n",
    "\n",
    "            # Check and parse each line based on its prefix\n",
    "            if 'label:' in line:\n",
    "                roi['label'] = line.replace('label: ', '').strip()\n",
    "            elif 'slice_number:' in line:\n",
    "                roi['slice_number'] = float(line.replace('slice_number: ', '').strip())\n",
    "\n",
    "                # Append the parsed ROI to the list of ROIs\n",
    "                rois.append(roi)\n",
    "                roi = {}  # Reset for the next ROI\n",
    "\n",
    "    return rois"
   ]
  },
  {
   "cell_type": "code",
   "execution_count": 4,
   "id": "3dc000c2",
   "metadata": {},
   "outputs": [
    {
     "data": {
      "text/plain": [
       "[{'label': 'bronchiectasis', 'slice_number': 9.0},\n",
       " {'slice_number': 11.0},\n",
       " {'slice_number': 12.0},\n",
       " {'label': 'fibrosis', 'slice_number': 3.0},\n",
       " {'slice_number': 4.0},\n",
       " {'slice_number': 5.0},\n",
       " {'slice_number': 8.0},\n",
       " {'slice_number': 9.0},\n",
       " {'slice_number': 10.0},\n",
       " {'slice_number': 11.0},\n",
       " {'slice_number': 13.0},\n",
       " {'slice_number': 14.0},\n",
       " {'slice_number': 15.0}]"
      ]
     },
     "execution_count": 4,
     "metadata": {},
     "output_type": "execute_result"
    }
   ],
   "source": [
    "load_roi_files(r\"C:\\Users\\hasht\\Desktop\\Cloned Repositories\\fibrosis_dataset\\ILD_DB_txtROIs\\8\\CT-INSPIRIUM-8873\\CT-INSPIRIUM-8873.txt\")"
   ]
  },
  {
   "cell_type": "code",
   "execution_count": 8,
   "id": "27798a32",
   "metadata": {},
   "outputs": [
    {
     "name": "stdout",
     "output_type": "stream",
     "text": [
      "Searching in folder: HRCT_pilot\n",
      "Searching in folder: 200\n",
      "Found txt file: CT-0002.txt\n",
      "Loaded ROIs from CT-0002.txt: [{'label': 'healthy', 'slice_number': 5.0}, {'slice_number': 9.0}, {'slice_number': 12.0}, {'slice_number': 15.0}]\n",
      "\n",
      "==================================================\n",
      "\n",
      "Searching in folder: 201\n",
      "Found txt file: CT-0002.txt\n",
      "Loaded ROIs from CT-0002.txt: [{'label': 'micronodules', 'slice_number': 5.0}, {'slice_number': 9.0}, {'slice_number': 15.0}]\n",
      "\n",
      "==================================================\n",
      "\n",
      "Searching in folder: 203\n",
      "Found txt file: CT-7800.txt\n",
      "Loaded ROIs from CT-7800.txt: [{'label': 'healthy', 'slice_number': 10.0}, {'label': 'fibrosis', 'slice_number': 15.0}, {'slice_number': 17.0}]\n",
      "\n",
      "==================================================\n",
      "\n",
      "Searching in folder: 204\n",
      "Found txt file: CT-3962.txt\n",
      "Loaded ROIs from CT-3962.txt: [{'label': 'healthy', 'slice_number': 7.0}, {'slice_number': 13.0}, {'slice_number': 17.0}, {'slice_number': 18.0}, {'slice_number': 22.0}, {'slice_number': 23.0}, {'label': 'bronchiectasis', 'slice_number': 17.0}, {'slice_number': 18.0}]\n",
      "\n",
      "==================================================\n",
      "\n",
      "Searching in folder: 205\n",
      "Found txt file: CT-0002.txt\n",
      "Loaded ROIs from CT-0002.txt: [{'label': 'macronodules', 'slice_number': 8.0}, {'slice_number': 10.0}, {'label': 'healthy', 'slice_number': 10.0}, {'slice_number': 14.0}, {'slice_number': 18.0}, {'label': 'emphysema', 'slice_number': 17.0}, {'slice_number': 18.0}]\n",
      "\n",
      "==================================================\n",
      "\n",
      "Searching in folder: 206\n",
      "Found txt file: CT-0002.txt\n",
      "Loaded ROIs from CT-0002.txt: [{'label': 'healthy', 'slice_number': 3.0}, {'slice_number': 4.0}, {'slice_number': 5.0}, {'slice_number': 7.0}, {'slice_number': 8.0}, {'slice_number': 9.0}, {'slice_number': 10.0}, {'slice_number': 12.0}, {'slice_number': 13.0}, {'slice_number': 14.0}, {'slice_number': 18.0}, {'slice_number': 19.0}]\n",
      "\n",
      "==================================================\n",
      "\n",
      "Searching in folder: 207\n",
      "Found txt file: CT-3903.txt\n",
      "Loaded ROIs from CT-3903.txt: [{'label': 'emphysema', 'slice_number': 1.0}, {'slice_number': 2.0}, {'slice_number': 3.0}, {'slice_number': 4.0}, {'slice_number': 5.0}, {'slice_number': 6.0}, {'slice_number': 7.0}, {'slice_number': 12.0}, {'slice_number': 13.0}, {'label': 'bronchiectasis', 'slice_number': 19.0}, {'label': 'healthy', 'slice_number': 19.0}]\n",
      "\n",
      "==================================================\n",
      "\n",
      "Searching in folder: 208\n",
      "Found txt file: CT-0002.txt\n",
      "Loaded ROIs from CT-0002.txt: [{'label': 'emphysema', 'slice_number': 3.0}, {'slice_number': 4.0}, {'slice_number': 5.0}, {'slice_number': 9.0}, {'slice_number': 21.0}, {'label': 'healthy', 'slice_number': 3.0}, {'slice_number': 4.0}, {'slice_number': 5.0}, {'slice_number': 8.0}, {'slice_number': 9.0}, {'slice_number': 12.0}, {'slice_number': 14.0}, {'slice_number': 21.0}, {'label': 'bronchiectasis', 'slice_number': 8.0}, {'slice_number': 14.0}]\n",
      "\n",
      "==================================================\n",
      "\n",
      "Searching in folder: 209\n",
      "Found txt file: CT-3877.txt\n",
      "Loaded ROIs from CT-3877.txt: [{'label': 'healthy', 'slice_number': 3.0}, {'slice_number': 6.0}, {'slice_number': 8.0}, {'slice_number': 9.0}, {'slice_number': 11.0}, {'label': 'macronodules', 'slice_number': 21.0}]\n",
      "\n",
      "==================================================\n",
      "\n",
      "Searching in folder: 210\n",
      "Found txt file: CT-0002.txt\n",
      "Loaded ROIs from CT-0002.txt: [{'label': 'emphysema', 'slice_number': 6.0}, {'slice_number': 8.0}, {'slice_number': 11.0}, {'slice_number': 12.0}, {'slice_number': 13.0}, {'slice_number': 14.0}, {'slice_number': 15.0}, {'slice_number': 16.0}, {'slice_number': 17.0}, {'slice_number': 18.0}, {'slice_number': 19.0}, {'slice_number': 20.0}, {'slice_number': 21.0}, {'slice_number': 24.0}]\n",
      "\n",
      "==================================================\n",
      "\n",
      "Searching in folder: 211\n",
      "Found txt file: CT-4647.txt\n",
      "Loaded ROIs from CT-4647.txt: [{'label': 'micronodules', 'slice_number': 3.0}, {'slice_number': 5.0}, {'slice_number': 7.0}, {'slice_number': 9.0}, {'slice_number': 11.0}, {'slice_number': 15.0}, {'slice_number': 22.0}]\n",
      "\n",
      "==================================================\n",
      "\n"
     ]
    }
   ],
   "source": [
    "# Recursively search a folder for .txt files and load ROI data from them\n",
    "def search_and_load_roi_files(folder):\n",
    "    for root, dirs, files in os.walk(folder):  # Walk through all subdirectories\n",
    "        folder_name = os.path.basename(root)  # Get the folder name, not the whole directory path\n",
    "        print(f\"Searching in folder: {folder_name}\")  # Print the current folder\n",
    "        \n",
    "        for file in files:\n",
    "            if file.endswith(\".txt\"):  # Check if the file is a .txt file\n",
    "                txt_file_path = os.path.join(root, file)\n",
    "                print(f\"Found txt file: {file}\")  # Print the txt file found\n",
    "                \n",
    "                # Load the ROIs for the current txt file\n",
    "                rois = load_roi_files(txt_file_path)\n",
    "                print(f\"Loaded ROIs from {file}: {rois}\")  # Print the loaded ROIs\n",
    "                print(\"\\n\" + \"=\"*50 + \"\\n\")  # Separator for clarity\n",
    "\n",
    "# Example usage\n",
    "folder_to_search = r'C:\\Users\\hasht\\Desktop\\Cloned Repositories\\fibrosis_dataset\\ILD_DB_txtROIs\\HRCT_pilot'  # Replace with your folder path\n",
    "search_and_load_roi_files(folder_to_search)"
   ]
  },
  {
   "cell_type": "code",
   "execution_count": null,
   "id": "7dde22d7",
   "metadata": {},
   "outputs": [],
   "source": []
  }
 ],
 "metadata": {
  "kernelspec": {
   "display_name": "fibrosis",
   "language": "python",
   "name": "python3"
  },
  "language_info": {
   "codemirror_mode": {
    "name": "ipython",
    "version": 3
   },
   "file_extension": ".py",
   "mimetype": "text/x-python",
   "name": "python",
   "nbconvert_exporter": "python",
   "pygments_lexer": "ipython3",
   "version": "3.12.9"
  }
 },
 "nbformat": 4,
 "nbformat_minor": 5
}
