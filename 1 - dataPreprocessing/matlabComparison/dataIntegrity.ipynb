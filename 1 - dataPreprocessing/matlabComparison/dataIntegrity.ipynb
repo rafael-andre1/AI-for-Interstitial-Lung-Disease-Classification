{
 "cells": [
  {
   "cell_type": "markdown",
   "metadata": {},
   "source": [
    "# Data Integrity Check\n"
   ]
  },
  {
   "cell_type": "markdown",
   "metadata": {},
   "source": [
    "Comparison between python extracted data vs matlab extracted data."
   ]
  },
  {
   "cell_type": "code",
   "execution_count": 4,
   "metadata": {},
   "outputs": [],
   "source": [
    "# Relevant imports\n",
    "\n",
    "import os\n",
    "import re\n",
    "import pandas as pd\n",
    "import pickle\n",
    "import random\n",
    "import pydicom\n",
    "import numpy as np\n",
    "import matplotlib.pyplot as plt\n",
    "from scipy.ndimage import gaussian_filter\n",
    "import seaborn as sns"
   ]
  },
  {
   "cell_type": "code",
   "execution_count": 5,
   "metadata": {},
   "outputs": [
    {
     "data": {
      "text/html": [
       "<div>\n",
       "<style scoped>\n",
       "    .dataframe tbody tr th:only-of-type {\n",
       "        vertical-align: middle;\n",
       "    }\n",
       "\n",
       "    .dataframe tbody tr th {\n",
       "        vertical-align: top;\n",
       "    }\n",
       "\n",
       "    .dataframe thead th {\n",
       "        text-align: right;\n",
       "    }\n",
       "</style>\n",
       "<table border=\"1\" class=\"dataframe\">\n",
       "  <thead>\n",
       "    <tr style=\"text-align: right;\">\n",
       "      <th></th>\n",
       "      <th>SliceID</th>\n",
       "      <th>Class</th>\n",
       "    </tr>\n",
       "  </thead>\n",
       "  <tbody>\n",
       "    <tr>\n",
       "      <th>0</th>\n",
       "      <td>101__CT-0002-0001</td>\n",
       "      <td>0</td>\n",
       "    </tr>\n",
       "    <tr>\n",
       "      <th>1</th>\n",
       "      <td>101__CT-0002-0002</td>\n",
       "      <td>0</td>\n",
       "    </tr>\n",
       "    <tr>\n",
       "      <th>2</th>\n",
       "      <td>101__CT-0002-0003</td>\n",
       "      <td>0</td>\n",
       "    </tr>\n",
       "    <tr>\n",
       "      <th>3</th>\n",
       "      <td>101__CT-0002-0004</td>\n",
       "      <td>0</td>\n",
       "    </tr>\n",
       "    <tr>\n",
       "      <th>4</th>\n",
       "      <td>101__CT-0002-0005</td>\n",
       "      <td>0</td>\n",
       "    </tr>\n",
       "    <tr>\n",
       "      <th>5</th>\n",
       "      <td>101__CT-0002-0006</td>\n",
       "      <td>1</td>\n",
       "    </tr>\n",
       "    <tr>\n",
       "      <th>6</th>\n",
       "      <td>101__CT-0002-0007</td>\n",
       "      <td>0</td>\n",
       "    </tr>\n",
       "    <tr>\n",
       "      <th>7</th>\n",
       "      <td>101__CT-0002-0008</td>\n",
       "      <td>1</td>\n",
       "    </tr>\n",
       "    <tr>\n",
       "      <th>8</th>\n",
       "      <td>101__CT-0002-0009</td>\n",
       "      <td>0</td>\n",
       "    </tr>\n",
       "    <tr>\n",
       "      <th>9</th>\n",
       "      <td>101__CT-0002-0010</td>\n",
       "      <td>0</td>\n",
       "    </tr>\n",
       "  </tbody>\n",
       "</table>\n",
       "</div>"
      ],
      "text/plain": [
       "             SliceID  Class\n",
       "0  101__CT-0002-0001      0\n",
       "1  101__CT-0002-0002      0\n",
       "2  101__CT-0002-0003      0\n",
       "3  101__CT-0002-0004      0\n",
       "4  101__CT-0002-0005      0\n",
       "5  101__CT-0002-0006      1\n",
       "6  101__CT-0002-0007      0\n",
       "7  101__CT-0002-0008      1\n",
       "8  101__CT-0002-0009      0\n",
       "9  101__CT-0002-0010      0"
      ]
     },
     "execution_count": 5,
     "metadata": {},
     "output_type": "execute_result"
    }
   ],
   "source": [
    "# Pulling python dataframe \n",
    "\n",
    "df_fibrosis = pd.read_pickle(r'..\\..\\..\\\\fibrosis_data.pkl')\n",
    "df_fibrosis = df_fibrosis.drop(columns=[\"SliceData\"])\n",
    "df_fibrosis.head(10)"
   ]
  },
  {
   "cell_type": "code",
   "execution_count": 6,
   "metadata": {},
   "outputs": [
    {
     "data": {
      "text/html": [
       "<div>\n",
       "<style scoped>\n",
       "    .dataframe tbody tr th:only-of-type {\n",
       "        vertical-align: middle;\n",
       "    }\n",
       "\n",
       "    .dataframe tbody tr th {\n",
       "        vertical-align: top;\n",
       "    }\n",
       "\n",
       "    .dataframe thead th {\n",
       "        text-align: right;\n",
       "    }\n",
       "</style>\n",
       "<table border=\"1\" class=\"dataframe\">\n",
       "  <thead>\n",
       "    <tr style=\"text-align: right;\">\n",
       "      <th></th>\n",
       "      <th>filename</th>\n",
       "      <th>class0</th>\n",
       "    </tr>\n",
       "  </thead>\n",
       "  <tbody>\n",
       "    <tr>\n",
       "      <th>3039</th>\n",
       "      <td>211_4647_0021</td>\n",
       "      <td>0</td>\n",
       "    </tr>\n",
       "    <tr>\n",
       "      <th>3040</th>\n",
       "      <td>211_4647_0022</td>\n",
       "      <td>0</td>\n",
       "    </tr>\n",
       "    <tr>\n",
       "      <th>3041</th>\n",
       "      <td>211_4647_0023</td>\n",
       "      <td>0</td>\n",
       "    </tr>\n",
       "    <tr>\n",
       "      <th>3042</th>\n",
       "      <td>211_4647_0024</td>\n",
       "      <td>0</td>\n",
       "    </tr>\n",
       "    <tr>\n",
       "      <th>3043</th>\n",
       "      <td>211_4647_0025</td>\n",
       "      <td>0</td>\n",
       "    </tr>\n",
       "    <tr>\n",
       "      <th>3044</th>\n",
       "      <td>211_4647_0026</td>\n",
       "      <td>0</td>\n",
       "    </tr>\n",
       "    <tr>\n",
       "      <th>3045</th>\n",
       "      <td>211_4647_0027</td>\n",
       "      <td>0</td>\n",
       "    </tr>\n",
       "    <tr>\n",
       "      <th>3046</th>\n",
       "      <td>211_4647_0028</td>\n",
       "      <td>0</td>\n",
       "    </tr>\n",
       "    <tr>\n",
       "      <th>3047</th>\n",
       "      <td>211_4647_0029</td>\n",
       "      <td>0</td>\n",
       "    </tr>\n",
       "    <tr>\n",
       "      <th>3048</th>\n",
       "      <td>211_4647_0030</td>\n",
       "      <td>0</td>\n",
       "    </tr>\n",
       "  </tbody>\n",
       "</table>\n",
       "</div>"
      ],
      "text/plain": [
       "           filename  class0\n",
       "3039  211_4647_0021       0\n",
       "3040  211_4647_0022       0\n",
       "3041  211_4647_0023       0\n",
       "3042  211_4647_0024       0\n",
       "3043  211_4647_0025       0\n",
       "3044  211_4647_0026       0\n",
       "3045  211_4647_0027       0\n",
       "3046  211_4647_0028       0\n",
       "3047  211_4647_0029       0\n",
       "3048  211_4647_0030       0"
      ]
     },
     "execution_count": 6,
     "metadata": {},
     "output_type": "execute_result"
    }
   ],
   "source": [
    "# Pulling matlab dataframe \n",
    "\n",
    "df_matlab = pd.read_excel('outputCSV.xlsx')\n",
    "df_matlab = df_matlab.drop(columns=['class1','class2', 'class3', 'class4', 'class5'])\n",
    "df_matlab.tail(10)"
   ]
  },
  {
   "cell_type": "markdown",
   "metadata": {},
   "source": [
    "# Preliminary Analysis\n",
    "\n",
    "I won't be performing any type of specific statystical analysis here, since features will be derived by CNN. Instead, I will be focusing on normalization and augmentation, with the intent of enhancing algortihm performance."
   ]
  },
  {
   "cell_type": "code",
   "execution_count": 7,
   "metadata": {},
   "outputs": [
    {
     "name": "stdout",
     "output_type": "stream",
     "text": [
      "\n",
      "General overview:\n",
      "<class 'pandas.core.frame.DataFrame'>\n",
      "RangeIndex: 3075 entries, 0 to 3074\n",
      "Data columns (total 2 columns):\n",
      " #   Column   Non-Null Count  Dtype \n",
      "---  ------   --------------  ----- \n",
      " 0   SliceID  3075 non-null   object\n",
      " 1   Class    3075 non-null   int64 \n",
      "dtypes: int64(1), object(1)\n",
      "memory usage: 48.2+ KB\n"
     ]
    }
   ],
   "source": [
    "# General overview\n",
    "print(\"\\nGeneral overview:\")\n",
    "df_fibrosis.info()"
   ]
  },
  {
   "cell_type": "code",
   "execution_count": 8,
   "metadata": {},
   "outputs": [
    {
     "name": "stdout",
     "output_type": "stream",
     "text": [
      "\n",
      "General overview:\n",
      "<class 'pandas.core.frame.DataFrame'>\n",
      "RangeIndex: 3049 entries, 0 to 3048\n",
      "Data columns (total 2 columns):\n",
      " #   Column    Non-Null Count  Dtype \n",
      "---  ------    --------------  ----- \n",
      " 0   filename  3049 non-null   object\n",
      " 1   class0    3049 non-null   int64 \n",
      "dtypes: int64(1), object(1)\n",
      "memory usage: 47.8+ KB\n"
     ]
    }
   ],
   "source": [
    "# General overview\n",
    "print(\"\\nGeneral overview:\")\n",
    "df_matlab.info()"
   ]
  },
  {
   "cell_type": "code",
   "execution_count": 9,
   "metadata": {},
   "outputs": [
    {
     "data": {
      "image/png": "[encoded data removed]",
      "text/plain": [
       "<Figure size 800x500 with 1 Axes>"
      ]
     },
     "metadata": {},
     "output_type": "display_data"
    },
    {
     "name": "stdout",
     "output_type": "stream",
     "text": [
      "Class\n",
      "0    86.699187\n",
      "1    13.300813\n",
      "Name: count, dtype: float64\n",
      "Class\n",
      "0    2666\n",
      "1     409\n",
      "Name: count, dtype: int64\n"
     ]
    }
   ],
   "source": [
    "# Plots class counts\n",
    "plt.figure(figsize=(8, 5))\n",
    "sns.countplot(data=df_fibrosis, x='Class', hue=\"Class\", palette='viridis', legend=False)\n",
    "\n",
    "plt.title('Class Distribution in df_fibrosis')\n",
    "plt.xlabel('Class')\n",
    "plt.ylabel('Count')\n",
    "plt.xticks(rotation=45)  \n",
    "plt.show()\n",
    "\n",
    "\n",
    "# Displays imbalance\n",
    "class_counts, total_samples = df_fibrosis['Class'].value_counts(), len(df_fibrosis)\n",
    "print((class_counts / total_samples) * 100)\n",
    "print(class_counts)"
   ]
  },
  {
   "cell_type": "code",
   "execution_count": 10,
   "metadata": {},
   "outputs": [
    {
     "data": {
      "image/png": "[encoded data removed]",
      "text/plain": [
       "<Figure size 800x500 with 1 Axes>"
      ]
     },
     "metadata": {},
     "output_type": "display_data"
    },
    {
     "name": "stdout",
     "output_type": "stream",
     "text": [
      "class0\n",
      "0    86.651361\n",
      "1    13.348639\n",
      "Name: count, dtype: float64\n",
      "class0\n",
      "0    2642\n",
      "1     407\n",
      "Name: count, dtype: int64\n"
     ]
    }
   ],
   "source": [
    "# Plots class counts\n",
    "plt.figure(figsize=(8, 5))\n",
    "sns.countplot(data=df_matlab, x='class0', hue=\"class0\", palette='viridis', legend=False)\n",
    "\n",
    "plt.title('Class Distribution in df_matlab')\n",
    "plt.xlabel('Class')\n",
    "plt.ylabel('Count')\n",
    "plt.xticks(rotation=45)  \n",
    "plt.show()\n",
    "\n",
    "\n",
    "# Displays imbalance\n",
    "class_counts, total_samples = df_matlab['class0'].value_counts(), len(df_matlab)\n",
    "print((class_counts / total_samples) * 100)\n",
    "print(class_counts)"
   ]
  },
  {
   "cell_type": "markdown",
   "metadata": {},
   "source": [
    "## HRCT"
   ]
  },
  {
   "cell_type": "markdown",
   "metadata": {},
   "source": [
    "It is also important to verify if the predefined test split shares the same data proportion, for result validity:"
   ]
  },
  {
   "cell_type": "code",
   "execution_count": 56,
   "metadata": {},
   "outputs": [
    {
     "data": {
      "image/png": "[encoded data removed]",
      "text/plain": [
       "<Figure size 800x500 with 1 Axes>"
      ]
     },
     "metadata": {},
     "output_type": "display_data"
    },
    {
     "name": "stdout",
     "output_type": "stream",
     "text": [
      "class0\n",
      "0    95.924765\n",
      "1     4.075235\n",
      "Name: count, dtype: float64\n",
      "class0\n",
      "0    306\n",
      "1     13\n",
      "Name: count, dtype: int64\n"
     ]
    }
   ],
   "source": [
    "df_fibrosis_test = df_matlab[df_matlab['filename'].str.startswith(r'2')]\n",
    "\n",
    "# Plots class counts\n",
    "plt.figure(figsize=(8, 5))\n",
    "sns.countplot(data=df_fibrosis_test, x='class0', hue=\"class0\", palette='viridis', legend=False)\n",
    "\n",
    "plt.title('Class Distribution in df_matlab\\'s predefined test folder')\n",
    "plt.xlabel('Class')\n",
    "plt.ylabel('Count')\n",
    "plt.xticks(rotation=45)  \n",
    "plt.show()\n",
    "\n",
    "\n",
    "# Displays imbalance\n",
    "class_counts, total_samples = df_fibrosis_test['class0'].value_counts(), len(df_fibrosis_test)\n",
    "print((class_counts / total_samples) * 100)\n",
    "print(class_counts)"
   ]
  },
  {
   "cell_type": "code",
   "execution_count": 57,
   "metadata": {},
   "outputs": [
    {
     "data": {
      "image/png": "[encoded data removed]",
      "text/plain": [
       "<Figure size 800x500 with 1 Axes>"
      ]
     },
     "metadata": {},
     "output_type": "display_data"
    },
    {
     "name": "stdout",
     "output_type": "stream",
     "text": [
      "Class\n",
      "0    99.335548\n",
      "1     0.664452\n",
      "Name: count, dtype: float64\n",
      "Class\n",
      "0    299\n",
      "1      2\n",
      "Name: count, dtype: int64\n"
     ]
    }
   ],
   "source": [
    "df_fibrosis_test = df_fibrosis[df_fibrosis[\"SliceID\"].str.contains(\"HRCT_Pilot\")]\n",
    "\n",
    "# Plots class counts\n",
    "plt.figure(figsize=(8, 5))\n",
    "sns.countplot(data=df_fibrosis_test, x='Class', hue=\"Class\", palette='viridis', legend=False)\n",
    "\n",
    "plt.title('Class Distribution in df_fibrosis\\' predefined test folder')\n",
    "plt.xlabel('Class')\n",
    "plt.ylabel('Count')\n",
    "plt.xticks(rotation=45)  \n",
    "plt.show()\n",
    "\n",
    "\n",
    "# Displays imbalance\n",
    "class_counts, total_samples = df_fibrosis_test['Class'].value_counts(), len(df_fibrosis_test)\n",
    "print((class_counts / total_samples) * 100)\n",
    "print(class_counts)"
   ]
  },
  {
   "cell_type": "markdown",
   "metadata": {},
   "source": [
    "## Manual Confirmation"
   ]
  },
  {
   "cell_type": "code",
   "execution_count": 68,
   "metadata": {},
   "outputs": [],
   "source": [
    "import pandas as pd\n",
    "import re\n",
    "\n",
    "# --- Step 1: df_matlab filtering and sorting ---\n",
    "df1 = df_matlab[df_matlab['class0'] == 1].copy()\n",
    "\n",
    "def parse_filename(name):\n",
    "    parts = list(map(int, name.split('_')))\n",
    "    return parts\n",
    "\n",
    "df1['sort_key'] = df1['filename'].apply(parse_filename)\n",
    "df1 = df1.sort_values('sort_key')\n",
    "df1_filenames = df1['filename'].reset_index(drop=True)\n",
    "\n",
    "# --- Step 2: df_fibrosis filtering and sorting ---\n",
    "df2 = df_fibrosis[df_fibrosis['Class'] == 1].copy()\n",
    "\n",
    "def parse_slice_id(slice_id):\n",
    "    # Extract all numbers for primary sort\n",
    "    all_numbers = list(map(int, re.findall(r'\\d+', slice_id)))\n",
    "    first_number = all_numbers[0] if all_numbers else -1\n",
    "\n",
    "    # Extract part after the last \"__\"\n",
    "    tail = slice_id.split('__')[-1]\n",
    "\n",
    "    # Split using both '-' and '.'\n",
    "    split_tail = re.split(r'[-\\.]', tail)\n",
    "    tail_numbers = [int(num) for num in split_tail if num.isdigit()]\n",
    "\n",
    "    # Get second-to-last and last number if available\n",
    "    second_last = tail_numbers[-2] if len(tail_numbers) >= 2 else -1\n",
    "    last = tail_numbers[-1] if len(tail_numbers) >= 1 else -1\n",
    "\n",
    "    return (first_number, second_last, last)\n",
    "\n",
    "\n",
    "\n",
    "df2['sort_key'] = df2['SliceID'].apply(parse_slice_id)\n",
    "df2 = df2.sort_values('sort_key')\n",
    "df2_slice_ids = df2['SliceID'].reset_index(drop=True)\n",
    "\n",
    "# --- Step 3: Combine and save ---\n",
    "combined_df = pd.DataFrame({\n",
    "    'filename': df1_filenames,\n",
    "    'SliceID': df2_slice_ids\n",
    "})\n",
    "\n",
    "combined_df.to_csv('matched_output.csv', index=False)\n"
   ]
  },
  {
   "cell_type": "code",
   "execution_count": 73,
   "metadata": {},
   "outputs": [
    {
     "data": {
      "text/html": [
       "<div>\n",
       "<style scoped>\n",
       "    .dataframe tbody tr th:only-of-type {\n",
       "        vertical-align: middle;\n",
       "    }\n",
       "\n",
       "    .dataframe tbody tr th {\n",
       "        vertical-align: top;\n",
       "    }\n",
       "\n",
       "    .dataframe thead th {\n",
       "        text-align: right;\n",
       "    }\n",
       "</style>\n",
       "<table border=\"1\" class=\"dataframe\">\n",
       "  <thead>\n",
       "    <tr style=\"text-align: right;\">\n",
       "      <th></th>\n",
       "      <th>SliceID</th>\n",
       "      <th>Class</th>\n",
       "    </tr>\n",
       "  </thead>\n",
       "  <tbody>\n",
       "    <tr>\n",
       "      <th>2766</th>\n",
       "      <td>8__CT-INSPIRIUM-8873__CT-8873-0012</td>\n",
       "      <td>0</td>\n",
       "    </tr>\n",
       "  </tbody>\n",
       "</table>\n",
       "</div>"
      ],
      "text/plain": [
       "                                 SliceID  Class\n",
       "2766  8__CT-INSPIRIUM-8873__CT-8873-0012      0"
      ]
     },
     "execution_count": 73,
     "metadata": {},
     "output_type": "execute_result"
    }
   ],
   "source": [
    "df_fibrosis[df_fibrosis[\"SliceID\"] == \"8__CT-INSPIRIUM-8873__CT-8873-0012\"]"
   ]
  },
  {
   "cell_type": "markdown",
   "metadata": {},
   "source": [
    "---"
   ]
  },
  {
   "cell_type": "markdown",
   "metadata": {},
   "source": [
    "## Adapted MatLab code\n"
   ]
  },
  {
   "cell_type": "code",
   "execution_count": null,
   "metadata": {},
   "outputs": [],
   "source": [
    "\n",
    "def load_roi_files(roi_file_name):\n",
    "    # List to store all the ROIs\n",
    "    rois = []\n",
    "\n",
    "    # Open the ROI file for reading\n",
    "    with open(roi_file_name, 'r') as file:\n",
    "        roi = {}\n",
    "        while True:\n",
    "            # Read a line from the file\n",
    "            line = file.readline()\n",
    "            \n",
    "            # Stop if we reach the end of the file\n",
    "            if not line:\n",
    "                break\n",
    "\n",
    "            # Check and parse each line based on its prefix\n",
    "            if 'label:' in line:\n",
    "                roi['label'] = line.replace('label: ', '').strip()\n",
    "            elif 'slice_number:' in line:\n",
    "                roi['slice_number'] = float(line.replace('slice_number: ', '').strip())\n",
    "\n",
    "                # Append the parsed ROI to the list of ROIs\n",
    "                rois.append(roi)\n",
    "                roi = {}  # Reset for the next ROI\n",
    "\n",
    "    return rois"
   ]
  },
  {
   "cell_type": "code",
   "execution_count": null,
   "metadata": {},
   "outputs": [
    {
     "data": {
      "text/plain": [
       "[{'label': 'bronchiectasis', 'slice_number': 9.0},\n",
       " {'slice_number': 11.0},\n",
       " {'slice_number': 12.0},\n",
       " {'label': 'fibrosis', 'slice_number': 3.0},\n",
       " {'slice_number': 4.0},\n",
       " {'slice_number': 5.0},\n",
       " {'slice_number': 8.0},\n",
       " {'slice_number': 9.0},\n",
       " {'slice_number': 10.0},\n",
       " {'slice_number': 11.0},\n",
       " {'slice_number': 13.0},\n",
       " {'slice_number': 14.0},\n",
       " {'slice_number': 15.0}]"
      ]
     },
     "metadata": {},
     "output_type": "display_data"
    }
   ],
   "source": [
    "load_roi_files(r\"C:\\Users\\hasht\\Desktop\\Cloned Repositories\\fibrosis_dataset\\ILD_DB_txtROIs\\8\\CT-INSPIRIUM-8873\\CT-INSPIRIUM-8873.txt\")"
   ]
  },
  {
   "cell_type": "code",
   "execution_count": null,
   "metadata": {},
   "outputs": [
    {
     "name": "stdout",
     "output_type": "stream",
     "text": [
      "Searching in folder: HRCT_pilot\n",
      "Searching in folder: 200\n",
      "Found txt file: CT-0002.txt\n",
      "Loaded ROIs from CT-0002.txt: [{'label': 'healthy', 'slice_number': 5.0}, {'slice_number': 9.0}, {'slice_number': 12.0}, {'slice_number': 15.0}]\n",
      "\n",
      "==================================================\n",
      "\n",
      "Searching in folder: 201\n",
      "Found txt file: CT-0002.txt\n",
      "Loaded ROIs from CT-0002.txt: [{'label': 'micronodules', 'slice_number': 5.0}, {'slice_number': 9.0}, {'slice_number': 15.0}]\n",
      "\n",
      "==================================================\n",
      "\n",
      "Searching in folder: 203\n",
      "Found txt file: CT-7800.txt\n",
      "Loaded ROIs from CT-7800.txt: [{'label': 'healthy', 'slice_number': 10.0}, {'label': 'fibrosis', 'slice_number': 15.0}, {'slice_number': 17.0}]\n",
      "\n",
      "==================================================\n",
      "\n",
      "Searching in folder: 204\n",
      "Found txt file: CT-3962.txt\n",
      "Loaded ROIs from CT-3962.txt: [{'label': 'healthy', 'slice_number': 7.0}, {'slice_number': 13.0}, {'slice_number': 17.0}, {'slice_number': 18.0}, {'slice_number': 22.0}, {'slice_number': 23.0}, {'label': 'bronchiectasis', 'slice_number': 17.0}, {'slice_number': 18.0}]\n",
      "\n",
      "==================================================\n",
      "\n",
      "Searching in folder: 205\n",
      "Found txt file: CT-0002.txt\n",
      "Loaded ROIs from CT-0002.txt: [{'label': 'macronodules', 'slice_number': 8.0}, {'slice_number': 10.0}, {'label': 'healthy', 'slice_number': 10.0}, {'slice_number': 14.0}, {'slice_number': 18.0}, {'label': 'emphysema', 'slice_number': 17.0}, {'slice_number': 18.0}]\n",
      "\n",
      "==================================================\n",
      "\n",
      "Searching in folder: 206\n",
      "Found txt file: CT-0002.txt\n",
      "Loaded ROIs from CT-0002.txt: [{'label': 'healthy', 'slice_number': 3.0}, {'slice_number': 4.0}, {'slice_number': 5.0}, {'slice_number': 7.0}, {'slice_number': 8.0}, {'slice_number': 9.0}, {'slice_number': 10.0}, {'slice_number': 12.0}, {'slice_number': 13.0}, {'slice_number': 14.0}, {'slice_number': 18.0}, {'slice_number': 19.0}]\n",
      "\n",
      "==================================================\n",
      "\n",
      "Searching in folder: 207\n",
      "Found txt file: CT-3903.txt\n",
      "Loaded ROIs from CT-3903.txt: [{'label': 'emphysema', 'slice_number': 1.0}, {'slice_number': 2.0}, {'slice_number': 3.0}, {'slice_number': 4.0}, {'slice_number': 5.0}, {'slice_number': 6.0}, {'slice_number': 7.0}, {'slice_number': 12.0}, {'slice_number': 13.0}, {'label': 'bronchiectasis', 'slice_number': 19.0}, {'label': 'healthy', 'slice_number': 19.0}]\n",
      "\n",
      "==================================================\n",
      "\n",
      "Searching in folder: 208\n",
      "Found txt file: CT-0002.txt\n",
      "Loaded ROIs from CT-0002.txt: [{'label': 'emphysema', 'slice_number': 3.0}, {'slice_number': 4.0}, {'slice_number': 5.0}, {'slice_number': 9.0}, {'slice_number': 21.0}, {'label': 'healthy', 'slice_number': 3.0}, {'slice_number': 4.0}, {'slice_number': 5.0}, {'slice_number': 8.0}, {'slice_number': 9.0}, {'slice_number': 12.0}, {'slice_number': 14.0}, {'slice_number': 21.0}, {'label': 'bronchiectasis', 'slice_number': 8.0}, {'slice_number': 14.0}]\n",
      "\n",
      "==================================================\n",
      "\n",
      "Searching in folder: 209\n",
      "Found txt file: CT-3877.txt\n",
      "Loaded ROIs from CT-3877.txt: [{'label': 'healthy', 'slice_number': 3.0}, {'slice_number': 6.0}, {'slice_number': 8.0}, {'slice_number': 9.0}, {'slice_number': 11.0}, {'label': 'macronodules', 'slice_number': 21.0}]\n",
      "\n",
      "==================================================\n",
      "\n",
      "Searching in folder: 210\n",
      "Found txt file: CT-0002.txt\n",
      "Loaded ROIs from CT-0002.txt: [{'label': 'emphysema', 'slice_number': 6.0}, {'slice_number': 8.0}, {'slice_number': 11.0}, {'slice_number': 12.0}, {'slice_number': 13.0}, {'slice_number': 14.0}, {'slice_number': 15.0}, {'slice_number': 16.0}, {'slice_number': 17.0}, {'slice_number': 18.0}, {'slice_number': 19.0}, {'slice_number': 20.0}, {'slice_number': 21.0}, {'slice_number': 24.0}]\n",
      "\n",
      "==================================================\n",
      "\n",
      "Searching in folder: 211\n",
      "Found txt file: CT-4647.txt\n",
      "Loaded ROIs from CT-4647.txt: [{'label': 'micronodules', 'slice_number': 3.0}, {'slice_number': 5.0}, {'slice_number': 7.0}, {'slice_number': 9.0}, {'slice_number': 11.0}, {'slice_number': 15.0}, {'slice_number': 22.0}]\n",
      "\n",
      "==================================================\n",
      "\n"
     ]
    }
   ],
   "source": [
    "# Recursively search a folder for .txt files and load ROI data from them\n",
    "def search_and_load_roi_files(folder):\n",
    "    for root, dirs, files in os.walk(folder):  # Walk through all subdirectories\n",
    "        folder_name = os.path.basename(root)  # Get the folder name, not the whole directory path\n",
    "        print(f\"Searching in folder: {folder_name}\")  # Print the current folder\n",
    "        \n",
    "        for file in files:\n",
    "            if file.endswith(\".txt\"):  # Check if the file is a .txt file\n",
    "                txt_file_path = os.path.join(root, file)\n",
    "                print(f\"Found txt file: {file}\")  # Print the txt file found\n",
    "                \n",
    "                # Load the ROIs for the current txt file\n",
    "                rois = load_roi_files(txt_file_path)\n",
    "                print(f\"Loaded ROIs from {file}: {rois}\")  # Print the loaded ROIs\n",
    "                print(\"\\n\" + \"=\"*50 + \"\\n\")  # Separator for clarity\n",
    "\n",
    "# Example usage\n",
    "folder_to_search = r'C:\\Users\\hasht\\Desktop\\Cloned Repositories\\fibrosis_dataset\\ILD_DB_txtROIs\\HRCT_pilot'  # Replace with your folder path\n",
    "search_and_load_roi_files(folder_to_search)"
   ]
  }
 ],
 "metadata": {
  "kernelspec": {
   "display_name": "fibrosis",
   "language": "python",
   "name": "python3"
  },
  "language_info": {
   "codemirror_mode": {
    "name": "ipython",
    "version": 3
   },
   "file_extension": ".py",
   "mimetype": "text/x-python",
   "name": "python",
   "nbconvert_exporter": "python",
   "pygments_lexer": "ipython3",
   "version": "3.12.9"
  }
 },
 "nbformat": 4,
 "nbformat_minor": 2
}
