{
 "cells": [
  {
   "cell_type": "markdown",
   "metadata": {
    "vscode": {
     "languageId": "plaintext"
    }
   },
   "source": [
    "## Creating a dataframe with ID -> Label"
   ]
  },
  {
   "cell_type": "markdown",
   "metadata": {},
   "source": [
    "Imports"
   ]
  },
  {
   "cell_type": "code",
   "execution_count": 3,
   "metadata": {},
   "outputs": [],
   "source": [
    "import os\n",
    "import pandas as pd\n",
    "import pickle\n",
    "\n",
    "# Export dataframe as .csv if only ID -> Label, .pkl otherwise"
   ]
  },
  {
   "cell_type": "code",
   "execution_count": 4,
   "metadata": {},
   "outputs": [],
   "source": [
    "# Setting variables \n",
    "\n",
    "# root_dir = 'X:\\\\RafaelAndre\\\\MedGIFT\\\\ILD_DB_txtROIs'\n",
    "\n",
    "root_dir = 'C:\\\\Users\\\\compe\\\\Desktop\\\\Main'"
   ]
  },
  {
   "cell_type": "code",
   "execution_count": 5,
   "metadata": {},
   "outputs": [],
   "source": [
    "# Function to correctly update dictionary\n",
    "\n",
    "def update_feature_label(featureLabel, id, num):\n",
    "    # If key exists and is 0, update\n",
    "    # otherwise, create the key\n",
    "\n",
    "    if featureLabel.get(id, 0) == 0:\n",
    "        featureLabel[id] = num"
   ]
  },
  {
   "cell_type": "code",
   "execution_count": 6,
   "metadata": {},
   "outputs": [
    {
     "name": "stdout",
     "output_type": "stream",
     "text": [
      "['1', '2', '3']\n"
     ]
    }
   ],
   "source": [
    "# Identify every folder available\n",
    "\n",
    "folderIdList = [d for d in os.listdir(root_dir) if os.path.isdir(os.path.join(root_dir, d))]\n",
    "print(folderIdList)\n",
    "\n",
    "# Removing validation folder and applying the same logic is important"
   ]
  },
  {
   "cell_type": "code",
   "execution_count": 7,
   "metadata": {},
   "outputs": [],
   "source": [
    "# File analysis loop\n",
    "\n",
    "def iterateFiles(folderIdList, featureLabel, verbose=0):\n",
    "\n",
    "    for patientID in folderIdList:\n",
    "        for dirpath, dirnames, filenames in os.walk(os.path.join(root_dir, patientID)):\n",
    "            # Open MedGIFT / txtROI\n",
    "            if verbose: print(f\"Current directory ID: {patientID}\")\n",
    "        \n",
    "            # For cases where the code detects nested folders, we want only patient ID, no matter the scan\n",
    "            # For that reason (although inneficient), I will be separating those cases into 2 loops\n",
    "            # This is why we have a nested loop \n",
    "        \n",
    "            # For each folder create id (ex patientID = folder number)\n",
    "            for file in filenames:\n",
    "                # Iterate through files in order to find .txt\n",
    "                if 'txt' in file:\n",
    "                    fileID = f\"{file}\"\n",
    "                    if verbose: print(f\"Selected: {fileID}\")\n",
    "        \n",
    "                    # Define path for access\n",
    "                    file_path = os.path.join(dirpath,file)\n",
    "                    with open(file_path, 'r') as file:\n",
    "                        content = file.read()\n",
    "        \n",
    "                        # If it contains keyword \"fibrosis\" set label to 1, otherwise 0 \n",
    "                        update_feature_label(featureLabel, patientID, ((1) if \"fibrosis\" in content else (0)))\n",
    "    \n",
    "    return featureLabel"
   ]
  },
  {
   "cell_type": "code",
   "execution_count": 8,
   "metadata": {},
   "outputs": [
    {
     "name": "stdout",
     "output_type": "stream",
     "text": [
      "Current directory ID: 1\n",
      "Selected: content1.txt\n",
      "Current directory ID: 2\n",
      "Current directory ID: 2\n",
      "Selected: content2_1.txt\n",
      "Current directory ID: 2\n",
      "Selected: content2_2.txt\n",
      "Current directory ID: 3\n",
      "Selected: content3.txt\n"
     ]
    }
   ],
   "source": [
    "# Build dictionary (guarantees correct assignment)\n",
    "\n",
    "featureLabel = {}\n",
    "\n",
    "validationFolder = \"val\"\n",
    "\n",
    "featureLabel = iterateFiles(folderIdList, featureLabel, 1)\n"
   ]
  },
  {
   "cell_type": "code",
   "execution_count": 9,
   "metadata": {},
   "outputs": [
    {
     "name": "stdout",
     "output_type": "stream",
     "text": [
      "['1', '2', '3']\n",
      "[1, 1, 1]\n"
     ]
    }
   ],
   "source": [
    "X = [id for id in featureLabel.keys()]\n",
    "y = [hasFibrosis for hasFibrosis in featureLabel.values()]\n",
    "\n",
    "print(X)\n",
    "print(y)"
   ]
  },
  {
   "cell_type": "code",
   "execution_count": 10,
   "metadata": {},
   "outputs": [],
   "source": [
    "df = pd.DataFrame(X, columns=['PatientID'])\n",
    "df['Class'] = y"
   ]
  },
  {
   "cell_type": "code",
   "execution_count": 11,
   "metadata": {},
   "outputs": [
    {
     "data": {
      "text/html": [
       "<div>\n",
       "<style scoped>\n",
       "    .dataframe tbody tr th:only-of-type {\n",
       "        vertical-align: middle;\n",
       "    }\n",
       "\n",
       "    .dataframe tbody tr th {\n",
       "        vertical-align: top;\n",
       "    }\n",
       "\n",
       "    .dataframe thead th {\n",
       "        text-align: right;\n",
       "    }\n",
       "</style>\n",
       "<table border=\"1\" class=\"dataframe\">\n",
       "  <thead>\n",
       "    <tr style=\"text-align: right;\">\n",
       "      <th></th>\n",
       "      <th>PatientID</th>\n",
       "      <th>Class</th>\n",
       "    </tr>\n",
       "  </thead>\n",
       "  <tbody>\n",
       "    <tr>\n",
       "      <th>0</th>\n",
       "      <td>1</td>\n",
       "      <td>1</td>\n",
       "    </tr>\n",
       "    <tr>\n",
       "      <th>1</th>\n",
       "      <td>2</td>\n",
       "      <td>1</td>\n",
       "    </tr>\n",
       "    <tr>\n",
       "      <th>2</th>\n",
       "      <td>3</td>\n",
       "      <td>1</td>\n",
       "    </tr>\n",
       "  </tbody>\n",
       "</table>\n",
       "</div>"
      ],
      "text/plain": [
       "  PatientID  Class\n",
       "0         1      1\n",
       "1         2      1\n",
       "2         3      1"
      ]
     },
     "execution_count": 11,
     "metadata": {},
     "output_type": "execute_result"
    }
   ],
   "source": [
    "df.head(5)"
   ]
  }
 ],
 "metadata": {
  "kernelspec": {
   "display_name": "base",
   "language": "python",
   "name": "python3"
  },
  "language_info": {
   "codemirror_mode": {
    "name": "ipython",
    "version": 3
   },
   "file_extension": ".py",
   "mimetype": "text/x-python",
   "name": "python",
   "nbconvert_exporter": "python",
   "pygments_lexer": "ipython3",
   "version": "3.11.4"
  }
 },
 "nbformat": 4,
 "nbformat_minor": 4
}
