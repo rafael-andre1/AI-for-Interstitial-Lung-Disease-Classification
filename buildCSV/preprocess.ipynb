{
 "cells": [
  {
   "cell_type": "markdown",
   "metadata": {
    "vscode": {
     "languageId": "plaintext"
    }
   },
   "source": [
    "## Creating a dataframe with ID -> Label"
   ]
  },
  {
   "cell_type": "markdown",
   "metadata": {},
   "source": [
    "Imports"
   ]
  },
  {
   "cell_type": "code",
   "execution_count": null,
   "metadata": {},
   "outputs": [],
   "source": [
    "import os\n",
    "import pandas as pd\n",
    "import pickle\n",
    "\n",
    "# Export dataframe as .csv if only ID -> Label, .pkl otherwise"
   ]
  },
  {
   "cell_type": "code",
   "execution_count": 24,
   "metadata": {},
   "outputs": [],
   "source": [
    "# Quick function for obtaining patient id from directory\n",
    "def getID(dir):\n",
    "    res = \"\"\n",
    "    for c in reversed(dir):\n",
    "        if c in ('/','\\\\'): break\n",
    "\n",
    "        # Add to left due to being reversed\n",
    "        res = c + res\n",
    "    return res"
   ]
  },
  {
   "cell_type": "code",
   "execution_count": null,
   "metadata": {},
   "outputs": [],
   "source": [
    "# Setting variables \n",
    "\n",
    "root_dir = 'X:\\\\RafaelAndre\\\\MedGIFT\\\\ILD_DB_txtROIs'\n",
    "\n",
    "X = []\n",
    "y = []"
   ]
  },
  {
   "cell_type": "code",
   "execution_count": null,
   "metadata": {},
   "outputs": [],
   "source": [
    "# File analysis loop\n",
    "\n",
    "for dirpath, dirnames, filenames in os.walk(root_dir):\n",
    "    # Open MedGIFT / txtROI\n",
    "    patientID = getID(dirpath)\n",
    "    #print(f\"Current directory ID: {patientID}\")\n",
    "\n",
    "    # For each folder create id (ex patientID = folder number)\n",
    "    for file in filenames:\n",
    "        # Iterate through files in order to find .txt\n",
    "        if 'txt' in file:\n",
    "            fileID = f\"{file}\"\n",
    "            #print(f\"Selected: {fileID}\")\n",
    "\n",
    "            # Define path for access\n",
    "            file_path = os.path.join(dirpath,file)\n",
    "            with open(file_path, 'r') as file:\n",
    "                content = file.read()\n",
    "\n",
    "                # Open txt (ex folder 84), if it contains keyword \"fibrosis\" set label to 1, otherwise 0 \n",
    "                # Cases where detects folder inside of folder ??? \n",
    "                X.append(getID(dirpath))\n",
    "                y.append(1) if \"fibrosis\" in content else y.append(0)"
   ]
  },
  {
   "cell_type": "code",
   "execution_count": null,
   "metadata": {},
   "outputs": [
    {
     "name": "stdout",
     "output_type": "stream",
     "text": [
      "['101', '105', '107', '108', '109', '112', '116', '118', '119', '12', '120', '121', '122', '123', '124', '126', '127', '128', '129', '130', '131', '132', '134', '135', '136', '137', '138', '140', 'CT-INSPIRIUM-2950', 'CT-INSPIRIUM-2951', '143', '144', '147', '149', '150', '152', '153', 'CT-INSPIRIUM-6409', 'CT-INSPIRIUM-6410', '155', '157', '158', '159', '160', '162', '163', '164', '165', '166', '167', '168', '169', '17', '171', '172', '173', '174', '175', '177', '179', '180', '181', '182', '183', 'CT-INSPIRIUM-5841', 'CT-INSPIRIUM-5842', '185', '19', '21', '23', '3', '34', '35', '36', '37', '38', '39', '41', '45', '46', '47', '48', '51', 'CT-INSPIRIUM-1841', 'CT-INSPIRIUM-7605', '56', 'CT--0002', 'CT-INSPIRIUM-3550', 'CT-series-5652', '62', '65', '66', '7', '70', '74', '76', '77', '78', 'CT-INSPIRIUM-8871', 'CT-INSPIRIUM-8873', '80', '81', '82', '83', '84', '89', '90', '92', '94', '200', '201', '203', '204', '205', '206', '207', '208', '209', '210', '211']\n",
      "[1, 0, 0, 0, 0, 0, 0, 1, 0, 0, 1, 1, 0, 0, 0, 0, 0, 0, 0, 0, 0, 0, 0, 0, 1, 0, 0, 0, 1, 1, 0, 1, 0, 0, 0, 0, 0, 0, 0, 0, 0, 0, 0, 1, 0, 0, 0, 1, 0, 1, 1, 0, 1, 0, 0, 0, 0, 1, 0, 0, 0, 0, 0, 0, 1, 1, 1, 1, 0, 0, 1, 0, 0, 0, 0, 0, 0, 0, 0, 0, 0, 0, 1, 1, 1, 1, 1, 0, 1, 1, 0, 0, 0, 0, 1, 1, 1, 1, 1, 1, 1, 1, 1, 0, 1, 1, 1, 1, 1, 0, 0, 1, 0, 0, 0, 0, 0, 0, 0, 0]\n",
      "True\n"
     ]
    }
   ],
   "source": [
    "#print(X)\n",
    "#print(y)\n",
    "print(len(X) == len(y))"
   ]
  },
  {
   "cell_type": "code",
   "execution_count": 28,
   "metadata": {},
   "outputs": [],
   "source": [
    "df = pd.DataFrame(X, columns=['PatientID'])\n",
    "df['Class'] = y"
   ]
  },
  {
   "cell_type": "code",
   "execution_count": 31,
   "metadata": {},
   "outputs": [
    {
     "data": {
      "text/html": [
       "<div>\n",
       "<style scoped>\n",
       "    .dataframe tbody tr th:only-of-type {\n",
       "        vertical-align: middle;\n",
       "    }\n",
       "\n",
       "    .dataframe tbody tr th {\n",
       "        vertical-align: top;\n",
       "    }\n",
       "\n",
       "    .dataframe thead th {\n",
       "        text-align: right;\n",
       "    }\n",
       "</style>\n",
       "<table border=\"1\" class=\"dataframe\">\n",
       "  <thead>\n",
       "    <tr style=\"text-align: right;\">\n",
       "      <th></th>\n",
       "      <th>PatientID</th>\n",
       "      <th>Class</th>\n",
       "    </tr>\n",
       "  </thead>\n",
       "  <tbody>\n",
       "    <tr>\n",
       "      <th>0</th>\n",
       "      <td>101</td>\n",
       "      <td>1</td>\n",
       "    </tr>\n",
       "    <tr>\n",
       "      <th>1</th>\n",
       "      <td>105</td>\n",
       "      <td>0</td>\n",
       "    </tr>\n",
       "    <tr>\n",
       "      <th>2</th>\n",
       "      <td>107</td>\n",
       "      <td>0</td>\n",
       "    </tr>\n",
       "    <tr>\n",
       "      <th>3</th>\n",
       "      <td>108</td>\n",
       "      <td>0</td>\n",
       "    </tr>\n",
       "    <tr>\n",
       "      <th>4</th>\n",
       "      <td>109</td>\n",
       "      <td>0</td>\n",
       "    </tr>\n",
       "  </tbody>\n",
       "</table>\n",
       "</div>"
      ],
      "text/plain": [
       "  PatientID  Class\n",
       "0       101      1\n",
       "1       105      0\n",
       "2       107      0\n",
       "3       108      0\n",
       "4       109      0"
      ]
     },
     "execution_count": 31,
     "metadata": {},
     "output_type": "execute_result"
    }
   ],
   "source": [
    "df.head(5)"
   ]
  }
 ],
 "metadata": {
  "kernelspec": {
   "display_name": "ILD-class",
   "language": "python",
   "name": "python3"
  },
  "language_info": {
   "codemirror_mode": {
    "name": "ipython",
    "version": 3
   },
   "file_extension": ".py",
   "mimetype": "text/x-python",
   "name": "python",
   "nbconvert_exporter": "python",
   "pygments_lexer": "ipython3",
   "version": "3.12.9"
  }
 },
 "nbformat": 4,
 "nbformat_minor": 2
}
