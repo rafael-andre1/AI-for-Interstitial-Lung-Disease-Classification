{
 "cells": [
  {
   "cell_type": "markdown",
   "metadata": {},
   "source": [
    "# Aggregating Slice Results: Part 1"
   ]
  },
  {
   "cell_type": "markdown",
   "metadata": {},
   "source": [
    "In this report, I will explore different ways of aggregating slice classification results, in order to evaluate fibrosis presence in patient, rather than individual slices.\n",
    "\n",
    "This notebook already uses the optimization methods tested in `3.2 - pureVsConservative`:\n",
    "\n",
    " - resize before augmentations \n",
    " - pure lowest validation loss value model choice"
   ]
  },
  {
   "cell_type": "code",
   "execution_count": 2,
   "metadata": {},
   "outputs": [],
   "source": [
    "# ------------ Utils ------------\n",
    "\n",
    "from aggregateUtils import * "
   ]
  },
  {
   "cell_type": "code",
   "execution_count": 3,
   "metadata": {},
   "outputs": [
    {
     "name": "stdout",
     "output_type": "stream",
     "text": [
      "True\n",
      "NVIDIA GeForce RTX 3070\n",
      "Device 0: NVIDIA GeForce RTX 3070\n"
     ]
    }
   ],
   "source": [
    "print(torch.cuda.is_available())          \n",
    "print(torch.cuda.get_device_name(0))     \n",
    "\n",
    "for i in range(torch.cuda.device_count()):\n",
    "    print(f\"Device {i}: {torch.cuda.get_device_name(i)}\")"
   ]
  },
  {
   "cell_type": "code",
   "execution_count": 4,
   "metadata": {},
   "outputs": [],
   "source": [
    "# Loads the dataframe\n",
    "df_fibrosis = pd.read_pickle(r'..\\..\\..\\\\fibrosis_data.pkl')"
   ]
  },
  {
   "cell_type": "code",
   "execution_count": 5,
   "metadata": {},
   "outputs": [
    {
     "data": {
      "text/html": [
       "<div>\n",
       "<style scoped>\n",
       "    .dataframe tbody tr th:only-of-type {\n",
       "        vertical-align: middle;\n",
       "    }\n",
       "\n",
       "    .dataframe tbody tr th {\n",
       "        vertical-align: top;\n",
       "    }\n",
       "\n",
       "    .dataframe thead th {\n",
       "        text-align: right;\n",
       "    }\n",
       "</style>\n",
       "<table border=\"1\" class=\"dataframe\">\n",
       "  <thead>\n",
       "    <tr style=\"text-align: right;\">\n",
       "      <th></th>\n",
       "      <th>SliceID</th>\n",
       "      <th>Class</th>\n",
       "    </tr>\n",
       "  </thead>\n",
       "  <tbody>\n",
       "    <tr>\n",
       "      <th>0</th>\n",
       "      <td>101__CT-0002-0001.npy</td>\n",
       "      <td>0</td>\n",
       "    </tr>\n",
       "    <tr>\n",
       "      <th>1</th>\n",
       "      <td>101__CT-0002-0002.npy</td>\n",
       "      <td>0</td>\n",
       "    </tr>\n",
       "    <tr>\n",
       "      <th>2</th>\n",
       "      <td>101__CT-0002-0003.npy</td>\n",
       "      <td>0</td>\n",
       "    </tr>\n",
       "    <tr>\n",
       "      <th>3</th>\n",
       "      <td>101__CT-0002-0004.npy</td>\n",
       "      <td>0</td>\n",
       "    </tr>\n",
       "    <tr>\n",
       "      <th>4</th>\n",
       "      <td>101__CT-0002-0005.npy</td>\n",
       "      <td>0</td>\n",
       "    </tr>\n",
       "  </tbody>\n",
       "</table>\n",
       "</div>"
      ],
      "text/plain": [
       "                 SliceID  Class\n",
       "0  101__CT-0002-0001.npy      0\n",
       "1  101__CT-0002-0002.npy      0\n",
       "2  101__CT-0002-0003.npy      0\n",
       "3  101__CT-0002-0004.npy      0\n",
       "4  101__CT-0002-0005.npy      0"
      ]
     },
     "execution_count": 5,
     "metadata": {},
     "output_type": "execute_result"
    }
   ],
   "source": [
    "df_annotations = df_fibrosis.drop(columns=\"SliceData\")\n",
    "df_annotations[\"SliceID\"] = df_annotations[\"SliceID\"].astype(str) + \".npy\" # better for data loader\n",
    "df_annotations.head()"
   ]
  },
  {
   "cell_type": "markdown",
   "metadata": {},
   "source": [
    "## <span style= \"color:red\"> WARNING </span>\n",
    "\n",
    "This `FibrosisDataset` class differs from the previous implementations, as it is used in slice aggregation classification, through initialization and return of the `patient_id` variable."
   ]
  },
  {
   "cell_type": "code",
   "execution_count": 6,
   "metadata": {},
   "outputs": [],
   "source": [
    "def getPatientID(s):\n",
    "    # HRCT_Pilot__PatientID\n",
    "    match = re.search(r'HRCT_Pilot__(\\d+)__', s)\n",
    "    if match: return match.group(1)\n",
    "        \n",
    "    # PatientID__sliceSpecific\n",
    "    match = re.match(r'(\\d+)__', s)\n",
    "    if match:\n",
    "        return match.group(1)\n",
    "    return None  "
   ]
  },
  {
   "cell_type": "code",
   "execution_count": 7,
   "metadata": {},
   "outputs": [],
   "source": [
    "class FibrosisDataset(Dataset):\n",
    "    def __init__(self, annotations_file, img_dir, transform=None, target_transform=None, albumentations=None, gauss=False):\n",
    "        self.img_labels = pd.read_csv(annotations_file)\n",
    "        self.img_dir = img_dir\n",
    "        self.transform = transform\n",
    "        self.target_transform = target_transform\n",
    "        self.albumentations = albumentations\n",
    "        self.gauss = gauss\n",
    "\n",
    "    def __len__(self):\n",
    "        return len(self.img_labels)\n",
    "\n",
    "    def __getitem__(self, idx):\n",
    "        # idx represents index\n",
    "        img_path = os.path.join(self.img_dir, self.img_labels.iloc[idx, 0])\n",
    "        slice_id = self.img_labels.iloc[idx, 0]\n",
    "        patient_id = getPatientID(slice_id)\n",
    "\n",
    "        # Load the .npy file\n",
    "        image = np.load(img_path)\n",
    "        \n",
    "        #image = read_image(img_path)\n",
    "        label = self.img_labels.iloc[idx, 1]\n",
    "\n",
    "        # Adds randomly selected gauss noise or blur\n",
    "        if self.gauss:\n",
    "            # Gaussian Noise\n",
    "            gauss_noise = image + np.random.normal(loc=0, scale=random.choice(range(10,40)), size=image.shape)\n",
    "            # Gaussian Blur\n",
    "            gauss_blur = gaussian_filter(image, sigma=(random.choice(range(10,16))/10)) \n",
    "            # Random choice\n",
    "            image = random.choice((gauss_noise,gauss_blur))\n",
    "\n",
    "        # Guarantee compatibility\n",
    "        if self.gauss or self.albumentations: image = image.astype(np.float32)\n",
    "\n",
    "        # Applies necessary ResNet input transformations\n",
    "        if self.transform:\n",
    "            image = self.transform(image)\n",
    "        if self.target_transform:\n",
    "            label = self.target_transform(label)\n",
    "        \n",
    "        return image, label, patient_id"
   ]
  },
  {
   "cell_type": "markdown",
   "metadata": {},
   "source": [
    "All of the train-test-validation splits were previously doccumented and performed in `2 - testSplit`:"
   ]
  },
  {
   "cell_type": "markdown",
   "metadata": {},
   "source": [
    "## Training"
   ]
  },
  {
   "cell_type": "code",
   "execution_count": 8,
   "metadata": {},
   "outputs": [],
   "source": [
    "def trainResNet(train_dataset, val_dataset, num_epochs=90, batch_size=32, lr=5e-7, patience=5, improve_min=0.001):\n",
    "    # New ResNet instance\n",
    "    resnet18 = models.resnet18(weights=ResNet18_Weights.DEFAULT)\n",
    "\n",
    "    # Considers only absolute lowest val_loss value\n",
    "    best_model_pure = copy.deepcopy(resnet18)\n",
    "    best_val_pure, epoch_pure = 10, 0\n",
    "\n",
    "    # Use only 2 output neurons\n",
    "    num_ftrs = resnet18.fc.in_features\n",
    "    resnet18.fc = nn.Linear(num_ftrs, 2)  \n",
    "\n",
    "    # If graphics card is available, uses it\n",
    "    device = torch.device(\"cuda\" if torch.cuda.is_available() else \"cpu\")\n",
    "    resnet18.to(device)\n",
    "\n",
    "    print(\"*\"+(\"-\"*29)+\"*\")\n",
    "    print(\"|{:^29}|\".format(f\"Using {device}\"))\n",
    "    print(\"*\"+(\"-\"*29)+\"*\")\n",
    "\n",
    "    # Generate data loaders\n",
    "    train_loader = DataLoader(train_dataset, batch_size=batch_size, shuffle=True)\n",
    "    val_loader = DataLoader(val_dataset, batch_size=batch_size, shuffle=False)\n",
    "    \n",
    "    # Loss function \n",
    "    criterion = nn.CrossEntropyLoss()  \n",
    "    # ADAM\n",
    "    optimizer = torch.optim.Adam(resnet18.parameters(), lr=lr)\n",
    "\n",
    "    # add learning_rate_scheduler e step learning rate\n",
    "\n",
    "    # Initializing early stop counter (based on validation loss)\n",
    "    best_loss = 10\n",
    "    early_stop_ctr = 0\n",
    "\n",
    "    loss_array = []\n",
    "    val_loss_array = []\n",
    "\n",
    "\n",
    "    for epoch in range(num_epochs):\n",
    "        resnet18.train()\n",
    "        running_loss = 0.0\n",
    "        running_val_loss = 0.0\n",
    "\n",
    "\n",
    "        # --------------- Weight updates ---------------\n",
    "        \n",
    "        # Iterates over each image in dataset, updates weights\n",
    "        for images, labels, patient_id in tqdm((train_loader), desc = \"Training...\"):\n",
    "            images, labels = images.to(device), labels.to(device)\n",
    "            \n",
    "            # Applies ADAM \n",
    "            optimizer.zero_grad()\n",
    "\n",
    "            # Generates output\n",
    "            outputs = resnet18(images)\n",
    "\n",
    "            # Computes loss\n",
    "            loss = criterion(outputs, labels)\n",
    "            loss.backward()\n",
    "            optimizer.step()\n",
    "            \n",
    "            running_loss += loss.item()\n",
    "\n",
    "        # Computes average training loss\n",
    "        avg_loss_train = running_loss/len(train_loader)\n",
    "        print(f\"Epoch [{epoch+1}/{num_epochs}], Train loss: {avg_loss_train:.6f}\")\n",
    "        loss_array.append(avg_loss_train)\n",
    "\n",
    "\n",
    "        # ---------------- Validation Loss -----------------\n",
    "\n",
    "        # Iterates over each image in dataset, computes validation loss\n",
    "        for images, labels, patient_id in (val_loader):\n",
    "            images, labels = images.to(device), labels.to(device)\n",
    "            \n",
    "            # Applies ADAM \n",
    "            optimizer.zero_grad()\n",
    "\n",
    "            # Generates output\n",
    "            outputs = resnet18(images)\n",
    "\n",
    "            # Computes loss\n",
    "            val_loss = criterion(outputs, labels)\n",
    "            \n",
    "            running_val_loss += val_loss.item()\n",
    "\n",
    "        # Computes average validation loss\n",
    "        avg_loss_val = running_val_loss/len(val_loader)\n",
    "        print(f\"Validation loss: {avg_loss_val:.6f}\")\n",
    "        val_loss_array.append(avg_loss_val)\n",
    "\n",
    "\n",
    "        # ------------------ Best Model -------------------\n",
    "\n",
    "        if epoch >= 35:\n",
    "            if avg_loss_val < best_val_pure:\n",
    "                best_val_pure = avg_loss_val\n",
    "                best_model_pure = copy.deepcopy(resnet18)\n",
    "                epoch_pure = epoch\n",
    "        \n",
    "        \n",
    "        # ---------------- Early Stopping -----------------\n",
    "\n",
    "        # Only after a high number of epochs (around 60)\n",
    "        if epoch > 60:\n",
    "            # Check for improvement (1% standard)\n",
    "            if abs(best_loss - avg_loss_val) > (best_loss * improve_min):\n",
    "                best_loss = avg_loss_val\n",
    "                early_stop_ctr = 0\n",
    "            else: early_stop_ctr += 1\n",
    "\n",
    "            # Checks early stopping condition\n",
    "            if early_stop_ctr >= patience:\n",
    "                print(f\"Early stopping triggered after {epoch+1} epochs!!!\")\n",
    "                break\n",
    "    \n",
    "    return best_model_pure, epoch_pure, loss_array, val_loss_array"
   ]
  },
  {
   "cell_type": "code",
   "execution_count": 9,
   "metadata": {},
   "outputs": [],
   "source": [
    "# Paths\n",
    "img_dir = r'..\\..\\..\\np_ROI_data'  # CSV with image filenames & labels\n",
    "annotations_file_train = r\"..\\trainTestCustom\\train.csv\"\n",
    "annotations_file_test = r\"..\\trainTestCustom\\test.csv\"\n",
    "annotations_file_val = r\"..\\trainTestCustom\\val.csv\"\n",
    "\n",
    "# Transformations \n",
    "transform = transforms.Compose([\n",
    "    transforms.ToTensor(),\n",
    "    transforms.Resize((224, 224)),  # Resize images to 224x224\n",
    "    transforms.Lambda(lambda x: x.repeat(3, 1, 1)),  # Convert (1, H, W) → (3, H, W)\n",
    "])\n",
    "\n",
    "# Augmentations\n",
    "augment = A.Compose([\n",
    "    # Applies resize prior to augmentations\n",
    "    # Could hinder scan quality, but drastically improves training speed\n",
    "    A.Resize(224, 224),\n",
    "    # Rotate\n",
    "    A.Rotate(limit=(-350,30), p=0.8),\n",
    "    # Translate\n",
    "    A.Affine(translate_percent={\"x\":(-0.15,0.15), \"y\":{-0.23,0.25}},\n",
    "              rotate=0, scale=1, p=0.8),\n",
    "    # Shear\n",
    "    A.Affine(shear={\"x\":(-15,15), \"y\":(-15,15)},p=0.8)\n",
    "])\n",
    "\n",
    "# Randomized Gaussian Noise and Blur\n",
    "gauss = True\n",
    "\n",
    "# Create Datasets\n",
    "train_dataset = FibrosisDataset(annotations_file_train, img_dir=img_dir, transform=transform, albumentations=augment, gauss=gauss)\n",
    "test_dataset = FibrosisDataset(annotations_file_test, img_dir=img_dir, transform=transform)\n",
    "val_dataset = FibrosisDataset(annotations_file_test, img_dir=img_dir, transform=transform)"
   ]
  },
  {
   "cell_type": "code",
   "execution_count": 10,
   "metadata": {},
   "outputs": [],
   "source": [
    "class ResNetFeat(ResNet):\n",
    "    def _forward_impl_feat(self, x: Tensor) -> Tensor:\n",
    "        # See note [TorchScript super()]\n",
    "        x = self.conv1(x)\n",
    "        x = self.bn1(x)\n",
    "        x = self.relu(x)\n",
    "        x = self.maxpool(x)\n",
    "\n",
    "        x = self.layer1(x)\n",
    "        x = self.layer2(x)\n",
    "        x = self.layer3(x)\n",
    "        x = self.layer4(x)\n",
    "\n",
    "        x = self.avgpool(x)\n",
    "        x = torch.flatten(x, 1)\n",
    "\n",
    "        return x"
   ]
  },
  {
   "cell_type": "code",
   "execution_count": 11,
   "metadata": {},
   "outputs": [
    {
     "name": "stderr",
     "output_type": "stream",
     "text": [
      "C:\\Users\\hasht\\AppData\\Local\\Temp\\ipykernel_24456\\2656301051.py:26: FutureWarning: You are using `torch.load` with `weights_only=False` (the current default value), which uses the default pickle module implicitly. It is possible to construct malicious pickle data which will execute arbitrary code during unpickling (See https://github.com/pytorch/pytorch/blob/main/SECURITY.md#untrusted-models for more details). In a future release, the default value for `weights_only` will be flipped to `True`. This limits the functions that could be executed during unpickling. Arbitrary objects will no longer be allowed to be loaded via this mode unless they are explicitly allowlisted by the user via `torch.serialization.add_safe_globals`. We recommend you start setting `weights_only=True` for any use case where you don't have full control of the loaded file. Please open an issue on GitHub for any issues related to this experimental feature.\n",
      "  checkpoint = torch.load(os.path.join(models_path,\"metadata.pt\"))\n",
      "C:\\Users\\hasht\\AppData\\Local\\Temp\\ipykernel_24456\\2656301051.py:33: FutureWarning: You are using `torch.load` with `weights_only=False` (the current default value), which uses the default pickle module implicitly. It is possible to construct malicious pickle data which will execute arbitrary code during unpickling (See https://github.com/pytorch/pytorch/blob/main/SECURITY.md#untrusted-models for more details). In a future release, the default value for `weights_only` will be flipped to `True`. This limits the functions that could be executed during unpickling. Arbitrary objects will no longer be allowed to be loaded via this mode unless they are explicitly allowlisted by the user via `torch.serialization.add_safe_globals`. We recommend you start setting `weights_only=True` for any use case where you don't have full control of the loaded file. Please open an issue on GitHub for any issues related to this experimental feature.\n",
      "  resnet_eval = torch.load((f\"{models_path}\"+\"resnet_aggregate.pkl\"))\n"
     ]
    }
   ],
   "source": [
    "models_path = \"..\\\\..\\\\..\\\\trainedResNets\\\\aggregateProb\\\\\"\n",
    "os.makedirs(models_path, exist_ok=True)\n",
    "\n",
    "ans = str(input(\"Do you wish to run or read?\"))\n",
    "\n",
    "# Choice execution\n",
    "if ans == \"run\": \n",
    "    resnet_eval, best_epoch, custom_loss, custom_val_loss = trainResNet(train_dataset,val_dataset)\n",
    "\n",
    "elif ans == \"read\":\n",
    "    \"\"\"\n",
    "    # Setup ResNet for Reading\n",
    "    resnet_eval = models.resnet18(weights=ResNet18_Weights.DEFAULT)\n",
    "    \n",
    "\n",
    "    # Use only 2 output neurons\n",
    "    num_ftrs = resnet_eval.fc.in_features\n",
    "    resnet_eval.fc = nn.Linear(num_ftrs, 2)\n",
    "\n",
    "    # Load weights\n",
    "    resnet_eval.load_state_dict(checkpoint['model_state_dict'])\n",
    "\n",
    "    \"\"\"\n",
    "\n",
    "    # Read file\n",
    "    checkpoint = torch.load(os.path.join(models_path,\"metadata.pt\"))\n",
    "\n",
    "    # Load values\n",
    "    best_epoch = checkpoint[\"epoch\"]\n",
    "    custom_loss = checkpoint[\"train_loss\"]\n",
    "    custom_val_loss = checkpoint[\"val_loss\"]\n",
    "\n",
    "    resnet_eval = torch.load((f\"{models_path}\"+\"resnet_aggregate.pkl\"))\n",
    "\n",
    "\n",
    "else: print(\"Invalid answer, try again.\")"
   ]
  },
  {
   "cell_type": "code",
   "execution_count": 12,
   "metadata": {},
   "outputs": [
    {
     "name": "stdout",
     "output_type": "stream",
     "text": [
      "DID NOT SAVE\n"
     ]
    }
   ],
   "source": [
    "ans = str(input(\"Do you wish to save?\"))\n",
    "\n",
    "if ans == \"yes\": \n",
    "    torch.save({\n",
    "    'epoch': best_epoch,\n",
    "    'train_loss': custom_loss,\n",
    "    'val_loss': custom_val_loss\n",
    "}, os.path.join(models_path, 'metadata.pt'))\n",
    "    \n",
    "    torch.save(resnet_eval, (f\"{models_path}\"+\"resnet_aggregate.pkl\"))\n",
    "\n",
    "else: print(\"DID NOT SAVE\")"
   ]
  },
  {
   "cell_type": "markdown",
   "metadata": {},
   "source": [
    "# Results and Aggregation Methods"
   ]
  },
  {
   "cell_type": "code",
   "execution_count": 13,
   "metadata": {},
   "outputs": [
    {
     "data": {
      "image/png": "[encoded data removed]",
      "text/plain": [
       "<Figure size 640x480 with 1 Axes>"
      ]
     },
     "metadata": {},
     "output_type": "display_data"
    },
    {
     "name": "stdout",
     "output_type": "stream",
     "text": [
      "Best Validation Loss:  0.34280176318827127\n"
     ]
    }
   ],
   "source": [
    "plotLoss(custom_loss, custom_val_loss, best_epoch)\n",
    "print(\"Best Validation Loss: \",custom_val_loss[best_epoch])"
   ]
  },
  {
   "cell_type": "code",
   "execution_count": 14,
   "metadata": {},
   "outputs": [
    {
     "data": {
      "image/png": "[encoded data removed]",
      "text/plain": [
       "<Figure size 640x480 with 1 Axes>"
      ]
     },
     "metadata": {},
     "output_type": "display_data"
    },
    {
     "name": "stdout",
     "output_type": "stream",
     "text": [
      "Area Under Curve: 0.7652073973461498\n",
      "Best Threshold (closest to (0,1)): 0.11222569\n"
     ]
    }
   ],
   "source": [
    "threshold_eval, auc_eval = getROC(resnet_eval, val_dataset)"
   ]
  },
  {
   "cell_type": "code",
   "execution_count": 15,
   "metadata": {},
   "outputs": [],
   "source": [
    "def evalResNet(resnet18, test_dataset, threshold):\n",
    "    device = torch.device(\"cuda\" if torch.cuda.is_available() else \"cpu\")\n",
    "    test_loader = DataLoader(test_dataset, batch_size=32, shuffle=False)\n",
    "\n",
    "    # Counters for each class\n",
    "    correct, total = 0, 0\n",
    "    correct_class_0, total_class_0 = 0, 0\n",
    "    correct_class_1, total_class_1 = 0, 0\n",
    "\n",
    "    # Needed for F1 score and confusion matrix\n",
    "    y_true = []\n",
    "    y_pred = []\n",
    "\n",
    "    # for feature based\n",
    "    #lat=resnet.define_hook(fc)\n",
    "\n",
    "    with torch.no_grad():\n",
    "        for images, labels, patient_id in test_loader:\n",
    "            images, labels = images.to(device), labels.to(device)\n",
    "\n",
    "            # Transform outputs to probabilities\n",
    "            outputs = resnet18(images)\n",
    "\n",
    "            # Translate logits to Class 1 probabilities using softmax\n",
    "            probs = F.softmax(outputs, dim=1)[:, 1] \n",
    "\n",
    "            # Translate prob vs threshold to predictions\n",
    "            # True if prob >= threshold else False\n",
    "            # .long() transforms True/False to 1/0\n",
    "            predicted = (probs >= threshold).long()\n",
    "            \n",
    "            # Update total and correct for general accuracy\n",
    "            total += labels.size(0)\n",
    "\n",
    "            correct += (predicted == labels).sum().item()\n",
    "\n",
    "            # Class-specific accuracy\n",
    "            for label, pred in zip(labels, predicted):\n",
    "                if label == 0:\n",
    "                    total_class_0 += 1\n",
    "                    if pred == label:\n",
    "                        correct_class_0 += 1\n",
    "                elif label == 1:\n",
    "                    total_class_1 += 1\n",
    "                    if pred == label:\n",
    "                        correct_class_1 += 1\n",
    "\n",
    "            # Add data to lists\n",
    "            y_true.extend(labels.cpu().tolist())\n",
    "            y_pred.extend(predicted.cpu().tolist())\n",
    "\n",
    "\n",
    "\n",
    "    # Weights == inverse proportions\n",
    "    weight_0, weight_1 = 0.133, 0.867\n",
    "\n",
    "    print(\"Total examples:\", total)\n",
    "\n",
    "    # -------------------------------     Perfomance Metrics     -------------------------------\n",
    "\n",
    "    # Accuracy\n",
    "    accuracy_class_0 = 100 * (correct_class_0 / total_class_0) if total_class_0 > 0 else 0\n",
    "    accuracy_class_1 = 100 * (correct_class_1 / total_class_1) if total_class_1 > 0 else 0\n",
    "    accuracy = 100 * (correct / total)\n",
    "    accuracy2 = 100 * ((correct_class_0 + correct_class_1) / total)\n",
    "    weighted_accuracy = ((accuracy_class_0*weight_0) + (accuracy_class_1*weight_1))\n",
    "\n",
    "    # F1 scores\n",
    "    f1_macro = f1_score(y_true, y_pred, average='macro') # Assigns same importance to each class\n",
    "    f1_weighted = f1_score(y_true, y_pred, average='weighted')\n",
    "    f1_class_0 = f1_score(y_true, y_pred, pos_label=0)\n",
    "    f1_class_1 = f1_score(y_true, y_pred, pos_label=1)\n",
    "\n",
    "    # Confusion Matrix\n",
    "    conf_mat = confusion_matrix(y_true, y_pred)\n",
    "\n",
    "\n",
    "    # -------------------------------     Print Results     -------------------------------\n",
    "\n",
    "    # Accuracy\n",
    "    print(\"\\n --------------------- \\n\")\n",
    "    print(f\"Accuracy for Class 0: {accuracy_class_0:.2f}%  ({correct_class_0} in {total_class_0})\")\n",
    "    print(f\"Accuracy for Class 1: {accuracy_class_1:.2f}%  ({correct_class_1} in {total_class_1})\")\n",
    "    print(f\"Test Accuracy: {accuracy:.2f}%\")\n",
    "    if f\"{accuracy:.2f}\" != f\"{accuracy2:.2f}\": print(\"ERROR CALCULATING ACCURACIES\")\n",
    "    print(f\"Weighted Accuracy: {weighted_accuracy:.2f}%\")\n",
    "\n",
    "\n",
    "    # F1 scores\n",
    "    print(\"\\n --------------------- \\n\")\n",
    "    print(f\"F1 Score (Macro): {f1_macro:.3f}\")\n",
    "    print(f\"F1 Score (Weighted): {f1_weighted:.3f}\")\n",
    "    print(f\"F1 Score Class 0: {f1_class_0:.3f}\")\n",
    "    print(f\"F1 Score Class 1: {f1_class_1:.3f}\")\n",
    "\n",
    "    # Confusion matrix\n",
    "    print(\"\\n --------------------- \\n\")\n",
    "    print(\"\\nConfusion Matrix: \\n\", conf_mat)"
   ]
  },
  {
   "cell_type": "code",
   "execution_count": 16,
   "metadata": {},
   "outputs": [
    {
     "name": "stdout",
     "output_type": "stream",
     "text": [
      "Total examples: 648\n",
      "\n",
      " --------------------- \n",
      "\n",
      "Accuracy for Class 0: 68.21%  (384 in 563)\n",
      "Accuracy for Class 1: 81.18%  (69 in 85)\n",
      "Test Accuracy: 69.91%\n",
      "Weighted Accuracy: 79.45%\n",
      "\n",
      " --------------------- \n",
      "\n",
      "F1 Score (Macro): 0.606\n",
      "F1 Score (Weighted): 0.747\n",
      "F1 Score Class 0: 0.798\n",
      "F1 Score Class 1: 0.414\n",
      "\n",
      " --------------------- \n",
      "\n",
      "\n",
      "Confusion Matrix: \n",
      " [[384 179]\n",
      " [ 16  69]]\n"
     ]
    }
   ],
   "source": [
    "evalResNet(resnet_eval, test_dataset,threshold_eval)"
   ]
  },
  {
   "cell_type": "markdown",
   "metadata": {},
   "source": [
    "## Patient-wise Classification"
   ]
  },
  {
   "cell_type": "markdown",
   "metadata": {},
   "source": [
    "This will be done through aggregation of the probabilities determined by the resnet for each slice.\n",
    "\n",
    "My plan is to create:\n",
    " - a dictionary containing keys as \"PatientID\" and values as arrays of probabilities. \n",
    " - another dictionary containing the same keys, but with binary classification value arrays."
   ]
  },
  {
   "cell_type": "markdown",
   "metadata": {},
   "source": [
    "### <span style = \"color:red\"> WARNING  </span>\n",
    "\n",
    "It's also important to re-define the best threshold, as the one obtained above was meant for slice-level classification. Aditionally, a new, individual best threshold must be determined for each aggregation criteria.\n",
    "\n",
    "However, this introduces a challenge in implementation. In order to find the best threshold for the \"majority_vote\" and \"n_is_enough\" methods, **I already need a threshold prior to finding the best AUC-ROC**. This is recursive-variable-dependecy problem.\n",
    "\n",
    "#### How can I mitigate this issue?\n",
    "\n",
    " - Instead of finding an optimal threshold, I will **choose the classification with the highest likelyhood/probability, as per determined by the model**.\n",
    " - **Performing a sweep** of best thresholds based on the **best mean threshold**."
   ]
  },
  {
   "cell_type": "code",
   "execution_count": null,
   "metadata": {},
   "outputs": [],
   "source": [
    "def getROCAggregateINCOMPLETE(model, dataset, aggregate_criteria=\"mean\", threshold_base=None): \n",
    "\n",
    "    all_labels, all_scores = [], []\n",
    "    loader = DataLoader(dataset, batch_size=32, shuffle=False)\n",
    "    device = torch.device(\"cuda\" if torch.cuda.is_available() else \"cpu\")\n",
    "    model.to(device)\n",
    "\n",
    "    # Needed for patient-wise classification\n",
    "    patient_prob = {}\n",
    "    patient_class = {}\n",
    "\n",
    "    # Used to store values after aggregation\n",
    "    patient_aggregate = {}\n",
    "\n",
    "    model.eval()\n",
    "    with torch.no_grad():\n",
    "        for images, labels, patient_id in loader:\n",
    "            images, labels = images.to(device), labels.to(device)\n",
    "\n",
    "            # Transform outputs to probabilities\n",
    "            outputs = model(images)\n",
    "\n",
    "            # Translate logits to probabilities using softmax\n",
    "            # and then chooses only values for Class 1 (0 or 1)\n",
    "\n",
    "            # This can only be done when computing mean or using\n",
    "            # the mean threshold as a base for the sweep\n",
    "            if aggregate_criteria == \"mean\" or (threshold_base is not None):\n",
    "                probs = F.softmax(outputs, dim=1)[:, 1] \n",
    "            \n",
    "            # If there isn't a base threshold to start from,\n",
    "            # we need to classify based on highest likelyhood\n",
    "\n",
    "            # This code chooses the Class with highest probability,\n",
    "            # automatically classifying/transforming logits to 0 and 1.\n",
    "            # They are simply named \"probs\" for convenience, as \n",
    "            # THEY AREN'T PROBABILITIES!!!\n",
    "            else: probs = torch.argmax(outputs, dim=1)\n",
    "\n",
    "\n",
    "            # Associate probabilities/values to dictionary for each patient\n",
    "            for pid, prob, label in zip(patient_id, probs.tolist(), labels.tolist()):\n",
    "                if pid not in patient_prob:\n",
    "                    patient_prob[pid] = []  # Initializes key:value pair if it doesn't exist\n",
    "                    patient_class[pid] = 0  # Sets classification as 0 until otherwise\n",
    "\n",
    "                patient_prob[pid].append(prob)  # Adds probability to list\n",
    "                \n",
    "                # Label aggregation condition\n",
    "                if label == 1: patient_class[pid] = 1 # Updates Classification\n",
    "    \n",
    "    # 2. After pulling every slice value for every patient, apply aggregate_criteria\n",
    "    # and evaluate the aggregated values using criteria-specific conditions\n",
    "    for id, prob_list in patient_prob.items():\n",
    "        if aggregate_criteria == \"mean\":\n",
    "            prob = bool(np.mean(prob_list))\n",
    "            patient_aggregate[id] = prob\n",
    "\n",
    "            # If larger -> True -> int -> 1\n",
    "            # If smaller -> False -> int -> 0\n",
    "            predicted = int(prob >= threshold)\n",
    "        \n",
    "        elif aggregate_criteria == \"majority_vote\":\n",
    "            ctr0, ctr1 = 0, 0\n",
    "            for prob in prob_list:\n",
    "                predicted = int(prob >= threshold)\n",
    "                if predicted == 1: ctr1 += 1\n",
    "                elif predicted == 0: ctr0 += 1\n",
    "                else: print(\"Error: Invalid prediction for patient\", id)\n",
    "            \n",
    "            # From a medical standpoint, I decided 50/50 calls for more\n",
    "            # tests, as a prevention for false negatives in these cases\n",
    "            if (ctr1 >= ctr0): predicted == 1\n",
    "            else: predicted == 0\n",
    "\n",
    "        elif aggregate_criteria == \"n_is_enough\":\n",
    "            n_ctr = 0\n",
    "\n",
    "            # Absolute slice number\n",
    "            if isinstance(n, int):\n",
    "                for prob in prob_list:\n",
    "                    predicted = int(prob >= threshold)\n",
    "                    if predicted == 1: n_ctr += 1\n",
    "                    elif predicted != 0: print(\"Error: Invalid prediction for patient\", id)\n",
    "\n",
    "                    # Early stopping\n",
    "                    if n_ctr == n: break\n",
    "\n",
    "                # Assigning correct values\n",
    "                if n_ctr >= n: predicted = 1\n",
    "                else: predicted = 0\n",
    "\n",
    "            # Relative slice ammount\n",
    "            elif isinstance(n, float):\n",
    "                size = len(prob_list)\n",
    "                for prob in prob_list:\n",
    "                    predicted = int(prob >= threshold)\n",
    "                    if predicted == 1: n_ctr += 1\n",
    "                    elif predicted != 0: print(\"Error: Invalid prediction for patient\", id)\n",
    "\n",
    "                    # Early stopping\n",
    "                    if n_ctr >= n * size: break\n",
    "\n",
    "                # Assigning correct values\n",
    "                if n_ctr >= n * size: predicted = 1\n",
    "                else: predicted = 0\n",
    "\n",
    "                #if predicted == 1: print(\" +++++ \", id, \" | \", n_ctr, \"out of\", size, \"slices!\")\n",
    "                #else: print(\" ----- \", id, \" | \", n_ctr, \"out of\", size, \"slices!\")\n",
    "            \n",
    "            else: print(\"Error: Invalid n value for patient\", id)\n",
    "\n",
    "                    \n",
    "\n",
    "        label = patient_class[id]\n",
    "\n",
    "        # Counters for metrics   \n",
    "        total += 1\n",
    "        if label == 0:\n",
    "            total_class_0 += 1\n",
    "            if predicted == label:\n",
    "                correct_class_0 += 1\n",
    "                correct += 1\n",
    "        elif label == 1:\n",
    "            total_class_1 += 1\n",
    "            if predicted == label:\n",
    "                correct_class_1 += 1\n",
    "                correct += 1\n",
    "\n",
    "        #  y_true, y_pred -> all_scores, all_labels\n",
    "        all_labels.append(label)\n",
    "        all_scores.append(predicted)\n",
    "\n",
    "    # Compute ROC curve\n",
    "    fpr, tpr, thresholds = roc_curve(all_labels, all_scores)\n",
    "    roc_auc = auc(fpr, tpr)\n",
    "    \n",
    "    # Compute distance to (0,1) for each point on the ROC curve\n",
    "    distances = np.sqrt((fpr)**2 + (1 - tpr)**2)\n",
    "\n",
    "    # Gets closest point to the perfect discriminator (0,1)\n",
    "    best_idx = np.argmin(distances)\n",
    "    best_threshold = thresholds[best_idx]\n",
    "\n",
    "    # ---------- Display and Results ---------- \n",
    "\n",
    "    plt.figure()\n",
    "    plt.plot(fpr, tpr, label=f'ROC curve (area = {roc_auc:.2f})')\n",
    "    plt.plot([0, 1], [0, 1], 'k--')  # Diagonal line\n",
    "    plt.scatter(fpr[best_idx], tpr[best_idx], color='red', label=f'Best Threshold = {best_threshold:.2f}')\n",
    "    plt.xlabel('False Positive Rate')\n",
    "    plt.ylabel('True Positive Rate')\n",
    "    plt.title('Receiver Operating Characteristic')\n",
    "    plt.legend(loc='lower right')\n",
    "    plt.show()\n",
    "\n",
    "    print(\"Area Under Curve:\", roc_auc)\n",
    "    print(\"Best Threshold (closest to (0,1)):\", best_threshold)\n",
    "\n",
    "    return best_threshold, roc_auc"
   ]
  },
  {
   "cell_type": "code",
   "execution_count": null,
   "metadata": {},
   "outputs": [],
   "source": [
    "def evalPatientProbResNet(resnet18, test_dataset, threshold, aggregate_criteria=\"mean\", n=1, class_condition=\"1_is_enough\", verbose=True):\n",
    "    device = torch.device(\"cuda\" if torch.cuda.is_available() else \"cpu\")\n",
    "    test_loader = DataLoader(test_dataset, batch_size=32, shuffle=False)\n",
    "\n",
    "    # Counters for each class\n",
    "    correct, total = 0, 0\n",
    "    correct_class_0, total_class_0 = 0, 0\n",
    "    correct_class_1, total_class_1 = 0, 0\n",
    "\n",
    "    # Needed for F1 score and confusion matrix\n",
    "    y_true = []\n",
    "    y_pred = []\n",
    "\n",
    "    # Needed for patient-wise classification\n",
    "    patient_prob = {}\n",
    "    patient_class = {}\n",
    "\n",
    "    # Used to store values after aggregation\n",
    "    patient_aggregate = {}\n",
    "\n",
    "\n",
    "    # 1. This loop populates dictionaries with values pulled from the model\n",
    "    with torch.no_grad():\n",
    "        for images, labels, patient_id in test_loader:\n",
    "            images, labels = images.to(device), labels.to(device)\n",
    "\n",
    "            # Transform outputs to probabilities\n",
    "            outputs = resnet18(images)\n",
    "\n",
    "            # Translate logits to Class 1 probabilities using softmax\n",
    "            probs = F.softmax(outputs, dim=1)[:, 1] \n",
    "\n",
    "            # Associate probabilities to dictionary for each patient\n",
    "            for pid, prob, label in zip(patient_id, probs.tolist(), labels.tolist()):\n",
    "                if pid not in patient_prob:\n",
    "                    patient_prob[pid] = []  # Initializes key:value pair if it doesn't exist\n",
    "                    patient_class[pid] = []  # Same principle\n",
    "\n",
    "                patient_prob[pid].append(prob)  # Adds probability to list\n",
    "                \n",
    "                # Label aggregation condition\n",
    "                if class_condition == \"1_is_enough\":\n",
    "                    # If at least 1 is Class 1, change to has_fibrosis\n",
    "                    for id, label_list in patient_prob.items():\n",
    "                        # Updates Classification\n",
    "                        for label in label_list: \n",
    "                            if label == 1: patient_class[pid] = 1 \n",
    "                       \n",
    "                else:\n",
    "                    # If at least n are Class 1, change to has_fibrosis\n",
    "                    n_ctr = 0\n",
    "                    for id, label_list in patient_prob.items():\n",
    "                        # Updates Classification\n",
    "                        for label in label_list: \n",
    "                            if label == 1: n_ctr += 1\n",
    "                        \n",
    "                        if n_ctr >= n: \n",
    "                            patient_class[pid] = 1\n",
    "                            break # early stop\n",
    "\n",
    "    \n",
    "    # 2. After pulling every slice value for every patient, apply aggregate_criteria\n",
    "    # and evaluate the aggregated values using criteria-specific conditions\n",
    "    for id, prob_list in patient_prob.items():\n",
    "        if aggregate_criteria == \"mean\":\n",
    "            prob = bool(np.mean(prob_list))\n",
    "            patient_aggregate[id] = prob\n",
    "\n",
    "            # If larger -> True -> int -> 1\n",
    "            # If smaller -> False -> int -> 0\n",
    "            predicted = int(prob >= threshold)\n",
    "        \n",
    "        elif aggregate_criteria == \"majority_vote\":\n",
    "            ctr0, ctr1 = 0, 0\n",
    "            for prob in prob_list:\n",
    "                predicted = int(prob >= threshold)\n",
    "                if predicted == 1: ctr1 += 1\n",
    "                elif predicted == 0: ctr0 += 1\n",
    "                else: print(\"Error: Invalid prediction for patient\", id)\n",
    "            \n",
    "            # From a medical standpoint, I decided 50/50 calls for more\n",
    "            # tests, as a prevention for false negatives in these cases\n",
    "            if (ctr1 >= ctr0): predicted == 1\n",
    "            else: predicted == 0\n",
    "\n",
    "        elif aggregate_criteria == \"n_is_enough\":\n",
    "            n_ctr = 0\n",
    "\n",
    "            # Absolute slice number\n",
    "            if isinstance(n, int):\n",
    "                for prob in prob_list:\n",
    "                    predicted = int(prob >= threshold)\n",
    "                    if predicted == 1: n_ctr += 1\n",
    "                    elif predicted != 0: print(\"Error: Invalid prediction for patient\", id)\n",
    "\n",
    "                    # Early stopping\n",
    "                    if n_ctr == n: break\n",
    "\n",
    "                # Assigning correct values\n",
    "                if n_ctr >= n: predicted = 1\n",
    "                else: predicted = 0\n",
    "\n",
    "            # Relative slice ammount\n",
    "            elif isinstance(n, float):\n",
    "                size = len(prob_list)\n",
    "                for prob in prob_list:\n",
    "                    predicted = int(prob >= threshold)\n",
    "                    if predicted == 1: n_ctr += 1\n",
    "                    elif predicted != 0: print(\"Error: Invalid prediction for patient\", id)\n",
    "\n",
    "                    # Early stopping\n",
    "                    if n_ctr >= n * size: break\n",
    "\n",
    "                # Assigning correct values\n",
    "                if n_ctr >= n * size: predicted = 1\n",
    "                else: predicted = 0\n",
    "\n",
    "                #if predicted == 1: print(\" +++++ \", id, \" | \", n_ctr, \"out of\", size, \"slices!\")\n",
    "                #else: print(\" ----- \", id, \" | \", n_ctr, \"out of\", size, \"slices!\")\n",
    "            \n",
    "            else: print(\"Error: Invalid n value for patient\", id)\n",
    "\n",
    "                    \n",
    "\n",
    "        label = patient_class[id]\n",
    "\n",
    "        # Counters for metrics   \n",
    "        total += 1\n",
    "        if label == 0:\n",
    "            total_class_0 += 1\n",
    "            if predicted == label:\n",
    "                correct_class_0 += 1\n",
    "                correct += 1\n",
    "        elif label == 1:\n",
    "            total_class_1 += 1\n",
    "            if predicted == label:\n",
    "                correct_class_1 += 1\n",
    "                correct += 1\n",
    "\n",
    "        # Populate y_true and y_pred lists for F1 Score\n",
    "        y_true.append(label)\n",
    "        y_pred.append(predicted)\n",
    "        \n",
    "\n",
    "    \n",
    "    # Weights == inverse proportions\n",
    "    weight_0, weight_1 = 0.133, 0.867\n",
    "\n",
    "    print(\"Total examples:\", total)\n",
    "\n",
    "    # -------------------------------     Perfomance Metrics     -------------------------------\n",
    "\n",
    "    # Accuracy\n",
    "    accuracy_class_0 = 100 * (correct_class_0 / total_class_0) if total_class_0 > 0 else 0\n",
    "    accuracy_class_1 = 100 * (correct_class_1 / total_class_1) if total_class_1 > 0 else 0\n",
    "    accuracy = 100 * (correct / total)\n",
    "    accuracy2 = 100 * ((correct_class_0 + correct_class_1) / total)\n",
    "    weighted_accuracy = ((accuracy_class_0*weight_0) + (accuracy_class_1*weight_1))\n",
    "\n",
    "    # F1 scores\n",
    "    f1_macro = f1_score(y_true, y_pred, average='macro') # Assigns same importance to each class\n",
    "    f1_weighted = f1_score(y_true, y_pred, average='weighted')\n",
    "    f1_class_0 = f1_score(y_true, y_pred, pos_label=0)\n",
    "    f1_class_1 = f1_score(y_true, y_pred, pos_label=1)\n",
    "\n",
    "    # Confusion Matrix\n",
    "    conf_mat = confusion_matrix(y_true, y_pred)\n",
    "\n",
    "\n",
    "    # -------------------------------     Print Results     -------------------------------\n",
    "\n",
    "    if verbose:\n",
    "\n",
    "        # Accuracy\n",
    "        print(\"\\n --------------------- \\n\")\n",
    "        print(f\"Accuracy for Class 0: {accuracy_class_0:.2f}%  ({correct_class_0} in {total_class_0})\")\n",
    "        print(f\"Accuracy for Class 1: {accuracy_class_1:.2f}%  ({correct_class_1} in {total_class_1})\")\n",
    "        print(f\"Test Accuracy: {accuracy:.2f}%\")\n",
    "        if f\"{accuracy:.2f}\" != f\"{accuracy2:.2f}\": print(\"ERROR CALCULATING ACCURACIES\")\n",
    "        print(f\"Weighted Accuracy: {weighted_accuracy:.2f}%\")\n",
    "\n",
    "        # F1 scores\n",
    "        print(\"\\n --------------------- \\n\")\n",
    "        print(f\"F1 Score (Macro): {f1_macro:.3f}\")\n",
    "        print(f\"F1 Score (Weighted): {f1_weighted:.3f}\")\n",
    "        print(f\"F1 Score Class 0: {f1_class_0:.3f}\")\n",
    "        print(f\"F1 Score Class 1: {f1_class_1:.3f}\")\n",
    "\n",
    "        # Confusion matrix\n",
    "        print(\"\\n --------------------- \\n\")\n",
    "        print(\"\\nConfusion Matrix: \\n\", conf_mat)    "
   ]
  },
  {
   "cell_type": "markdown",
   "metadata": {},
   "source": [
    "# Testing Aggregation Methods"
   ]
  },
  {
   "cell_type": "markdown",
   "metadata": {},
   "source": [
    "## Mean\n",
    "\n",
    "## <span style= \"color:red\"> WARNING </span>\n",
    "\n",
    "Maybe normalizing values and threshold based on values would help?"
   ]
  },
  {
   "cell_type": "code",
   "execution_count": null,
   "metadata": {},
   "outputs": [
    {
     "name": "stdout",
     "output_type": "stream",
     "text": [
      "Total examples: 24\n",
      "\n",
      " --------------------- \n",
      "\n",
      "Accuracy for Class 0: 0.00%  (0 in 10)\n",
      "Accuracy for Class 1: 100.00%  (14 in 14)\n",
      "Test Accuracy: 58.33%\n",
      "Weighted Accuracy: 86.70%\n",
      "\n",
      " --------------------- \n",
      "\n",
      "F1 Score (Macro): 0.368\n",
      "F1 Score (Weighted): 0.430\n",
      "F1 Score Class 0: 0.000\n",
      "F1 Score Class 1: 0.737\n",
      "\n",
      " --------------------- \n",
      "\n",
      "\n",
      "Confusion Matrix: \n",
      " [[ 0 10]\n",
      " [ 0 14]]\n"
     ]
    }
   ],
   "source": [
    "evalPatientProbResNet(resnet_eval, test_dataset, threshold_eval)"
   ]
  },
  {
   "cell_type": "markdown",
   "metadata": {},
   "source": [
    "The threshold defined for slice-based prediction optimization does not work well with the mean of all slice probabilities. Some probability values are much different then others, which prompted the mean to always be larger than the threshold, resulting in prediction of Class == 1 in 100% of the cases."
   ]
  },
  {
   "cell_type": "markdown",
   "metadata": {},
   "source": [
    "## Majority Vote"
   ]
  },
  {
   "cell_type": "code",
   "execution_count": null,
   "metadata": {},
   "outputs": [
    {
     "name": "stdout",
     "output_type": "stream",
     "text": [
      "Total examples: 24\n",
      "\n",
      " --------------------- \n",
      "\n",
      "Accuracy for Class 0: 90.00%  (9 in 10)\n",
      "Accuracy for Class 1: 7.14%  (1 in 14)\n",
      "Test Accuracy: 41.67%\n",
      "Weighted Accuracy: 18.16%\n",
      "\n",
      " --------------------- \n",
      "\n",
      "F1 Score (Macro): 0.344\n",
      "F1 Score (Weighted): 0.307\n",
      "F1 Score Class 0: 0.562\n",
      "F1 Score Class 1: 0.125\n",
      "\n",
      " --------------------- \n",
      "\n",
      "\n",
      "Confusion Matrix: \n",
      " [[ 9  1]\n",
      " [13  1]]\n"
     ]
    }
   ],
   "source": [
    "evalPatientProbResNet(resnet_eval, test_dataset, threshold_eval, aggregate_criteria=\"majority_vote\")"
   ]
  },
  {
   "cell_type": "markdown",
   "metadata": {},
   "source": [
    "## N is enough\n",
    "\n",
    "Aggregation technique with a customizable threshold for number of Class == 1 slices needed to consider fibrosis present in a patient.\n",
    "\n",
    "After testing with absolute values, and taking into account that different patients will most likely have a different number of slices, I decided to implement both absolute and relative conditions:\n",
    "\n",
    "  - **if `n` is an integer (absolute)**: if a patient displays at least `n` slices with Class == 1, then the patient is classified as Class == 1.\n",
    "  - **if `n` is a float (relative)**: if a patient displays at least `n`% slices with Class == 1, then the patient is classified as Class == 1."
   ]
  },
  {
   "cell_type": "markdown",
   "metadata": {},
   "source": [
    "### Absolute Value Tests"
   ]
  },
  {
   "cell_type": "code",
   "execution_count": null,
   "metadata": {},
   "outputs": [
    {
     "name": "stdout",
     "output_type": "stream",
     "text": [
      "Total examples: 24\n",
      "\n",
      " --------------------- \n",
      "\n",
      "Accuracy for Class 0: 20.00%  (2 in 10)\n",
      "Accuracy for Class 1: 100.00%  (14 in 14)\n",
      "Test Accuracy: 66.67%\n",
      "Weighted Accuracy: 89.36%\n",
      "\n",
      " --------------------- \n",
      "\n",
      "F1 Score (Macro): 0.556\n",
      "F1 Score (Weighted): 0.593\n",
      "F1 Score Class 0: 0.333\n",
      "F1 Score Class 1: 0.778\n",
      "\n",
      " --------------------- \n",
      "\n",
      "\n",
      "Confusion Matrix: \n",
      " [[ 2  8]\n",
      " [ 0 14]]\n"
     ]
    }
   ],
   "source": [
    "evalPatientProbResNet(resnet_eval, test_dataset, threshold_eval, aggregate_criteria=\"n_is_enough\", n=1)"
   ]
  },
  {
   "cell_type": "code",
   "execution_count": null,
   "metadata": {},
   "outputs": [
    {
     "name": "stdout",
     "output_type": "stream",
     "text": [
      "Total examples: 24\n",
      "\n",
      " --------------------- \n",
      "\n",
      "Accuracy for Class 0: 30.00%  (3 in 10)\n",
      "Accuracy for Class 1: 100.00%  (14 in 14)\n",
      "Test Accuracy: 70.83%\n",
      "Weighted Accuracy: 90.69%\n",
      "\n",
      " --------------------- \n",
      "\n",
      "F1 Score (Macro): 0.631\n",
      "F1 Score (Weighted): 0.659\n",
      "F1 Score Class 0: 0.462\n",
      "F1 Score Class 1: 0.800\n",
      "\n",
      " --------------------- \n",
      "\n",
      "\n",
      "Confusion Matrix: \n",
      " [[ 3  7]\n",
      " [ 0 14]]\n"
     ]
    }
   ],
   "source": [
    "evalPatientProbResNet(resnet_eval, test_dataset, threshold_eval, aggregate_criteria=\"n_is_enough\", n=2)"
   ]
  },
  {
   "cell_type": "code",
   "execution_count": null,
   "metadata": {},
   "outputs": [
    {
     "name": "stdout",
     "output_type": "stream",
     "text": [
      "Total examples: 24\n",
      "\n",
      " --------------------- \n",
      "\n",
      "Accuracy for Class 0: 40.00%  (4 in 10)\n",
      "Accuracy for Class 1: 78.57%  (11 in 14)\n",
      "Test Accuracy: 62.50%\n",
      "Weighted Accuracy: 73.44%\n",
      "\n",
      " --------------------- \n",
      "\n",
      "F1 Score (Macro): 0.590\n",
      "F1 Score (Weighted): 0.610\n",
      "F1 Score Class 0: 0.471\n",
      "F1 Score Class 1: 0.710\n",
      "\n",
      " --------------------- \n",
      "\n",
      "\n",
      "Confusion Matrix: \n",
      " [[ 4  6]\n",
      " [ 3 11]]\n"
     ]
    }
   ],
   "source": [
    "evalPatientProbResNet(resnet_eval, test_dataset, threshold_eval, aggregate_criteria=\"n_is_enough\", n=3)"
   ]
  },
  {
   "cell_type": "code",
   "execution_count": null,
   "metadata": {},
   "outputs": [
    {
     "name": "stdout",
     "output_type": "stream",
     "text": [
      "Total examples: 24\n",
      "\n",
      " --------------------- \n",
      "\n",
      "Accuracy for Class 0: 60.00%  (6 in 10)\n",
      "Accuracy for Class 1: 71.43%  (10 in 14)\n",
      "Test Accuracy: 66.67%\n",
      "Weighted Accuracy: 69.91%\n",
      "\n",
      " --------------------- \n",
      "\n",
      "F1 Score (Macro): 0.657\n",
      "F1 Score (Weighted): 0.667\n",
      "F1 Score Class 0: 0.600\n",
      "F1 Score Class 1: 0.714\n",
      "\n",
      " --------------------- \n",
      "\n",
      "\n",
      "Confusion Matrix: \n",
      " [[ 6  4]\n",
      " [ 4 10]]\n"
     ]
    }
   ],
   "source": [
    "evalPatientProbResNet(resnet_eval, test_dataset, threshold_eval, aggregate_criteria=\"n_is_enough\", n=4)"
   ]
  },
  {
   "cell_type": "code",
   "execution_count": null,
   "metadata": {},
   "outputs": [
    {
     "name": "stdout",
     "output_type": "stream",
     "text": [
      "Total examples: 24\n",
      "\n",
      " --------------------- \n",
      "\n",
      "Accuracy for Class 0: 70.00%  (7 in 10)\n",
      "Accuracy for Class 1: 71.43%  (10 in 14)\n",
      "Test Accuracy: 70.83%\n",
      "Weighted Accuracy: 71.24%\n",
      "\n",
      " --------------------- \n",
      "\n",
      "F1 Score (Macro): 0.704\n",
      "F1 Score (Weighted): 0.710\n",
      "F1 Score Class 0: 0.667\n",
      "F1 Score Class 1: 0.741\n",
      "\n",
      " --------------------- \n",
      "\n",
      "\n",
      "Confusion Matrix: \n",
      " [[ 7  3]\n",
      " [ 4 10]]\n"
     ]
    }
   ],
   "source": [
    "evalPatientProbResNet(resnet_eval, test_dataset, threshold_eval, aggregate_criteria=\"n_is_enough\", n=5)"
   ]
  },
  {
   "cell_type": "code",
   "execution_count": null,
   "metadata": {},
   "outputs": [
    {
     "name": "stdout",
     "output_type": "stream",
     "text": [
      "Total examples: 24\n",
      "\n",
      " --------------------- \n",
      "\n",
      "Accuracy for Class 0: 70.00%  (7 in 10)\n",
      "Accuracy for Class 1: 64.29%  (9 in 14)\n",
      "Test Accuracy: 66.67%\n",
      "Weighted Accuracy: 65.05%\n",
      "\n",
      " --------------------- \n",
      "\n",
      "F1 Score (Macro): 0.664\n",
      "F1 Score (Weighted): 0.669\n",
      "F1 Score Class 0: 0.636\n",
      "F1 Score Class 1: 0.692\n",
      "\n",
      " --------------------- \n",
      "\n",
      "\n",
      "Confusion Matrix: \n",
      " [[7 3]\n",
      " [5 9]]\n"
     ]
    }
   ],
   "source": [
    "evalPatientProbResNet(resnet_eval, test_dataset, threshold_eval, aggregate_criteria=\"n_is_enough\", n=6)"
   ]
  },
  {
   "cell_type": "code",
   "execution_count": null,
   "metadata": {},
   "outputs": [
    {
     "name": "stdout",
     "output_type": "stream",
     "text": [
      "Total examples: 24\n",
      "\n",
      " --------------------- \n",
      "\n",
      "Accuracy for Class 0: 70.00%  (7 in 10)\n",
      "Accuracy for Class 1: 64.29%  (9 in 14)\n",
      "Test Accuracy: 66.67%\n",
      "Weighted Accuracy: 65.05%\n",
      "\n",
      " --------------------- \n",
      "\n",
      "F1 Score (Macro): 0.664\n",
      "F1 Score (Weighted): 0.669\n",
      "F1 Score Class 0: 0.636\n",
      "F1 Score Class 1: 0.692\n",
      "\n",
      " --------------------- \n",
      "\n",
      "\n",
      "Confusion Matrix: \n",
      " [[7 3]\n",
      " [5 9]]\n"
     ]
    }
   ],
   "source": [
    "evalPatientProbResNet(resnet_eval, test_dataset, threshold_eval, aggregate_criteria=\"n_is_enough\", n=7)"
   ]
  },
  {
   "cell_type": "markdown",
   "metadata": {},
   "source": [
    "As expected, an increase in number of required slice Class == 1 instances harms fibrosis detection, while simultaneously improving healthy patient identification (logically, the more slices it takes for a patient to be sick, the better the model has to be at detecting slices with manifestations.)\n",
    "\n",
    "The results for `n==5` seemed to have the best tradeoff (relative to the numbers tested above, the trend reveals progressively worse Class == 1 with unchanged Class == 0 classifications as `n` increases over 5)."
   ]
  },
  {
   "cell_type": "markdown",
   "metadata": {},
   "source": [
    "### Relative Value Tests"
   ]
  },
  {
   "cell_type": "code",
   "execution_count": null,
   "metadata": {},
   "outputs": [
    {
     "name": "stdout",
     "output_type": "stream",
     "text": [
      "Total examples: 24\n",
      "\n",
      " --------------------- \n",
      "\n",
      "Accuracy for Class 0: 20.00%  (2 in 10)\n",
      "Accuracy for Class 1: 100.00%  (14 in 14)\n",
      "Test Accuracy: 66.67%\n",
      "Weighted Accuracy: 89.36%\n",
      "\n",
      " --------------------- \n",
      "\n",
      "F1 Score (Macro): 0.556\n",
      "F1 Score (Weighted): 0.593\n",
      "F1 Score Class 0: 0.333\n",
      "F1 Score Class 1: 0.778\n",
      "\n",
      " --------------------- \n",
      "\n",
      "\n",
      "Confusion Matrix: \n",
      " [[ 2  8]\n",
      " [ 0 14]]\n"
     ]
    }
   ],
   "source": [
    "evalPatientProbResNet(resnet_eval, test_dataset, threshold_eval, aggregate_criteria=\"n_is_enough\", n=0.05)"
   ]
  },
  {
   "cell_type": "code",
   "execution_count": null,
   "metadata": {},
   "outputs": [
    {
     "name": "stdout",
     "output_type": "stream",
     "text": [
      "Total examples: 24\n",
      "\n",
      " --------------------- \n",
      "\n",
      "Accuracy for Class 0: 50.00%  (5 in 10)\n",
      "Accuracy for Class 1: 78.57%  (11 in 14)\n",
      "Test Accuracy: 66.67%\n",
      "Weighted Accuracy: 74.77%\n",
      "\n",
      " --------------------- \n",
      "\n",
      "F1 Score (Macro): 0.644\n",
      "F1 Score (Weighted): 0.659\n",
      "F1 Score Class 0: 0.556\n",
      "F1 Score Class 1: 0.733\n",
      "\n",
      " --------------------- \n",
      "\n",
      "\n",
      "Confusion Matrix: \n",
      " [[ 5  5]\n",
      " [ 3 11]]\n"
     ]
    }
   ],
   "source": [
    "evalPatientProbResNet(resnet_eval, test_dataset, threshold_eval, aggregate_criteria=\"n_is_enough\", n=0.1)"
   ]
  },
  {
   "cell_type": "code",
   "execution_count": null,
   "metadata": {},
   "outputs": [
    {
     "name": "stdout",
     "output_type": "stream",
     "text": [
      "Total examples: 24\n",
      "\n",
      " --------------------- \n",
      "\n",
      "Accuracy for Class 0: 60.00%  (6 in 10)\n",
      "Accuracy for Class 1: 71.43%  (10 in 14)\n",
      "Test Accuracy: 66.67%\n",
      "Weighted Accuracy: 69.91%\n",
      "\n",
      " --------------------- \n",
      "\n",
      "F1 Score (Macro): 0.657\n",
      "F1 Score (Weighted): 0.667\n",
      "F1 Score Class 0: 0.600\n",
      "F1 Score Class 1: 0.714\n",
      "\n",
      " --------------------- \n",
      "\n",
      "\n",
      "Confusion Matrix: \n",
      " [[ 6  4]\n",
      " [ 4 10]]\n"
     ]
    }
   ],
   "source": [
    "evalPatientProbResNet(resnet_eval, test_dataset, threshold_eval, aggregate_criteria=\"n_is_enough\", n=0.15)"
   ]
  },
  {
   "cell_type": "code",
   "execution_count": null,
   "metadata": {},
   "outputs": [
    {
     "name": "stdout",
     "output_type": "stream",
     "text": [
      "Total examples: 24\n",
      "\n",
      " --------------------- \n",
      "\n",
      "Accuracy for Class 0: 70.00%  (7 in 10)\n",
      "Accuracy for Class 1: 71.43%  (10 in 14)\n",
      "Test Accuracy: 70.83%\n",
      "Weighted Accuracy: 71.24%\n",
      "\n",
      " --------------------- \n",
      "\n",
      "F1 Score (Macro): 0.704\n",
      "F1 Score (Weighted): 0.710\n",
      "F1 Score Class 0: 0.667\n",
      "F1 Score Class 1: 0.741\n",
      "\n",
      " --------------------- \n",
      "\n",
      "\n",
      "Confusion Matrix: \n",
      " [[ 7  3]\n",
      " [ 4 10]]\n"
     ]
    }
   ],
   "source": [
    "evalPatientProbResNet(resnet_eval, test_dataset, threshold_eval, aggregate_criteria=\"n_is_enough\", n=0.2)"
   ]
  },
  {
   "cell_type": "code",
   "execution_count": null,
   "metadata": {},
   "outputs": [
    {
     "name": "stdout",
     "output_type": "stream",
     "text": [
      "Total examples: 24\n",
      "\n",
      " --------------------- \n",
      "\n",
      "Accuracy for Class 0: 70.00%  (7 in 10)\n",
      "Accuracy for Class 1: 64.29%  (9 in 14)\n",
      "Test Accuracy: 66.67%\n",
      "Weighted Accuracy: 65.05%\n",
      "\n",
      " --------------------- \n",
      "\n",
      "F1 Score (Macro): 0.664\n",
      "F1 Score (Weighted): 0.669\n",
      "F1 Score Class 0: 0.636\n",
      "F1 Score Class 1: 0.692\n",
      "\n",
      " --------------------- \n",
      "\n",
      "\n",
      "Confusion Matrix: \n",
      " [[7 3]\n",
      " [5 9]]\n"
     ]
    }
   ],
   "source": [
    "evalPatientProbResNet(resnet_eval, test_dataset, threshold_eval, aggregate_criteria=\"n_is_enough\", n=0.25)"
   ]
  },
  {
   "cell_type": "code",
   "execution_count": null,
   "metadata": {},
   "outputs": [
    {
     "name": "stdout",
     "output_type": "stream",
     "text": [
      "Total examples: 24\n",
      "\n",
      " --------------------- \n",
      "\n",
      "Accuracy for Class 0: 70.00%  (7 in 10)\n",
      "Accuracy for Class 1: 64.29%  (9 in 14)\n",
      "Test Accuracy: 66.67%\n",
      "Weighted Accuracy: 65.05%\n",
      "\n",
      " --------------------- \n",
      "\n",
      "F1 Score (Macro): 0.664\n",
      "F1 Score (Weighted): 0.669\n",
      "F1 Score Class 0: 0.636\n",
      "F1 Score Class 1: 0.692\n",
      "\n",
      " --------------------- \n",
      "\n",
      "\n",
      "Confusion Matrix: \n",
      " [[7 3]\n",
      " [5 9]]\n"
     ]
    }
   ],
   "source": [
    "evalPatientProbResNet(resnet_eval, test_dataset, threshold_eval, aggregate_criteria=\"n_is_enough\", n=0.30)"
   ]
  },
  {
   "cell_type": "markdown",
   "metadata": {},
   "source": [
    "Once again, through simple tests, it seems that the most balanced classification threshold is 1/4th of the patient's total slices."
   ]
  }
 ],
 "metadata": {
  "kernelspec": {
   "display_name": "fibrosis",
   "language": "python",
   "name": "python3"
  },
  "language_info": {
   "codemirror_mode": {
    "name": "ipython",
    "version": 3
   },
   "file_extension": ".py",
   "mimetype": "text/x-python",
   "name": "python",
   "nbconvert_exporter": "python",
   "pygments_lexer": "ipython3",
   "version": "3.12.9"
  }
 },
 "nbformat": 4,
 "nbformat_minor": 2
}
