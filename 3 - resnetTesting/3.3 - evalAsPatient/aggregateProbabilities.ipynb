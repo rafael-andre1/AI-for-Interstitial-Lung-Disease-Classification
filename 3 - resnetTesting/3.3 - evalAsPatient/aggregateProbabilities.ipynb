{
 "cells": [
  {
   "cell_type": "markdown",
   "metadata": {},
   "source": [
    "# Aggregating Slice Results"
   ]
  },
  {
   "cell_type": "markdown",
   "metadata": {},
   "source": [
    "In this report, I will explore different ways of aggregating slice classification results, in order to evaluate fibrosis presence in patient, rather than individual slices.\n",
    "\n",
    "This notebook already uses the optimization methods tested in `3.2 - pureVsConservative`:\n",
    "\n",
    " - resize before augmentations \n",
    " - pure lowest validation loss value model choice"
   ]
  },
  {
   "cell_type": "code",
   "execution_count": 24,
   "metadata": {},
   "outputs": [],
   "source": [
    "from sklearn.metrics import f1_score, confusion_matrix, roc_curve, auc\n",
    "from scipy.ndimage import gaussian_filter\n",
    "import torch.nn.functional as F\n",
    "import matplotlib.pyplot as plt\n",
    "import albumentations as A\n",
    "from tqdm import tqdm\n",
    "import pandas as pd\n",
    "import numpy as np\n",
    "import pickle\n",
    "import random\n",
    "import copy\n",
    "import os\n",
    "import re\n",
    "\n",
    "\n",
    "\n",
    "# ------------ Utils ------------\n",
    "\n",
    "from aggregateUtils import * \n",
    "\n",
    "# -----------  ResNet -----------\n",
    "\n",
    "# Core library\n",
    "import torch\n",
    "\n",
    "# Essentials for development\n",
    "import torch.nn as nn\n",
    "from torchsummary import summary\n",
    "import torchvision.models as models\n",
    "from torchvision.models import ResNet18_Weights\n",
    "\n",
    "# Data resize (ResNet uses (224,224) inputs)\n",
    "import torchvision.transforms as transforms\n",
    "import torchvision.transforms.functional as TF\n",
    "from torchvision.transforms import ToTensor\n",
    "\n",
    "# Allows for paralell batch processing\n",
    "from torch.utils.data import DataLoader\n",
    "from torch.utils.data import Dataset\n",
    "from torchvision.io import decode_image"
   ]
  },
  {
   "cell_type": "code",
   "execution_count": 2,
   "metadata": {},
   "outputs": [
    {
     "name": "stdout",
     "output_type": "stream",
     "text": [
      "True\n",
      "NVIDIA GeForce RTX 3070\n",
      "Device 0: NVIDIA GeForce RTX 3070\n"
     ]
    }
   ],
   "source": [
    "print(torch.cuda.is_available())          \n",
    "print(torch.cuda.get_device_name(0))     \n",
    "\n",
    "for i in range(torch.cuda.device_count()):\n",
    "    print(f\"Device {i}: {torch.cuda.get_device_name(i)}\")"
   ]
  },
  {
   "cell_type": "code",
   "execution_count": 3,
   "metadata": {},
   "outputs": [],
   "source": [
    "# Loads the dataframe\n",
    "df_fibrosis = pd.read_pickle(r'..\\..\\..\\\\fibrosis_data.pkl')"
   ]
  },
  {
   "cell_type": "code",
   "execution_count": 4,
   "metadata": {},
   "outputs": [
    {
     "data": {
      "text/html": [
       "<div>\n",
       "<style scoped>\n",
       "    .dataframe tbody tr th:only-of-type {\n",
       "        vertical-align: middle;\n",
       "    }\n",
       "\n",
       "    .dataframe tbody tr th {\n",
       "        vertical-align: top;\n",
       "    }\n",
       "\n",
       "    .dataframe thead th {\n",
       "        text-align: right;\n",
       "    }\n",
       "</style>\n",
       "<table border=\"1\" class=\"dataframe\">\n",
       "  <thead>\n",
       "    <tr style=\"text-align: right;\">\n",
       "      <th></th>\n",
       "      <th>SliceID</th>\n",
       "      <th>Class</th>\n",
       "    </tr>\n",
       "  </thead>\n",
       "  <tbody>\n",
       "    <tr>\n",
       "      <th>0</th>\n",
       "      <td>101__CT-0002-0001.npy</td>\n",
       "      <td>0</td>\n",
       "    </tr>\n",
       "    <tr>\n",
       "      <th>1</th>\n",
       "      <td>101__CT-0002-0002.npy</td>\n",
       "      <td>0</td>\n",
       "    </tr>\n",
       "    <tr>\n",
       "      <th>2</th>\n",
       "      <td>101__CT-0002-0003.npy</td>\n",
       "      <td>0</td>\n",
       "    </tr>\n",
       "    <tr>\n",
       "      <th>3</th>\n",
       "      <td>101__CT-0002-0004.npy</td>\n",
       "      <td>0</td>\n",
       "    </tr>\n",
       "    <tr>\n",
       "      <th>4</th>\n",
       "      <td>101__CT-0002-0005.npy</td>\n",
       "      <td>0</td>\n",
       "    </tr>\n",
       "  </tbody>\n",
       "</table>\n",
       "</div>"
      ],
      "text/plain": [
       "                 SliceID  Class\n",
       "0  101__CT-0002-0001.npy      0\n",
       "1  101__CT-0002-0002.npy      0\n",
       "2  101__CT-0002-0003.npy      0\n",
       "3  101__CT-0002-0004.npy      0\n",
       "4  101__CT-0002-0005.npy      0"
      ]
     },
     "execution_count": 4,
     "metadata": {},
     "output_type": "execute_result"
    }
   ],
   "source": [
    "df_annotations = df_fibrosis.drop(columns=\"SliceData\")\n",
    "df_annotations[\"SliceID\"] = df_annotations[\"SliceID\"].astype(str) + \".npy\" # better for data loader\n",
    "df_annotations.head()"
   ]
  },
  {
   "cell_type": "code",
   "execution_count": 16,
   "metadata": {},
   "outputs": [],
   "source": [
    "class FibrosisDataset(Dataset):\n",
    "    def __init__(self, annotations_file, img_dir, transform=None, target_transform=None, albumentations=None, gauss=False):\n",
    "        self.img_labels = pd.read_csv(annotations_file)\n",
    "        self.img_dir = img_dir\n",
    "        self.transform = transform\n",
    "        self.target_transform = target_transform\n",
    "        self.albumentations = albumentations\n",
    "        self.gauss = gauss\n",
    "\n",
    "    def __len__(self):\n",
    "        return len(self.img_labels)\n",
    "\n",
    "    def __getitem__(self, idx):\n",
    "        # idx represents index\n",
    "        img_path = os.path.join(self.img_dir, self.img_labels.iloc[idx, 0])\n",
    "\n",
    "        # Load the .npy file\n",
    "        image = np.load(img_path)\n",
    "        \n",
    "        #image = read_image(img_path)\n",
    "        label = self.img_labels.iloc[idx, 1]\n",
    "\n",
    "        # Adds randomly selected gauss noise or blur\n",
    "        if self.gauss:\n",
    "            # Gaussian Noise\n",
    "            gauss_noise = image + np.random.normal(loc=0, scale=random.choice(range(10,40)), size=image.shape)\n",
    "            # Gaussian Blur\n",
    "            gauss_blur = gaussian_filter(image, sigma=(random.choice(range(10,16))/10)) \n",
    "            # Random choice\n",
    "            image = random.choice((gauss_noise,gauss_blur))\n",
    "\n",
    "        # Guarantee compatibility\n",
    "        if self.gauss or self.albumentations: image = image.astype(np.float32)\n",
    "\n",
    "        # Applies necessary ResNet input transformations\n",
    "        if self.transform:\n",
    "            image = self.transform(image)\n",
    "        if self.target_transform:\n",
    "            label = self.target_transform(label)\n",
    "        \n",
    "        return image, label"
   ]
  },
  {
   "cell_type": "markdown",
   "metadata": {},
   "source": [
    "All of the train-test-validation splits were previously doccumented and performed in `2 - testSplit`:"
   ]
  },
  {
   "cell_type": "markdown",
   "metadata": {},
   "source": [
    "## Training"
   ]
  },
  {
   "cell_type": "code",
   "execution_count": 13,
   "metadata": {},
   "outputs": [],
   "source": [
    "def trainResNet(train_dataset, val_dataset, num_epochs=90, batch_size=32, lr=5e-7, patience=5, improve_min=0.001):\n",
    "    # New ResNet instance\n",
    "    resnet18 = models.resnet18(weights=ResNet18_Weights.DEFAULT)\n",
    "\n",
    "    # Considers only absolute lowest val_loss value\n",
    "    best_model_pure = copy.deepcopy(resnet18)\n",
    "    best_val_pure, epoch_pure = 10, 0\n",
    "\n",
    "    # Use only 2 output neurons\n",
    "    num_ftrs = resnet18.fc.in_features\n",
    "    resnet18.fc = nn.Linear(num_ftrs, 2)  \n",
    "\n",
    "    # If graphics card is available, uses it\n",
    "    device = torch.device(\"cuda\" if torch.cuda.is_available() else \"cpu\")\n",
    "    resnet18.to(device)\n",
    "\n",
    "    print(\"*\"+(\"-\"*29)+\"*\")\n",
    "    print(\"|{:^29}|\".format(f\"Using {device}\"))\n",
    "    print(\"*\"+(\"-\"*29)+\"*\")\n",
    "\n",
    "    # Generate data loaders\n",
    "    train_loader = DataLoader(train_dataset, batch_size=batch_size, shuffle=True)\n",
    "    val_loader = DataLoader(val_dataset, batch_size=batch_size, shuffle=False)\n",
    "    \n",
    "    # Loss function \n",
    "    criterion = nn.CrossEntropyLoss()  \n",
    "    # ADAM\n",
    "    optimizer = torch.optim.Adam(resnet18.parameters(), lr=lr)\n",
    "\n",
    "    # add learning_rate_scheduler e step learning rate\n",
    "\n",
    "    # Initializing early stop counter (based on validation loss)\n",
    "    best_loss = 10\n",
    "    early_stop_ctr = 0\n",
    "\n",
    "    loss_array = []\n",
    "    val_loss_array = []\n",
    "\n",
    "\n",
    "    for epoch in range(num_epochs):\n",
    "        resnet18.train()\n",
    "        running_loss = 0.0\n",
    "        running_val_loss = 0.0\n",
    "\n",
    "\n",
    "        # --------------- Weight updates ---------------\n",
    "        \n",
    "        # Iterates over each image in dataset, updates weights\n",
    "        for images, labels in tqdm((train_loader), desc = \"Training...\"):\n",
    "            images, labels = images.to(device), labels.to(device)\n",
    "            \n",
    "            # Applies ADAM \n",
    "            optimizer.zero_grad()\n",
    "\n",
    "            # Generates output\n",
    "            outputs = resnet18(images)\n",
    "\n",
    "            # Computes loss\n",
    "            loss = criterion(outputs, labels)\n",
    "            loss.backward()\n",
    "            optimizer.step()\n",
    "            \n",
    "            running_loss += loss.item()\n",
    "\n",
    "        # Computes average training loss\n",
    "        avg_loss_train = running_loss/len(train_loader)\n",
    "        print(f\"Epoch [{epoch+1}/{num_epochs}], Train loss: {avg_loss_train:.6f}\")\n",
    "        loss_array.append(avg_loss_train)\n",
    "\n",
    "\n",
    "        # ---------------- Validation Loss -----------------\n",
    "\n",
    "        # Iterates over each image in dataset, computes validation loss\n",
    "        for images, labels in (val_loader):\n",
    "            images, labels = images.to(device), labels.to(device)\n",
    "            \n",
    "            # Applies ADAM \n",
    "            optimizer.zero_grad()\n",
    "\n",
    "            # Generates output\n",
    "            outputs = resnet18(images)\n",
    "\n",
    "            # Computes loss\n",
    "            val_loss = criterion(outputs, labels)\n",
    "            \n",
    "            running_val_loss += val_loss.item()\n",
    "\n",
    "        # Computes average validation loss\n",
    "        avg_loss_val = running_val_loss/len(val_loader)\n",
    "        print(f\"Validation loss: {avg_loss_val:.6f}\")\n",
    "        val_loss_array.append(avg_loss_val)\n",
    "\n",
    "\n",
    "        # ------------------ Best Model -------------------\n",
    "\n",
    "        if epoch >= 35:\n",
    "            if avg_loss_val < best_val_pure:\n",
    "                best_val_pure = avg_loss_val\n",
    "                best_model_pure = copy.deepcopy(resnet18)\n",
    "                epoch_pure = epoch\n",
    "        \n",
    "        \n",
    "        # ---------------- Early Stopping -----------------\n",
    "\n",
    "        # Only after a high number of epochs (around 60)\n",
    "        if epoch > 60:\n",
    "            # Check for improvement (1% standard)\n",
    "            if abs(best_loss - avg_loss_val) > (best_loss * improve_min):\n",
    "                best_loss = avg_loss_val\n",
    "                early_stop_ctr = 0\n",
    "            else: early_stop_ctr += 1\n",
    "\n",
    "            # Checks early stopping condition\n",
    "            if early_stop_ctr >= patience:\n",
    "                print(f\"Early stopping triggered after {epoch+1} epochs!!!\")\n",
    "                break\n",
    "    \n",
    "    return best_model_pure, epoch_pure, loss_array, val_loss_array"
   ]
  },
  {
   "cell_type": "code",
   "execution_count": 17,
   "metadata": {},
   "outputs": [],
   "source": [
    "# Paths\n",
    "img_dir = r'..\\..\\..\\np_ROI_data'  # CSV with image filenames & labels\n",
    "annotations_file_train = r\"..\\trainTestCustom\\train.csv\"\n",
    "annotations_file_test = r\"..\\trainTestCustom\\test.csv\"\n",
    "annotations_file_val = r\"..\\trainTestCustom\\val.csv\"\n",
    "\n",
    "# Transformations \n",
    "transform = transforms.Compose([\n",
    "    transforms.ToTensor(),\n",
    "    transforms.Resize((224, 224)),  # Resize images to 224x224\n",
    "    transforms.Lambda(lambda x: x.repeat(3, 1, 1)),  # Convert (1, H, W) → (3, H, W)\n",
    "])\n",
    "\n",
    "# Augmentations\n",
    "augment = A.Compose([\n",
    "    # Applies resize prior to augmentations\n",
    "    # Could hinder scan quality, but drastically improves training speed\n",
    "    A.Resize(224, 224),\n",
    "    # Rotate\n",
    "    A.Rotate(limit=(-350,30), p=0.8),\n",
    "    # Translate\n",
    "    A.Affine(translate_percent={\"x\":(-0.15,0.15), \"y\":{-0.23,0.25}},\n",
    "              rotate=0, scale=1, p=0.8),\n",
    "    # Shear\n",
    "    A.Affine(shear={\"x\":(-15,15), \"y\":(-15,15)},p=0.8)\n",
    "])\n",
    "\n",
    "# Randomized Gaussian Noise and Blur\n",
    "gauss = True\n",
    "\n",
    "# Create Datasets\n",
    "train_dataset = FibrosisDataset(annotations_file_train, img_dir=img_dir, transform=transform, albumentations=augment, gauss=gauss)\n",
    "test_dataset = FibrosisDataset(annotations_file_test, img_dir=img_dir, transform=transform)\n",
    "val_dataset = FibrosisDataset(annotations_file_test, img_dir=img_dir, transform=transform)"
   ]
  },
  {
   "cell_type": "code",
   "execution_count": 18,
   "metadata": {},
   "outputs": [
    {
     "name": "stdout",
     "output_type": "stream",
     "text": [
      "*-----------------------------*\n",
      "|         Using cuda          |\n",
      "*-----------------------------*\n"
     ]
    },
    {
     "name": "stderr",
     "output_type": "stream",
     "text": [
      "Training...: 100%|██████████| 55/55 [00:35<00:00,  1.56it/s]\n"
     ]
    },
    {
     "name": "stdout",
     "output_type": "stream",
     "text": [
      "Epoch [1/90], Train loss: 0.753463\n",
      "Validation loss: 0.756661\n"
     ]
    },
    {
     "name": "stderr",
     "output_type": "stream",
     "text": [
      "Training...: 100%|██████████| 55/55 [00:22<00:00,  2.41it/s]\n"
     ]
    },
    {
     "name": "stdout",
     "output_type": "stream",
     "text": [
      "Epoch [2/90], Train loss: 0.723007\n",
      "Validation loss: 0.739000\n"
     ]
    },
    {
     "name": "stderr",
     "output_type": "stream",
     "text": [
      "Training...: 100%|██████████| 55/55 [00:22<00:00,  2.45it/s]\n"
     ]
    },
    {
     "name": "stdout",
     "output_type": "stream",
     "text": [
      "Epoch [3/90], Train loss: 0.698312\n",
      "Validation loss: 0.723169\n"
     ]
    },
    {
     "name": "stderr",
     "output_type": "stream",
     "text": [
      "Training...: 100%|██████████| 55/55 [00:22<00:00,  2.46it/s]\n"
     ]
    },
    {
     "name": "stdout",
     "output_type": "stream",
     "text": [
      "Epoch [4/90], Train loss: 0.677297\n",
      "Validation loss: 0.707858\n"
     ]
    },
    {
     "name": "stderr",
     "output_type": "stream",
     "text": [
      "Training...: 100%|██████████| 55/55 [00:22<00:00,  2.47it/s]\n"
     ]
    },
    {
     "name": "stdout",
     "output_type": "stream",
     "text": [
      "Epoch [5/90], Train loss: 0.655967\n",
      "Validation loss: 0.693338\n"
     ]
    },
    {
     "name": "stderr",
     "output_type": "stream",
     "text": [
      "Training...: 100%|██████████| 55/55 [00:22<00:00,  2.48it/s]\n"
     ]
    },
    {
     "name": "stdout",
     "output_type": "stream",
     "text": [
      "Epoch [6/90], Train loss: 0.636099\n",
      "Validation loss: 0.679677\n"
     ]
    },
    {
     "name": "stderr",
     "output_type": "stream",
     "text": [
      "Training...: 100%|██████████| 55/55 [00:22<00:00,  2.48it/s]\n"
     ]
    },
    {
     "name": "stdout",
     "output_type": "stream",
     "text": [
      "Epoch [7/90], Train loss: 0.619216\n",
      "Validation loss: 0.666608\n"
     ]
    },
    {
     "name": "stderr",
     "output_type": "stream",
     "text": [
      "Training...: 100%|██████████| 55/55 [00:22<00:00,  2.47it/s]\n"
     ]
    },
    {
     "name": "stdout",
     "output_type": "stream",
     "text": [
      "Epoch [8/90], Train loss: 0.602873\n",
      "Validation loss: 0.653919\n"
     ]
    },
    {
     "name": "stderr",
     "output_type": "stream",
     "text": [
      "Training...: 100%|██████████| 55/55 [00:22<00:00,  2.46it/s]\n"
     ]
    },
    {
     "name": "stdout",
     "output_type": "stream",
     "text": [
      "Epoch [9/90], Train loss: 0.584164\n",
      "Validation loss: 0.641757\n"
     ]
    },
    {
     "name": "stderr",
     "output_type": "stream",
     "text": [
      "Training...: 100%|██████████| 55/55 [00:22<00:00,  2.47it/s]\n"
     ]
    },
    {
     "name": "stdout",
     "output_type": "stream",
     "text": [
      "Epoch [10/90], Train loss: 0.569866\n",
      "Validation loss: 0.630161\n"
     ]
    },
    {
     "name": "stderr",
     "output_type": "stream",
     "text": [
      "Training...: 100%|██████████| 55/55 [00:22<00:00,  2.48it/s]\n"
     ]
    },
    {
     "name": "stdout",
     "output_type": "stream",
     "text": [
      "Epoch [11/90], Train loss: 0.553736\n",
      "Validation loss: 0.618901\n"
     ]
    },
    {
     "name": "stderr",
     "output_type": "stream",
     "text": [
      "Training...: 100%|██████████| 55/55 [00:22<00:00,  2.45it/s]\n"
     ]
    },
    {
     "name": "stdout",
     "output_type": "stream",
     "text": [
      "Epoch [12/90], Train loss: 0.534811\n",
      "Validation loss: 0.608119\n"
     ]
    },
    {
     "name": "stderr",
     "output_type": "stream",
     "text": [
      "Training...: 100%|██████████| 55/55 [00:22<00:00,  2.49it/s]\n"
     ]
    },
    {
     "name": "stdout",
     "output_type": "stream",
     "text": [
      "Epoch [13/90], Train loss: 0.523133\n",
      "Validation loss: 0.597855\n"
     ]
    },
    {
     "name": "stderr",
     "output_type": "stream",
     "text": [
      "Training...: 100%|██████████| 55/55 [00:22<00:00,  2.49it/s]\n"
     ]
    },
    {
     "name": "stdout",
     "output_type": "stream",
     "text": [
      "Epoch [14/90], Train loss: 0.504935\n",
      "Validation loss: 0.587506\n"
     ]
    },
    {
     "name": "stderr",
     "output_type": "stream",
     "text": [
      "Training...: 100%|██████████| 55/55 [00:22<00:00,  2.46it/s]\n"
     ]
    },
    {
     "name": "stdout",
     "output_type": "stream",
     "text": [
      "Epoch [15/90], Train loss: 0.497503\n",
      "Validation loss: 0.577677\n"
     ]
    },
    {
     "name": "stderr",
     "output_type": "stream",
     "text": [
      "Training...: 100%|██████████| 55/55 [00:22<00:00,  2.46it/s]\n"
     ]
    },
    {
     "name": "stdout",
     "output_type": "stream",
     "text": [
      "Epoch [16/90], Train loss: 0.480808\n",
      "Validation loss: 0.568311\n"
     ]
    },
    {
     "name": "stderr",
     "output_type": "stream",
     "text": [
      "Training...: 100%|██████████| 55/55 [00:22<00:00,  2.45it/s]\n"
     ]
    },
    {
     "name": "stdout",
     "output_type": "stream",
     "text": [
      "Epoch [17/90], Train loss: 0.465628\n",
      "Validation loss: 0.559331\n"
     ]
    },
    {
     "name": "stderr",
     "output_type": "stream",
     "text": [
      "Training...: 100%|██████████| 55/55 [00:22<00:00,  2.49it/s]\n"
     ]
    },
    {
     "name": "stdout",
     "output_type": "stream",
     "text": [
      "Epoch [18/90], Train loss: 0.457584\n",
      "Validation loss: 0.550745\n"
     ]
    },
    {
     "name": "stderr",
     "output_type": "stream",
     "text": [
      "Training...: 100%|██████████| 55/55 [00:22<00:00,  2.47it/s]\n"
     ]
    },
    {
     "name": "stdout",
     "output_type": "stream",
     "text": [
      "Epoch [19/90], Train loss: 0.443836\n",
      "Validation loss: 0.542212\n"
     ]
    },
    {
     "name": "stderr",
     "output_type": "stream",
     "text": [
      "Training...: 100%|██████████| 55/55 [00:22<00:00,  2.45it/s]\n"
     ]
    },
    {
     "name": "stdout",
     "output_type": "stream",
     "text": [
      "Epoch [20/90], Train loss: 0.433135\n",
      "Validation loss: 0.534030\n"
     ]
    },
    {
     "name": "stderr",
     "output_type": "stream",
     "text": [
      "Training...: 100%|██████████| 55/55 [00:22<00:00,  2.47it/s]\n"
     ]
    },
    {
     "name": "stdout",
     "output_type": "stream",
     "text": [
      "Epoch [21/90], Train loss: 0.422538\n",
      "Validation loss: 0.526265\n"
     ]
    },
    {
     "name": "stderr",
     "output_type": "stream",
     "text": [
      "Training...: 100%|██████████| 55/55 [00:22<00:00,  2.46it/s]\n"
     ]
    },
    {
     "name": "stdout",
     "output_type": "stream",
     "text": [
      "Epoch [22/90], Train loss: 0.411349\n",
      "Validation loss: 0.518724\n"
     ]
    },
    {
     "name": "stderr",
     "output_type": "stream",
     "text": [
      "Training...: 100%|██████████| 55/55 [00:22<00:00,  2.47it/s]\n"
     ]
    },
    {
     "name": "stdout",
     "output_type": "stream",
     "text": [
      "Epoch [23/90], Train loss: 0.405325\n",
      "Validation loss: 0.511822\n"
     ]
    },
    {
     "name": "stderr",
     "output_type": "stream",
     "text": [
      "Training...: 100%|██████████| 55/55 [00:22<00:00,  2.45it/s]\n"
     ]
    },
    {
     "name": "stdout",
     "output_type": "stream",
     "text": [
      "Epoch [24/90], Train loss: 0.389632\n",
      "Validation loss: 0.505656\n"
     ]
    },
    {
     "name": "stderr",
     "output_type": "stream",
     "text": [
      "Training...: 100%|██████████| 55/55 [00:22<00:00,  2.44it/s]\n"
     ]
    },
    {
     "name": "stdout",
     "output_type": "stream",
     "text": [
      "Epoch [25/90], Train loss: 0.385034\n",
      "Validation loss: 0.499299\n"
     ]
    },
    {
     "name": "stderr",
     "output_type": "stream",
     "text": [
      "Training...: 100%|██████████| 55/55 [00:22<00:00,  2.46it/s]\n"
     ]
    },
    {
     "name": "stdout",
     "output_type": "stream",
     "text": [
      "Epoch [26/90], Train loss: 0.374167\n",
      "Validation loss: 0.492792\n"
     ]
    },
    {
     "name": "stderr",
     "output_type": "stream",
     "text": [
      "Training...: 100%|██████████| 55/55 [00:22<00:00,  2.46it/s]\n"
     ]
    },
    {
     "name": "stdout",
     "output_type": "stream",
     "text": [
      "Epoch [27/90], Train loss: 0.362210\n",
      "Validation loss: 0.486517\n"
     ]
    },
    {
     "name": "stderr",
     "output_type": "stream",
     "text": [
      "Training...: 100%|██████████| 55/55 [00:22<00:00,  2.44it/s]\n"
     ]
    },
    {
     "name": "stdout",
     "output_type": "stream",
     "text": [
      "Epoch [28/90], Train loss: 0.355164\n",
      "Validation loss: 0.480906\n"
     ]
    },
    {
     "name": "stderr",
     "output_type": "stream",
     "text": [
      "Training...: 100%|██████████| 55/55 [00:23<00:00,  2.37it/s]\n"
     ]
    },
    {
     "name": "stdout",
     "output_type": "stream",
     "text": [
      "Epoch [29/90], Train loss: 0.348617\n",
      "Validation loss: 0.475115\n"
     ]
    },
    {
     "name": "stderr",
     "output_type": "stream",
     "text": [
      "Training...: 100%|██████████| 55/55 [00:23<00:00,  2.34it/s]\n"
     ]
    },
    {
     "name": "stdout",
     "output_type": "stream",
     "text": [
      "Epoch [30/90], Train loss: 0.341426\n",
      "Validation loss: 0.469466\n"
     ]
    },
    {
     "name": "stderr",
     "output_type": "stream",
     "text": [
      "Training...: 100%|██████████| 55/55 [00:22<00:00,  2.40it/s]\n"
     ]
    },
    {
     "name": "stdout",
     "output_type": "stream",
     "text": [
      "Epoch [31/90], Train loss: 0.332706\n",
      "Validation loss: 0.464144\n"
     ]
    },
    {
     "name": "stderr",
     "output_type": "stream",
     "text": [
      "Training...: 100%|██████████| 55/55 [00:23<00:00,  2.38it/s]\n"
     ]
    },
    {
     "name": "stdout",
     "output_type": "stream",
     "text": [
      "Epoch [32/90], Train loss: 0.324387\n",
      "Validation loss: 0.458604\n"
     ]
    },
    {
     "name": "stderr",
     "output_type": "stream",
     "text": [
      "Training...: 100%|██████████| 55/55 [00:22<00:00,  2.47it/s]\n"
     ]
    },
    {
     "name": "stdout",
     "output_type": "stream",
     "text": [
      "Epoch [33/90], Train loss: 0.319977\n",
      "Validation loss: 0.453931\n"
     ]
    },
    {
     "name": "stderr",
     "output_type": "stream",
     "text": [
      "Training...: 100%|██████████| 55/55 [00:22<00:00,  2.48it/s]\n"
     ]
    },
    {
     "name": "stdout",
     "output_type": "stream",
     "text": [
      "Epoch [34/90], Train loss: 0.312000\n",
      "Validation loss: 0.448902\n"
     ]
    },
    {
     "name": "stderr",
     "output_type": "stream",
     "text": [
      "Training...: 100%|██████████| 55/55 [00:22<00:00,  2.44it/s]\n"
     ]
    },
    {
     "name": "stdout",
     "output_type": "stream",
     "text": [
      "Epoch [35/90], Train loss: 0.304367\n",
      "Validation loss: 0.444373\n"
     ]
    },
    {
     "name": "stderr",
     "output_type": "stream",
     "text": [
      "Training...: 100%|██████████| 55/55 [00:22<00:00,  2.40it/s]\n"
     ]
    },
    {
     "name": "stdout",
     "output_type": "stream",
     "text": [
      "Epoch [36/90], Train loss: 0.296151\n",
      "Validation loss: 0.439879\n"
     ]
    },
    {
     "name": "stderr",
     "output_type": "stream",
     "text": [
      "Training...: 100%|██████████| 55/55 [00:22<00:00,  2.41it/s]\n"
     ]
    },
    {
     "name": "stdout",
     "output_type": "stream",
     "text": [
      "Epoch [37/90], Train loss: 0.291656\n",
      "Validation loss: 0.435487\n"
     ]
    },
    {
     "name": "stderr",
     "output_type": "stream",
     "text": [
      "Training...: 100%|██████████| 55/55 [00:22<00:00,  2.47it/s]\n"
     ]
    },
    {
     "name": "stdout",
     "output_type": "stream",
     "text": [
      "Epoch [38/90], Train loss: 0.283719\n",
      "Validation loss: 0.431223\n"
     ]
    },
    {
     "name": "stderr",
     "output_type": "stream",
     "text": [
      "Training...: 100%|██████████| 55/55 [00:23<00:00,  2.38it/s]\n"
     ]
    },
    {
     "name": "stdout",
     "output_type": "stream",
     "text": [
      "Epoch [39/90], Train loss: 0.278563\n",
      "Validation loss: 0.427543\n"
     ]
    },
    {
     "name": "stderr",
     "output_type": "stream",
     "text": [
      "Training...: 100%|██████████| 55/55 [00:25<00:00,  2.19it/s]\n"
     ]
    },
    {
     "name": "stdout",
     "output_type": "stream",
     "text": [
      "Epoch [40/90], Train loss: 0.270081\n",
      "Validation loss: 0.423945\n"
     ]
    },
    {
     "name": "stderr",
     "output_type": "stream",
     "text": [
      "Training...: 100%|██████████| 55/55 [00:25<00:00,  2.17it/s]\n"
     ]
    },
    {
     "name": "stdout",
     "output_type": "stream",
     "text": [
      "Epoch [41/90], Train loss: 0.266523\n",
      "Validation loss: 0.420446\n"
     ]
    },
    {
     "name": "stderr",
     "output_type": "stream",
     "text": [
      "Training...: 100%|██████████| 55/55 [00:25<00:00,  2.17it/s]\n"
     ]
    },
    {
     "name": "stdout",
     "output_type": "stream",
     "text": [
      "Epoch [42/90], Train loss: 0.262157\n",
      "Validation loss: 0.416646\n"
     ]
    },
    {
     "name": "stderr",
     "output_type": "stream",
     "text": [
      "Training...: 100%|██████████| 55/55 [00:25<00:00,  2.16it/s]\n"
     ]
    },
    {
     "name": "stdout",
     "output_type": "stream",
     "text": [
      "Epoch [43/90], Train loss: 0.257118\n",
      "Validation loss: 0.413429\n"
     ]
    },
    {
     "name": "stderr",
     "output_type": "stream",
     "text": [
      "Training...: 100%|██████████| 55/55 [00:24<00:00,  2.28it/s]\n"
     ]
    },
    {
     "name": "stdout",
     "output_type": "stream",
     "text": [
      "Epoch [44/90], Train loss: 0.246162\n",
      "Validation loss: 0.410603\n"
     ]
    },
    {
     "name": "stderr",
     "output_type": "stream",
     "text": [
      "Training...: 100%|██████████| 55/55 [00:23<00:00,  2.35it/s]\n"
     ]
    },
    {
     "name": "stdout",
     "output_type": "stream",
     "text": [
      "Epoch [45/90], Train loss: 0.244478\n",
      "Validation loss: 0.407479\n"
     ]
    },
    {
     "name": "stderr",
     "output_type": "stream",
     "text": [
      "Training...: 100%|██████████| 55/55 [00:23<00:00,  2.37it/s]\n"
     ]
    },
    {
     "name": "stdout",
     "output_type": "stream",
     "text": [
      "Epoch [46/90], Train loss: 0.241723\n",
      "Validation loss: 0.404404\n"
     ]
    },
    {
     "name": "stderr",
     "output_type": "stream",
     "text": [
      "Training...: 100%|██████████| 55/55 [00:22<00:00,  2.41it/s]\n"
     ]
    },
    {
     "name": "stdout",
     "output_type": "stream",
     "text": [
      "Epoch [47/90], Train loss: 0.238634\n",
      "Validation loss: 0.401491\n"
     ]
    },
    {
     "name": "stderr",
     "output_type": "stream",
     "text": [
      "Training...: 100%|██████████| 55/55 [00:24<00:00,  2.28it/s]\n"
     ]
    },
    {
     "name": "stdout",
     "output_type": "stream",
     "text": [
      "Epoch [48/90], Train loss: 0.233579\n",
      "Validation loss: 0.398582\n"
     ]
    },
    {
     "name": "stderr",
     "output_type": "stream",
     "text": [
      "Training...: 100%|██████████| 55/55 [00:22<00:00,  2.44it/s]\n"
     ]
    },
    {
     "name": "stdout",
     "output_type": "stream",
     "text": [
      "Epoch [49/90], Train loss: 0.229131\n",
      "Validation loss: 0.395735\n"
     ]
    },
    {
     "name": "stderr",
     "output_type": "stream",
     "text": [
      "Training...: 100%|██████████| 55/55 [00:22<00:00,  2.45it/s]\n"
     ]
    },
    {
     "name": "stdout",
     "output_type": "stream",
     "text": [
      "Epoch [50/90], Train loss: 0.227354\n",
      "Validation loss: 0.393796\n"
     ]
    },
    {
     "name": "stderr",
     "output_type": "stream",
     "text": [
      "Training...: 100%|██████████| 55/55 [00:22<00:00,  2.45it/s]\n"
     ]
    },
    {
     "name": "stdout",
     "output_type": "stream",
     "text": [
      "Epoch [51/90], Train loss: 0.217397\n",
      "Validation loss: 0.391286\n"
     ]
    },
    {
     "name": "stderr",
     "output_type": "stream",
     "text": [
      "Training...: 100%|██████████| 55/55 [00:22<00:00,  2.47it/s]\n"
     ]
    },
    {
     "name": "stdout",
     "output_type": "stream",
     "text": [
      "Epoch [52/90], Train loss: 0.216814\n",
      "Validation loss: 0.389012\n"
     ]
    },
    {
     "name": "stderr",
     "output_type": "stream",
     "text": [
      "Training...: 100%|██████████| 55/55 [00:22<00:00,  2.48it/s]\n"
     ]
    },
    {
     "name": "stdout",
     "output_type": "stream",
     "text": [
      "Epoch [53/90], Train loss: 0.210481\n",
      "Validation loss: 0.386463\n"
     ]
    },
    {
     "name": "stderr",
     "output_type": "stream",
     "text": [
      "Training...: 100%|██████████| 55/55 [00:22<00:00,  2.48it/s]\n"
     ]
    },
    {
     "name": "stdout",
     "output_type": "stream",
     "text": [
      "Epoch [54/90], Train loss: 0.201803\n",
      "Validation loss: 0.384423\n"
     ]
    },
    {
     "name": "stderr",
     "output_type": "stream",
     "text": [
      "Training...: 100%|██████████| 55/55 [00:22<00:00,  2.48it/s]\n"
     ]
    },
    {
     "name": "stdout",
     "output_type": "stream",
     "text": [
      "Epoch [55/90], Train loss: 0.205688\n",
      "Validation loss: 0.382333\n"
     ]
    },
    {
     "name": "stderr",
     "output_type": "stream",
     "text": [
      "Training...: 100%|██████████| 55/55 [00:22<00:00,  2.48it/s]\n"
     ]
    },
    {
     "name": "stdout",
     "output_type": "stream",
     "text": [
      "Epoch [56/90], Train loss: 0.197191\n",
      "Validation loss: 0.380214\n"
     ]
    },
    {
     "name": "stderr",
     "output_type": "stream",
     "text": [
      "Training...: 100%|██████████| 55/55 [00:23<00:00,  2.39it/s]\n"
     ]
    },
    {
     "name": "stdout",
     "output_type": "stream",
     "text": [
      "Epoch [57/90], Train loss: 0.198366\n",
      "Validation loss: 0.378636\n"
     ]
    },
    {
     "name": "stderr",
     "output_type": "stream",
     "text": [
      "Training...: 100%|██████████| 55/55 [00:23<00:00,  2.38it/s]\n"
     ]
    },
    {
     "name": "stdout",
     "output_type": "stream",
     "text": [
      "Epoch [58/90], Train loss: 0.192310\n",
      "Validation loss: 0.376757\n"
     ]
    },
    {
     "name": "stderr",
     "output_type": "stream",
     "text": [
      "Training...: 100%|██████████| 55/55 [00:22<00:00,  2.45it/s]\n"
     ]
    },
    {
     "name": "stdout",
     "output_type": "stream",
     "text": [
      "Epoch [59/90], Train loss: 0.196924\n",
      "Validation loss: 0.375565\n"
     ]
    },
    {
     "name": "stderr",
     "output_type": "stream",
     "text": [
      "Training...: 100%|██████████| 55/55 [00:22<00:00,  2.46it/s]\n"
     ]
    },
    {
     "name": "stdout",
     "output_type": "stream",
     "text": [
      "Epoch [60/90], Train loss: 0.187467\n",
      "Validation loss: 0.373880\n"
     ]
    },
    {
     "name": "stderr",
     "output_type": "stream",
     "text": [
      "Training...: 100%|██████████| 55/55 [00:22<00:00,  2.49it/s]\n"
     ]
    },
    {
     "name": "stdout",
     "output_type": "stream",
     "text": [
      "Epoch [61/90], Train loss: 0.184986\n",
      "Validation loss: 0.372893\n"
     ]
    },
    {
     "name": "stderr",
     "output_type": "stream",
     "text": [
      "Training...: 100%|██████████| 55/55 [00:22<00:00,  2.44it/s]\n"
     ]
    },
    {
     "name": "stdout",
     "output_type": "stream",
     "text": [
      "Epoch [62/90], Train loss: 0.179276\n",
      "Validation loss: 0.371456\n"
     ]
    },
    {
     "name": "stderr",
     "output_type": "stream",
     "text": [
      "Training...: 100%|██████████| 55/55 [00:22<00:00,  2.46it/s]\n"
     ]
    },
    {
     "name": "stdout",
     "output_type": "stream",
     "text": [
      "Epoch [63/90], Train loss: 0.175467\n",
      "Validation loss: 0.370445\n"
     ]
    },
    {
     "name": "stderr",
     "output_type": "stream",
     "text": [
      "Training...: 100%|██████████| 55/55 [00:22<00:00,  2.48it/s]\n"
     ]
    },
    {
     "name": "stdout",
     "output_type": "stream",
     "text": [
      "Epoch [64/90], Train loss: 0.169949\n",
      "Validation loss: 0.368860\n"
     ]
    },
    {
     "name": "stderr",
     "output_type": "stream",
     "text": [
      "Training...: 100%|██████████| 55/55 [00:22<00:00,  2.48it/s]\n"
     ]
    },
    {
     "name": "stdout",
     "output_type": "stream",
     "text": [
      "Epoch [65/90], Train loss: 0.164292\n",
      "Validation loss: 0.367903\n"
     ]
    },
    {
     "name": "stderr",
     "output_type": "stream",
     "text": [
      "Training...: 100%|██████████| 55/55 [00:22<00:00,  2.48it/s]\n"
     ]
    },
    {
     "name": "stdout",
     "output_type": "stream",
     "text": [
      "Epoch [66/90], Train loss: 0.172254\n",
      "Validation loss: 0.366683\n"
     ]
    },
    {
     "name": "stderr",
     "output_type": "stream",
     "text": [
      "Training...: 100%|██████████| 55/55 [00:22<00:00,  2.48it/s]\n"
     ]
    },
    {
     "name": "stdout",
     "output_type": "stream",
     "text": [
      "Epoch [67/90], Train loss: 0.164628\n",
      "Validation loss: 0.365720\n"
     ]
    },
    {
     "name": "stderr",
     "output_type": "stream",
     "text": [
      "Training...: 100%|██████████| 55/55 [00:22<00:00,  2.48it/s]\n"
     ]
    },
    {
     "name": "stdout",
     "output_type": "stream",
     "text": [
      "Epoch [68/90], Train loss: 0.162000\n",
      "Validation loss: 0.364767\n"
     ]
    },
    {
     "name": "stderr",
     "output_type": "stream",
     "text": [
      "Training...: 100%|██████████| 55/55 [00:22<00:00,  2.50it/s]\n"
     ]
    },
    {
     "name": "stdout",
     "output_type": "stream",
     "text": [
      "Epoch [69/90], Train loss: 0.161643\n",
      "Validation loss: 0.363213\n"
     ]
    },
    {
     "name": "stderr",
     "output_type": "stream",
     "text": [
      "Training...: 100%|██████████| 55/55 [00:22<00:00,  2.48it/s]\n"
     ]
    },
    {
     "name": "stdout",
     "output_type": "stream",
     "text": [
      "Epoch [70/90], Train loss: 0.158931\n",
      "Validation loss: 0.362221\n"
     ]
    },
    {
     "name": "stderr",
     "output_type": "stream",
     "text": [
      "Training...: 100%|██████████| 55/55 [00:22<00:00,  2.49it/s]\n"
     ]
    },
    {
     "name": "stdout",
     "output_type": "stream",
     "text": [
      "Epoch [71/90], Train loss: 0.157460\n",
      "Validation loss: 0.361350\n"
     ]
    },
    {
     "name": "stderr",
     "output_type": "stream",
     "text": [
      "Training...: 100%|██████████| 55/55 [00:22<00:00,  2.47it/s]\n"
     ]
    },
    {
     "name": "stdout",
     "output_type": "stream",
     "text": [
      "Epoch [72/90], Train loss: 0.148641\n",
      "Validation loss: 0.360757\n"
     ]
    },
    {
     "name": "stderr",
     "output_type": "stream",
     "text": [
      "Training...: 100%|██████████| 55/55 [00:22<00:00,  2.46it/s]\n"
     ]
    },
    {
     "name": "stdout",
     "output_type": "stream",
     "text": [
      "Epoch [73/90], Train loss: 0.149947\n",
      "Validation loss: 0.360019\n"
     ]
    },
    {
     "name": "stderr",
     "output_type": "stream",
     "text": [
      "Training...: 100%|██████████| 55/55 [00:22<00:00,  2.49it/s]\n"
     ]
    },
    {
     "name": "stdout",
     "output_type": "stream",
     "text": [
      "Epoch [74/90], Train loss: 0.139645\n",
      "Validation loss: 0.359474\n"
     ]
    },
    {
     "name": "stderr",
     "output_type": "stream",
     "text": [
      "Training...: 100%|██████████| 55/55 [00:22<00:00,  2.48it/s]\n"
     ]
    },
    {
     "name": "stdout",
     "output_type": "stream",
     "text": [
      "Epoch [75/90], Train loss: 0.138915\n",
      "Validation loss: 0.359094\n"
     ]
    },
    {
     "name": "stderr",
     "output_type": "stream",
     "text": [
      "Training...: 100%|██████████| 55/55 [00:22<00:00,  2.49it/s]\n"
     ]
    },
    {
     "name": "stdout",
     "output_type": "stream",
     "text": [
      "Epoch [76/90], Train loss: 0.139147\n",
      "Validation loss: 0.358314\n"
     ]
    },
    {
     "name": "stderr",
     "output_type": "stream",
     "text": [
      "Training...: 100%|██████████| 55/55 [00:22<00:00,  2.48it/s]\n"
     ]
    },
    {
     "name": "stdout",
     "output_type": "stream",
     "text": [
      "Epoch [77/90], Train loss: 0.135299\n",
      "Validation loss: 0.357409\n"
     ]
    },
    {
     "name": "stderr",
     "output_type": "stream",
     "text": [
      "Training...: 100%|██████████| 55/55 [00:22<00:00,  2.48it/s]\n"
     ]
    },
    {
     "name": "stdout",
     "output_type": "stream",
     "text": [
      "Epoch [78/90], Train loss: 0.133262\n",
      "Validation loss: 0.356823\n"
     ]
    },
    {
     "name": "stderr",
     "output_type": "stream",
     "text": [
      "Training...: 100%|██████████| 55/55 [00:22<00:00,  2.47it/s]\n"
     ]
    },
    {
     "name": "stdout",
     "output_type": "stream",
     "text": [
      "Epoch [79/90], Train loss: 0.132036\n",
      "Validation loss: 0.356728\n"
     ]
    },
    {
     "name": "stderr",
     "output_type": "stream",
     "text": [
      "Training...: 100%|██████████| 55/55 [00:22<00:00,  2.46it/s]\n"
     ]
    },
    {
     "name": "stdout",
     "output_type": "stream",
     "text": [
      "Epoch [80/90], Train loss: 0.133547\n",
      "Validation loss: 0.355952\n"
     ]
    },
    {
     "name": "stderr",
     "output_type": "stream",
     "text": [
      "Training...: 100%|██████████| 55/55 [00:22<00:00,  2.47it/s]\n"
     ]
    },
    {
     "name": "stdout",
     "output_type": "stream",
     "text": [
      "Epoch [81/90], Train loss: 0.128165\n",
      "Validation loss: 0.355303\n"
     ]
    },
    {
     "name": "stderr",
     "output_type": "stream",
     "text": [
      "Training...: 100%|██████████| 55/55 [00:22<00:00,  2.47it/s]\n"
     ]
    },
    {
     "name": "stdout",
     "output_type": "stream",
     "text": [
      "Epoch [82/90], Train loss: 0.128107\n",
      "Validation loss: 0.355151\n"
     ]
    },
    {
     "name": "stderr",
     "output_type": "stream",
     "text": [
      "Training...: 100%|██████████| 55/55 [00:24<00:00,  2.28it/s]\n"
     ]
    },
    {
     "name": "stdout",
     "output_type": "stream",
     "text": [
      "Epoch [83/90], Train loss: 0.125728\n",
      "Validation loss: 0.355246\n"
     ]
    },
    {
     "name": "stderr",
     "output_type": "stream",
     "text": [
      "Training...: 100%|██████████| 55/55 [00:22<00:00,  2.44it/s]\n"
     ]
    },
    {
     "name": "stdout",
     "output_type": "stream",
     "text": [
      "Epoch [84/90], Train loss: 0.125155\n",
      "Validation loss: 0.354529\n"
     ]
    },
    {
     "name": "stderr",
     "output_type": "stream",
     "text": [
      "Training...: 100%|██████████| 55/55 [00:22<00:00,  2.46it/s]\n"
     ]
    },
    {
     "name": "stdout",
     "output_type": "stream",
     "text": [
      "Epoch [85/90], Train loss: 0.157305\n",
      "Validation loss: 0.354530\n"
     ]
    },
    {
     "name": "stderr",
     "output_type": "stream",
     "text": [
      "Training...: 100%|██████████| 55/55 [00:23<00:00,  2.36it/s]\n"
     ]
    },
    {
     "name": "stdout",
     "output_type": "stream",
     "text": [
      "Epoch [86/90], Train loss: 0.120046\n",
      "Validation loss: 0.354548\n"
     ]
    },
    {
     "name": "stderr",
     "output_type": "stream",
     "text": [
      "Training...: 100%|██████████| 55/55 [00:23<00:00,  2.34it/s]\n"
     ]
    },
    {
     "name": "stdout",
     "output_type": "stream",
     "text": [
      "Epoch [87/90], Train loss: 0.118028\n",
      "Validation loss: 0.354021\n"
     ]
    },
    {
     "name": "stderr",
     "output_type": "stream",
     "text": [
      "Training...: 100%|██████████| 55/55 [00:22<00:00,  2.43it/s]\n"
     ]
    },
    {
     "name": "stdout",
     "output_type": "stream",
     "text": [
      "Epoch [88/90], Train loss: 0.116769\n",
      "Validation loss: 0.353846\n"
     ]
    },
    {
     "name": "stderr",
     "output_type": "stream",
     "text": [
      "Training...: 100%|██████████| 55/55 [00:22<00:00,  2.42it/s]\n"
     ]
    },
    {
     "name": "stdout",
     "output_type": "stream",
     "text": [
      "Epoch [89/90], Train loss: 0.121810\n",
      "Validation loss: 0.353581\n"
     ]
    },
    {
     "name": "stderr",
     "output_type": "stream",
     "text": [
      "Training...: 100%|██████████| 55/55 [00:22<00:00,  2.41it/s]\n"
     ]
    },
    {
     "name": "stdout",
     "output_type": "stream",
     "text": [
      "Epoch [90/90], Train loss: 0.107191\n",
      "Validation loss: 0.353046\n"
     ]
    }
   ],
   "source": [
    "models_path = \"..\\\\..\\\\..\\\\trainedResNets\\\\aggregateProb\\\\\"\n",
    "os.makedirs(models_path, exist_ok=True)\n",
    "\n",
    "ans = str(input(\"Do you wish to run or read?\"))\n",
    "\n",
    "# Choice execution\n",
    "if ans == \"run\": \n",
    "    resnet_eval, best_epoch, custom_loss, custom_val_loss = trainResNet(train_dataset,val_dataset)\n",
    "\n",
    "elif ans == \"read\":\n",
    "    # Read from images\n",
    "    pass\n",
    "\n",
    "    \n",
    "else: print(\"Invalid answer, try again.\")"
   ]
  },
  {
   "cell_type": "code",
   "execution_count": 19,
   "metadata": {},
   "outputs": [],
   "source": [
    "ans = str(input(\"Do you wish to save?\"))\n",
    "\n",
    "if ans == \"yes\": \n",
    "    torch.save({\n",
    "    'model_state_dict': resnet_eval.state_dict(),\n",
    "    'epoch': best_epoch,\n",
    "    'train_loss': custom_loss,\n",
    "    'val_loss': custom_val_loss\n",
    "}, os.path.join(models_path, 'resnet_aggregate.pt'))\n",
    "\n",
    "else: print(\"DID NOT SAVE\")"
   ]
  },
  {
   "cell_type": "markdown",
   "metadata": {},
   "source": [
    "# Results and Aggregation Methods"
   ]
  },
  {
   "cell_type": "code",
   "execution_count": 21,
   "metadata": {},
   "outputs": [
    {
     "data": {
      "image/png": "[encoded data removed]",
      "text/plain": [
       "<Figure size 640x480 with 1 Axes>"
      ]
     },
     "metadata": {},
     "output_type": "display_data"
    },
    {
     "name": "stdout",
     "output_type": "stream",
     "text": [
      "Best Validation Loss:  0.3530456679207938\n"
     ]
    }
   ],
   "source": [
    "plotLoss(custom_loss, custom_val_loss, best_epoch)\n",
    "print(\"Best Validation Loss: \",custom_val_loss[best_epoch])"
   ]
  },
  {
   "cell_type": "code",
   "execution_count": 22,
   "metadata": {},
   "outputs": [
    {
     "data": {
      "image/png": "[encoded data removed]",
      "text/plain": [
       "<Figure size 640x480 with 1 Axes>"
      ]
     },
     "metadata": {},
     "output_type": "display_data"
    },
    {
     "name": "stdout",
     "output_type": "stream",
     "text": [
      "Area Under Curve: 0.7763661059450424\n",
      "Best Threshold (closest to (0,1)): 0.15306047\n"
     ]
    }
   ],
   "source": [
    "threshold_eval, auc_eval = getROC(resnet_eval, val_dataset)"
   ]
  },
  {
   "cell_type": "code",
   "execution_count": 26,
   "metadata": {},
   "outputs": [],
   "source": [
    "def evalResNet(resnet18, test_dataset, threshold, auc):\n",
    "    device = torch.device(\"cuda\" if torch.cuda.is_available() else \"cpu\")\n",
    "    test_loader = DataLoader(test_dataset, batch_size=32, shuffle=False)\n",
    "\n",
    "    # Counters for each class\n",
    "    correct, total = 0, 0\n",
    "    correct_class_0, total_class_0 = 0, 0\n",
    "    correct_class_1, total_class_1 = 0, 0\n",
    "\n",
    "    # Needed for F1 score and confusion matrix\n",
    "    y_true = []\n",
    "    y_pred = []\n",
    "\n",
    "\n",
    "    with torch.no_grad():\n",
    "        for images, labels in test_loader:\n",
    "            images, labels = images.to(device), labels.to(device)\n",
    "\n",
    "            # Transform outputs to probabilities\n",
    "            outputs = resnet18(images)\n",
    "\n",
    "            # Translate logits to Class 1 probabilities using softmax\n",
    "            probs = F.softmax(outputs, dim=1)[:, 1] \n",
    "\n",
    "            # Translate prob vs threshold to predictions\n",
    "            # True if prob >= threshold else False\n",
    "            # .long() transforms True/False to 1/0\n",
    "            predicted = (probs >= threshold).long()\n",
    "            \n",
    "            # Update total and correct for general accuracy\n",
    "            total += labels.size(0)\n",
    "\n",
    "            correct += (predicted == labels).sum().item()\n",
    "\n",
    "            # Class-specific accuracy\n",
    "            for label, pred in zip(labels, predicted):\n",
    "                if label == 0:\n",
    "                    total_class_0 += 1\n",
    "                    if pred == label:\n",
    "                        correct_class_0 += 1\n",
    "                elif label == 1:\n",
    "                    total_class_1 += 1\n",
    "                    if pred == label:\n",
    "                        correct_class_1 += 1\n",
    "\n",
    "            # Add data to lists\n",
    "            y_true.extend(labels.cpu().tolist())\n",
    "            y_pred.extend(predicted.cpu().tolist())\n",
    "\n",
    "\n",
    "\n",
    "    # Weights == inverse proportions\n",
    "    weight_0, weight_1 = 0.133, 0.867\n",
    "\n",
    "    print(\"Total examples:\", total)\n",
    "\n",
    "    # -------------------------------     Perfomance Metrics     -------------------------------\n",
    "\n",
    "    # Accuracy\n",
    "    accuracy_class_0 = 100 * (correct_class_0 / total_class_0) if total_class_0 > 0 else 0\n",
    "    accuracy_class_1 = 100 * (correct_class_1 / total_class_1) if total_class_1 > 0 else 0\n",
    "    accuracy = 100 * (correct / total)\n",
    "    accuracy2 = 100 * ((correct_class_0 + correct_class_1) / total)\n",
    "    weighted_accuracy = ((accuracy_class_0*weight_0) + (accuracy_class_1*weight_1))\n",
    "\n",
    "    # F1 scores\n",
    "    f1_macro = f1_score(y_true, y_pred, average='macro') # Assigns same importance to each class\n",
    "    f1_weighted = f1_score(y_true, y_pred, average='weighted')\n",
    "    f1_class_0 = f1_score(y_true, y_pred, pos_label=0)\n",
    "    f1_class_1 = f1_score(y_true, y_pred, pos_label=1)\n",
    "\n",
    "    # Confusion Matrix\n",
    "    conf_mat = confusion_matrix(y_true, y_pred)\n",
    "\n",
    "\n",
    "    # -------------------------------     Print Results     -------------------------------\n",
    "\n",
    "    # Accuracy\n",
    "    print(\"\\n --------------------- \\n\")\n",
    "    print(f\"Accuracy for Class 0: {accuracy_class_0:.2f}%  ({correct_class_0} in {total_class_0})\")\n",
    "    print(f\"Accuracy for Class 1: {accuracy_class_1:.2f}%  ({correct_class_1} in {total_class_1})\")\n",
    "    print(f\"Test Accuracy: {accuracy:.2f}%\")\n",
    "    if f\"{accuracy:.2f}\" != f\"{accuracy2:.2f}\": print(\"ERROR CALCULATING ACCURACIES\")\n",
    "    print(f\"Weighted Accuracy: {weighted_accuracy:.2f}%\")\n",
    "\n",
    "    # AUC\n",
    "    print(\"\\n --------------------- \\n\")\n",
    "    print(\"Area Under Curve:\", auc)\n",
    "\n",
    "    # F1 scores\n",
    "    print(\"\\n --------------------- \\n\")\n",
    "    print(f\"F1 Score (Macro): {f1_macro:.3f}\")\n",
    "    print(f\"F1 Score (Weighted): {f1_weighted:.3f}\")\n",
    "    print(f\"F1 Score Class 0: {f1_class_0:.3f}\")\n",
    "    print(f\"F1 Score Class 1: {f1_class_1:.3f}\")\n",
    "\n",
    "    # Confusion matrix\n",
    "    print(\"\\n --------------------- \\n\")\n",
    "    print(\"\\nConfusion Matrix: \\n\", conf_mat)"
   ]
  },
  {
   "cell_type": "code",
   "execution_count": 27,
   "metadata": {},
   "outputs": [
    {
     "name": "stdout",
     "output_type": "stream",
     "text": [
      "Total examples: 648\n",
      "\n",
      " --------------------- \n",
      "\n",
      "Accuracy for Class 0: 72.65%  (409 in 563)\n",
      "Accuracy for Class 1: 71.76%  (61 in 85)\n",
      "Test Accuracy: 72.53%\n",
      "Weighted Accuracy: 71.88%\n",
      "\n",
      " --------------------- \n",
      "\n",
      "Area Under Curve: 0.7763661059450424\n",
      "\n",
      " --------------------- \n",
      "\n",
      "F1 Score (Macro): 0.614\n",
      "F1 Score (Weighted): 0.767\n",
      "F1 Score Class 0: 0.821\n",
      "F1 Score Class 1: 0.407\n",
      "\n",
      " --------------------- \n",
      "\n",
      "\n",
      "Confusion Matrix: \n",
      " [[409 154]\n",
      " [ 24  61]]\n"
     ]
    }
   ],
   "source": [
    "evalResNet(resnet_eval, test_dataset,threshold_eval,auc_eval)"
   ]
  },
  {
   "cell_type": "markdown",
   "metadata": {},
   "source": [
    "## Patient-wise Classification"
   ]
  },
  {
   "cell_type": "markdown",
   "metadata": {},
   "source": [
    "This will be done through aggregation of the probabilities determined by the resnet for each slice.\n",
    "\n",
    "My plan is to create:\n",
    " - a dictionary containing keys as \"PatientID\" and values as arrays of probabilities. \n",
    " - another dictionary containing the same keys, but with binary classification value arrays."
   ]
  },
  {
   "cell_type": "code",
   "execution_count": null,
   "metadata": {},
   "outputs": [],
   "source": [
    "def getPatientID(s):\n",
    "    # HRCT_Pilot__PatientID\n",
    "    match = re.search(r'HRCT_Pilot__(\\d+)__', s)\n",
    "    if match: return match.group(1)\n",
    "        \n",
    "    # PatientID__sliceSpecific\n",
    "    match = re.match(r'(\\d+)__', s)\n",
    "    if match:\n",
    "        return match.group(1)\n",
    "    return None  "
   ]
  },
  {
   "cell_type": "code",
   "execution_count": null,
   "metadata": {},
   "outputs": [],
   "source": [
    "def evalPatientResNet(resnet18, test_dataset, threshold, auc):\n",
    "    device = torch.device(\"cuda\" if torch.cuda.is_available() else \"cpu\")\n",
    "    test_loader = DataLoader(test_dataset, batch_size=32, shuffle=False)\n",
    "\n",
    "    # Counters for each class\n",
    "    correct, total = 0, 0\n",
    "    correct_class_0, total_class_0 = 0, 0\n",
    "    correct_class_1, total_class_1 = 0, 0\n",
    "\n",
    "    # Needed for F1 score and confusion matrix\n",
    "    y_true = []\n",
    "    y_pred = []\n",
    "\n",
    "\n",
    "    with torch.no_grad():\n",
    "        for images, labels in test_loader:\n",
    "            images, labels = images.to(device), labels.to(device)\n",
    "\n",
    "            # Transform outputs to probabilities\n",
    "            outputs = resnet18(images)\n",
    "\n",
    "            # Translate logits to Class 1 probabilities using softmax\n",
    "            probs = F.softmax(outputs, dim=1)[:, 1] \n",
    "\n",
    "            # Translate prob vs threshold to predictions\n",
    "            # True if prob >= threshold else False\n",
    "            # .long() transforms True/False to 1/0\n",
    "            predicted = (probs >= threshold).long()\n",
    "            \n",
    "            # Update total and correct for general accuracy\n",
    "            total += labels.size(0)\n",
    "\n",
    "            correct += (predicted == labels).sum().item()\n",
    "\n",
    "            # Class-specific accuracy\n",
    "            for label, pred in zip(labels, predicted):\n",
    "                if label == 0:\n",
    "                    total_class_0 += 1\n",
    "                    if pred == label:\n",
    "                        correct_class_0 += 1\n",
    "                elif label == 1:\n",
    "                    total_class_1 += 1\n",
    "                    if pred == label:\n",
    "                        correct_class_1 += 1\n",
    "\n",
    "            # Add data to lists\n",
    "            y_true.extend(labels.cpu().tolist())\n",
    "            y_pred.extend(predicted.cpu().tolist())\n",
    "\n",
    "\n",
    "\n",
    "    # Weights == inverse proportions\n",
    "    weight_0, weight_1 = 0.133, 0.867\n",
    "\n",
    "    print(\"Total examples:\", total)\n",
    "\n",
    "    # -------------------------------     Perfomance Metrics     -------------------------------\n",
    "\n",
    "    # Accuracy\n",
    "    accuracy_class_0 = 100 * (correct_class_0 / total_class_0) if total_class_0 > 0 else 0\n",
    "    accuracy_class_1 = 100 * (correct_class_1 / total_class_1) if total_class_1 > 0 else 0\n",
    "    accuracy = 100 * (correct / total)\n",
    "    accuracy2 = 100 * ((correct_class_0 + correct_class_1) / total)\n",
    "    weighted_accuracy = ((accuracy_class_0*weight_0) + (accuracy_class_1*weight_1))\n",
    "\n",
    "    # F1 scores\n",
    "    f1_macro = f1_score(y_true, y_pred, average='macro') # Assigns same importance to each class\n",
    "    f1_weighted = f1_score(y_true, y_pred, average='weighted')\n",
    "    f1_class_0 = f1_score(y_true, y_pred, pos_label=0)\n",
    "    f1_class_1 = f1_score(y_true, y_pred, pos_label=1)\n",
    "\n",
    "    # Confusion Matrix\n",
    "    conf_mat = confusion_matrix(y_true, y_pred)\n",
    "\n",
    "\n",
    "    # -------------------------------     Print Results     -------------------------------\n",
    "\n",
    "    # Accuracy\n",
    "    print(\"\\n --------------------- \\n\")\n",
    "    print(f\"Accuracy for Class 0: {accuracy_class_0:.2f}%  ({correct_class_0} in {total_class_0})\")\n",
    "    print(f\"Accuracy for Class 1: {accuracy_class_1:.2f}%  ({correct_class_1} in {total_class_1})\")\n",
    "    print(f\"Test Accuracy: {accuracy:.2f}%\")\n",
    "    if f\"{accuracy:.2f}\" != f\"{accuracy2:.2f}\": print(\"ERROR CALCULATING ACCURACIES\")\n",
    "    print(f\"Weighted Accuracy: {weighted_accuracy:.2f}%\")\n",
    "\n",
    "    # AUC\n",
    "    print(\"\\n --------------------- \\n\")\n",
    "    print(\"Area Under Curve:\", auc)\n",
    "\n",
    "    # F1 scores\n",
    "    print(\"\\n --------------------- \\n\")\n",
    "    print(f\"F1 Score (Macro): {f1_macro:.3f}\")\n",
    "    print(f\"F1 Score (Weighted): {f1_weighted:.3f}\")\n",
    "    print(f\"F1 Score Class 0: {f1_class_0:.3f}\")\n",
    "    print(f\"F1 Score Class 1: {f1_class_1:.3f}\")\n",
    "\n",
    "    # Confusion matrix\n",
    "    print(\"\\n --------------------- \\n\")\n",
    "    print(\"\\nConfusion Matrix: \\n\", conf_mat)"
   ]
  }
 ],
 "metadata": {
  "kernelspec": {
   "display_name": "fibrosis",
   "language": "python",
   "name": "python3"
  },
  "language_info": {
   "codemirror_mode": {
    "name": "ipython",
    "version": 3
   },
   "file_extension": ".py",
   "mimetype": "text/x-python",
   "name": "python",
   "nbconvert_exporter": "python",
   "pygments_lexer": "ipython3",
   "version": "3.12.9"
  }
 },
 "nbformat": 4,
 "nbformat_minor": 2
}
