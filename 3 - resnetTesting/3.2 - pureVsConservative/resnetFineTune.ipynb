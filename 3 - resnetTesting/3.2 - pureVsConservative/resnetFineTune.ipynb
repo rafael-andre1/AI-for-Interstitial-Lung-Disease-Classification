{
 "cells": [
  {
   "cell_type": "markdown",
   "id": "3e9687e1",
   "metadata": {},
   "source": [
    "# Fine Tuning the Resnet for Optimization Of Results"
   ]
  },
  {
   "cell_type": "markdown",
   "id": "fc6337f4",
   "metadata": {},
   "source": [
    "This notebook will comprise some small suggested changes, as an attempt to create a simple but efficient ResNet training loop.\n",
    "\n",
    "Throughout this file, I will implement:\n",
    "\n",
    " - Best validation loss model output, to maximize model performance\n",
    " - Unfreezing layers, as an attempt to allow the ResNet to adapt to the dataset\n",
    " - Adding performance metrics and plotting ROC/AUC for the test dataframe, for more thorough evaluation\n",
    " - Resizing tensors before augmentations, to increase training speed "
   ]
  },
  {
   "cell_type": "markdown",
   "id": "ffac4a25",
   "metadata": {},
   "source": [
    "Firstly, I will import code snippets from `resnetEval.ipynb`:"
   ]
  },
  {
   "cell_type": "code",
   "execution_count": 1,
   "id": "007c7c41",
   "metadata": {},
   "outputs": [],
   "source": [
    "# -----------  General -----------\n",
    "\n",
    "from sklearn.metrics import f1_score, confusion_matrix, roc_curve, auc\n",
    "from scipy.ndimage import gaussian_filter\n",
    "import torch.nn.functional as F\n",
    "import matplotlib.pyplot as plt\n",
    "import albumentations as A\n",
    "from tqdm import tqdm\n",
    "import pandas as pd\n",
    "import numpy as np\n",
    "import pickle\n",
    "import random\n",
    "import math\n",
    "import copy\n",
    "import os\n",
    "\n",
    "\n",
    "# -----------  Utility -----------\n",
    "\n",
    "from fineTuneUtils import *\n",
    "\n",
    "# -----------  ResNet -----------\n",
    "\n",
    "# Core library\n",
    "import torch\n",
    "\n",
    "# Essentials for development\n",
    "import torch.nn as nn\n",
    "import torchvision.models as models\n",
    "from torchvision.models import ResNet18_Weights\n",
    "\n",
    "# Data resize (ResNet uses (224,224) inputs)\n",
    "import torchvision.transforms as transforms\n",
    "from torchvision.transforms import ToTensor\n",
    "\n",
    "# Allows for paralell batch processing\n",
    "from torch.utils.data import DataLoader\n",
    "from torch.utils.data import Dataset\n",
    "from torchvision.io import decode_image"
   ]
  },
  {
   "cell_type": "markdown",
   "id": "d36ac53a",
   "metadata": {},
   "source": [
    "# Data Loader Design"
   ]
  },
  {
   "cell_type": "markdown",
   "id": "1bc500d6",
   "metadata": {},
   "source": [
    "The first step in optimization has already been implemented: resizing before applying augmentations."
   ]
  },
  {
   "cell_type": "code",
   "execution_count": 44,
   "id": "dc5a8472",
   "metadata": {},
   "outputs": [],
   "source": [
    "class FibrosisDataset(Dataset):\n",
    "    def __init__(self, annotations_file, img_dir, transform=None, target_transform=None, albumentations=None, gauss=False):\n",
    "        self.img_labels = pd.read_csv(annotations_file)\n",
    "        self.img_dir = img_dir\n",
    "        self.transform = transform\n",
    "        self.target_transform = target_transform\n",
    "        self.albumentations = albumentations\n",
    "        self.gauss = gauss\n",
    "\n",
    "    def __len__(self):\n",
    "        return len(self.img_labels)\n",
    "\n",
    "    def __getitem__(self, idx):\n",
    "        # idx represents index\n",
    "        img_path = os.path.join(self.img_dir, self.img_labels.iloc[idx, 0])\n",
    "\n",
    "        # Load the .npy file\n",
    "        image = np.load(img_path)\n",
    "        \n",
    "        #image = read_image(img_path)\n",
    "        label = self.img_labels.iloc[idx, 1]\n",
    "\n",
    "        # Adds random set of augmentations\n",
    "        if self.albumentations:\n",
    "            # Applies resize prior to augmentations\n",
    "            # Could hinder scan quality, but drastically improves training speed\n",
    "            resize = transforms.Resize((224, 224))\n",
    "            image = resize(image)\n",
    "            augmented = self.albumentations(image=image)\n",
    "            image = augmented['image']\n",
    "\n",
    "        # Adds randomly selected gauss noise or blur\n",
    "        if self.gauss:\n",
    "            # Gaussian Noise\n",
    "            gauss_noise = image + np.random.normal(loc=0, scale=random.choice(range(10,40)), size=image.shape)\n",
    "            # Gaussian Blur\n",
    "            gauss_blur = gaussian_filter(image, sigma=(random.choice(range(10,16))/10)) \n",
    "            # Random choice\n",
    "            image = random.choice((gauss_noise,gauss_blur))\n",
    "\n",
    "        # Guarantee compatibility\n",
    "        if self.gauss or self.albumentations: image = image.astype(np.float32)\n",
    "\n",
    "        # Applies necessary ResNet input transformations\n",
    "        if self.transform:\n",
    "            image = self.transform(image)\n",
    "        if self.target_transform:\n",
    "            label = self.target_transform(label)\n",
    "        \n",
    "        return image, label"
   ]
  },
  {
   "cell_type": "markdown",
   "id": "feb0ec1e",
   "metadata": {},
   "source": [
    "## Main Functions"
   ]
  },
  {
   "cell_type": "markdown",
   "id": "864b39f1",
   "metadata": {},
   "source": [
    "**trainResNet** is the next subject to change. First, I must evaluate which is the best option:\n",
    "\n",
    "```py\n",
    "\n",
    "    # Considers only absolute lowest val_loss value\n",
    "    best_model_pure = resnet18\n",
    "\n",
    "    # Considers balance between good loss value and reasonable training loss\n",
    "    best_model_conservative = resnet18\n",
    "\n",
    "```\n",
    "\n",
    "The first option should be more prone to overfitting. For this reason, I will be evaluating if defining a threshold for loss improvement in model choice results in better performance."
   ]
  },
  {
   "cell_type": "markdown",
   "id": "2f75834f",
   "metadata": {},
   "source": [
    "### Best Model Result"
   ]
  },
  {
   "cell_type": "code",
   "execution_count": 45,
   "id": "9dfd30a1",
   "metadata": {},
   "outputs": [],
   "source": [
    "def trainResNet(train_dataset, val_dataset, num_epochs=70, batch_size=32, lr=5e-7, patience=5, improve_min=0.001, threshold1=0.03, threshold2=0.55):\n",
    "    # New ResNet instance\n",
    "    resnet18 = models.resnet18(weights=ResNet18_Weights.DEFAULT)\n",
    "\n",
    "    # Considers only absolute lowest val_loss value\n",
    "    best_model_pure = copy.deepcopy(resnet18)\n",
    "    best_val_pure, epoch_pure = 10, 0\n",
    "\n",
    "    # Considers balance between good loss value and reasonable training loss\n",
    "    best_model_conservative = copy.deepcopy(resnet18)\n",
    "    best_val_conservative, epoch_conservative = 10, 0\n",
    "\n",
    "    # Use only 2 output neurons\n",
    "    num_ftrs = resnet18.fc.in_features\n",
    "    resnet18.fc = nn.Linear(num_ftrs, 2)  \n",
    "\n",
    "    # If graphics card is available, uses it\n",
    "    device = torch.device(\"cuda\" if torch.cuda.is_available() else \"cpu\")\n",
    "    resnet18.to(device)\n",
    "\n",
    "    print(\"*\"+(\"-\"*29)+\"*\")\n",
    "    print(\"|{:^29}|\".format(f\"Using {device}\"))\n",
    "    print(\"*\"+(\"-\"*29)+\"*\")\n",
    "\n",
    "    # Generate data loaders\n",
    "    train_loader = DataLoader(train_dataset, batch_size=batch_size, shuffle=True)\n",
    "    val_loader = DataLoader(val_dataset, batch_size=batch_size, shuffle=False)\n",
    "    \n",
    "    # Loss function \n",
    "    criterion = nn.CrossEntropyLoss()  \n",
    "    # ADAM\n",
    "    optimizer = torch.optim.Adam(resnet18.parameters(), lr=lr)\n",
    "\n",
    "    # add learning_rate_scheduler e step learning rate\n",
    "\n",
    "    # Initializing early stop counter (based on validation loss)\n",
    "    best_loss = 10\n",
    "    early_stop_ctr = 0\n",
    "\n",
    "    loss_array = []\n",
    "    val_loss_array = []\n",
    "\n",
    "\n",
    "    for epoch in range(num_epochs):\n",
    "        resnet18.train()\n",
    "        running_loss = 0.0\n",
    "        running_val_loss = 0.0\n",
    "\n",
    "\n",
    "        # --------------- Weight updates ---------------\n",
    "        \n",
    "        # Iterates over each image in dataset, updates weights\n",
    "        for images, labels in tqdm((train_loader), desc = \"Training...\"):\n",
    "            images, labels = images.to(device), labels.to(device)\n",
    "            \n",
    "            # Applies ADAM \n",
    "            optimizer.zero_grad()\n",
    "\n",
    "            # Generates output\n",
    "            outputs = resnet18(images)\n",
    "\n",
    "            # Computes loss\n",
    "            loss = criterion(outputs, labels)\n",
    "            loss.backward()\n",
    "            optimizer.step()\n",
    "            \n",
    "            running_loss += loss.item()\n",
    "\n",
    "        # Computes average training loss\n",
    "        avg_loss_train = running_loss/len(train_loader)\n",
    "        print(f\"Epoch [{epoch+1}/{num_epochs}], Train loss: {avg_loss_train:.6f}\")\n",
    "        loss_array.append(avg_loss_train)\n",
    "\n",
    "\n",
    "        # ---------------- Validation Loss -----------------\n",
    "\n",
    "        # Iterates over each image in dataset, computes validation loss\n",
    "        for images, labels in (val_loader):\n",
    "            images, labels = images.to(device), labels.to(device)\n",
    "            \n",
    "            # Applies ADAM \n",
    "            optimizer.zero_grad()\n",
    "\n",
    "            # Generates output\n",
    "            outputs = resnet18(images)\n",
    "\n",
    "            # Computes loss\n",
    "            val_loss = criterion(outputs, labels)\n",
    "            \n",
    "            running_val_loss += val_loss.item()\n",
    "\n",
    "        # Computes average validation loss\n",
    "        avg_loss_val = running_val_loss/len(val_loader)\n",
    "        print(f\"Validation loss: {avg_loss_val:.6f}\")\n",
    "        val_loss_array.append(avg_loss_val)\n",
    "\n",
    "\n",
    "        # ------------------ Best Model -------------------\n",
    "\n",
    "        # Thresholds determined through experimentation \n",
    "        # threshold1 -> usually where val begins to plateau\n",
    "        # threshold2 -> usually where train begins to overfit\n",
    "        if epoch >= 35:\n",
    "            if avg_loss_val < best_val_pure:\n",
    "                best_val_pure = avg_loss_val\n",
    "                best_model_pure = copy.deepcopy(resnet18)\n",
    "                epoch_pure = epoch\n",
    "            \n",
    "            # If saved val loss is >= 1.03 times current value, updates\n",
    "            # But only if train loss is >= 55% of the current val loss\n",
    "            if ((best_val_conservative > avg_loss_val * (1 + threshold1)) and \n",
    "                (avg_loss_train >= avg_loss_val * threshold2)) or (epoch==40 and epoch_conservative==0):\n",
    "                best_val_conservative = avg_loss_val\n",
    "                best_model_conservative = copy.deepcopy(resnet18)\n",
    "                epoch_conservative = epoch\n",
    "        \n",
    "        \n",
    "        # ---------------- Early Stopping -----------------\n",
    "\n",
    "        # Only after a high number of epochs (around 60)\n",
    "        if epoch > 60:\n",
    "            # Check for improvement (1% standard)\n",
    "            if abs(best_loss - avg_loss_val) > (best_loss * improve_min):\n",
    "                best_loss = avg_loss_val\n",
    "                early_stop_ctr = 0\n",
    "            else: early_stop_ctr += 1\n",
    "\n",
    "            # Checks early stopping condition\n",
    "            if early_stop_ctr >= patience:\n",
    "                print(f\"Early stopping triggered after {epoch+1} epochs!!!\")\n",
    "                break\n",
    "    \n",
    "    return (best_model_pure, epoch_pure), (best_model_conservative, epoch_conservative), loss_array, val_loss_array"
   ]
  },
  {
   "cell_type": "markdown",
   "id": "6716f045",
   "metadata": {},
   "source": [
    "### Generate ROC and Best Threshold"
   ]
  },
  {
   "cell_type": "markdown",
   "id": "de327c0f",
   "metadata": {},
   "source": [
    "### Loss Evolution"
   ]
  },
  {
   "cell_type": "code",
   "execution_count": 49,
   "id": "c8429d5e",
   "metadata": {},
   "outputs": [],
   "source": [
    "def plotLoss(train_loss, val_loss, best_pure_epoch=False, best_cons_epoch=False):\n",
    "    epochs = range(1, len(train_loss) + 1)\n",
    "\n",
    "    plt.figure(figsize=(8, 6))\n",
    "    \n",
    "    plt.plot(epochs, train_loss, label='Train Loss', marker='o')\n",
    "    plt.plot(epochs, val_loss, label='Validation Loss', marker='x')\n",
    "\n",
    "    # Add purple dot for best pure epoch\n",
    "    if best_pure_epoch:\n",
    "        plt.scatter(best_pure_epoch + 1, val_loss[best_pure_epoch], color='purple', label='Best Pure', zorder=5)\n",
    "        plt.text(best_pure_epoch + 1, val_loss[best_pure_epoch] + 0.01, 'pure', color='purple')\n",
    "\n",
    "    # Add green dot for best conservative epoch\n",
    "    if best_cons_epoch:\n",
    "        plt.scatter(best_cons_epoch + 1, val_loss[best_cons_epoch], color='green', label='Best Conservative', zorder=5)\n",
    "        plt.text(best_cons_epoch + 1, val_loss[best_cons_epoch] + 0.01, 'conservative', color='green')\n",
    "\n",
    "    plt.xlabel('Epoch')\n",
    "    plt.ylabel('Loss')\n",
    "    plt.title('Loss Evolution')\n",
    "    plt.legend()\n",
    "    plt.grid(True)\n",
    "    plt.tight_layout()\n",
    "    plt.show()"
   ]
  },
  {
   "cell_type": "code",
   "execution_count": 50,
   "id": "0f974d7f",
   "metadata": {},
   "outputs": [],
   "source": [
    "def evalResNet(resnet18, test_dataset, threshold):\n",
    "    device = torch.device(\"cuda\" if torch.cuda.is_available() else \"cpu\")\n",
    "    test_loader = DataLoader(test_dataset, batch_size=32, shuffle=False)\n",
    "\n",
    "    # Counters for each class\n",
    "    correct, total = 0, 0\n",
    "    correct_class_0, total_class_0 = 0, 0\n",
    "    correct_class_1, total_class_1 = 0, 0\n",
    "\n",
    "    # Needed for F1 score and confusion matrix\n",
    "    y_true = []\n",
    "    y_pred = []\n",
    "\n",
    "\n",
    "    with torch.no_grad():\n",
    "        for images, labels in test_loader:\n",
    "            images, labels = images.to(device), labels.to(device)\n",
    "\n",
    "            # Transform outputs to probabilities\n",
    "            outputs = resnet18(images)\n",
    "\n",
    "            # Translate logits to Class 1 probabilities using softmax\n",
    "            probs = F.softmax(outputs, dim=1)[:, 1] \n",
    "\n",
    "            # Translate prob vs threshold to predictions\n",
    "            # True if prob >= threshold else False\n",
    "            # .long() transforms True/False to 1/0\n",
    "            predicted = (probs >= threshold).long()\n",
    "            \n",
    "            # Update total and correct for general accuracy\n",
    "            total += labels.size(0)\n",
    "\n",
    "            correct += (predicted == labels).sum().item()\n",
    "\n",
    "            # Class-specific accuracy\n",
    "            for label, pred in zip(labels, predicted):\n",
    "                if label == 0:\n",
    "                    total_class_0 += 1\n",
    "                    if pred == label:\n",
    "                        correct_class_0 += 1\n",
    "                elif label == 1:\n",
    "                    total_class_1 += 1\n",
    "                    if pred == label:\n",
    "                        correct_class_1 += 1\n",
    "\n",
    "            # Add data to lists\n",
    "            y_true.extend(labels.cpu().tolist())\n",
    "            y_pred.extend(predicted.cpu().tolist())\n",
    "\n",
    "\n",
    "\n",
    "    # Weights == inverse proportions\n",
    "    weight_0, weight_1 = 0.133, 0.867\n",
    "\n",
    "    print(\"Total examples:\", total)\n",
    "\n",
    "    # -------------------------------     Perfomance Metrics     -------------------------------\n",
    "\n",
    "    # Accuracy\n",
    "    accuracy_class_0 = 100 * (correct_class_0 / total_class_0) if total_class_0 > 0 else 0\n",
    "    accuracy_class_1 = 100 * (correct_class_1 / total_class_1) if total_class_1 > 0 else 0\n",
    "    accuracy = 100 * (correct / total)\n",
    "    accuracy2 = 100 * ((correct_class_0 + correct_class_1) / total)\n",
    "    weighted_accuracy = ((accuracy_class_0*weight_0) + (accuracy_class_1*weight_1))\n",
    "\n",
    "    # F1 scores\n",
    "    f1_macro = f1_score(y_true, y_pred, average='macro') # Assigns same importance to each class\n",
    "    f1_weighted = f1_score(y_true, y_pred, average='weighted')\n",
    "    f1_class_0 = f1_score(y_true, y_pred, pos_label=0)\n",
    "    f1_class_1 = f1_score(y_true, y_pred, pos_label=1)\n",
    "\n",
    "    # Confusion Matrix\n",
    "    conf_mat = confusion_matrix(y_true, y_pred)\n",
    "\n",
    "\n",
    "    # -------------------------------     Print Results     -------------------------------\n",
    "\n",
    "    # Accuracy\n",
    "    print(\"\\n --------------------- \\n\")\n",
    "    print(f\"Accuracy for Class 0: {accuracy_class_0:.2f}%  ({correct_class_0} in {total_class_0})\")\n",
    "    print(f\"Accuracy for Class 1: {accuracy_class_1:.2f}%  ({correct_class_1} in {total_class_1})\")\n",
    "    print(f\"Test Accuracy: {accuracy:.2f}%\")\n",
    "    if f\"{accuracy:.2f}\" != f\"{accuracy2:.2f}\": print(\"ERROR CALCULATING ACCURACIES\")\n",
    "    print(f\"Weighted Accuracy: {weighted_accuracy:.2f}%\")\n",
    "\n",
    "    # F1 scores\n",
    "    print(\"\\n --------------------- \\n\")\n",
    "    print(f\"F1 Score (Macro): {f1_macro:.3f}\")\n",
    "    print(f\"F1 Score (Weighted): {f1_weighted:.3f}\")\n",
    "    print(f\"F1 Score Class 0: {f1_class_0:.3f}\")\n",
    "    print(f\"F1 Score Class 1: {f1_class_1:.3f}\")\n",
    "\n",
    "    # Confusion matrix\n",
    "    print(\"\\n --------------------- \\n\")\n",
    "    print(\"\\nConfusion Matrix: \\n\", conf_mat)"
   ]
  },
  {
   "cell_type": "markdown",
   "id": "0b5feaa0",
   "metadata": {},
   "source": [
    "#### Conservative vs Pure Evaluation"
   ]
  },
  {
   "cell_type": "code",
   "execution_count": 51,
   "id": "e1bc2b49",
   "metadata": {},
   "outputs": [],
   "source": [
    "def plotLossAX(train_loss, val_loss, best_pure_epoch=False, best_cons_epoch=False, iter=0, ax=None):\n",
    "    epochs = range(1, len(train_loss) + 1)\n",
    "\n",
    "    ax.plot(epochs, train_loss, label='Train Loss', marker='o')\n",
    "    ax.plot(epochs, val_loss, label='Validation Loss', marker='x')\n",
    "\n",
    "    # Add purple dot for best pure epoch\n",
    "    if best_pure_epoch is not False:\n",
    "        ax.scatter(best_pure_epoch + 1, val_loss[best_pure_epoch], color='purple', label='Best Pure', zorder=5)\n",
    "        ax.text(best_pure_epoch + 1, val_loss[best_pure_epoch] + 0.01, 'pure', color='purple')\n",
    "\n",
    "    # Add green dot for best conservative epoch\n",
    "    if best_cons_epoch is not False:\n",
    "        ax.scatter(best_cons_epoch + 1, val_loss[best_cons_epoch], color='green', label='Best Conservative', zorder=5)\n",
    "        ax.text(best_cons_epoch + 1, val_loss[best_cons_epoch] + 0.01, 'conservative', color='green')\n",
    "\n",
    "    ax.set_title(f'Iteration {iter}')\n",
    "    ax.set_xlabel('Epoch')\n",
    "    ax.set_ylabel('Loss')\n",
    "    ax.legend()\n",
    "    ax.grid(True)"
   ]
  },
  {
   "cell_type": "code",
   "execution_count": null,
   "id": "4e657b87",
   "metadata": {},
   "outputs": [],
   "source": [
    "def plotLossCollection(all_train, all_val, best_pure_epochs, best_cons_epochs):\n",
    "    n = len(all_train)\n",
    "    cols = 2\n",
    "    rows = math.ceil(n / cols)\n",
    "\n",
    "    fig, axs = plt.subplots(rows, cols, figsize=(10, 5 * rows))\n",
    "    axs = axs.flatten()\n",
    "\n",
    "    for i in range(n):\n",
    "        plotLossAX(all_train[i], all_val[i], best_pure_epochs[i], best_cons_epochs[i], iter=i, ax=axs[i])\n",
    "\n",
    "    # Hide unused subplots\n",
    "    for j in range(n, len(axs)):\n",
    "        fig.delaxes(axs[j])\n",
    "\n",
    "    plt.tight_layout()\n",
    "    plt.show()"
   ]
  },
  {
   "cell_type": "markdown",
   "id": "9e64f76c",
   "metadata": {},
   "source": [
    "## Custom Split (No Augmentations)"
   ]
  },
  {
   "cell_type": "code",
   "execution_count": 53,
   "id": "86639ae7",
   "metadata": {},
   "outputs": [],
   "source": [
    "# Defining paths\n",
    "train_df = r\"trainTestCustom\\train.csv\"\n",
    "test_df = r\"trainTestCustom\\test.csv\"\n",
    "val_df = r\"trainTestCustom\\val.csv\""
   ]
  },
  {
   "cell_type": "code",
   "execution_count": 54,
   "id": "204efc7e",
   "metadata": {},
   "outputs": [],
   "source": [
    "# Paths\n",
    "img_dir = r'..\\..\\np_ROI_data'  # CSV with image filenames & labels\n",
    "annotations_file_train = train_df\n",
    "annotations_file_test = test_df\n",
    "annotations_file_val = val_df\n",
    "\n",
    "\n",
    "# Transformations \n",
    "transform = transforms.Compose([\n",
    "    transforms.ToTensor(),\n",
    "    transforms.Resize((224, 224)),  # Resize images to 224x224\n",
    "    transforms.Lambda(lambda x: x.repeat(3, 1, 1)),  # Convert (1, H, W) → (3, H, W)\n",
    "])\n",
    "\n",
    "# Create Datasets\n",
    "train_dataset = FibrosisDataset(annotations_file_train, img_dir=img_dir, transform=transform)\n",
    "test_dataset = FibrosisDataset(annotations_file_test, img_dir=img_dir, transform=transform)\n",
    "val_dataset = FibrosisDataset(annotations_file_val, img_dir=img_dir, transform=transform)"
   ]
  },
  {
   "cell_type": "markdown",
   "id": "5596c10b",
   "metadata": {},
   "source": [
    "For results validity, the pure vs conservative test will be performed 5 times:"
   ]
  },
  {
   "cell_type": "code",
   "execution_count": 55,
   "id": "9956dfdc",
   "metadata": {},
   "outputs": [
    {
     "name": "stdout",
     "output_type": "stream",
     "text": [
      "*-----------------------------*\n",
      "|         Using cuda          |\n",
      "*-----------------------------*\n"
     ]
    },
    {
     "name": "stderr",
     "output_type": "stream",
     "text": [
      "Training...: 100%|██████████| 55/55 [00:04<00:00, 11.31it/s]\n"
     ]
    },
    {
     "name": "stdout",
     "output_type": "stream",
     "text": [
      "Epoch [1/70], Train loss: 0.790717\n",
      "Validation loss: 0.797471\n"
     ]
    },
    {
     "name": "stderr",
     "output_type": "stream",
     "text": [
      "Training...: 100%|██████████| 55/55 [00:04<00:00, 12.08it/s]\n"
     ]
    },
    {
     "name": "stdout",
     "output_type": "stream",
     "text": [
      "Epoch [2/70], Train loss: 0.758422\n",
      "Validation loss: 0.781542\n"
     ]
    },
    {
     "name": "stderr",
     "output_type": "stream",
     "text": [
      "Training...: 100%|██████████| 55/55 [00:04<00:00, 11.22it/s]\n"
     ]
    },
    {
     "name": "stdout",
     "output_type": "stream",
     "text": [
      "Epoch [3/70], Train loss: 0.729312\n",
      "Validation loss: 0.766765\n"
     ]
    },
    {
     "name": "stderr",
     "output_type": "stream",
     "text": [
      "Training...: 100%|██████████| 55/55 [00:05<00:00, 10.96it/s]\n"
     ]
    },
    {
     "name": "stdout",
     "output_type": "stream",
     "text": [
      "Epoch [4/70], Train loss: 0.704073\n",
      "Validation loss: 0.752667\n"
     ]
    },
    {
     "name": "stderr",
     "output_type": "stream",
     "text": [
      "Training...: 100%|██████████| 55/55 [00:04<00:00, 11.43it/s]\n"
     ]
    },
    {
     "name": "stdout",
     "output_type": "stream",
     "text": [
      "Epoch [5/70], Train loss: 0.675111\n",
      "Validation loss: 0.739388\n"
     ]
    },
    {
     "name": "stderr",
     "output_type": "stream",
     "text": [
      "Training...: 100%|██████████| 55/55 [00:04<00:00, 11.70it/s]\n"
     ]
    },
    {
     "name": "stdout",
     "output_type": "stream",
     "text": [
      "Epoch [6/70], Train loss: 0.647439\n",
      "Validation loss: 0.726932\n"
     ]
    },
    {
     "name": "stderr",
     "output_type": "stream",
     "text": [
      "Training...: 100%|██████████| 55/55 [00:04<00:00, 11.76it/s]\n"
     ]
    },
    {
     "name": "stdout",
     "output_type": "stream",
     "text": [
      "Epoch [7/70], Train loss: 0.631676\n",
      "Validation loss: 0.715437\n"
     ]
    },
    {
     "name": "stderr",
     "output_type": "stream",
     "text": [
      "Training...: 100%|██████████| 55/55 [00:04<00:00, 11.83it/s]\n"
     ]
    },
    {
     "name": "stdout",
     "output_type": "stream",
     "text": [
      "Epoch [8/70], Train loss: 0.612478\n",
      "Validation loss: 0.703490\n"
     ]
    },
    {
     "name": "stderr",
     "output_type": "stream",
     "text": [
      "Training...: 100%|██████████| 55/55 [00:04<00:00, 11.80it/s]\n"
     ]
    },
    {
     "name": "stdout",
     "output_type": "stream",
     "text": [
      "Epoch [9/70], Train loss: 0.588708\n",
      "Validation loss: 0.692026\n"
     ]
    },
    {
     "name": "stderr",
     "output_type": "stream",
     "text": [
      "Training...: 100%|██████████| 55/55 [00:04<00:00, 11.78it/s]\n"
     ]
    },
    {
     "name": "stdout",
     "output_type": "stream",
     "text": [
      "Epoch [10/70], Train loss: 0.576678\n",
      "Validation loss: 0.681020\n"
     ]
    },
    {
     "name": "stderr",
     "output_type": "stream",
     "text": [
      "Training...: 100%|██████████| 55/55 [00:04<00:00, 11.81it/s]\n"
     ]
    },
    {
     "name": "stdout",
     "output_type": "stream",
     "text": [
      "Epoch [11/70], Train loss: 0.555702\n",
      "Validation loss: 0.670056\n"
     ]
    },
    {
     "name": "stderr",
     "output_type": "stream",
     "text": [
      "Training...: 100%|██████████| 55/55 [00:04<00:00, 11.77it/s]\n"
     ]
    },
    {
     "name": "stdout",
     "output_type": "stream",
     "text": [
      "Epoch [12/70], Train loss: 0.542701\n",
      "Validation loss: 0.659567\n"
     ]
    },
    {
     "name": "stderr",
     "output_type": "stream",
     "text": [
      "Training...: 100%|██████████| 55/55 [00:04<00:00, 11.84it/s]\n"
     ]
    },
    {
     "name": "stdout",
     "output_type": "stream",
     "text": [
      "Epoch [13/70], Train loss: 0.527538\n",
      "Validation loss: 0.649027\n"
     ]
    },
    {
     "name": "stderr",
     "output_type": "stream",
     "text": [
      "Training...: 100%|██████████| 55/55 [00:04<00:00, 11.81it/s]\n"
     ]
    },
    {
     "name": "stdout",
     "output_type": "stream",
     "text": [
      "Epoch [14/70], Train loss: 0.511120\n",
      "Validation loss: 0.639075\n"
     ]
    },
    {
     "name": "stderr",
     "output_type": "stream",
     "text": [
      "Training...: 100%|██████████| 55/55 [00:04<00:00, 11.81it/s]\n"
     ]
    },
    {
     "name": "stdout",
     "output_type": "stream",
     "text": [
      "Epoch [15/70], Train loss: 0.495876\n",
      "Validation loss: 0.629422\n"
     ]
    },
    {
     "name": "stderr",
     "output_type": "stream",
     "text": [
      "Training...: 100%|██████████| 55/55 [00:04<00:00, 11.80it/s]\n"
     ]
    },
    {
     "name": "stdout",
     "output_type": "stream",
     "text": [
      "Epoch [16/70], Train loss: 0.480905\n",
      "Validation loss: 0.620706\n"
     ]
    },
    {
     "name": "stderr",
     "output_type": "stream",
     "text": [
      "Training...: 100%|██████████| 55/55 [00:04<00:00, 11.75it/s]\n"
     ]
    },
    {
     "name": "stdout",
     "output_type": "stream",
     "text": [
      "Epoch [17/70], Train loss: 0.466856\n",
      "Validation loss: 0.612180\n"
     ]
    },
    {
     "name": "stderr",
     "output_type": "stream",
     "text": [
      "Training...: 100%|██████████| 55/55 [00:04<00:00, 11.81it/s]\n"
     ]
    },
    {
     "name": "stdout",
     "output_type": "stream",
     "text": [
      "Epoch [18/70], Train loss: 0.457229\n",
      "Validation loss: 0.603384\n"
     ]
    },
    {
     "name": "stderr",
     "output_type": "stream",
     "text": [
      "Training...: 100%|██████████| 55/55 [00:04<00:00, 11.87it/s]\n"
     ]
    },
    {
     "name": "stdout",
     "output_type": "stream",
     "text": [
      "Epoch [19/70], Train loss: 0.441648\n",
      "Validation loss: 0.594903\n"
     ]
    },
    {
     "name": "stderr",
     "output_type": "stream",
     "text": [
      "Training...: 100%|██████████| 55/55 [00:04<00:00, 11.84it/s]\n"
     ]
    },
    {
     "name": "stdout",
     "output_type": "stream",
     "text": [
      "Epoch [20/70], Train loss: 0.433223\n",
      "Validation loss: 0.587483\n"
     ]
    },
    {
     "name": "stderr",
     "output_type": "stream",
     "text": [
      "Training...: 100%|██████████| 55/55 [00:04<00:00, 11.90it/s]\n"
     ]
    },
    {
     "name": "stdout",
     "output_type": "stream",
     "text": [
      "Epoch [21/70], Train loss: 0.416334\n",
      "Validation loss: 0.579801\n"
     ]
    },
    {
     "name": "stderr",
     "output_type": "stream",
     "text": [
      "Training...: 100%|██████████| 55/55 [00:04<00:00, 11.90it/s]\n"
     ]
    },
    {
     "name": "stdout",
     "output_type": "stream",
     "text": [
      "Epoch [22/70], Train loss: 0.406040\n",
      "Validation loss: 0.573097\n"
     ]
    },
    {
     "name": "stderr",
     "output_type": "stream",
     "text": [
      "Training...: 100%|██████████| 55/55 [00:04<00:00, 11.91it/s]\n"
     ]
    },
    {
     "name": "stdout",
     "output_type": "stream",
     "text": [
      "Epoch [23/70], Train loss: 0.395340\n",
      "Validation loss: 0.566552\n"
     ]
    },
    {
     "name": "stderr",
     "output_type": "stream",
     "text": [
      "Training...: 100%|██████████| 55/55 [00:04<00:00, 11.90it/s]\n"
     ]
    },
    {
     "name": "stdout",
     "output_type": "stream",
     "text": [
      "Epoch [24/70], Train loss: 0.386179\n",
      "Validation loss: 0.559591\n"
     ]
    },
    {
     "name": "stderr",
     "output_type": "stream",
     "text": [
      "Training...: 100%|██████████| 55/55 [00:04<00:00, 11.91it/s]\n"
     ]
    },
    {
     "name": "stdout",
     "output_type": "stream",
     "text": [
      "Epoch [25/70], Train loss: 0.371983\n",
      "Validation loss: 0.552995\n"
     ]
    },
    {
     "name": "stderr",
     "output_type": "stream",
     "text": [
      "Training...: 100%|██████████| 55/55 [00:04<00:00, 11.90it/s]\n"
     ]
    },
    {
     "name": "stdout",
     "output_type": "stream",
     "text": [
      "Epoch [26/70], Train loss: 0.370387\n",
      "Validation loss: 0.546558\n"
     ]
    },
    {
     "name": "stderr",
     "output_type": "stream",
     "text": [
      "Training...: 100%|██████████| 55/55 [00:04<00:00, 11.84it/s]\n"
     ]
    },
    {
     "name": "stdout",
     "output_type": "stream",
     "text": [
      "Epoch [27/70], Train loss: 0.354056\n",
      "Validation loss: 0.540173\n"
     ]
    },
    {
     "name": "stderr",
     "output_type": "stream",
     "text": [
      "Training...: 100%|██████████| 55/55 [00:04<00:00, 11.80it/s]\n"
     ]
    },
    {
     "name": "stdout",
     "output_type": "stream",
     "text": [
      "Epoch [28/70], Train loss: 0.344963\n",
      "Validation loss: 0.534119\n"
     ]
    },
    {
     "name": "stderr",
     "output_type": "stream",
     "text": [
      "Training...: 100%|██████████| 55/55 [00:04<00:00, 11.80it/s]\n"
     ]
    },
    {
     "name": "stdout",
     "output_type": "stream",
     "text": [
      "Epoch [29/70], Train loss: 0.336593\n",
      "Validation loss: 0.529013\n"
     ]
    },
    {
     "name": "stderr",
     "output_type": "stream",
     "text": [
      "Training...: 100%|██████████| 55/55 [00:04<00:00, 11.89it/s]\n"
     ]
    },
    {
     "name": "stdout",
     "output_type": "stream",
     "text": [
      "Epoch [30/70], Train loss: 0.333660\n",
      "Validation loss: 0.523442\n"
     ]
    },
    {
     "name": "stderr",
     "output_type": "stream",
     "text": [
      "Training...: 100%|██████████| 55/55 [00:04<00:00, 11.81it/s]\n"
     ]
    },
    {
     "name": "stdout",
     "output_type": "stream",
     "text": [
      "Epoch [31/70], Train loss: 0.321252\n",
      "Validation loss: 0.518753\n"
     ]
    },
    {
     "name": "stderr",
     "output_type": "stream",
     "text": [
      "Training...: 100%|██████████| 55/55 [00:04<00:00, 11.88it/s]\n"
     ]
    },
    {
     "name": "stdout",
     "output_type": "stream",
     "text": [
      "Epoch [32/70], Train loss: 0.313191\n",
      "Validation loss: 0.513723\n"
     ]
    },
    {
     "name": "stderr",
     "output_type": "stream",
     "text": [
      "Training...: 100%|██████████| 55/55 [00:04<00:00, 11.84it/s]\n"
     ]
    },
    {
     "name": "stdout",
     "output_type": "stream",
     "text": [
      "Epoch [33/70], Train loss: 0.304927\n",
      "Validation loss: 0.509225\n"
     ]
    },
    {
     "name": "stderr",
     "output_type": "stream",
     "text": [
      "Training...: 100%|██████████| 55/55 [00:04<00:00, 11.86it/s]\n"
     ]
    },
    {
     "name": "stdout",
     "output_type": "stream",
     "text": [
      "Epoch [34/70], Train loss: 0.297848\n",
      "Validation loss: 0.504241\n"
     ]
    },
    {
     "name": "stderr",
     "output_type": "stream",
     "text": [
      "Training...: 100%|██████████| 55/55 [00:04<00:00, 11.90it/s]\n"
     ]
    },
    {
     "name": "stdout",
     "output_type": "stream",
     "text": [
      "Epoch [35/70], Train loss: 0.297013\n",
      "Validation loss: 0.500001\n"
     ]
    },
    {
     "name": "stderr",
     "output_type": "stream",
     "text": [
      "Training...: 100%|██████████| 55/55 [00:04<00:00, 11.91it/s]\n"
     ]
    },
    {
     "name": "stdout",
     "output_type": "stream",
     "text": [
      "Epoch [36/70], Train loss: 0.285578\n",
      "Validation loss: 0.497199\n"
     ]
    },
    {
     "name": "stderr",
     "output_type": "stream",
     "text": [
      "Training...: 100%|██████████| 55/55 [00:04<00:00, 11.85it/s]\n"
     ]
    },
    {
     "name": "stdout",
     "output_type": "stream",
     "text": [
      "Epoch [37/70], Train loss: 0.276802\n",
      "Validation loss: 0.492629\n"
     ]
    },
    {
     "name": "stderr",
     "output_type": "stream",
     "text": [
      "Training...: 100%|██████████| 55/55 [00:04<00:00, 11.91it/s]\n"
     ]
    },
    {
     "name": "stdout",
     "output_type": "stream",
     "text": [
      "Epoch [38/70], Train loss: 0.272028\n",
      "Validation loss: 0.488990\n"
     ]
    },
    {
     "name": "stderr",
     "output_type": "stream",
     "text": [
      "Training...: 100%|██████████| 55/55 [00:04<00:00, 11.84it/s]\n"
     ]
    },
    {
     "name": "stdout",
     "output_type": "stream",
     "text": [
      "Epoch [39/70], Train loss: 0.263580\n",
      "Validation loss: 0.485516\n"
     ]
    },
    {
     "name": "stderr",
     "output_type": "stream",
     "text": [
      "Training...: 100%|██████████| 55/55 [00:04<00:00, 11.89it/s]\n"
     ]
    },
    {
     "name": "stdout",
     "output_type": "stream",
     "text": [
      "Epoch [40/70], Train loss: 0.259473\n",
      "Validation loss: 0.481803\n"
     ]
    },
    {
     "name": "stderr",
     "output_type": "stream",
     "text": [
      "Training...: 100%|██████████| 55/55 [00:04<00:00, 11.93it/s]\n"
     ]
    },
    {
     "name": "stdout",
     "output_type": "stream",
     "text": [
      "Epoch [41/70], Train loss: 0.252393\n",
      "Validation loss: 0.477950\n"
     ]
    },
    {
     "name": "stderr",
     "output_type": "stream",
     "text": [
      "Training...: 100%|██████████| 55/55 [00:04<00:00, 11.88it/s]\n"
     ]
    },
    {
     "name": "stdout",
     "output_type": "stream",
     "text": [
      "Epoch [42/70], Train loss: 0.246233\n",
      "Validation loss: 0.474747\n"
     ]
    },
    {
     "name": "stderr",
     "output_type": "stream",
     "text": [
      "Training...: 100%|██████████| 55/55 [00:04<00:00, 11.92it/s]\n"
     ]
    },
    {
     "name": "stdout",
     "output_type": "stream",
     "text": [
      "Epoch [43/70], Train loss: 0.236192\n",
      "Validation loss: 0.472311\n"
     ]
    },
    {
     "name": "stderr",
     "output_type": "stream",
     "text": [
      "Training...: 100%|██████████| 55/55 [00:04<00:00, 11.88it/s]\n"
     ]
    },
    {
     "name": "stdout",
     "output_type": "stream",
     "text": [
      "Epoch [44/70], Train loss: 0.232679\n",
      "Validation loss: 0.468855\n"
     ]
    },
    {
     "name": "stderr",
     "output_type": "stream",
     "text": [
      "Training...: 100%|██████████| 55/55 [00:04<00:00, 11.84it/s]\n"
     ]
    },
    {
     "name": "stdout",
     "output_type": "stream",
     "text": [
      "Epoch [45/70], Train loss: 0.227909\n",
      "Validation loss: 0.465876\n"
     ]
    },
    {
     "name": "stderr",
     "output_type": "stream",
     "text": [
      "Training...: 100%|██████████| 55/55 [00:04<00:00, 11.78it/s]\n"
     ]
    },
    {
     "name": "stdout",
     "output_type": "stream",
     "text": [
      "Epoch [46/70], Train loss: 0.225542\n",
      "Validation loss: 0.463558\n"
     ]
    },
    {
     "name": "stderr",
     "output_type": "stream",
     "text": [
      "Training...: 100%|██████████| 55/55 [00:04<00:00, 11.85it/s]\n"
     ]
    },
    {
     "name": "stdout",
     "output_type": "stream",
     "text": [
      "Epoch [47/70], Train loss: 0.220697\n",
      "Validation loss: 0.461975\n"
     ]
    },
    {
     "name": "stderr",
     "output_type": "stream",
     "text": [
      "Training...: 100%|██████████| 55/55 [00:04<00:00, 11.90it/s]\n"
     ]
    },
    {
     "name": "stdout",
     "output_type": "stream",
     "text": [
      "Epoch [48/70], Train loss: 0.217924\n",
      "Validation loss: 0.458843\n"
     ]
    },
    {
     "name": "stderr",
     "output_type": "stream",
     "text": [
      "Training...: 100%|██████████| 55/55 [00:04<00:00, 11.86it/s]\n"
     ]
    },
    {
     "name": "stdout",
     "output_type": "stream",
     "text": [
      "Epoch [49/70], Train loss: 0.215612\n",
      "Validation loss: 0.456159\n"
     ]
    },
    {
     "name": "stderr",
     "output_type": "stream",
     "text": [
      "Training...: 100%|██████████| 55/55 [00:04<00:00, 11.94it/s]\n"
     ]
    },
    {
     "name": "stdout",
     "output_type": "stream",
     "text": [
      "Epoch [50/70], Train loss: 0.204371\n",
      "Validation loss: 0.454454\n"
     ]
    },
    {
     "name": "stderr",
     "output_type": "stream",
     "text": [
      "Training...: 100%|██████████| 55/55 [00:04<00:00, 11.94it/s]\n"
     ]
    },
    {
     "name": "stdout",
     "output_type": "stream",
     "text": [
      "Epoch [51/70], Train loss: 0.198282\n",
      "Validation loss: 0.452334\n"
     ]
    },
    {
     "name": "stderr",
     "output_type": "stream",
     "text": [
      "Training...: 100%|██████████| 55/55 [00:04<00:00, 11.89it/s]\n"
     ]
    },
    {
     "name": "stdout",
     "output_type": "stream",
     "text": [
      "Epoch [52/70], Train loss: 0.193728\n",
      "Validation loss: 0.450886\n"
     ]
    },
    {
     "name": "stderr",
     "output_type": "stream",
     "text": [
      "Training...: 100%|██████████| 55/55 [00:04<00:00, 11.92it/s]\n"
     ]
    },
    {
     "name": "stdout",
     "output_type": "stream",
     "text": [
      "Epoch [53/70], Train loss: 0.192494\n",
      "Validation loss: 0.449116\n"
     ]
    },
    {
     "name": "stderr",
     "output_type": "stream",
     "text": [
      "Training...: 100%|██████████| 55/55 [00:04<00:00, 11.89it/s]\n"
     ]
    },
    {
     "name": "stdout",
     "output_type": "stream",
     "text": [
      "Epoch [54/70], Train loss: 0.190331\n",
      "Validation loss: 0.446617\n"
     ]
    },
    {
     "name": "stderr",
     "output_type": "stream",
     "text": [
      "Training...: 100%|██████████| 55/55 [00:04<00:00, 11.85it/s]\n"
     ]
    },
    {
     "name": "stdout",
     "output_type": "stream",
     "text": [
      "Epoch [55/70], Train loss: 0.181720\n",
      "Validation loss: 0.445397\n"
     ]
    },
    {
     "name": "stderr",
     "output_type": "stream",
     "text": [
      "Training...: 100%|██████████| 55/55 [00:04<00:00, 11.90it/s]\n"
     ]
    },
    {
     "name": "stdout",
     "output_type": "stream",
     "text": [
      "Epoch [56/70], Train loss: 0.182296\n",
      "Validation loss: 0.444217\n"
     ]
    },
    {
     "name": "stderr",
     "output_type": "stream",
     "text": [
      "Training...: 100%|██████████| 55/55 [00:04<00:00, 11.87it/s]\n"
     ]
    },
    {
     "name": "stdout",
     "output_type": "stream",
     "text": [
      "Epoch [57/70], Train loss: 0.175655\n",
      "Validation loss: 0.442819\n"
     ]
    },
    {
     "name": "stderr",
     "output_type": "stream",
     "text": [
      "Training...: 100%|██████████| 55/55 [00:04<00:00, 11.86it/s]\n"
     ]
    },
    {
     "name": "stdout",
     "output_type": "stream",
     "text": [
      "Epoch [58/70], Train loss: 0.171230\n",
      "Validation loss: 0.441045\n"
     ]
    },
    {
     "name": "stderr",
     "output_type": "stream",
     "text": [
      "Training...: 100%|██████████| 55/55 [00:04<00:00, 11.91it/s]\n"
     ]
    },
    {
     "name": "stdout",
     "output_type": "stream",
     "text": [
      "Epoch [59/70], Train loss: 0.167416\n",
      "Validation loss: 0.439755\n"
     ]
    },
    {
     "name": "stderr",
     "output_type": "stream",
     "text": [
      "Training...: 100%|██████████| 55/55 [00:04<00:00, 11.82it/s]\n"
     ]
    },
    {
     "name": "stdout",
     "output_type": "stream",
     "text": [
      "Epoch [60/70], Train loss: 0.162191\n",
      "Validation loss: 0.438942\n"
     ]
    },
    {
     "name": "stderr",
     "output_type": "stream",
     "text": [
      "Training...: 100%|██████████| 55/55 [00:04<00:00, 11.81it/s]\n"
     ]
    },
    {
     "name": "stdout",
     "output_type": "stream",
     "text": [
      "Epoch [61/70], Train loss: 0.165512\n",
      "Validation loss: 0.437505\n"
     ]
    },
    {
     "name": "stderr",
     "output_type": "stream",
     "text": [
      "Training...: 100%|██████████| 55/55 [00:04<00:00, 11.87it/s]\n"
     ]
    },
    {
     "name": "stdout",
     "output_type": "stream",
     "text": [
      "Epoch [62/70], Train loss: 0.159027\n",
      "Validation loss: 0.437081\n"
     ]
    },
    {
     "name": "stderr",
     "output_type": "stream",
     "text": [
      "Training...: 100%|██████████| 55/55 [00:04<00:00, 11.89it/s]\n"
     ]
    },
    {
     "name": "stdout",
     "output_type": "stream",
     "text": [
      "Epoch [63/70], Train loss: 0.151707\n",
      "Validation loss: 0.436159\n"
     ]
    },
    {
     "name": "stderr",
     "output_type": "stream",
     "text": [
      "Training...: 100%|██████████| 55/55 [00:04<00:00, 11.91it/s]\n"
     ]
    },
    {
     "name": "stdout",
     "output_type": "stream",
     "text": [
      "Epoch [64/70], Train loss: 0.149738\n",
      "Validation loss: 0.435255\n"
     ]
    },
    {
     "name": "stderr",
     "output_type": "stream",
     "text": [
      "Training...: 100%|██████████| 55/55 [00:04<00:00, 11.86it/s]\n"
     ]
    },
    {
     "name": "stdout",
     "output_type": "stream",
     "text": [
      "Epoch [65/70], Train loss: 0.141075\n",
      "Validation loss: 0.434889\n"
     ]
    },
    {
     "name": "stderr",
     "output_type": "stream",
     "text": [
      "Training...: 100%|██████████| 55/55 [00:04<00:00, 11.87it/s]\n"
     ]
    },
    {
     "name": "stdout",
     "output_type": "stream",
     "text": [
      "Epoch [66/70], Train loss: 0.141661\n",
      "Validation loss: 0.433886\n"
     ]
    },
    {
     "name": "stderr",
     "output_type": "stream",
     "text": [
      "Training...: 100%|██████████| 55/55 [00:04<00:00, 11.91it/s]\n"
     ]
    },
    {
     "name": "stdout",
     "output_type": "stream",
     "text": [
      "Epoch [67/70], Train loss: 0.146510\n",
      "Validation loss: 0.432723\n"
     ]
    },
    {
     "name": "stderr",
     "output_type": "stream",
     "text": [
      "Training...: 100%|██████████| 55/55 [00:04<00:00, 11.88it/s]\n"
     ]
    },
    {
     "name": "stdout",
     "output_type": "stream",
     "text": [
      "Epoch [68/70], Train loss: 0.170671\n",
      "Validation loss: 0.432596\n"
     ]
    },
    {
     "name": "stderr",
     "output_type": "stream",
     "text": [
      "Training...: 100%|██████████| 55/55 [00:04<00:00, 11.91it/s]\n"
     ]
    },
    {
     "name": "stdout",
     "output_type": "stream",
     "text": [
      "Epoch [69/70], Train loss: 0.138471\n",
      "Validation loss: 0.431796\n"
     ]
    },
    {
     "name": "stderr",
     "output_type": "stream",
     "text": [
      "Training...: 100%|██████████| 55/55 [00:04<00:00, 11.91it/s]\n"
     ]
    },
    {
     "name": "stdout",
     "output_type": "stream",
     "text": [
      "Epoch [70/70], Train loss: 0.131214\n",
      "Validation loss: 0.431954\n",
      "*-----------------------------*\n",
      "|         Using cuda          |\n",
      "*-----------------------------*\n"
     ]
    },
    {
     "name": "stderr",
     "output_type": "stream",
     "text": [
      "Training...: 100%|██████████| 55/55 [00:04<00:00, 11.58it/s]\n"
     ]
    },
    {
     "name": "stdout",
     "output_type": "stream",
     "text": [
      "Epoch [1/70], Train loss: 0.734440\n",
      "Validation loss: 0.755424\n"
     ]
    },
    {
     "name": "stderr",
     "output_type": "stream",
     "text": [
      "Training...: 100%|██████████| 55/55 [00:04<00:00, 11.92it/s]\n"
     ]
    },
    {
     "name": "stdout",
     "output_type": "stream",
     "text": [
      "Epoch [2/70], Train loss: 0.699051\n",
      "Validation loss: 0.739989\n"
     ]
    },
    {
     "name": "stderr",
     "output_type": "stream",
     "text": [
      "Training...: 100%|██████████| 55/55 [00:04<00:00, 11.90it/s]\n"
     ]
    },
    {
     "name": "stdout",
     "output_type": "stream",
     "text": [
      "Epoch [3/70], Train loss: 0.672615\n",
      "Validation loss: 0.726094\n"
     ]
    },
    {
     "name": "stderr",
     "output_type": "stream",
     "text": [
      "Training...: 100%|██████████| 55/55 [00:04<00:00, 11.85it/s]\n"
     ]
    },
    {
     "name": "stdout",
     "output_type": "stream",
     "text": [
      "Epoch [4/70], Train loss: 0.646692\n",
      "Validation loss: 0.713192\n"
     ]
    },
    {
     "name": "stderr",
     "output_type": "stream",
     "text": [
      "Training...: 100%|██████████| 55/55 [00:04<00:00, 11.84it/s]\n"
     ]
    },
    {
     "name": "stdout",
     "output_type": "stream",
     "text": [
      "Epoch [5/70], Train loss: 0.621959\n",
      "Validation loss: 0.701430\n"
     ]
    },
    {
     "name": "stderr",
     "output_type": "stream",
     "text": [
      "Training...: 100%|██████████| 55/55 [00:04<00:00, 11.87it/s]\n"
     ]
    },
    {
     "name": "stdout",
     "output_type": "stream",
     "text": [
      "Epoch [6/70], Train loss: 0.594738\n",
      "Validation loss: 0.689854\n"
     ]
    },
    {
     "name": "stderr",
     "output_type": "stream",
     "text": [
      "Training...: 100%|██████████| 55/55 [00:04<00:00, 11.83it/s]\n"
     ]
    },
    {
     "name": "stdout",
     "output_type": "stream",
     "text": [
      "Epoch [7/70], Train loss: 0.578049\n",
      "Validation loss: 0.679430\n"
     ]
    },
    {
     "name": "stderr",
     "output_type": "stream",
     "text": [
      "Training...: 100%|██████████| 55/55 [00:04<00:00, 11.83it/s]\n"
     ]
    },
    {
     "name": "stdout",
     "output_type": "stream",
     "text": [
      "Epoch [8/70], Train loss: 0.560089\n",
      "Validation loss: 0.668578\n"
     ]
    },
    {
     "name": "stderr",
     "output_type": "stream",
     "text": [
      "Training...: 100%|██████████| 55/55 [00:04<00:00, 11.91it/s]\n"
     ]
    },
    {
     "name": "stdout",
     "output_type": "stream",
     "text": [
      "Epoch [9/70], Train loss: 0.541254\n",
      "Validation loss: 0.657869\n"
     ]
    },
    {
     "name": "stderr",
     "output_type": "stream",
     "text": [
      "Training...: 100%|██████████| 55/55 [00:04<00:00, 11.88it/s]\n"
     ]
    },
    {
     "name": "stdout",
     "output_type": "stream",
     "text": [
      "Epoch [10/70], Train loss: 0.521962\n",
      "Validation loss: 0.647661\n"
     ]
    },
    {
     "name": "stderr",
     "output_type": "stream",
     "text": [
      "Training...: 100%|██████████| 55/55 [00:04<00:00, 11.88it/s]\n"
     ]
    },
    {
     "name": "stdout",
     "output_type": "stream",
     "text": [
      "Epoch [11/70], Train loss: 0.506926\n",
      "Validation loss: 0.637852\n"
     ]
    },
    {
     "name": "stderr",
     "output_type": "stream",
     "text": [
      "Training...: 100%|██████████| 55/55 [00:04<00:00, 11.87it/s]\n"
     ]
    },
    {
     "name": "stdout",
     "output_type": "stream",
     "text": [
      "Epoch [12/70], Train loss: 0.490499\n",
      "Validation loss: 0.628255\n"
     ]
    },
    {
     "name": "stderr",
     "output_type": "stream",
     "text": [
      "Training...: 100%|██████████| 55/55 [00:04<00:00, 11.94it/s]\n"
     ]
    },
    {
     "name": "stdout",
     "output_type": "stream",
     "text": [
      "Epoch [13/70], Train loss: 0.481567\n",
      "Validation loss: 0.619802\n"
     ]
    },
    {
     "name": "stderr",
     "output_type": "stream",
     "text": [
      "Training...: 100%|██████████| 55/55 [00:04<00:00, 11.86it/s]\n"
     ]
    },
    {
     "name": "stdout",
     "output_type": "stream",
     "text": [
      "Epoch [14/70], Train loss: 0.463817\n",
      "Validation loss: 0.610529\n"
     ]
    },
    {
     "name": "stderr",
     "output_type": "stream",
     "text": [
      "Training...: 100%|██████████| 55/55 [00:04<00:00, 11.86it/s]\n"
     ]
    },
    {
     "name": "stdout",
     "output_type": "stream",
     "text": [
      "Epoch [15/70], Train loss: 0.447891\n",
      "Validation loss: 0.602205\n"
     ]
    },
    {
     "name": "stderr",
     "output_type": "stream",
     "text": [
      "Training...: 100%|██████████| 55/55 [00:04<00:00, 11.88it/s]\n"
     ]
    },
    {
     "name": "stdout",
     "output_type": "stream",
     "text": [
      "Epoch [16/70], Train loss: 0.441555\n",
      "Validation loss: 0.595424\n"
     ]
    },
    {
     "name": "stderr",
     "output_type": "stream",
     "text": [
      "Training...: 100%|██████████| 55/55 [00:04<00:00, 11.87it/s]\n"
     ]
    },
    {
     "name": "stdout",
     "output_type": "stream",
     "text": [
      "Epoch [17/70], Train loss: 0.427247\n",
      "Validation loss: 0.587429\n"
     ]
    },
    {
     "name": "stderr",
     "output_type": "stream",
     "text": [
      "Training...: 100%|██████████| 55/55 [00:04<00:00, 11.81it/s]\n"
     ]
    },
    {
     "name": "stdout",
     "output_type": "stream",
     "text": [
      "Epoch [18/70], Train loss: 0.411795\n",
      "Validation loss: 0.580018\n"
     ]
    },
    {
     "name": "stderr",
     "output_type": "stream",
     "text": [
      "Training...: 100%|██████████| 55/55 [00:04<00:00, 11.87it/s]\n"
     ]
    },
    {
     "name": "stdout",
     "output_type": "stream",
     "text": [
      "Epoch [19/70], Train loss: 0.402607\n",
      "Validation loss: 0.572671\n"
     ]
    },
    {
     "name": "stderr",
     "output_type": "stream",
     "text": [
      "Training...: 100%|██████████| 55/55 [00:04<00:00, 11.85it/s]\n"
     ]
    },
    {
     "name": "stdout",
     "output_type": "stream",
     "text": [
      "Epoch [20/70], Train loss: 0.391390\n",
      "Validation loss: 0.566075\n"
     ]
    },
    {
     "name": "stderr",
     "output_type": "stream",
     "text": [
      "Training...: 100%|██████████| 55/55 [00:04<00:00, 11.84it/s]\n"
     ]
    },
    {
     "name": "stdout",
     "output_type": "stream",
     "text": [
      "Epoch [21/70], Train loss: 0.381231\n",
      "Validation loss: 0.559432\n"
     ]
    },
    {
     "name": "stderr",
     "output_type": "stream",
     "text": [
      "Training...: 100%|██████████| 55/55 [00:04<00:00, 11.87it/s]\n"
     ]
    },
    {
     "name": "stdout",
     "output_type": "stream",
     "text": [
      "Epoch [22/70], Train loss: 0.385039\n",
      "Validation loss: 0.552939\n"
     ]
    },
    {
     "name": "stderr",
     "output_type": "stream",
     "text": [
      "Training...: 100%|██████████| 55/55 [00:04<00:00, 11.85it/s]\n"
     ]
    },
    {
     "name": "stdout",
     "output_type": "stream",
     "text": [
      "Epoch [23/70], Train loss: 0.374012\n",
      "Validation loss: 0.547331\n"
     ]
    },
    {
     "name": "stderr",
     "output_type": "stream",
     "text": [
      "Training...: 100%|██████████| 55/55 [00:04<00:00, 11.96it/s]\n"
     ]
    },
    {
     "name": "stdout",
     "output_type": "stream",
     "text": [
      "Epoch [24/70], Train loss: 0.350260\n",
      "Validation loss: 0.541991\n"
     ]
    },
    {
     "name": "stderr",
     "output_type": "stream",
     "text": [
      "Training...: 100%|██████████| 55/55 [00:04<00:00, 11.85it/s]\n"
     ]
    },
    {
     "name": "stdout",
     "output_type": "stream",
     "text": [
      "Epoch [25/70], Train loss: 0.345020\n",
      "Validation loss: 0.536479\n"
     ]
    },
    {
     "name": "stderr",
     "output_type": "stream",
     "text": [
      "Training...: 100%|██████████| 55/55 [00:04<00:00, 11.88it/s]\n"
     ]
    },
    {
     "name": "stdout",
     "output_type": "stream",
     "text": [
      "Epoch [26/70], Train loss: 0.331968\n",
      "Validation loss: 0.531111\n"
     ]
    },
    {
     "name": "stderr",
     "output_type": "stream",
     "text": [
      "Training...: 100%|██████████| 55/55 [00:04<00:00, 11.87it/s]\n"
     ]
    },
    {
     "name": "stdout",
     "output_type": "stream",
     "text": [
      "Epoch [27/70], Train loss: 0.323630\n",
      "Validation loss: 0.527386\n"
     ]
    },
    {
     "name": "stderr",
     "output_type": "stream",
     "text": [
      "Training...: 100%|██████████| 55/55 [00:04<00:00, 11.88it/s]\n"
     ]
    },
    {
     "name": "stdout",
     "output_type": "stream",
     "text": [
      "Epoch [28/70], Train loss: 0.315792\n",
      "Validation loss: 0.523421\n"
     ]
    },
    {
     "name": "stderr",
     "output_type": "stream",
     "text": [
      "Training...: 100%|██████████| 55/55 [00:04<00:00, 11.84it/s]\n"
     ]
    },
    {
     "name": "stdout",
     "output_type": "stream",
     "text": [
      "Epoch [29/70], Train loss: 0.307623\n",
      "Validation loss: 0.517952\n"
     ]
    },
    {
     "name": "stderr",
     "output_type": "stream",
     "text": [
      "Training...: 100%|██████████| 55/55 [00:04<00:00, 11.85it/s]\n"
     ]
    },
    {
     "name": "stdout",
     "output_type": "stream",
     "text": [
      "Epoch [30/70], Train loss: 0.304731\n",
      "Validation loss: 0.513773\n"
     ]
    },
    {
     "name": "stderr",
     "output_type": "stream",
     "text": [
      "Training...: 100%|██████████| 55/55 [00:04<00:00, 11.91it/s]\n"
     ]
    },
    {
     "name": "stdout",
     "output_type": "stream",
     "text": [
      "Epoch [31/70], Train loss: 0.292870\n",
      "Validation loss: 0.509438\n"
     ]
    },
    {
     "name": "stderr",
     "output_type": "stream",
     "text": [
      "Training...: 100%|██████████| 55/55 [00:04<00:00, 11.82it/s]\n"
     ]
    },
    {
     "name": "stdout",
     "output_type": "stream",
     "text": [
      "Epoch [32/70], Train loss: 0.288533\n",
      "Validation loss: 0.504849\n"
     ]
    },
    {
     "name": "stderr",
     "output_type": "stream",
     "text": [
      "Training...: 100%|██████████| 55/55 [00:04<00:00, 11.82it/s]\n"
     ]
    },
    {
     "name": "stdout",
     "output_type": "stream",
     "text": [
      "Epoch [33/70], Train loss: 0.276668\n",
      "Validation loss: 0.501537\n"
     ]
    },
    {
     "name": "stderr",
     "output_type": "stream",
     "text": [
      "Training...: 100%|██████████| 55/55 [00:04<00:00, 11.88it/s]\n"
     ]
    },
    {
     "name": "stdout",
     "output_type": "stream",
     "text": [
      "Epoch [34/70], Train loss: 0.273953\n",
      "Validation loss: 0.497402\n"
     ]
    },
    {
     "name": "stderr",
     "output_type": "stream",
     "text": [
      "Training...: 100%|██████████| 55/55 [00:04<00:00, 11.95it/s]\n"
     ]
    },
    {
     "name": "stdout",
     "output_type": "stream",
     "text": [
      "Epoch [35/70], Train loss: 0.266953\n",
      "Validation loss: 0.493966\n"
     ]
    },
    {
     "name": "stderr",
     "output_type": "stream",
     "text": [
      "Training...: 100%|██████████| 55/55 [00:04<00:00, 11.85it/s]\n"
     ]
    },
    {
     "name": "stdout",
     "output_type": "stream",
     "text": [
      "Epoch [36/70], Train loss: 0.257928\n",
      "Validation loss: 0.490780\n"
     ]
    },
    {
     "name": "stderr",
     "output_type": "stream",
     "text": [
      "Training...: 100%|██████████| 55/55 [00:04<00:00, 11.90it/s]\n"
     ]
    },
    {
     "name": "stdout",
     "output_type": "stream",
     "text": [
      "Epoch [37/70], Train loss: 0.251966\n",
      "Validation loss: 0.487634\n"
     ]
    },
    {
     "name": "stderr",
     "output_type": "stream",
     "text": [
      "Training...: 100%|██████████| 55/55 [00:04<00:00, 11.92it/s]\n"
     ]
    },
    {
     "name": "stdout",
     "output_type": "stream",
     "text": [
      "Epoch [38/70], Train loss: 0.246417\n",
      "Validation loss: 0.485037\n"
     ]
    },
    {
     "name": "stderr",
     "output_type": "stream",
     "text": [
      "Training...: 100%|██████████| 55/55 [00:04<00:00, 11.93it/s]\n"
     ]
    },
    {
     "name": "stdout",
     "output_type": "stream",
     "text": [
      "Epoch [39/70], Train loss: 0.248325\n",
      "Validation loss: 0.482113\n"
     ]
    },
    {
     "name": "stderr",
     "output_type": "stream",
     "text": [
      "Training...: 100%|██████████| 55/55 [00:04<00:00, 11.83it/s]\n"
     ]
    },
    {
     "name": "stdout",
     "output_type": "stream",
     "text": [
      "Epoch [40/70], Train loss: 0.235513\n",
      "Validation loss: 0.479148\n"
     ]
    },
    {
     "name": "stderr",
     "output_type": "stream",
     "text": [
      "Training...: 100%|██████████| 55/55 [00:04<00:00, 11.86it/s]\n"
     ]
    },
    {
     "name": "stdout",
     "output_type": "stream",
     "text": [
      "Epoch [41/70], Train loss: 0.231204\n",
      "Validation loss: 0.476741\n"
     ]
    },
    {
     "name": "stderr",
     "output_type": "stream",
     "text": [
      "Training...: 100%|██████████| 55/55 [00:04<00:00, 11.87it/s]\n"
     ]
    },
    {
     "name": "stdout",
     "output_type": "stream",
     "text": [
      "Epoch [42/70], Train loss: 0.228656\n",
      "Validation loss: 0.474178\n"
     ]
    },
    {
     "name": "stderr",
     "output_type": "stream",
     "text": [
      "Training...: 100%|██████████| 55/55 [00:04<00:00, 11.88it/s]\n"
     ]
    },
    {
     "name": "stdout",
     "output_type": "stream",
     "text": [
      "Epoch [43/70], Train loss: 0.219665\n",
      "Validation loss: 0.472098\n"
     ]
    },
    {
     "name": "stderr",
     "output_type": "stream",
     "text": [
      "Training...: 100%|██████████| 55/55 [00:04<00:00, 11.47it/s]\n"
     ]
    },
    {
     "name": "stdout",
     "output_type": "stream",
     "text": [
      "Epoch [44/70], Train loss: 0.212310\n",
      "Validation loss: 0.470515\n"
     ]
    },
    {
     "name": "stderr",
     "output_type": "stream",
     "text": [
      "Training...: 100%|██████████| 55/55 [00:04<00:00, 11.85it/s]\n"
     ]
    },
    {
     "name": "stdout",
     "output_type": "stream",
     "text": [
      "Epoch [45/70], Train loss: 0.209617\n",
      "Validation loss: 0.468418\n"
     ]
    },
    {
     "name": "stderr",
     "output_type": "stream",
     "text": [
      "Training...: 100%|██████████| 55/55 [00:04<00:00, 11.90it/s]\n"
     ]
    },
    {
     "name": "stdout",
     "output_type": "stream",
     "text": [
      "Epoch [46/70], Train loss: 0.204359\n",
      "Validation loss: 0.466119\n"
     ]
    },
    {
     "name": "stderr",
     "output_type": "stream",
     "text": [
      "Training...: 100%|██████████| 55/55 [00:04<00:00, 11.87it/s]\n"
     ]
    },
    {
     "name": "stdout",
     "output_type": "stream",
     "text": [
      "Epoch [47/70], Train loss: 0.203673\n",
      "Validation loss: 0.463399\n"
     ]
    },
    {
     "name": "stderr",
     "output_type": "stream",
     "text": [
      "Training...: 100%|██████████| 55/55 [00:04<00:00, 11.85it/s]\n"
     ]
    },
    {
     "name": "stdout",
     "output_type": "stream",
     "text": [
      "Epoch [48/70], Train loss: 0.198762\n",
      "Validation loss: 0.462630\n"
     ]
    },
    {
     "name": "stderr",
     "output_type": "stream",
     "text": [
      "Training...: 100%|██████████| 55/55 [00:04<00:00, 11.86it/s]\n"
     ]
    },
    {
     "name": "stdout",
     "output_type": "stream",
     "text": [
      "Epoch [49/70], Train loss: 0.192094\n",
      "Validation loss: 0.460716\n"
     ]
    },
    {
     "name": "stderr",
     "output_type": "stream",
     "text": [
      "Training...: 100%|██████████| 55/55 [00:04<00:00, 11.84it/s]\n"
     ]
    },
    {
     "name": "stdout",
     "output_type": "stream",
     "text": [
      "Epoch [50/70], Train loss: 0.186167\n",
      "Validation loss: 0.459547\n"
     ]
    },
    {
     "name": "stderr",
     "output_type": "stream",
     "text": [
      "Training...: 100%|██████████| 55/55 [00:04<00:00, 11.82it/s]\n"
     ]
    },
    {
     "name": "stdout",
     "output_type": "stream",
     "text": [
      "Epoch [51/70], Train loss: 0.183017\n",
      "Validation loss: 0.457974\n"
     ]
    },
    {
     "name": "stderr",
     "output_type": "stream",
     "text": [
      "Training...: 100%|██████████| 55/55 [00:04<00:00, 11.90it/s]\n"
     ]
    },
    {
     "name": "stdout",
     "output_type": "stream",
     "text": [
      "Epoch [52/70], Train loss: 0.177098\n",
      "Validation loss: 0.456917\n"
     ]
    },
    {
     "name": "stderr",
     "output_type": "stream",
     "text": [
      "Training...: 100%|██████████| 55/55 [00:04<00:00, 11.92it/s]\n"
     ]
    },
    {
     "name": "stdout",
     "output_type": "stream",
     "text": [
      "Epoch [53/70], Train loss: 0.175551\n",
      "Validation loss: 0.455861\n"
     ]
    },
    {
     "name": "stderr",
     "output_type": "stream",
     "text": [
      "Training...: 100%|██████████| 55/55 [00:04<00:00, 11.86it/s]\n"
     ]
    },
    {
     "name": "stdout",
     "output_type": "stream",
     "text": [
      "Epoch [54/70], Train loss: 0.178853\n",
      "Validation loss: 0.455242\n"
     ]
    },
    {
     "name": "stderr",
     "output_type": "stream",
     "text": [
      "Training...: 100%|██████████| 55/55 [00:04<00:00, 11.90it/s]\n"
     ]
    },
    {
     "name": "stdout",
     "output_type": "stream",
     "text": [
      "Epoch [55/70], Train loss: 0.165906\n",
      "Validation loss: 0.454441\n"
     ]
    },
    {
     "name": "stderr",
     "output_type": "stream",
     "text": [
      "Training...: 100%|██████████| 55/55 [00:04<00:00, 11.86it/s]\n"
     ]
    },
    {
     "name": "stdout",
     "output_type": "stream",
     "text": [
      "Epoch [56/70], Train loss: 0.159951\n",
      "Validation loss: 0.454033\n"
     ]
    },
    {
     "name": "stderr",
     "output_type": "stream",
     "text": [
      "Training...: 100%|██████████| 55/55 [00:04<00:00, 11.87it/s]\n"
     ]
    },
    {
     "name": "stdout",
     "output_type": "stream",
     "text": [
      "Epoch [57/70], Train loss: 0.161817\n",
      "Validation loss: 0.452894\n"
     ]
    },
    {
     "name": "stderr",
     "output_type": "stream",
     "text": [
      "Training...: 100%|██████████| 55/55 [00:04<00:00, 11.86it/s]\n"
     ]
    },
    {
     "name": "stdout",
     "output_type": "stream",
     "text": [
      "Epoch [58/70], Train loss: 0.158492\n",
      "Validation loss: 0.452246\n"
     ]
    },
    {
     "name": "stderr",
     "output_type": "stream",
     "text": [
      "Training...: 100%|██████████| 55/55 [00:04<00:00, 11.88it/s]\n"
     ]
    },
    {
     "name": "stdout",
     "output_type": "stream",
     "text": [
      "Epoch [59/70], Train loss: 0.153518\n",
      "Validation loss: 0.451423\n"
     ]
    },
    {
     "name": "stderr",
     "output_type": "stream",
     "text": [
      "Training...: 100%|██████████| 55/55 [00:04<00:00, 11.89it/s]\n"
     ]
    },
    {
     "name": "stdout",
     "output_type": "stream",
     "text": [
      "Epoch [60/70], Train loss: 0.148699\n",
      "Validation loss: 0.450897\n"
     ]
    },
    {
     "name": "stderr",
     "output_type": "stream",
     "text": [
      "Training...: 100%|██████████| 55/55 [00:04<00:00, 11.89it/s]\n"
     ]
    },
    {
     "name": "stdout",
     "output_type": "stream",
     "text": [
      "Epoch [61/70], Train loss: 0.144775\n",
      "Validation loss: 0.450530\n"
     ]
    },
    {
     "name": "stderr",
     "output_type": "stream",
     "text": [
      "Training...: 100%|██████████| 55/55 [00:04<00:00, 11.92it/s]\n"
     ]
    },
    {
     "name": "stdout",
     "output_type": "stream",
     "text": [
      "Epoch [62/70], Train loss: 0.145815\n",
      "Validation loss: 0.450323\n"
     ]
    },
    {
     "name": "stderr",
     "output_type": "stream",
     "text": [
      "Training...: 100%|██████████| 55/55 [00:04<00:00, 11.91it/s]\n"
     ]
    },
    {
     "name": "stdout",
     "output_type": "stream",
     "text": [
      "Epoch [63/70], Train loss: 0.143359\n",
      "Validation loss: 0.449255\n"
     ]
    },
    {
     "name": "stderr",
     "output_type": "stream",
     "text": [
      "Training...: 100%|██████████| 55/55 [00:04<00:00, 11.79it/s]\n"
     ]
    },
    {
     "name": "stdout",
     "output_type": "stream",
     "text": [
      "Epoch [64/70], Train loss: 0.147888\n",
      "Validation loss: 0.449284\n"
     ]
    },
    {
     "name": "stderr",
     "output_type": "stream",
     "text": [
      "Training...: 100%|██████████| 55/55 [00:04<00:00, 11.84it/s]\n"
     ]
    },
    {
     "name": "stdout",
     "output_type": "stream",
     "text": [
      "Epoch [65/70], Train loss: 0.138725\n",
      "Validation loss: 0.449767\n"
     ]
    },
    {
     "name": "stderr",
     "output_type": "stream",
     "text": [
      "Training...: 100%|██████████| 55/55 [00:04<00:00, 11.85it/s]\n"
     ]
    },
    {
     "name": "stdout",
     "output_type": "stream",
     "text": [
      "Epoch [66/70], Train loss: 0.132156\n",
      "Validation loss: 0.448371\n"
     ]
    },
    {
     "name": "stderr",
     "output_type": "stream",
     "text": [
      "Training...: 100%|██████████| 55/55 [00:04<00:00, 11.80it/s]\n"
     ]
    },
    {
     "name": "stdout",
     "output_type": "stream",
     "text": [
      "Epoch [67/70], Train loss: 0.126147\n",
      "Validation loss: 0.448602\n"
     ]
    },
    {
     "name": "stderr",
     "output_type": "stream",
     "text": [
      "Training...: 100%|██████████| 55/55 [00:04<00:00, 11.82it/s]\n"
     ]
    },
    {
     "name": "stdout",
     "output_type": "stream",
     "text": [
      "Epoch [68/70], Train loss: 0.125317\n",
      "Validation loss: 0.448520\n"
     ]
    },
    {
     "name": "stderr",
     "output_type": "stream",
     "text": [
      "Training...: 100%|██████████| 55/55 [00:04<00:00, 11.88it/s]\n"
     ]
    },
    {
     "name": "stdout",
     "output_type": "stream",
     "text": [
      "Epoch [69/70], Train loss: 0.151797\n",
      "Validation loss: 0.448063\n"
     ]
    },
    {
     "name": "stderr",
     "output_type": "stream",
     "text": [
      "Training...: 100%|██████████| 55/55 [00:04<00:00, 11.88it/s]\n"
     ]
    },
    {
     "name": "stdout",
     "output_type": "stream",
     "text": [
      "Epoch [70/70], Train loss: 0.122738\n",
      "Validation loss: 0.448438\n",
      "*-----------------------------*\n",
      "|         Using cuda          |\n",
      "*-----------------------------*\n"
     ]
    },
    {
     "name": "stderr",
     "output_type": "stream",
     "text": [
      "Training...: 100%|██████████| 55/55 [00:04<00:00, 11.87it/s]\n"
     ]
    },
    {
     "name": "stdout",
     "output_type": "stream",
     "text": [
      "Epoch [1/70], Train loss: 0.651246\n",
      "Validation loss: 0.640591\n"
     ]
    },
    {
     "name": "stderr",
     "output_type": "stream",
     "text": [
      "Training...: 100%|██████████| 55/55 [00:04<00:00, 11.89it/s]\n"
     ]
    },
    {
     "name": "stdout",
     "output_type": "stream",
     "text": [
      "Epoch [2/70], Train loss: 0.617799\n",
      "Validation loss: 0.624849\n"
     ]
    },
    {
     "name": "stderr",
     "output_type": "stream",
     "text": [
      "Training...: 100%|██████████| 55/55 [00:04<00:00, 11.87it/s]\n"
     ]
    },
    {
     "name": "stdout",
     "output_type": "stream",
     "text": [
      "Epoch [3/70], Train loss: 0.593395\n",
      "Validation loss: 0.612033\n"
     ]
    },
    {
     "name": "stderr",
     "output_type": "stream",
     "text": [
      "Training...: 100%|██████████| 55/55 [00:04<00:00, 11.82it/s]\n"
     ]
    },
    {
     "name": "stdout",
     "output_type": "stream",
     "text": [
      "Epoch [4/70], Train loss: 0.564305\n",
      "Validation loss: 0.601937\n"
     ]
    },
    {
     "name": "stderr",
     "output_type": "stream",
     "text": [
      "Training...: 100%|██████████| 55/55 [00:04<00:00, 11.85it/s]\n"
     ]
    },
    {
     "name": "stdout",
     "output_type": "stream",
     "text": [
      "Epoch [5/70], Train loss: 0.544850\n",
      "Validation loss: 0.592492\n"
     ]
    },
    {
     "name": "stderr",
     "output_type": "stream",
     "text": [
      "Training...: 100%|██████████| 55/55 [00:04<00:00, 11.91it/s]\n"
     ]
    },
    {
     "name": "stdout",
     "output_type": "stream",
     "text": [
      "Epoch [6/70], Train loss: 0.523180\n",
      "Validation loss: 0.583828\n"
     ]
    },
    {
     "name": "stderr",
     "output_type": "stream",
     "text": [
      "Training...: 100%|██████████| 55/55 [00:04<00:00, 11.92it/s]\n"
     ]
    },
    {
     "name": "stdout",
     "output_type": "stream",
     "text": [
      "Epoch [7/70], Train loss: 0.510137\n",
      "Validation loss: 0.576030\n"
     ]
    },
    {
     "name": "stderr",
     "output_type": "stream",
     "text": [
      "Training...: 100%|██████████| 55/55 [00:04<00:00, 11.80it/s]\n"
     ]
    },
    {
     "name": "stdout",
     "output_type": "stream",
     "text": [
      "Epoch [8/70], Train loss: 0.489490\n",
      "Validation loss: 0.569179\n"
     ]
    },
    {
     "name": "stderr",
     "output_type": "stream",
     "text": [
      "Training...: 100%|██████████| 55/55 [00:04<00:00, 11.87it/s]\n"
     ]
    },
    {
     "name": "stdout",
     "output_type": "stream",
     "text": [
      "Epoch [9/70], Train loss: 0.478625\n",
      "Validation loss: 0.562371\n"
     ]
    },
    {
     "name": "stderr",
     "output_type": "stream",
     "text": [
      "Training...: 100%|██████████| 55/55 [00:04<00:00, 11.81it/s]\n"
     ]
    },
    {
     "name": "stdout",
     "output_type": "stream",
     "text": [
      "Epoch [10/70], Train loss: 0.461568\n",
      "Validation loss: 0.556113\n"
     ]
    },
    {
     "name": "stderr",
     "output_type": "stream",
     "text": [
      "Training...: 100%|██████████| 55/55 [00:04<00:00, 11.82it/s]\n"
     ]
    },
    {
     "name": "stdout",
     "output_type": "stream",
     "text": [
      "Epoch [11/70], Train loss: 0.448807\n",
      "Validation loss: 0.549733\n"
     ]
    },
    {
     "name": "stderr",
     "output_type": "stream",
     "text": [
      "Training...: 100%|██████████| 55/55 [00:04<00:00, 11.82it/s]\n"
     ]
    },
    {
     "name": "stdout",
     "output_type": "stream",
     "text": [
      "Epoch [12/70], Train loss: 0.437415\n",
      "Validation loss: 0.543080\n"
     ]
    },
    {
     "name": "stderr",
     "output_type": "stream",
     "text": [
      "Training...: 100%|██████████| 55/55 [00:04<00:00, 11.82it/s]\n"
     ]
    },
    {
     "name": "stdout",
     "output_type": "stream",
     "text": [
      "Epoch [13/70], Train loss: 0.423106\n",
      "Validation loss: 0.537219\n"
     ]
    },
    {
     "name": "stderr",
     "output_type": "stream",
     "text": [
      "Training...: 100%|██████████| 55/55 [00:04<00:00, 11.83it/s]\n"
     ]
    },
    {
     "name": "stdout",
     "output_type": "stream",
     "text": [
      "Epoch [14/70], Train loss: 0.413347\n",
      "Validation loss: 0.531437\n"
     ]
    },
    {
     "name": "stderr",
     "output_type": "stream",
     "text": [
      "Training...: 100%|██████████| 55/55 [00:04<00:00, 11.83it/s]\n"
     ]
    },
    {
     "name": "stdout",
     "output_type": "stream",
     "text": [
      "Epoch [15/70], Train loss: 0.398548\n",
      "Validation loss: 0.525961\n"
     ]
    },
    {
     "name": "stderr",
     "output_type": "stream",
     "text": [
      "Training...: 100%|██████████| 55/55 [00:04<00:00, 11.85it/s]\n"
     ]
    },
    {
     "name": "stdout",
     "output_type": "stream",
     "text": [
      "Epoch [16/70], Train loss: 0.388154\n",
      "Validation loss: 0.520832\n"
     ]
    },
    {
     "name": "stderr",
     "output_type": "stream",
     "text": [
      "Training...: 100%|██████████| 55/55 [00:04<00:00, 11.87it/s]\n"
     ]
    },
    {
     "name": "stdout",
     "output_type": "stream",
     "text": [
      "Epoch [17/70], Train loss: 0.380278\n",
      "Validation loss: 0.515780\n"
     ]
    },
    {
     "name": "stderr",
     "output_type": "stream",
     "text": [
      "Training...: 100%|██████████| 55/55 [00:04<00:00, 11.90it/s]\n"
     ]
    },
    {
     "name": "stdout",
     "output_type": "stream",
     "text": [
      "Epoch [18/70], Train loss: 0.387135\n",
      "Validation loss: 0.510625\n"
     ]
    },
    {
     "name": "stderr",
     "output_type": "stream",
     "text": [
      "Training...: 100%|██████████| 55/55 [00:04<00:00, 11.90it/s]\n"
     ]
    },
    {
     "name": "stdout",
     "output_type": "stream",
     "text": [
      "Epoch [19/70], Train loss: 0.361735\n",
      "Validation loss: 0.506546\n"
     ]
    },
    {
     "name": "stderr",
     "output_type": "stream",
     "text": [
      "Training...: 100%|██████████| 55/55 [00:04<00:00, 11.91it/s]\n"
     ]
    },
    {
     "name": "stdout",
     "output_type": "stream",
     "text": [
      "Epoch [20/70], Train loss: 0.369399\n",
      "Validation loss: 0.502277\n"
     ]
    },
    {
     "name": "stderr",
     "output_type": "stream",
     "text": [
      "Training...: 100%|██████████| 55/55 [00:04<00:00, 11.86it/s]\n"
     ]
    },
    {
     "name": "stdout",
     "output_type": "stream",
     "text": [
      "Epoch [21/70], Train loss: 0.345727\n",
      "Validation loss: 0.498217\n"
     ]
    },
    {
     "name": "stderr",
     "output_type": "stream",
     "text": [
      "Training...: 100%|██████████| 55/55 [00:04<00:00, 11.90it/s]\n"
     ]
    },
    {
     "name": "stdout",
     "output_type": "stream",
     "text": [
      "Epoch [22/70], Train loss: 0.338108\n",
      "Validation loss: 0.494128\n"
     ]
    },
    {
     "name": "stderr",
     "output_type": "stream",
     "text": [
      "Training...: 100%|██████████| 55/55 [00:04<00:00, 11.93it/s]\n"
     ]
    },
    {
     "name": "stdout",
     "output_type": "stream",
     "text": [
      "Epoch [23/70], Train loss: 0.342105\n",
      "Validation loss: 0.489560\n"
     ]
    },
    {
     "name": "stderr",
     "output_type": "stream",
     "text": [
      "Training...: 100%|██████████| 55/55 [00:04<00:00, 11.89it/s]\n"
     ]
    },
    {
     "name": "stdout",
     "output_type": "stream",
     "text": [
      "Epoch [24/70], Train loss: 0.321262\n",
      "Validation loss: 0.486095\n"
     ]
    },
    {
     "name": "stderr",
     "output_type": "stream",
     "text": [
      "Training...: 100%|██████████| 55/55 [00:04<00:00, 11.82it/s]\n"
     ]
    },
    {
     "name": "stdout",
     "output_type": "stream",
     "text": [
      "Epoch [25/70], Train loss: 0.316436\n",
      "Validation loss: 0.482715\n"
     ]
    },
    {
     "name": "stderr",
     "output_type": "stream",
     "text": [
      "Training...: 100%|██████████| 55/55 [00:04<00:00, 11.91it/s]\n"
     ]
    },
    {
     "name": "stdout",
     "output_type": "stream",
     "text": [
      "Epoch [26/70], Train loss: 0.304201\n",
      "Validation loss: 0.479388\n"
     ]
    },
    {
     "name": "stderr",
     "output_type": "stream",
     "text": [
      "Training...: 100%|██████████| 55/55 [00:04<00:00, 11.83it/s]\n"
     ]
    },
    {
     "name": "stdout",
     "output_type": "stream",
     "text": [
      "Epoch [27/70], Train loss: 0.299561\n",
      "Validation loss: 0.475452\n"
     ]
    },
    {
     "name": "stderr",
     "output_type": "stream",
     "text": [
      "Training...: 100%|██████████| 55/55 [00:04<00:00, 11.89it/s]\n"
     ]
    },
    {
     "name": "stdout",
     "output_type": "stream",
     "text": [
      "Epoch [28/70], Train loss: 0.299816\n",
      "Validation loss: 0.472823\n"
     ]
    },
    {
     "name": "stderr",
     "output_type": "stream",
     "text": [
      "Training...: 100%|██████████| 55/55 [00:04<00:00, 11.81it/s]\n"
     ]
    },
    {
     "name": "stdout",
     "output_type": "stream",
     "text": [
      "Epoch [29/70], Train loss: 0.289829\n",
      "Validation loss: 0.470025\n"
     ]
    },
    {
     "name": "stderr",
     "output_type": "stream",
     "text": [
      "Training...: 100%|██████████| 55/55 [00:04<00:00, 11.88it/s]\n"
     ]
    },
    {
     "name": "stdout",
     "output_type": "stream",
     "text": [
      "Epoch [30/70], Train loss: 0.278714\n",
      "Validation loss: 0.467642\n"
     ]
    },
    {
     "name": "stderr",
     "output_type": "stream",
     "text": [
      "Training...: 100%|██████████| 55/55 [00:04<00:00, 11.80it/s]\n"
     ]
    },
    {
     "name": "stdout",
     "output_type": "stream",
     "text": [
      "Epoch [31/70], Train loss: 0.273580\n",
      "Validation loss: 0.464193\n"
     ]
    },
    {
     "name": "stderr",
     "output_type": "stream",
     "text": [
      "Training...: 100%|██████████| 55/55 [00:04<00:00, 11.85it/s]\n"
     ]
    },
    {
     "name": "stdout",
     "output_type": "stream",
     "text": [
      "Epoch [32/70], Train loss: 0.265267\n",
      "Validation loss: 0.460954\n"
     ]
    },
    {
     "name": "stderr",
     "output_type": "stream",
     "text": [
      "Training...: 100%|██████████| 55/55 [00:04<00:00, 11.81it/s]\n"
     ]
    },
    {
     "name": "stdout",
     "output_type": "stream",
     "text": [
      "Epoch [33/70], Train loss: 0.263556\n",
      "Validation loss: 0.458184\n"
     ]
    },
    {
     "name": "stderr",
     "output_type": "stream",
     "text": [
      "Training...: 100%|██████████| 55/55 [00:04<00:00, 11.91it/s]\n"
     ]
    },
    {
     "name": "stdout",
     "output_type": "stream",
     "text": [
      "Epoch [34/70], Train loss: 0.254009\n",
      "Validation loss: 0.455669\n"
     ]
    },
    {
     "name": "stderr",
     "output_type": "stream",
     "text": [
      "Training...: 100%|██████████| 55/55 [00:04<00:00, 11.88it/s]\n"
     ]
    },
    {
     "name": "stdout",
     "output_type": "stream",
     "text": [
      "Epoch [35/70], Train loss: 0.249414\n",
      "Validation loss: 0.452848\n"
     ]
    },
    {
     "name": "stderr",
     "output_type": "stream",
     "text": [
      "Training...: 100%|██████████| 55/55 [00:04<00:00, 11.90it/s]\n"
     ]
    },
    {
     "name": "stdout",
     "output_type": "stream",
     "text": [
      "Epoch [36/70], Train loss: 0.242623\n",
      "Validation loss: 0.450749\n"
     ]
    },
    {
     "name": "stderr",
     "output_type": "stream",
     "text": [
      "Training...: 100%|██████████| 55/55 [00:04<00:00, 11.89it/s]\n"
     ]
    },
    {
     "name": "stdout",
     "output_type": "stream",
     "text": [
      "Epoch [37/70], Train loss: 0.237738\n",
      "Validation loss: 0.449094\n"
     ]
    },
    {
     "name": "stderr",
     "output_type": "stream",
     "text": [
      "Training...: 100%|██████████| 55/55 [00:04<00:00, 11.86it/s]\n"
     ]
    },
    {
     "name": "stdout",
     "output_type": "stream",
     "text": [
      "Epoch [38/70], Train loss: 0.231545\n",
      "Validation loss: 0.447528\n"
     ]
    },
    {
     "name": "stderr",
     "output_type": "stream",
     "text": [
      "Training...: 100%|██████████| 55/55 [00:04<00:00, 11.84it/s]\n"
     ]
    },
    {
     "name": "stdout",
     "output_type": "stream",
     "text": [
      "Epoch [39/70], Train loss: 0.230889\n",
      "Validation loss: 0.445151\n"
     ]
    },
    {
     "name": "stderr",
     "output_type": "stream",
     "text": [
      "Training...: 100%|██████████| 55/55 [00:04<00:00, 11.88it/s]\n"
     ]
    },
    {
     "name": "stdout",
     "output_type": "stream",
     "text": [
      "Epoch [40/70], Train loss: 0.224166\n",
      "Validation loss: 0.442984\n"
     ]
    },
    {
     "name": "stderr",
     "output_type": "stream",
     "text": [
      "Training...: 100%|██████████| 55/55 [00:04<00:00, 11.86it/s]\n"
     ]
    },
    {
     "name": "stdout",
     "output_type": "stream",
     "text": [
      "Epoch [41/70], Train loss: 0.220636\n",
      "Validation loss: 0.441343\n"
     ]
    },
    {
     "name": "stderr",
     "output_type": "stream",
     "text": [
      "Training...: 100%|██████████| 55/55 [00:04<00:00, 11.83it/s]\n"
     ]
    },
    {
     "name": "stdout",
     "output_type": "stream",
     "text": [
      "Epoch [42/70], Train loss: 0.212421\n",
      "Validation loss: 0.439278\n"
     ]
    },
    {
     "name": "stderr",
     "output_type": "stream",
     "text": [
      "Training...: 100%|██████████| 55/55 [00:04<00:00, 11.90it/s]\n"
     ]
    },
    {
     "name": "stdout",
     "output_type": "stream",
     "text": [
      "Epoch [43/70], Train loss: 0.211132\n",
      "Validation loss: 0.437818\n"
     ]
    },
    {
     "name": "stderr",
     "output_type": "stream",
     "text": [
      "Training...: 100%|██████████| 55/55 [00:04<00:00, 11.93it/s]\n"
     ]
    },
    {
     "name": "stdout",
     "output_type": "stream",
     "text": [
      "Epoch [44/70], Train loss: 0.204563\n",
      "Validation loss: 0.435766\n"
     ]
    },
    {
     "name": "stderr",
     "output_type": "stream",
     "text": [
      "Training...: 100%|██████████| 55/55 [00:04<00:00, 11.83it/s]\n"
     ]
    },
    {
     "name": "stdout",
     "output_type": "stream",
     "text": [
      "Epoch [45/70], Train loss: 0.199372\n",
      "Validation loss: 0.434101\n"
     ]
    },
    {
     "name": "stderr",
     "output_type": "stream",
     "text": [
      "Training...: 100%|██████████| 55/55 [00:04<00:00, 11.91it/s]\n"
     ]
    },
    {
     "name": "stdout",
     "output_type": "stream",
     "text": [
      "Epoch [46/70], Train loss: 0.198240\n",
      "Validation loss: 0.432836\n"
     ]
    },
    {
     "name": "stderr",
     "output_type": "stream",
     "text": [
      "Training...: 100%|██████████| 55/55 [00:04<00:00, 11.90it/s]\n"
     ]
    },
    {
     "name": "stdout",
     "output_type": "stream",
     "text": [
      "Epoch [47/70], Train loss: 0.198894\n",
      "Validation loss: 0.431890\n"
     ]
    },
    {
     "name": "stderr",
     "output_type": "stream",
     "text": [
      "Training...: 100%|██████████| 55/55 [00:04<00:00, 11.85it/s]\n"
     ]
    },
    {
     "name": "stdout",
     "output_type": "stream",
     "text": [
      "Epoch [48/70], Train loss: 0.188451\n",
      "Validation loss: 0.430219\n"
     ]
    },
    {
     "name": "stderr",
     "output_type": "stream",
     "text": [
      "Training...: 100%|██████████| 55/55 [00:04<00:00, 11.86it/s]\n"
     ]
    },
    {
     "name": "stdout",
     "output_type": "stream",
     "text": [
      "Epoch [49/70], Train loss: 0.185206\n",
      "Validation loss: 0.429408\n"
     ]
    },
    {
     "name": "stderr",
     "output_type": "stream",
     "text": [
      "Training...: 100%|██████████| 55/55 [00:04<00:00, 11.86it/s]\n"
     ]
    },
    {
     "name": "stdout",
     "output_type": "stream",
     "text": [
      "Epoch [50/70], Train loss: 0.187068\n",
      "Validation loss: 0.429094\n"
     ]
    },
    {
     "name": "stderr",
     "output_type": "stream",
     "text": [
      "Training...: 100%|██████████| 55/55 [00:04<00:00, 11.48it/s]\n"
     ]
    },
    {
     "name": "stdout",
     "output_type": "stream",
     "text": [
      "Epoch [51/70], Train loss: 0.178754\n",
      "Validation loss: 0.428611\n"
     ]
    },
    {
     "name": "stderr",
     "output_type": "stream",
     "text": [
      "Training...: 100%|██████████| 55/55 [00:04<00:00, 11.90it/s]\n"
     ]
    },
    {
     "name": "stdout",
     "output_type": "stream",
     "text": [
      "Epoch [52/70], Train loss: 0.200755\n",
      "Validation loss: 0.428455\n"
     ]
    },
    {
     "name": "stderr",
     "output_type": "stream",
     "text": [
      "Training...: 100%|██████████| 55/55 [00:04<00:00, 11.81it/s]\n"
     ]
    },
    {
     "name": "stdout",
     "output_type": "stream",
     "text": [
      "Epoch [53/70], Train loss: 0.169779\n",
      "Validation loss: 0.427943\n"
     ]
    },
    {
     "name": "stderr",
     "output_type": "stream",
     "text": [
      "Training...: 100%|██████████| 55/55 [00:04<00:00, 11.86it/s]\n"
     ]
    },
    {
     "name": "stdout",
     "output_type": "stream",
     "text": [
      "Epoch [54/70], Train loss: 0.171369\n",
      "Validation loss: 0.427186\n"
     ]
    },
    {
     "name": "stderr",
     "output_type": "stream",
     "text": [
      "Training...: 100%|██████████| 55/55 [00:04<00:00, 11.80it/s]\n"
     ]
    },
    {
     "name": "stdout",
     "output_type": "stream",
     "text": [
      "Epoch [55/70], Train loss: 0.165167\n",
      "Validation loss: 0.426151\n"
     ]
    },
    {
     "name": "stderr",
     "output_type": "stream",
     "text": [
      "Training...: 100%|██████████| 55/55 [00:04<00:00, 11.91it/s]\n"
     ]
    },
    {
     "name": "stdout",
     "output_type": "stream",
     "text": [
      "Epoch [56/70], Train loss: 0.162650\n",
      "Validation loss: 0.426373\n"
     ]
    },
    {
     "name": "stderr",
     "output_type": "stream",
     "text": [
      "Training...: 100%|██████████| 55/55 [00:04<00:00, 11.88it/s]\n"
     ]
    },
    {
     "name": "stdout",
     "output_type": "stream",
     "text": [
      "Epoch [57/70], Train loss: 0.160080\n",
      "Validation loss: 0.425240\n"
     ]
    },
    {
     "name": "stderr",
     "output_type": "stream",
     "text": [
      "Training...: 100%|██████████| 55/55 [00:04<00:00, 11.90it/s]\n"
     ]
    },
    {
     "name": "stdout",
     "output_type": "stream",
     "text": [
      "Epoch [58/70], Train loss: 0.159927\n",
      "Validation loss: 0.425074\n"
     ]
    },
    {
     "name": "stderr",
     "output_type": "stream",
     "text": [
      "Training...: 100%|██████████| 55/55 [00:04<00:00, 11.84it/s]\n"
     ]
    },
    {
     "name": "stdout",
     "output_type": "stream",
     "text": [
      "Epoch [59/70], Train loss: 0.154133\n",
      "Validation loss: 0.425739\n"
     ]
    },
    {
     "name": "stderr",
     "output_type": "stream",
     "text": [
      "Training...: 100%|██████████| 55/55 [00:04<00:00, 11.85it/s]\n"
     ]
    },
    {
     "name": "stdout",
     "output_type": "stream",
     "text": [
      "Epoch [60/70], Train loss: 0.148667\n",
      "Validation loss: 0.425276\n"
     ]
    },
    {
     "name": "stderr",
     "output_type": "stream",
     "text": [
      "Training...: 100%|██████████| 55/55 [00:04<00:00, 11.87it/s]\n"
     ]
    },
    {
     "name": "stdout",
     "output_type": "stream",
     "text": [
      "Epoch [61/70], Train loss: 0.147452\n",
      "Validation loss: 0.425108\n"
     ]
    },
    {
     "name": "stderr",
     "output_type": "stream",
     "text": [
      "Training...: 100%|██████████| 55/55 [00:04<00:00, 11.86it/s]\n"
     ]
    },
    {
     "name": "stdout",
     "output_type": "stream",
     "text": [
      "Epoch [62/70], Train loss: 0.141695\n",
      "Validation loss: 0.424678\n"
     ]
    },
    {
     "name": "stderr",
     "output_type": "stream",
     "text": [
      "Training...: 100%|██████████| 55/55 [00:04<00:00, 11.90it/s]\n"
     ]
    },
    {
     "name": "stdout",
     "output_type": "stream",
     "text": [
      "Epoch [63/70], Train loss: 0.138562\n",
      "Validation loss: 0.424581\n"
     ]
    },
    {
     "name": "stderr",
     "output_type": "stream",
     "text": [
      "Training...: 100%|██████████| 55/55 [00:04<00:00, 11.84it/s]\n"
     ]
    },
    {
     "name": "stdout",
     "output_type": "stream",
     "text": [
      "Epoch [64/70], Train loss: 0.138311\n",
      "Validation loss: 0.423938\n"
     ]
    },
    {
     "name": "stderr",
     "output_type": "stream",
     "text": [
      "Training...: 100%|██████████| 55/55 [00:04<00:00, 11.87it/s]\n"
     ]
    },
    {
     "name": "stdout",
     "output_type": "stream",
     "text": [
      "Epoch [65/70], Train loss: 0.132495\n",
      "Validation loss: 0.423534\n"
     ]
    },
    {
     "name": "stderr",
     "output_type": "stream",
     "text": [
      "Training...: 100%|██████████| 55/55 [00:04<00:00, 11.81it/s]\n"
     ]
    },
    {
     "name": "stdout",
     "output_type": "stream",
     "text": [
      "Epoch [66/70], Train loss: 0.130743\n",
      "Validation loss: 0.424000\n"
     ]
    },
    {
     "name": "stderr",
     "output_type": "stream",
     "text": [
      "Training...: 100%|██████████| 55/55 [00:04<00:00, 11.90it/s]\n"
     ]
    },
    {
     "name": "stdout",
     "output_type": "stream",
     "text": [
      "Epoch [67/70], Train loss: 0.131194\n",
      "Validation loss: 0.424458\n"
     ]
    },
    {
     "name": "stderr",
     "output_type": "stream",
     "text": [
      "Training...: 100%|██████████| 55/55 [00:04<00:00, 11.85it/s]\n"
     ]
    },
    {
     "name": "stdout",
     "output_type": "stream",
     "text": [
      "Epoch [68/70], Train loss: 0.127697\n",
      "Validation loss: 0.423784\n"
     ]
    },
    {
     "name": "stderr",
     "output_type": "stream",
     "text": [
      "Training...: 100%|██████████| 55/55 [00:04<00:00, 11.87it/s]\n"
     ]
    },
    {
     "name": "stdout",
     "output_type": "stream",
     "text": [
      "Epoch [69/70], Train loss: 0.124353\n",
      "Validation loss: 0.423453\n"
     ]
    },
    {
     "name": "stderr",
     "output_type": "stream",
     "text": [
      "Training...: 100%|██████████| 55/55 [00:04<00:00, 11.87it/s]\n"
     ]
    },
    {
     "name": "stdout",
     "output_type": "stream",
     "text": [
      "Epoch [70/70], Train loss: 0.122329\n",
      "Validation loss: 0.423758\n",
      "*-----------------------------*\n",
      "|         Using cuda          |\n",
      "*-----------------------------*\n"
     ]
    },
    {
     "name": "stderr",
     "output_type": "stream",
     "text": [
      "Training...: 100%|██████████| 55/55 [00:04<00:00, 11.92it/s]\n"
     ]
    },
    {
     "name": "stdout",
     "output_type": "stream",
     "text": [
      "Epoch [1/70], Train loss: 0.870555\n",
      "Validation loss: 0.836601\n"
     ]
    },
    {
     "name": "stderr",
     "output_type": "stream",
     "text": [
      "Training...: 100%|██████████| 55/55 [00:04<00:00, 11.92it/s]\n"
     ]
    },
    {
     "name": "stdout",
     "output_type": "stream",
     "text": [
      "Epoch [2/70], Train loss: 0.833100\n",
      "Validation loss: 0.820421\n"
     ]
    },
    {
     "name": "stderr",
     "output_type": "stream",
     "text": [
      "Training...: 100%|██████████| 55/55 [00:04<00:00, 11.83it/s]\n"
     ]
    },
    {
     "name": "stdout",
     "output_type": "stream",
     "text": [
      "Epoch [3/70], Train loss: 0.799838\n",
      "Validation loss: 0.804892\n"
     ]
    },
    {
     "name": "stderr",
     "output_type": "stream",
     "text": [
      "Training...: 100%|██████████| 55/55 [00:04<00:00, 11.89it/s]\n"
     ]
    },
    {
     "name": "stdout",
     "output_type": "stream",
     "text": [
      "Epoch [4/70], Train loss: 0.767765\n",
      "Validation loss: 0.789885\n"
     ]
    },
    {
     "name": "stderr",
     "output_type": "stream",
     "text": [
      "Training...: 100%|██████████| 55/55 [00:04<00:00, 11.91it/s]\n"
     ]
    },
    {
     "name": "stdout",
     "output_type": "stream",
     "text": [
      "Epoch [5/70], Train loss: 0.743483\n",
      "Validation loss: 0.776176\n"
     ]
    },
    {
     "name": "stderr",
     "output_type": "stream",
     "text": [
      "Training...: 100%|██████████| 55/55 [00:04<00:00, 11.88it/s]\n"
     ]
    },
    {
     "name": "stdout",
     "output_type": "stream",
     "text": [
      "Epoch [6/70], Train loss: 0.717260\n",
      "Validation loss: 0.762199\n"
     ]
    },
    {
     "name": "stderr",
     "output_type": "stream",
     "text": [
      "Training...: 100%|██████████| 55/55 [00:04<00:00, 11.78it/s]\n"
     ]
    },
    {
     "name": "stdout",
     "output_type": "stream",
     "text": [
      "Epoch [7/70], Train loss: 0.693939\n",
      "Validation loss: 0.748667\n"
     ]
    },
    {
     "name": "stderr",
     "output_type": "stream",
     "text": [
      "Training...: 100%|██████████| 55/55 [00:04<00:00, 11.87it/s]\n"
     ]
    },
    {
     "name": "stdout",
     "output_type": "stream",
     "text": [
      "Epoch [8/70], Train loss: 0.665697\n",
      "Validation loss: 0.735561\n"
     ]
    },
    {
     "name": "stderr",
     "output_type": "stream",
     "text": [
      "Training...: 100%|██████████| 55/55 [00:04<00:00, 11.88it/s]\n"
     ]
    },
    {
     "name": "stdout",
     "output_type": "stream",
     "text": [
      "Epoch [9/70], Train loss: 0.650781\n",
      "Validation loss: 0.723689\n"
     ]
    },
    {
     "name": "stderr",
     "output_type": "stream",
     "text": [
      "Training...: 100%|██████████| 55/55 [00:04<00:00, 11.86it/s]\n"
     ]
    },
    {
     "name": "stdout",
     "output_type": "stream",
     "text": [
      "Epoch [10/70], Train loss: 0.627278\n",
      "Validation loss: 0.711440\n"
     ]
    },
    {
     "name": "stderr",
     "output_type": "stream",
     "text": [
      "Training...: 100%|██████████| 55/55 [00:04<00:00, 11.90it/s]\n"
     ]
    },
    {
     "name": "stdout",
     "output_type": "stream",
     "text": [
      "Epoch [11/70], Train loss: 0.611770\n",
      "Validation loss: 0.699555\n"
     ]
    },
    {
     "name": "stderr",
     "output_type": "stream",
     "text": [
      "Training...: 100%|██████████| 55/55 [00:04<00:00, 11.88it/s]\n"
     ]
    },
    {
     "name": "stdout",
     "output_type": "stream",
     "text": [
      "Epoch [12/70], Train loss: 0.593368\n",
      "Validation loss: 0.687904\n"
     ]
    },
    {
     "name": "stderr",
     "output_type": "stream",
     "text": [
      "Training...: 100%|██████████| 55/55 [00:04<00:00, 11.86it/s]\n"
     ]
    },
    {
     "name": "stdout",
     "output_type": "stream",
     "text": [
      "Epoch [13/70], Train loss: 0.575575\n",
      "Validation loss: 0.676610\n"
     ]
    },
    {
     "name": "stderr",
     "output_type": "stream",
     "text": [
      "Training...: 100%|██████████| 55/55 [00:04<00:00, 11.83it/s]\n"
     ]
    },
    {
     "name": "stdout",
     "output_type": "stream",
     "text": [
      "Epoch [14/70], Train loss: 0.558697\n",
      "Validation loss: 0.665752\n"
     ]
    },
    {
     "name": "stderr",
     "output_type": "stream",
     "text": [
      "Training...: 100%|██████████| 55/55 [00:04<00:00, 11.82it/s]\n"
     ]
    },
    {
     "name": "stdout",
     "output_type": "stream",
     "text": [
      "Epoch [15/70], Train loss: 0.539039\n",
      "Validation loss: 0.654858\n"
     ]
    },
    {
     "name": "stderr",
     "output_type": "stream",
     "text": [
      "Training...: 100%|██████████| 55/55 [00:04<00:00, 11.77it/s]\n"
     ]
    },
    {
     "name": "stdout",
     "output_type": "stream",
     "text": [
      "Epoch [16/70], Train loss: 0.524501\n",
      "Validation loss: 0.644813\n"
     ]
    },
    {
     "name": "stderr",
     "output_type": "stream",
     "text": [
      "Training...: 100%|██████████| 55/55 [00:04<00:00, 11.84it/s]\n"
     ]
    },
    {
     "name": "stdout",
     "output_type": "stream",
     "text": [
      "Epoch [17/70], Train loss: 0.512644\n",
      "Validation loss: 0.634807\n"
     ]
    },
    {
     "name": "stderr",
     "output_type": "stream",
     "text": [
      "Training...: 100%|██████████| 55/55 [00:04<00:00, 11.85it/s]\n"
     ]
    },
    {
     "name": "stdout",
     "output_type": "stream",
     "text": [
      "Epoch [18/70], Train loss: 0.497435\n",
      "Validation loss: 0.625013\n"
     ]
    },
    {
     "name": "stderr",
     "output_type": "stream",
     "text": [
      "Training...: 100%|██████████| 55/55 [00:04<00:00, 11.87it/s]\n"
     ]
    },
    {
     "name": "stdout",
     "output_type": "stream",
     "text": [
      "Epoch [19/70], Train loss: 0.490791\n",
      "Validation loss: 0.616198\n"
     ]
    },
    {
     "name": "stderr",
     "output_type": "stream",
     "text": [
      "Training...: 100%|██████████| 55/55 [00:04<00:00, 11.81it/s]\n"
     ]
    },
    {
     "name": "stdout",
     "output_type": "stream",
     "text": [
      "Epoch [20/70], Train loss: 0.471396\n",
      "Validation loss: 0.606757\n"
     ]
    },
    {
     "name": "stderr",
     "output_type": "stream",
     "text": [
      "Training...: 100%|██████████| 55/55 [00:04<00:00, 11.87it/s]\n"
     ]
    },
    {
     "name": "stdout",
     "output_type": "stream",
     "text": [
      "Epoch [21/70], Train loss: 0.457711\n",
      "Validation loss: 0.598303\n"
     ]
    },
    {
     "name": "stderr",
     "output_type": "stream",
     "text": [
      "Training...: 100%|██████████| 55/55 [00:04<00:00, 11.48it/s]\n"
     ]
    },
    {
     "name": "stdout",
     "output_type": "stream",
     "text": [
      "Epoch [22/70], Train loss: 0.443221\n",
      "Validation loss: 0.589996\n"
     ]
    },
    {
     "name": "stderr",
     "output_type": "stream",
     "text": [
      "Training...: 100%|██████████| 55/55 [00:04<00:00, 11.88it/s]\n"
     ]
    },
    {
     "name": "stdout",
     "output_type": "stream",
     "text": [
      "Epoch [23/70], Train loss: 0.433297\n",
      "Validation loss: 0.582083\n"
     ]
    },
    {
     "name": "stderr",
     "output_type": "stream",
     "text": [
      "Training...: 100%|██████████| 55/55 [00:04<00:00, 11.85it/s]\n"
     ]
    },
    {
     "name": "stdout",
     "output_type": "stream",
     "text": [
      "Epoch [24/70], Train loss: 0.422461\n",
      "Validation loss: 0.574732\n"
     ]
    },
    {
     "name": "stderr",
     "output_type": "stream",
     "text": [
      "Training...: 100%|██████████| 55/55 [00:04<00:00, 11.83it/s]\n"
     ]
    },
    {
     "name": "stdout",
     "output_type": "stream",
     "text": [
      "Epoch [25/70], Train loss: 0.403595\n",
      "Validation loss: 0.567630\n"
     ]
    },
    {
     "name": "stderr",
     "output_type": "stream",
     "text": [
      "Training...: 100%|██████████| 55/55 [00:04<00:00, 11.87it/s]\n"
     ]
    },
    {
     "name": "stdout",
     "output_type": "stream",
     "text": [
      "Epoch [26/70], Train loss: 0.397785\n",
      "Validation loss: 0.561078\n"
     ]
    },
    {
     "name": "stderr",
     "output_type": "stream",
     "text": [
      "Training...: 100%|██████████| 55/55 [00:04<00:00, 11.86it/s]\n"
     ]
    },
    {
     "name": "stdout",
     "output_type": "stream",
     "text": [
      "Epoch [27/70], Train loss: 0.391721\n",
      "Validation loss: 0.553996\n"
     ]
    },
    {
     "name": "stderr",
     "output_type": "stream",
     "text": [
      "Training...: 100%|██████████| 55/55 [00:04<00:00, 11.80it/s]\n"
     ]
    },
    {
     "name": "stdout",
     "output_type": "stream",
     "text": [
      "Epoch [28/70], Train loss: 0.379016\n",
      "Validation loss: 0.548414\n"
     ]
    },
    {
     "name": "stderr",
     "output_type": "stream",
     "text": [
      "Training...: 100%|██████████| 55/55 [00:04<00:00, 11.93it/s]\n"
     ]
    },
    {
     "name": "stdout",
     "output_type": "stream",
     "text": [
      "Epoch [29/70], Train loss: 0.370893\n",
      "Validation loss: 0.541809\n"
     ]
    },
    {
     "name": "stderr",
     "output_type": "stream",
     "text": [
      "Training...: 100%|██████████| 55/55 [00:04<00:00, 11.83it/s]\n"
     ]
    },
    {
     "name": "stdout",
     "output_type": "stream",
     "text": [
      "Epoch [30/70], Train loss: 0.361212\n",
      "Validation loss: 0.535583\n"
     ]
    },
    {
     "name": "stderr",
     "output_type": "stream",
     "text": [
      "Training...: 100%|██████████| 55/55 [00:04<00:00, 11.90it/s]\n"
     ]
    },
    {
     "name": "stdout",
     "output_type": "stream",
     "text": [
      "Epoch [31/70], Train loss: 0.349205\n",
      "Validation loss: 0.529601\n"
     ]
    },
    {
     "name": "stderr",
     "output_type": "stream",
     "text": [
      "Training...: 100%|██████████| 55/55 [00:04<00:00, 11.84it/s]\n"
     ]
    },
    {
     "name": "stdout",
     "output_type": "stream",
     "text": [
      "Epoch [32/70], Train loss: 0.345164\n",
      "Validation loss: 0.524125\n"
     ]
    },
    {
     "name": "stderr",
     "output_type": "stream",
     "text": [
      "Training...: 100%|██████████| 55/55 [00:04<00:00, 11.85it/s]\n"
     ]
    },
    {
     "name": "stdout",
     "output_type": "stream",
     "text": [
      "Epoch [33/70], Train loss: 0.330077\n",
      "Validation loss: 0.518595\n"
     ]
    },
    {
     "name": "stderr",
     "output_type": "stream",
     "text": [
      "Training...: 100%|██████████| 55/55 [00:04<00:00, 11.84it/s]\n"
     ]
    },
    {
     "name": "stdout",
     "output_type": "stream",
     "text": [
      "Epoch [34/70], Train loss: 0.324936\n",
      "Validation loss: 0.513898\n"
     ]
    },
    {
     "name": "stderr",
     "output_type": "stream",
     "text": [
      "Training...: 100%|██████████| 55/55 [00:04<00:00, 11.89it/s]\n"
     ]
    },
    {
     "name": "stdout",
     "output_type": "stream",
     "text": [
      "Epoch [35/70], Train loss: 0.321452\n",
      "Validation loss: 0.508833\n"
     ]
    },
    {
     "name": "stderr",
     "output_type": "stream",
     "text": [
      "Training...: 100%|██████████| 55/55 [00:04<00:00, 11.93it/s]\n"
     ]
    },
    {
     "name": "stdout",
     "output_type": "stream",
     "text": [
      "Epoch [36/70], Train loss: 0.311801\n",
      "Validation loss: 0.503878\n"
     ]
    },
    {
     "name": "stderr",
     "output_type": "stream",
     "text": [
      "Training...: 100%|██████████| 55/55 [00:04<00:00, 11.87it/s]\n"
     ]
    },
    {
     "name": "stdout",
     "output_type": "stream",
     "text": [
      "Epoch [37/70], Train loss: 0.302447\n",
      "Validation loss: 0.499532\n"
     ]
    },
    {
     "name": "stderr",
     "output_type": "stream",
     "text": [
      "Training...: 100%|██████████| 55/55 [00:04<00:00, 11.95it/s]\n"
     ]
    },
    {
     "name": "stdout",
     "output_type": "stream",
     "text": [
      "Epoch [38/70], Train loss: 0.312947\n",
      "Validation loss: 0.495089\n"
     ]
    },
    {
     "name": "stderr",
     "output_type": "stream",
     "text": [
      "Training...: 100%|██████████| 55/55 [00:04<00:00, 11.90it/s]\n"
     ]
    },
    {
     "name": "stdout",
     "output_type": "stream",
     "text": [
      "Epoch [39/70], Train loss: 0.289876\n",
      "Validation loss: 0.491400\n"
     ]
    },
    {
     "name": "stderr",
     "output_type": "stream",
     "text": [
      "Training...: 100%|██████████| 55/55 [00:04<00:00, 11.92it/s]\n"
     ]
    },
    {
     "name": "stdout",
     "output_type": "stream",
     "text": [
      "Epoch [40/70], Train loss: 0.282301\n",
      "Validation loss: 0.487098\n"
     ]
    },
    {
     "name": "stderr",
     "output_type": "stream",
     "text": [
      "Training...: 100%|██████████| 55/55 [00:04<00:00, 11.89it/s]\n"
     ]
    },
    {
     "name": "stdout",
     "output_type": "stream",
     "text": [
      "Epoch [41/70], Train loss: 0.276859\n",
      "Validation loss: 0.483754\n"
     ]
    },
    {
     "name": "stderr",
     "output_type": "stream",
     "text": [
      "Training...: 100%|██████████| 55/55 [00:04<00:00, 11.92it/s]\n"
     ]
    },
    {
     "name": "stdout",
     "output_type": "stream",
     "text": [
      "Epoch [42/70], Train loss: 0.268455\n",
      "Validation loss: 0.480094\n"
     ]
    },
    {
     "name": "stderr",
     "output_type": "stream",
     "text": [
      "Training...: 100%|██████████| 55/55 [00:04<00:00, 11.85it/s]\n"
     ]
    },
    {
     "name": "stdout",
     "output_type": "stream",
     "text": [
      "Epoch [43/70], Train loss: 0.262149\n",
      "Validation loss: 0.475981\n"
     ]
    },
    {
     "name": "stderr",
     "output_type": "stream",
     "text": [
      "Training...: 100%|██████████| 55/55 [00:04<00:00, 11.88it/s]\n"
     ]
    },
    {
     "name": "stdout",
     "output_type": "stream",
     "text": [
      "Epoch [44/70], Train loss: 0.252084\n",
      "Validation loss: 0.473273\n"
     ]
    },
    {
     "name": "stderr",
     "output_type": "stream",
     "text": [
      "Training...: 100%|██████████| 55/55 [00:04<00:00, 11.87it/s]\n"
     ]
    },
    {
     "name": "stdout",
     "output_type": "stream",
     "text": [
      "Epoch [45/70], Train loss: 0.250559\n",
      "Validation loss: 0.470330\n"
     ]
    },
    {
     "name": "stderr",
     "output_type": "stream",
     "text": [
      "Training...: 100%|██████████| 55/55 [00:04<00:00, 11.86it/s]\n"
     ]
    },
    {
     "name": "stdout",
     "output_type": "stream",
     "text": [
      "Epoch [46/70], Train loss: 0.249805\n",
      "Validation loss: 0.466963\n"
     ]
    },
    {
     "name": "stderr",
     "output_type": "stream",
     "text": [
      "Training...: 100%|██████████| 55/55 [00:04<00:00, 11.90it/s]\n"
     ]
    },
    {
     "name": "stdout",
     "output_type": "stream",
     "text": [
      "Epoch [47/70], Train loss: 0.241637\n",
      "Validation loss: 0.463948\n"
     ]
    },
    {
     "name": "stderr",
     "output_type": "stream",
     "text": [
      "Training...: 100%|██████████| 55/55 [00:04<00:00, 11.86it/s]\n"
     ]
    },
    {
     "name": "stdout",
     "output_type": "stream",
     "text": [
      "Epoch [48/70], Train loss: 0.232063\n",
      "Validation loss: 0.462894\n"
     ]
    },
    {
     "name": "stderr",
     "output_type": "stream",
     "text": [
      "Training...: 100%|██████████| 55/55 [00:04<00:00, 11.84it/s]\n"
     ]
    },
    {
     "name": "stdout",
     "output_type": "stream",
     "text": [
      "Epoch [49/70], Train loss: 0.225416\n",
      "Validation loss: 0.459716\n"
     ]
    },
    {
     "name": "stderr",
     "output_type": "stream",
     "text": [
      "Training...: 100%|██████████| 55/55 [00:04<00:00, 11.86it/s]\n"
     ]
    },
    {
     "name": "stdout",
     "output_type": "stream",
     "text": [
      "Epoch [50/70], Train loss: 0.223664\n",
      "Validation loss: 0.457101\n"
     ]
    },
    {
     "name": "stderr",
     "output_type": "stream",
     "text": [
      "Training...: 100%|██████████| 55/55 [00:04<00:00, 11.85it/s]\n"
     ]
    },
    {
     "name": "stdout",
     "output_type": "stream",
     "text": [
      "Epoch [51/70], Train loss: 0.224268\n",
      "Validation loss: 0.453713\n"
     ]
    },
    {
     "name": "stderr",
     "output_type": "stream",
     "text": [
      "Training...: 100%|██████████| 55/55 [00:04<00:00, 11.84it/s]\n"
     ]
    },
    {
     "name": "stdout",
     "output_type": "stream",
     "text": [
      "Epoch [52/70], Train loss: 0.213532\n",
      "Validation loss: 0.451345\n"
     ]
    },
    {
     "name": "stderr",
     "output_type": "stream",
     "text": [
      "Training...: 100%|██████████| 55/55 [00:04<00:00, 11.88it/s]\n"
     ]
    },
    {
     "name": "stdout",
     "output_type": "stream",
     "text": [
      "Epoch [53/70], Train loss: 0.213937\n",
      "Validation loss: 0.449347\n"
     ]
    },
    {
     "name": "stderr",
     "output_type": "stream",
     "text": [
      "Training...: 100%|██████████| 55/55 [00:04<00:00, 11.87it/s]\n"
     ]
    },
    {
     "name": "stdout",
     "output_type": "stream",
     "text": [
      "Epoch [54/70], Train loss: 0.205754\n",
      "Validation loss: 0.447610\n"
     ]
    },
    {
     "name": "stderr",
     "output_type": "stream",
     "text": [
      "Training...: 100%|██████████| 55/55 [00:04<00:00, 11.87it/s]\n"
     ]
    },
    {
     "name": "stdout",
     "output_type": "stream",
     "text": [
      "Epoch [55/70], Train loss: 0.201909\n",
      "Validation loss: 0.445242\n"
     ]
    },
    {
     "name": "stderr",
     "output_type": "stream",
     "text": [
      "Training...: 100%|██████████| 55/55 [00:04<00:00, 11.82it/s]\n"
     ]
    },
    {
     "name": "stdout",
     "output_type": "stream",
     "text": [
      "Epoch [56/70], Train loss: 0.204667\n",
      "Validation loss: 0.442551\n"
     ]
    },
    {
     "name": "stderr",
     "output_type": "stream",
     "text": [
      "Training...: 100%|██████████| 55/55 [00:04<00:00, 11.87it/s]\n"
     ]
    },
    {
     "name": "stdout",
     "output_type": "stream",
     "text": [
      "Epoch [57/70], Train loss: 0.192992\n",
      "Validation loss: 0.440934\n"
     ]
    },
    {
     "name": "stderr",
     "output_type": "stream",
     "text": [
      "Training...: 100%|██████████| 55/55 [00:04<00:00, 11.46it/s]\n"
     ]
    },
    {
     "name": "stdout",
     "output_type": "stream",
     "text": [
      "Epoch [58/70], Train loss: 0.188550\n",
      "Validation loss: 0.441390\n"
     ]
    },
    {
     "name": "stderr",
     "output_type": "stream",
     "text": [
      "Training...: 100%|██████████| 55/55 [00:04<00:00, 11.89it/s]\n"
     ]
    },
    {
     "name": "stdout",
     "output_type": "stream",
     "text": [
      "Epoch [59/70], Train loss: 0.185922\n",
      "Validation loss: 0.439797\n"
     ]
    },
    {
     "name": "stderr",
     "output_type": "stream",
     "text": [
      "Training...: 100%|██████████| 55/55 [00:04<00:00, 11.87it/s]\n"
     ]
    },
    {
     "name": "stdout",
     "output_type": "stream",
     "text": [
      "Epoch [60/70], Train loss: 0.178531\n",
      "Validation loss: 0.438024\n"
     ]
    },
    {
     "name": "stderr",
     "output_type": "stream",
     "text": [
      "Training...: 100%|██████████| 55/55 [00:04<00:00, 11.87it/s]\n"
     ]
    },
    {
     "name": "stdout",
     "output_type": "stream",
     "text": [
      "Epoch [61/70], Train loss: 0.179616\n",
      "Validation loss: 0.436169\n"
     ]
    },
    {
     "name": "stderr",
     "output_type": "stream",
     "text": [
      "Training...: 100%|██████████| 55/55 [00:04<00:00, 11.84it/s]\n"
     ]
    },
    {
     "name": "stdout",
     "output_type": "stream",
     "text": [
      "Epoch [62/70], Train loss: 0.171240\n",
      "Validation loss: 0.434644\n"
     ]
    },
    {
     "name": "stderr",
     "output_type": "stream",
     "text": [
      "Training...: 100%|██████████| 55/55 [00:04<00:00, 11.90it/s]\n"
     ]
    },
    {
     "name": "stdout",
     "output_type": "stream",
     "text": [
      "Epoch [63/70], Train loss: 0.171095\n",
      "Validation loss: 0.432592\n"
     ]
    },
    {
     "name": "stderr",
     "output_type": "stream",
     "text": [
      "Training...: 100%|██████████| 55/55 [00:04<00:00, 11.87it/s]\n"
     ]
    },
    {
     "name": "stdout",
     "output_type": "stream",
     "text": [
      "Epoch [64/70], Train loss: 0.170841\n",
      "Validation loss: 0.431576\n"
     ]
    },
    {
     "name": "stderr",
     "output_type": "stream",
     "text": [
      "Training...: 100%|██████████| 55/55 [00:04<00:00, 11.86it/s]\n"
     ]
    },
    {
     "name": "stdout",
     "output_type": "stream",
     "text": [
      "Epoch [65/70], Train loss: 0.164402\n",
      "Validation loss: 0.430086\n"
     ]
    },
    {
     "name": "stderr",
     "output_type": "stream",
     "text": [
      "Training...: 100%|██████████| 55/55 [00:04<00:00, 11.87it/s]\n"
     ]
    },
    {
     "name": "stdout",
     "output_type": "stream",
     "text": [
      "Epoch [66/70], Train loss: 0.163603\n",
      "Validation loss: 0.428894\n"
     ]
    },
    {
     "name": "stderr",
     "output_type": "stream",
     "text": [
      "Training...: 100%|██████████| 55/55 [00:04<00:00, 11.86it/s]\n"
     ]
    },
    {
     "name": "stdout",
     "output_type": "stream",
     "text": [
      "Epoch [67/70], Train loss: 0.152965\n",
      "Validation loss: 0.428282\n"
     ]
    },
    {
     "name": "stderr",
     "output_type": "stream",
     "text": [
      "Training...: 100%|██████████| 55/55 [00:04<00:00, 11.89it/s]\n"
     ]
    },
    {
     "name": "stdout",
     "output_type": "stream",
     "text": [
      "Epoch [68/70], Train loss: 0.152431\n",
      "Validation loss: 0.427637\n"
     ]
    },
    {
     "name": "stderr",
     "output_type": "stream",
     "text": [
      "Training...: 100%|██████████| 55/55 [00:04<00:00, 11.89it/s]\n"
     ]
    },
    {
     "name": "stdout",
     "output_type": "stream",
     "text": [
      "Epoch [69/70], Train loss: 0.152210\n",
      "Validation loss: 0.427116\n"
     ]
    },
    {
     "name": "stderr",
     "output_type": "stream",
     "text": [
      "Training...: 100%|██████████| 55/55 [00:04<00:00, 11.82it/s]\n"
     ]
    },
    {
     "name": "stdout",
     "output_type": "stream",
     "text": [
      "Epoch [70/70], Train loss: 0.143438\n",
      "Validation loss: 0.426632\n",
      "*-----------------------------*\n",
      "|         Using cuda          |\n",
      "*-----------------------------*\n"
     ]
    },
    {
     "name": "stderr",
     "output_type": "stream",
     "text": [
      "Training...: 100%|██████████| 55/55 [00:04<00:00, 11.92it/s]\n"
     ]
    },
    {
     "name": "stdout",
     "output_type": "stream",
     "text": [
      "Epoch [1/70], Train loss: 0.579805\n",
      "Validation loss: 0.561729\n"
     ]
    },
    {
     "name": "stderr",
     "output_type": "stream",
     "text": [
      "Training...: 100%|██████████| 55/55 [00:04<00:00, 11.89it/s]\n"
     ]
    },
    {
     "name": "stdout",
     "output_type": "stream",
     "text": [
      "Epoch [2/70], Train loss: 0.552187\n",
      "Validation loss: 0.552549\n"
     ]
    },
    {
     "name": "stderr",
     "output_type": "stream",
     "text": [
      "Training...: 100%|██████████| 55/55 [00:04<00:00, 11.90it/s]\n"
     ]
    },
    {
     "name": "stdout",
     "output_type": "stream",
     "text": [
      "Epoch [3/70], Train loss: 0.521560\n",
      "Validation loss: 0.545175\n"
     ]
    },
    {
     "name": "stderr",
     "output_type": "stream",
     "text": [
      "Training...: 100%|██████████| 55/55 [00:04<00:00, 11.81it/s]\n"
     ]
    },
    {
     "name": "stdout",
     "output_type": "stream",
     "text": [
      "Epoch [4/70], Train loss: 0.499852\n",
      "Validation loss: 0.538466\n"
     ]
    },
    {
     "name": "stderr",
     "output_type": "stream",
     "text": [
      "Training...: 100%|██████████| 55/55 [00:04<00:00, 11.89it/s]\n"
     ]
    },
    {
     "name": "stdout",
     "output_type": "stream",
     "text": [
      "Epoch [5/70], Train loss: 0.483130\n",
      "Validation loss: 0.532048\n"
     ]
    },
    {
     "name": "stderr",
     "output_type": "stream",
     "text": [
      "Training...: 100%|██████████| 55/55 [00:04<00:00, 11.89it/s]\n"
     ]
    },
    {
     "name": "stdout",
     "output_type": "stream",
     "text": [
      "Epoch [6/70], Train loss: 0.464472\n",
      "Validation loss: 0.526586\n"
     ]
    },
    {
     "name": "stderr",
     "output_type": "stream",
     "text": [
      "Training...: 100%|██████████| 55/55 [00:04<00:00, 11.88it/s]\n"
     ]
    },
    {
     "name": "stdout",
     "output_type": "stream",
     "text": [
      "Epoch [7/70], Train loss: 0.449605\n",
      "Validation loss: 0.520940\n"
     ]
    },
    {
     "name": "stderr",
     "output_type": "stream",
     "text": [
      "Training...: 100%|██████████| 55/55 [00:04<00:00, 11.85it/s]\n"
     ]
    },
    {
     "name": "stdout",
     "output_type": "stream",
     "text": [
      "Epoch [8/70], Train loss: 0.435958\n",
      "Validation loss: 0.515536\n"
     ]
    },
    {
     "name": "stderr",
     "output_type": "stream",
     "text": [
      "Training...: 100%|██████████| 55/55 [00:04<00:00, 11.85it/s]\n"
     ]
    },
    {
     "name": "stdout",
     "output_type": "stream",
     "text": [
      "Epoch [9/70], Train loss: 0.421814\n",
      "Validation loss: 0.510294\n"
     ]
    },
    {
     "name": "stderr",
     "output_type": "stream",
     "text": [
      "Training...: 100%|██████████| 55/55 [00:04<00:00, 11.85it/s]\n"
     ]
    },
    {
     "name": "stdout",
     "output_type": "stream",
     "text": [
      "Epoch [10/70], Train loss: 0.408411\n",
      "Validation loss: 0.505319\n"
     ]
    },
    {
     "name": "stderr",
     "output_type": "stream",
     "text": [
      "Training...: 100%|██████████| 55/55 [00:04<00:00, 11.81it/s]\n"
     ]
    },
    {
     "name": "stdout",
     "output_type": "stream",
     "text": [
      "Epoch [11/70], Train loss: 0.396148\n",
      "Validation loss: 0.500299\n"
     ]
    },
    {
     "name": "stderr",
     "output_type": "stream",
     "text": [
      "Training...: 100%|██████████| 55/55 [00:04<00:00, 11.78it/s]\n"
     ]
    },
    {
     "name": "stdout",
     "output_type": "stream",
     "text": [
      "Epoch [12/70], Train loss: 0.385434\n",
      "Validation loss: 0.495899\n"
     ]
    },
    {
     "name": "stderr",
     "output_type": "stream",
     "text": [
      "Training...: 100%|██████████| 55/55 [00:04<00:00, 11.84it/s]\n"
     ]
    },
    {
     "name": "stdout",
     "output_type": "stream",
     "text": [
      "Epoch [13/70], Train loss: 0.374052\n",
      "Validation loss: 0.490990\n"
     ]
    },
    {
     "name": "stderr",
     "output_type": "stream",
     "text": [
      "Training...: 100%|██████████| 55/55 [00:04<00:00, 11.88it/s]\n"
     ]
    },
    {
     "name": "stdout",
     "output_type": "stream",
     "text": [
      "Epoch [14/70], Train loss: 0.363513\n",
      "Validation loss: 0.486729\n"
     ]
    },
    {
     "name": "stderr",
     "output_type": "stream",
     "text": [
      "Training...: 100%|██████████| 55/55 [00:04<00:00, 11.78it/s]\n"
     ]
    },
    {
     "name": "stdout",
     "output_type": "stream",
     "text": [
      "Epoch [15/70], Train loss: 0.352243\n",
      "Validation loss: 0.482599\n"
     ]
    },
    {
     "name": "stderr",
     "output_type": "stream",
     "text": [
      "Training...: 100%|██████████| 55/55 [00:04<00:00, 11.88it/s]\n"
     ]
    },
    {
     "name": "stdout",
     "output_type": "stream",
     "text": [
      "Epoch [16/70], Train loss: 0.344861\n",
      "Validation loss: 0.478628\n"
     ]
    },
    {
     "name": "stderr",
     "output_type": "stream",
     "text": [
      "Training...: 100%|██████████| 55/55 [00:04<00:00, 11.85it/s]\n"
     ]
    },
    {
     "name": "stdout",
     "output_type": "stream",
     "text": [
      "Epoch [17/70], Train loss: 0.334739\n",
      "Validation loss: 0.475013\n"
     ]
    },
    {
     "name": "stderr",
     "output_type": "stream",
     "text": [
      "Training...: 100%|██████████| 55/55 [00:04<00:00, 11.83it/s]\n"
     ]
    },
    {
     "name": "stdout",
     "output_type": "stream",
     "text": [
      "Epoch [18/70], Train loss: 0.331641\n",
      "Validation loss: 0.471018\n"
     ]
    },
    {
     "name": "stderr",
     "output_type": "stream",
     "text": [
      "Training...: 100%|██████████| 55/55 [00:04<00:00, 11.84it/s]\n"
     ]
    },
    {
     "name": "stdout",
     "output_type": "stream",
     "text": [
      "Epoch [19/70], Train loss: 0.318314\n",
      "Validation loss: 0.467393\n"
     ]
    },
    {
     "name": "stderr",
     "output_type": "stream",
     "text": [
      "Training...: 100%|██████████| 55/55 [00:04<00:00, 11.87it/s]\n"
     ]
    },
    {
     "name": "stdout",
     "output_type": "stream",
     "text": [
      "Epoch [20/70], Train loss: 0.310637\n",
      "Validation loss: 0.463521\n"
     ]
    },
    {
     "name": "stderr",
     "output_type": "stream",
     "text": [
      "Training...: 100%|██████████| 55/55 [00:04<00:00, 11.84it/s]\n"
     ]
    },
    {
     "name": "stdout",
     "output_type": "stream",
     "text": [
      "Epoch [21/70], Train loss: 0.301550\n",
      "Validation loss: 0.460529\n"
     ]
    },
    {
     "name": "stderr",
     "output_type": "stream",
     "text": [
      "Training...: 100%|██████████| 55/55 [00:04<00:00, 11.88it/s]\n"
     ]
    },
    {
     "name": "stdout",
     "output_type": "stream",
     "text": [
      "Epoch [22/70], Train loss: 0.296114\n",
      "Validation loss: 0.457519\n"
     ]
    },
    {
     "name": "stderr",
     "output_type": "stream",
     "text": [
      "Training...: 100%|██████████| 55/55 [00:04<00:00, 11.86it/s]\n"
     ]
    },
    {
     "name": "stdout",
     "output_type": "stream",
     "text": [
      "Epoch [23/70], Train loss: 0.287102\n",
      "Validation loss: 0.454703\n"
     ]
    },
    {
     "name": "stderr",
     "output_type": "stream",
     "text": [
      "Training...: 100%|██████████| 55/55 [00:04<00:00, 11.85it/s]\n"
     ]
    },
    {
     "name": "stdout",
     "output_type": "stream",
     "text": [
      "Epoch [24/70], Train loss: 0.281220\n",
      "Validation loss: 0.451938\n"
     ]
    },
    {
     "name": "stderr",
     "output_type": "stream",
     "text": [
      "Training...: 100%|██████████| 55/55 [00:04<00:00, 11.94it/s]\n"
     ]
    },
    {
     "name": "stdout",
     "output_type": "stream",
     "text": [
      "Epoch [25/70], Train loss: 0.275917\n",
      "Validation loss: 0.449427\n"
     ]
    },
    {
     "name": "stderr",
     "output_type": "stream",
     "text": [
      "Training...: 100%|██████████| 55/55 [00:04<00:00, 11.91it/s]\n"
     ]
    },
    {
     "name": "stdout",
     "output_type": "stream",
     "text": [
      "Epoch [26/70], Train loss: 0.269320\n",
      "Validation loss: 0.447182\n"
     ]
    },
    {
     "name": "stderr",
     "output_type": "stream",
     "text": [
      "Training...: 100%|██████████| 55/55 [00:04<00:00, 11.92it/s]\n"
     ]
    },
    {
     "name": "stdout",
     "output_type": "stream",
     "text": [
      "Epoch [27/70], Train loss: 0.266641\n",
      "Validation loss: 0.444542\n"
     ]
    },
    {
     "name": "stderr",
     "output_type": "stream",
     "text": [
      "Training...: 100%|██████████| 55/55 [00:04<00:00, 11.86it/s]\n"
     ]
    },
    {
     "name": "stdout",
     "output_type": "stream",
     "text": [
      "Epoch [28/70], Train loss: 0.257503\n",
      "Validation loss: 0.442780\n"
     ]
    },
    {
     "name": "stderr",
     "output_type": "stream",
     "text": [
      "Training...: 100%|██████████| 55/55 [00:04<00:00, 11.51it/s]\n"
     ]
    },
    {
     "name": "stdout",
     "output_type": "stream",
     "text": [
      "Epoch [29/70], Train loss: 0.248352\n",
      "Validation loss: 0.440672\n"
     ]
    },
    {
     "name": "stderr",
     "output_type": "stream",
     "text": [
      "Training...: 100%|██████████| 55/55 [00:04<00:00, 11.85it/s]\n"
     ]
    },
    {
     "name": "stdout",
     "output_type": "stream",
     "text": [
      "Epoch [30/70], Train loss: 0.249513\n",
      "Validation loss: 0.438099\n"
     ]
    },
    {
     "name": "stderr",
     "output_type": "stream",
     "text": [
      "Training...: 100%|██████████| 55/55 [00:04<00:00, 11.89it/s]\n"
     ]
    },
    {
     "name": "stdout",
     "output_type": "stream",
     "text": [
      "Epoch [31/70], Train loss: 0.237337\n",
      "Validation loss: 0.436415\n"
     ]
    },
    {
     "name": "stderr",
     "output_type": "stream",
     "text": [
      "Training...: 100%|██████████| 55/55 [00:04<00:00, 11.83it/s]\n"
     ]
    },
    {
     "name": "stdout",
     "output_type": "stream",
     "text": [
      "Epoch [32/70], Train loss: 0.257176\n",
      "Validation loss: 0.434550\n"
     ]
    },
    {
     "name": "stderr",
     "output_type": "stream",
     "text": [
      "Training...: 100%|██████████| 55/55 [00:04<00:00, 11.86it/s]\n"
     ]
    },
    {
     "name": "stdout",
     "output_type": "stream",
     "text": [
      "Epoch [33/70], Train loss: 0.227980\n",
      "Validation loss: 0.433016\n"
     ]
    },
    {
     "name": "stderr",
     "output_type": "stream",
     "text": [
      "Training...: 100%|██████████| 55/55 [00:04<00:00, 11.88it/s]\n"
     ]
    },
    {
     "name": "stdout",
     "output_type": "stream",
     "text": [
      "Epoch [34/70], Train loss: 0.227035\n",
      "Validation loss: 0.431256\n"
     ]
    },
    {
     "name": "stderr",
     "output_type": "stream",
     "text": [
      "Training...: 100%|██████████| 55/55 [00:04<00:00, 11.85it/s]\n"
     ]
    },
    {
     "name": "stdout",
     "output_type": "stream",
     "text": [
      "Epoch [35/70], Train loss: 0.219408\n",
      "Validation loss: 0.429108\n"
     ]
    },
    {
     "name": "stderr",
     "output_type": "stream",
     "text": [
      "Training...: 100%|██████████| 55/55 [00:04<00:00, 11.90it/s]\n"
     ]
    },
    {
     "name": "stdout",
     "output_type": "stream",
     "text": [
      "Epoch [36/70], Train loss: 0.217676\n",
      "Validation loss: 0.427514\n"
     ]
    },
    {
     "name": "stderr",
     "output_type": "stream",
     "text": [
      "Training...: 100%|██████████| 55/55 [00:04<00:00, 11.88it/s]\n"
     ]
    },
    {
     "name": "stdout",
     "output_type": "stream",
     "text": [
      "Epoch [37/70], Train loss: 0.210636\n",
      "Validation loss: 0.426221\n"
     ]
    },
    {
     "name": "stderr",
     "output_type": "stream",
     "text": [
      "Training...: 100%|██████████| 55/55 [00:04<00:00, 11.86it/s]\n"
     ]
    },
    {
     "name": "stdout",
     "output_type": "stream",
     "text": [
      "Epoch [38/70], Train loss: 0.202866\n",
      "Validation loss: 0.424849\n"
     ]
    },
    {
     "name": "stderr",
     "output_type": "stream",
     "text": [
      "Training...: 100%|██████████| 55/55 [00:04<00:00, 11.78it/s]\n"
     ]
    },
    {
     "name": "stdout",
     "output_type": "stream",
     "text": [
      "Epoch [39/70], Train loss: 0.200463\n",
      "Validation loss: 0.423792\n"
     ]
    },
    {
     "name": "stderr",
     "output_type": "stream",
     "text": [
      "Training...: 100%|██████████| 55/55 [00:04<00:00, 11.88it/s]\n"
     ]
    },
    {
     "name": "stdout",
     "output_type": "stream",
     "text": [
      "Epoch [40/70], Train loss: 0.200138\n",
      "Validation loss: 0.422478\n"
     ]
    },
    {
     "name": "stderr",
     "output_type": "stream",
     "text": [
      "Training...: 100%|██████████| 55/55 [00:04<00:00, 11.87it/s]\n"
     ]
    },
    {
     "name": "stdout",
     "output_type": "stream",
     "text": [
      "Epoch [41/70], Train loss: 0.194135\n",
      "Validation loss: 0.422407\n"
     ]
    },
    {
     "name": "stderr",
     "output_type": "stream",
     "text": [
      "Training...: 100%|██████████| 55/55 [00:04<00:00, 11.86it/s]\n"
     ]
    },
    {
     "name": "stdout",
     "output_type": "stream",
     "text": [
      "Epoch [42/70], Train loss: 0.186672\n",
      "Validation loss: 0.421962\n"
     ]
    },
    {
     "name": "stderr",
     "output_type": "stream",
     "text": [
      "Training...: 100%|██████████| 55/55 [00:04<00:00, 11.83it/s]\n"
     ]
    },
    {
     "name": "stdout",
     "output_type": "stream",
     "text": [
      "Epoch [43/70], Train loss: 0.185928\n",
      "Validation loss: 0.420821\n"
     ]
    },
    {
     "name": "stderr",
     "output_type": "stream",
     "text": [
      "Training...: 100%|██████████| 55/55 [00:04<00:00, 11.91it/s]\n"
     ]
    },
    {
     "name": "stdout",
     "output_type": "stream",
     "text": [
      "Epoch [44/70], Train loss: 0.184711\n",
      "Validation loss: 0.419727\n"
     ]
    },
    {
     "name": "stderr",
     "output_type": "stream",
     "text": [
      "Training...: 100%|██████████| 55/55 [00:04<00:00, 12.00it/s]\n"
     ]
    },
    {
     "name": "stdout",
     "output_type": "stream",
     "text": [
      "Epoch [45/70], Train loss: 0.174655\n",
      "Validation loss: 0.420002\n"
     ]
    },
    {
     "name": "stderr",
     "output_type": "stream",
     "text": [
      "Training...: 100%|██████████| 55/55 [00:04<00:00, 11.91it/s]\n"
     ]
    },
    {
     "name": "stdout",
     "output_type": "stream",
     "text": [
      "Epoch [46/70], Train loss: 0.170531\n",
      "Validation loss: 0.419022\n"
     ]
    },
    {
     "name": "stderr",
     "output_type": "stream",
     "text": [
      "Training...: 100%|██████████| 55/55 [00:04<00:00, 11.85it/s]\n"
     ]
    },
    {
     "name": "stdout",
     "output_type": "stream",
     "text": [
      "Epoch [47/70], Train loss: 0.168309\n",
      "Validation loss: 0.418159\n"
     ]
    },
    {
     "name": "stderr",
     "output_type": "stream",
     "text": [
      "Training...: 100%|██████████| 55/55 [00:04<00:00, 11.94it/s]\n"
     ]
    },
    {
     "name": "stdout",
     "output_type": "stream",
     "text": [
      "Epoch [48/70], Train loss: 0.166271\n",
      "Validation loss: 0.417361\n"
     ]
    },
    {
     "name": "stderr",
     "output_type": "stream",
     "text": [
      "Training...: 100%|██████████| 55/55 [00:04<00:00, 11.90it/s]\n"
     ]
    },
    {
     "name": "stdout",
     "output_type": "stream",
     "text": [
      "Epoch [49/70], Train loss: 0.162426\n",
      "Validation loss: 0.417712\n"
     ]
    },
    {
     "name": "stderr",
     "output_type": "stream",
     "text": [
      "Training...: 100%|██████████| 55/55 [00:04<00:00, 11.87it/s]\n"
     ]
    },
    {
     "name": "stdout",
     "output_type": "stream",
     "text": [
      "Epoch [50/70], Train loss: 0.159240\n",
      "Validation loss: 0.417138\n"
     ]
    },
    {
     "name": "stderr",
     "output_type": "stream",
     "text": [
      "Training...: 100%|██████████| 55/55 [00:04<00:00, 11.92it/s]\n"
     ]
    },
    {
     "name": "stdout",
     "output_type": "stream",
     "text": [
      "Epoch [51/70], Train loss: 0.156244\n",
      "Validation loss: 0.416480\n"
     ]
    },
    {
     "name": "stderr",
     "output_type": "stream",
     "text": [
      "Training...: 100%|██████████| 55/55 [00:04<00:00, 11.89it/s]\n"
     ]
    },
    {
     "name": "stdout",
     "output_type": "stream",
     "text": [
      "Epoch [52/70], Train loss: 0.151440\n",
      "Validation loss: 0.416483\n"
     ]
    },
    {
     "name": "stderr",
     "output_type": "stream",
     "text": [
      "Training...: 100%|██████████| 55/55 [00:04<00:00, 11.91it/s]\n"
     ]
    },
    {
     "name": "stdout",
     "output_type": "stream",
     "text": [
      "Epoch [53/70], Train loss: 0.152460\n",
      "Validation loss: 0.414942\n"
     ]
    },
    {
     "name": "stderr",
     "output_type": "stream",
     "text": [
      "Training...: 100%|██████████| 55/55 [00:04<00:00, 11.87it/s]\n"
     ]
    },
    {
     "name": "stdout",
     "output_type": "stream",
     "text": [
      "Epoch [54/70], Train loss: 0.154198\n",
      "Validation loss: 0.414493\n"
     ]
    },
    {
     "name": "stderr",
     "output_type": "stream",
     "text": [
      "Training...: 100%|██████████| 55/55 [00:04<00:00, 11.93it/s]\n"
     ]
    },
    {
     "name": "stdout",
     "output_type": "stream",
     "text": [
      "Epoch [55/70], Train loss: 0.143561\n",
      "Validation loss: 0.415711\n"
     ]
    },
    {
     "name": "stderr",
     "output_type": "stream",
     "text": [
      "Training...: 100%|██████████| 55/55 [00:04<00:00, 11.86it/s]\n"
     ]
    },
    {
     "name": "stdout",
     "output_type": "stream",
     "text": [
      "Epoch [56/70], Train loss: 0.139270\n",
      "Validation loss: 0.415434\n"
     ]
    },
    {
     "name": "stderr",
     "output_type": "stream",
     "text": [
      "Training...: 100%|██████████| 55/55 [00:04<00:00, 11.86it/s]\n"
     ]
    },
    {
     "name": "stdout",
     "output_type": "stream",
     "text": [
      "Epoch [57/70], Train loss: 0.137392\n",
      "Validation loss: 0.415089\n"
     ]
    },
    {
     "name": "stderr",
     "output_type": "stream",
     "text": [
      "Training...: 100%|██████████| 55/55 [00:04<00:00, 11.89it/s]\n"
     ]
    },
    {
     "name": "stdout",
     "output_type": "stream",
     "text": [
      "Epoch [58/70], Train loss: 0.139832\n",
      "Validation loss: 0.415035\n"
     ]
    },
    {
     "name": "stderr",
     "output_type": "stream",
     "text": [
      "Training...: 100%|██████████| 55/55 [00:04<00:00, 11.91it/s]\n"
     ]
    },
    {
     "name": "stdout",
     "output_type": "stream",
     "text": [
      "Epoch [59/70], Train loss: 0.134210\n",
      "Validation loss: 0.414985\n"
     ]
    },
    {
     "name": "stderr",
     "output_type": "stream",
     "text": [
      "Training...: 100%|██████████| 55/55 [00:04<00:00, 11.89it/s]\n"
     ]
    },
    {
     "name": "stdout",
     "output_type": "stream",
     "text": [
      "Epoch [60/70], Train loss: 0.133768\n",
      "Validation loss: 0.414863\n"
     ]
    },
    {
     "name": "stderr",
     "output_type": "stream",
     "text": [
      "Training...: 100%|██████████| 55/55 [00:04<00:00, 11.85it/s]\n"
     ]
    },
    {
     "name": "stdout",
     "output_type": "stream",
     "text": [
      "Epoch [61/70], Train loss: 0.129673\n",
      "Validation loss: 0.415804\n"
     ]
    },
    {
     "name": "stderr",
     "output_type": "stream",
     "text": [
      "Training...: 100%|██████████| 55/55 [00:04<00:00, 11.87it/s]\n"
     ]
    },
    {
     "name": "stdout",
     "output_type": "stream",
     "text": [
      "Epoch [62/70], Train loss: 0.126846\n",
      "Validation loss: 0.415090\n"
     ]
    },
    {
     "name": "stderr",
     "output_type": "stream",
     "text": [
      "Training...: 100%|██████████| 55/55 [00:04<00:00, 11.88it/s]\n"
     ]
    },
    {
     "name": "stdout",
     "output_type": "stream",
     "text": [
      "Epoch [63/70], Train loss: 0.120442\n",
      "Validation loss: 0.415295\n"
     ]
    },
    {
     "name": "stderr",
     "output_type": "stream",
     "text": [
      "Training...: 100%|██████████| 55/55 [00:04<00:00, 11.89it/s]\n"
     ]
    },
    {
     "name": "stdout",
     "output_type": "stream",
     "text": [
      "Epoch [64/70], Train loss: 0.121090\n",
      "Validation loss: 0.415001\n"
     ]
    },
    {
     "name": "stderr",
     "output_type": "stream",
     "text": [
      "Training...: 100%|██████████| 55/55 [00:04<00:00, 11.88it/s]\n"
     ]
    },
    {
     "name": "stdout",
     "output_type": "stream",
     "text": [
      "Epoch [65/70], Train loss: 0.116330\n",
      "Validation loss: 0.415252\n"
     ]
    },
    {
     "name": "stderr",
     "output_type": "stream",
     "text": [
      "Training...: 100%|██████████| 55/55 [00:04<00:00, 11.84it/s]\n"
     ]
    },
    {
     "name": "stdout",
     "output_type": "stream",
     "text": [
      "Epoch [66/70], Train loss: 0.115387\n",
      "Validation loss: 0.415176\n"
     ]
    },
    {
     "name": "stderr",
     "output_type": "stream",
     "text": [
      "Training...: 100%|██████████| 55/55 [00:04<00:00, 11.83it/s]\n"
     ]
    },
    {
     "name": "stdout",
     "output_type": "stream",
     "text": [
      "Epoch [67/70], Train loss: 0.114078\n",
      "Validation loss: 0.414976\n",
      "Early stopping triggered after 67 epochs!!!\n"
     ]
    }
   ],
   "source": [
    "models_path = \"..\\\\..\\\\trainedResNets\\\\improvedVersion\\\\\"\n",
    "os.makedirs(models_path, exist_ok=True)\n",
    "\n",
    "ans = str(input(\"Do you wish to run or read?\"))\n",
    "\n",
    "# Choice execution\n",
    "if ans == \"run\": \n",
    "    pure_vs_conservative = []\n",
    "\n",
    "    for i in range(5):\n",
    "        # Get both models for the current iteration\n",
    "        pair_pure, pair_conservative, custom_loss, custom_val_loss = trainResNet(train_dataset,val_dataset)\n",
    "\n",
    "        # Add them to the list\n",
    "        cur = [pair_pure, pair_conservative, custom_loss, custom_val_loss]\n",
    "        pure_vs_conservative.append(cur)\n",
    "\n",
    "elif ans == \"read\":\n",
    "    # Read from images\n",
    "    pass\n",
    "\n",
    "    \n",
    "else: print(\"Invalid answer, try again.\")"
   ]
  },
  {
   "cell_type": "code",
   "execution_count": 61,
   "id": "d9cf297b",
   "metadata": {},
   "outputs": [],
   "source": [
    "ans = str(input(\"Do you wish to save?\"))\n",
    "\n",
    "if ans == \"yes\": \n",
    "    # Saves everything in its own iteration folder\n",
    "    saveRun(pure_vs_conservative, models_path)\n",
    "\n",
    "else: print(\"DID NOT SAVE\")"
   ]
  },
  {
   "cell_type": "markdown",
   "id": "8720808d",
   "metadata": {},
   "source": [
    "### Performance Evaluation (No Augmentations)"
   ]
  },
  {
   "cell_type": "code",
   "execution_count": 57,
   "id": "780bedbc",
   "metadata": {},
   "outputs": [
    {
     "data": {
      "image/png": "[encoded data removed]",
      "text/plain": [
       "<Figure size 1000x1500 with 5 Axes>"
      ]
     },
     "metadata": {},
     "output_type": "display_data"
    }
   ],
   "source": [
    "all_train, all_val, best_pure_epochs, best_cons_epochs = [], [], [], []\n",
    "\n",
    "for iteration_list in pure_vs_conservative:\n",
    "    # Third item\n",
    "    all_train.append(iteration_list[2])\n",
    "    #print(iteration_list[2])\n",
    "\n",
    "    # Fourth item\n",
    "    all_val.append(iteration_list[3])\n",
    "    #print(iteration_list[3])\n",
    "\n",
    "    # 2nd position of both first and second items\n",
    "    best_pure_epochs.append(iteration_list[0][1])\n",
    "    best_cons_epochs.append(iteration_list[1][1])\n",
    "    #print(iteration_list[0][1])\n",
    "    #print(iteration_list[1][1])\n",
    "    #print('---------------------')\n",
    "\n",
    "\n",
    "plotLossCollection(all_train, all_val, best_pure_epochs, best_cons_epochs)"
   ]
  },
  {
   "cell_type": "code",
   "execution_count": 58,
   "id": "fd5d546a",
   "metadata": {},
   "outputs": [],
   "source": [
    "pure_resnets, conservative_resnets = [], []\n",
    "\n",
    "for item in pure_vs_conservative:\n",
    "    pure_resnets.append(item[0][0])\n",
    "    conservative_resnets.append(item[1][0])"
   ]
  },
  {
   "cell_type": "code",
   "execution_count": 59,
   "id": "f71b3147",
   "metadata": {},
   "outputs": [
    {
     "name": "stdout",
     "output_type": "stream",
     "text": [
      "Iteration 0\n",
      "Pure Method\n"
     ]
    },
    {
     "data": {
      "image/png": "[encoded data removed]",
      "text/plain": [
       "<Figure size 640x480 with 1 Axes>"
      ]
     },
     "metadata": {},
     "output_type": "display_data"
    },
    {
     "name": "stdout",
     "output_type": "stream",
     "text": [
      "Area Under Curve: 0.7005569529284945\n",
      "Best Threshold (closest to (0,1)): 0.20733348\n",
      "Conservative Method\n"
     ]
    },
    {
     "data": {
      "image/png": "[encoded data removed]",
      "text/plain": [
       "<Figure size 640x480 with 1 Axes>"
      ]
     },
     "metadata": {},
     "output_type": "display_data"
    },
    {
     "name": "stdout",
     "output_type": "stream",
     "text": [
      "Area Under Curve: 0.6982213438735178\n",
      "Best Threshold (closest to (0,1)): 0.3316835\n",
      "----------------------------------------------------\n",
      "Iteration 1\n",
      "Pure Method\n"
     ]
    },
    {
     "data": {
      "image/png": "[encoded data removed]",
      "text/plain": [
       "<Figure size 640x480 with 1 Axes>"
      ]
     },
     "metadata": {},
     "output_type": "display_data"
    },
    {
     "name": "stdout",
     "output_type": "stream",
     "text": [
      "Area Under Curve: 0.6745418613007546\n",
      "Best Threshold (closest to (0,1)): 0.19514503\n",
      "Conservative Method\n"
     ]
    },
    {
     "data": {
      "image/png": "[encoded data removed]",
      "text/plain": [
       "<Figure size 640x480 with 1 Axes>"
      ]
     },
     "metadata": {},
     "output_type": "display_data"
    },
    {
     "name": "stdout",
     "output_type": "stream",
     "text": [
      "Area Under Curve: 0.6652892561983471\n",
      "Best Threshold (closest to (0,1)): 0.2952665\n",
      "----------------------------------------------------\n",
      "Iteration 2\n",
      "Pure Method\n"
     ]
    },
    {
     "data": {
      "image/png": "[encoded data removed]",
      "text/plain": [
       "<Figure size 640x480 with 1 Axes>"
      ]
     },
     "metadata": {},
     "output_type": "display_data"
    },
    {
     "name": "stdout",
     "output_type": "stream",
     "text": [
      "Area Under Curve: 0.6792669780812073\n",
      "Best Threshold (closest to (0,1)): 0.18572879\n",
      "Conservative Method\n"
     ]
    },
    {
     "data": {
      "image/png": "[encoded data removed]",
      "text/plain": [
       "<Figure size 640x480 with 1 Axes>"
      ]
     },
     "metadata": {},
     "output_type": "display_data"
    },
    {
     "name": "stdout",
     "output_type": "stream",
     "text": [
      "Area Under Curve: 0.6682177506288178\n",
      "Best Threshold (closest to (0,1)): 0.2529691\n",
      "----------------------------------------------------\n",
      "Iteration 3\n",
      "Pure Method\n"
     ]
    },
    {
     "data": {
      "image/png": "[encoded data removed]",
      "text/plain": [
       "<Figure size 640x480 with 1 Axes>"
      ]
     },
     "metadata": {},
     "output_type": "display_data"
    },
    {
     "name": "stdout",
     "output_type": "stream",
     "text": [
      "Area Under Curve: 0.7162055335968379\n",
      "Best Threshold (closest to (0,1)): 0.20308614\n",
      "Conservative Method\n"
     ]
    },
    {
     "data": {
      "image/png": "[encoded data removed]",
      "text/plain": [
       "<Figure size 640x480 with 1 Axes>"
      ]
     },
     "metadata": {},
     "output_type": "display_data"
    },
    {
     "name": "stdout",
     "output_type": "stream",
     "text": [
      "Area Under Curve: 0.7078332734459217\n",
      "Best Threshold (closest to (0,1)): 0.32812682\n",
      "----------------------------------------------------\n",
      "Iteration 4\n",
      "Pure Method\n"
     ]
    },
    {
     "data": {
      "image/png": "[encoded data removed]",
      "text/plain": [
       "<Figure size 640x480 with 1 Axes>"
      ]
     },
     "metadata": {},
     "output_type": "display_data"
    },
    {
     "name": "stdout",
     "output_type": "stream",
     "text": [
      "Area Under Curve: 0.6475925260510241\n",
      "Best Threshold (closest to (0,1)): 0.14442687\n",
      "Conservative Method\n"
     ]
    },
    {
     "data": {
      "image/png": "[encoded data removed]",
      "text/plain": [
       "<Figure size 640x480 with 1 Axes>"
      ]
     },
     "metadata": {},
     "output_type": "display_data"
    },
    {
     "name": "stdout",
     "output_type": "stream",
     "text": [
      "Area Under Curve: 0.6388789076536112\n",
      "Best Threshold (closest to (0,1)): 0.18333282\n",
      "----------------------------------------------------\n"
     ]
    }
   ],
   "source": [
    "pure_thresh, cons_thresh = [], []\n",
    "\n",
    "for i in range(len(pure_resnets)):\n",
    "    print(\"Iteration\",i)\n",
    "    print(\"Pure Method\")\n",
    "    threshold_custom, auc_custom = getROC(pure_resnets[i], val_dataset)\n",
    "    pure_thresh.append(threshold_custom)\n",
    "    print(\"Conservative Method\")\n",
    "    if best_cons_epochs[i] != 0: \n",
    "        threshold_custom2, auc_custom2 = getROC(conservative_resnets[i], val_dataset)\n",
    "        cons_thresh.append(threshold_custom2)\n",
    "    else:\n",
    "        print(\"ERROR DUE TO EPOCH==0\")\n",
    "        cons_thresh.append(0)\n",
    "    print('----------------------------------------------------')"
   ]
  },
  {
   "cell_type": "markdown",
   "id": "15c91ae2",
   "metadata": {},
   "source": [
    "Through visual analysis, it's clear that conservative methods achieve the same AUC, but show higher thresholds, which could mean a better differentiation in classification"
   ]
  },
  {
   "cell_type": "code",
   "execution_count": 60,
   "id": "9b176980",
   "metadata": {},
   "outputs": [
    {
     "name": "stdout",
     "output_type": "stream",
     "text": [
      "Iteration 0\n",
      "Pure Method\n",
      "Total examples: 648\n",
      "\n",
      " --------------------- \n",
      "\n",
      "Accuracy for Class 0: 63.94%  (360 in 563)\n",
      "Accuracy for Class 1: 82.35%  (70 in 85)\n",
      "Test Accuracy: 66.36%\n",
      "Weighted Accuracy: 79.90%\n",
      "\n",
      " --------------------- \n",
      "\n",
      "F1 Score (Macro): 0.579\n",
      "F1 Score (Weighted): 0.718\n",
      "F1 Score Class 0: 0.768\n",
      "F1 Score Class 1: 0.391\n",
      "\n",
      " --------------------- \n",
      "\n",
      "\n",
      "Confusion Matrix: \n",
      " [[360 203]\n",
      " [ 15  70]]\n",
      "\n",
      "Conservative Method\n",
      "Total examples: 648\n",
      "\n",
      " --------------------- \n",
      "\n",
      "Accuracy for Class 0: 60.57%  (341 in 563)\n",
      "Accuracy for Class 1: 84.71%  (72 in 85)\n",
      "Test Accuracy: 63.73%\n",
      "Weighted Accuracy: 81.50%\n",
      "\n",
      " --------------------- \n",
      "\n",
      "F1 Score (Macro): 0.562\n",
      "F1 Score (Weighted): 0.696\n",
      "F1 Score Class 0: 0.744\n",
      "F1 Score Class 1: 0.380\n",
      "\n",
      " --------------------- \n",
      "\n",
      "\n",
      "Confusion Matrix: \n",
      " [[341 222]\n",
      " [ 13  72]]\n",
      "----------------------------------------------------\n",
      "Iteration 1\n",
      "Pure Method\n",
      "Total examples: 648\n",
      "\n",
      " --------------------- \n",
      "\n",
      "Accuracy for Class 0: 59.86%  (337 in 563)\n",
      "Accuracy for Class 1: 78.82%  (67 in 85)\n",
      "Test Accuracy: 62.35%\n",
      "Weighted Accuracy: 76.30%\n",
      "\n",
      " --------------------- \n",
      "\n",
      "F1 Score (Macro): 0.544\n",
      "F1 Score (Weighted): 0.684\n",
      "F1 Score Class 0: 0.734\n",
      "F1 Score Class 1: 0.354\n",
      "\n",
      " --------------------- \n",
      "\n",
      "\n",
      "Confusion Matrix: \n",
      " [[337 226]\n",
      " [ 18  67]]\n",
      "\n",
      "Conservative Method\n",
      "Total examples: 648\n",
      "\n",
      " --------------------- \n",
      "\n",
      "Accuracy for Class 0: 58.08%  (327 in 563)\n",
      "Accuracy for Class 1: 77.65%  (66 in 85)\n",
      "Test Accuracy: 60.65%\n",
      "Weighted Accuracy: 75.04%\n",
      "\n",
      " --------------------- \n",
      "\n",
      "F1 Score (Macro): 0.530\n",
      "F1 Score (Weighted): 0.670\n",
      "F1 Score Class 0: 0.719\n",
      "F1 Score Class 1: 0.341\n",
      "\n",
      " --------------------- \n",
      "\n",
      "\n",
      "Confusion Matrix: \n",
      " [[327 236]\n",
      " [ 19  66]]\n",
      "----------------------------------------------------\n",
      "Iteration 2\n",
      "Pure Method\n",
      "Total examples: 648\n",
      "\n",
      " --------------------- \n",
      "\n",
      "Accuracy for Class 0: 58.44%  (329 in 563)\n",
      "Accuracy for Class 1: 77.65%  (66 in 85)\n",
      "Test Accuracy: 60.96%\n",
      "Weighted Accuracy: 75.09%\n",
      "\n",
      " --------------------- \n",
      "\n",
      "F1 Score (Macro): 0.533\n",
      "F1 Score (Weighted): 0.673\n",
      "F1 Score Class 0: 0.722\n",
      "F1 Score Class 1: 0.343\n",
      "\n",
      " --------------------- \n",
      "\n",
      "\n",
      "Confusion Matrix: \n",
      " [[329 234]\n",
      " [ 19  66]]\n",
      "\n",
      "Conservative Method\n",
      "Total examples: 648\n",
      "\n",
      " --------------------- \n",
      "\n",
      "Accuracy for Class 0: 54.53%  (307 in 563)\n",
      "Accuracy for Class 1: 78.82%  (67 in 85)\n",
      "Test Accuracy: 57.72%\n",
      "Weighted Accuracy: 75.59%\n",
      "\n",
      " --------------------- \n",
      "\n",
      "F1 Score (Macro): 0.510\n",
      "F1 Score (Weighted): 0.644\n",
      "F1 Score Class 0: 0.691\n",
      "F1 Score Class 1: 0.328\n",
      "\n",
      " --------------------- \n",
      "\n",
      "\n",
      "Confusion Matrix: \n",
      " [[307 256]\n",
      " [ 18  67]]\n",
      "----------------------------------------------------\n",
      "Iteration 3\n",
      "Pure Method\n",
      "Total examples: 648\n",
      "\n",
      " --------------------- \n",
      "\n",
      "Accuracy for Class 0: 56.84%  (320 in 563)\n",
      "Accuracy for Class 1: 82.35%  (70 in 85)\n",
      "Test Accuracy: 60.19%\n",
      "Weighted Accuracy: 78.96%\n",
      "\n",
      " --------------------- \n",
      "\n",
      "F1 Score (Macro): 0.532\n",
      "F1 Score (Weighted): 0.665\n",
      "F1 Score Class 0: 0.713\n",
      "F1 Score Class 1: 0.352\n",
      "\n",
      " --------------------- \n",
      "\n",
      "\n",
      "Confusion Matrix: \n",
      " [[320 243]\n",
      " [ 15  70]]\n",
      "\n",
      "Conservative Method\n",
      "Total examples: 648\n",
      "\n",
      " --------------------- \n",
      "\n",
      "Accuracy for Class 0: 56.84%  (320 in 563)\n",
      "Accuracy for Class 1: 83.53%  (71 in 85)\n",
      "Test Accuracy: 60.34%\n",
      "Weighted Accuracy: 79.98%\n",
      "\n",
      " --------------------- \n",
      "\n",
      "F1 Score (Macro): 0.535\n",
      "F1 Score (Weighted): 0.667\n",
      "F1 Score Class 0: 0.713\n",
      "F1 Score Class 1: 0.356\n",
      "\n",
      " --------------------- \n",
      "\n",
      "\n",
      "Confusion Matrix: \n",
      " [[320 243]\n",
      " [ 14  71]]\n",
      "----------------------------------------------------\n",
      "Iteration 4\n",
      "Pure Method\n",
      "Total examples: 648\n",
      "\n",
      " --------------------- \n",
      "\n",
      "Accuracy for Class 0: 56.31%  (317 in 563)\n",
      "Accuracy for Class 1: 74.12%  (63 in 85)\n",
      "Test Accuracy: 58.64%\n",
      "Weighted Accuracy: 71.75%\n",
      "\n",
      " --------------------- \n",
      "\n",
      "F1 Score (Macro): 0.511\n",
      "F1 Score (Weighted): 0.653\n",
      "F1 Score Class 0: 0.703\n",
      "F1 Score Class 1: 0.320\n",
      "\n",
      " --------------------- \n",
      "\n",
      "\n",
      "Confusion Matrix: \n",
      " [[317 246]\n",
      " [ 22  63]]\n",
      "\n",
      "Conservative Method\n",
      "Total examples: 648\n",
      "\n",
      " --------------------- \n",
      "\n",
      "Accuracy for Class 0: 56.13%  (316 in 563)\n",
      "Accuracy for Class 1: 74.12%  (63 in 85)\n",
      "Test Accuracy: 58.49%\n",
      "Weighted Accuracy: 71.73%\n",
      "\n",
      " --------------------- \n",
      "\n",
      "F1 Score (Macro): 0.510\n",
      "F1 Score (Weighted): 0.651\n",
      "F1 Score Class 0: 0.701\n",
      "F1 Score Class 1: 0.319\n",
      "\n",
      " --------------------- \n",
      "\n",
      "\n",
      "Confusion Matrix: \n",
      " [[316 247]\n",
      " [ 22  63]]\n",
      "----------------------------------------------------\n"
     ]
    }
   ],
   "source": [
    "for i in range(len(pure_resnets)):\n",
    "    print(\"Iteration\",i)\n",
    "    print(\"Pure Method\")\n",
    "    evalResNet(pure_resnets[i], test_dataset,pure_thresh[i])\n",
    "\n",
    "    print(\"\\nConservative Method\")\n",
    "    if best_cons_epochs[i] != 0: evalResNet(conservative_resnets[i], test_dataset,cons_thresh[i])\n",
    "    else: print(\"ERROR DUE TO EPOCH==0\")\n",
    "    print('----------------------------------------------------')"
   ]
  },
  {
   "cell_type": "markdown",
   "id": "49712a0d",
   "metadata": {},
   "source": [
    "### Conservative VS Pure Conclusions\n",
    "\n",
    "Both behave in very similar ways, displaying nearly identical performances. "
   ]
  }
 ],
 "metadata": {
  "kernelspec": {
   "display_name": "fibrosis",
   "language": "python",
   "name": "python3"
  },
  "language_info": {
   "codemirror_mode": {
    "name": "ipython",
    "version": 3
   },
   "file_extension": ".py",
   "mimetype": "text/x-python",
   "name": "python",
   "nbconvert_exporter": "python",
   "pygments_lexer": "ipython3",
   "version": "3.12.9"
  }
 },
 "nbformat": 4,
 "nbformat_minor": 5
}
