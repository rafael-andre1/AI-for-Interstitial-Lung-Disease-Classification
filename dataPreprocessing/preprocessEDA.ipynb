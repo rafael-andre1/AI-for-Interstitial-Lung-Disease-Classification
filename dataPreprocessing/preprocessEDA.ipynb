{
 "cells": [
  {
   "cell_type": "markdown",
   "metadata": {},
   "source": [
    "# Data Preprocessing and Exploratory Analysis\n"
   ]
  },
  {
   "cell_type": "markdown",
   "metadata": {},
   "source": [
    "This notebook documents the essential normalization, quality assessment and general preprocessing and analysis steps of the created dataframe.\n",
    "\n",
    "Initial ideas consist of:\n",
    "\n",
    " - Hounsfield Units Manual Normalization\n",
    " - Class Imbalance Identification (maintain data ratio on augmentation or aim for 50/50)\n",
    " - Investigate new, possibly more meaningful metrics\n",
    " - General EDA\n",
    "\n",
    "The core objective of this notebook is to build a clean, augmented dataframe and export it to a `.pkl` file. The file will be used to compare augmentation performance. I assume this `.ipynb` file can possibly be reused (needs only changes on solutions due to observed issues) with the 3d dataset."
   ]
  },
  {
   "cell_type": "code",
   "execution_count": 1,
   "metadata": {},
   "outputs": [],
   "source": [
    "# Relevant imports\n",
    "\n",
    "import os\n",
    "import pandas as pd\n",
    "import pickle\n",
    "import pydicom\n",
    "import numpy as np\n",
    "import matplotlib.pyplot as plt\n",
    "import matplotlib.animation as animation"
   ]
  },
  {
   "cell_type": "code",
   "execution_count": 3,
   "metadata": {},
   "outputs": [
    {
     "data": {
      "text/html": [
       "<div>\n",
       "<style scoped>\n",
       "    .dataframe tbody tr th:only-of-type {\n",
       "        vertical-align: middle;\n",
       "    }\n",
       "\n",
       "    .dataframe tbody tr th {\n",
       "        vertical-align: top;\n",
       "    }\n",
       "\n",
       "    .dataframe thead th {\n",
       "        text-align: right;\n",
       "    }\n",
       "</style>\n",
       "<table border=\"1\" class=\"dataframe\">\n",
       "  <thead>\n",
       "    <tr style=\"text-align: right;\">\n",
       "      <th></th>\n",
       "      <th>SliceID</th>\n",
       "      <th>SliceData</th>\n",
       "      <th>Class</th>\n",
       "    </tr>\n",
       "  </thead>\n",
       "  <tbody>\n",
       "    <tr>\n",
       "      <th>0</th>\n",
       "      <td>CT-0002-0001.dcm</td>\n",
       "      <td>[[-2000.0, -2000.0, -2000.0, -2000.0, -2000.0,...</td>\n",
       "      <td>0</td>\n",
       "    </tr>\n",
       "    <tr>\n",
       "      <th>1</th>\n",
       "      <td>CT-0002-0002.dcm</td>\n",
       "      <td>[[-2000.0, -2000.0, -2000.0, -2000.0, -2000.0,...</td>\n",
       "      <td>0</td>\n",
       "    </tr>\n",
       "    <tr>\n",
       "      <th>2</th>\n",
       "      <td>CT-0002-0003.dcm</td>\n",
       "      <td>[[-2000.0, -2000.0, -2000.0, -2000.0, -2000.0,...</td>\n",
       "      <td>0</td>\n",
       "    </tr>\n",
       "    <tr>\n",
       "      <th>3</th>\n",
       "      <td>CT-0002-0004.dcm</td>\n",
       "      <td>[[-2000.0, -2000.0, -2000.0, -2000.0, -2000.0,...</td>\n",
       "      <td>1</td>\n",
       "    </tr>\n",
       "    <tr>\n",
       "      <th>4</th>\n",
       "      <td>CT-0002-0005.dcm</td>\n",
       "      <td>[[-2000.0, -2000.0, -2000.0, -2000.0, -2000.0,...</td>\n",
       "      <td>1</td>\n",
       "    </tr>\n",
       "    <tr>\n",
       "      <th>5</th>\n",
       "      <td>CT-0002-0006.dcm</td>\n",
       "      <td>[[-2000.0, -2000.0, -2000.0, -2000.0, -2000.0,...</td>\n",
       "      <td>1</td>\n",
       "    </tr>\n",
       "    <tr>\n",
       "      <th>6</th>\n",
       "      <td>CT-0002-0007.dcm</td>\n",
       "      <td>[[-2000.0, -2000.0, -2000.0, -2000.0, -2000.0,...</td>\n",
       "      <td>1</td>\n",
       "    </tr>\n",
       "    <tr>\n",
       "      <th>7</th>\n",
       "      <td>CT-0002-0008.dcm</td>\n",
       "      <td>[[-2000.0, -2000.0, -2000.0, -2000.0, -2000.0,...</td>\n",
       "      <td>0</td>\n",
       "    </tr>\n",
       "    <tr>\n",
       "      <th>8</th>\n",
       "      <td>CT-0002-0009.dcm</td>\n",
       "      <td>[[-2000.0, -2000.0, -2000.0, -2000.0, -2000.0,...</td>\n",
       "      <td>0</td>\n",
       "    </tr>\n",
       "    <tr>\n",
       "      <th>9</th>\n",
       "      <td>CT-0002-0010.dcm</td>\n",
       "      <td>[[-2000.0, -2000.0, -2000.0, -2000.0, -2000.0,...</td>\n",
       "      <td>0</td>\n",
       "    </tr>\n",
       "  </tbody>\n",
       "</table>\n",
       "</div>"
      ],
      "text/plain": [
       "            SliceID                                          SliceData  Class\n",
       "0  CT-0002-0001.dcm  [[-2000.0, -2000.0, -2000.0, -2000.0, -2000.0,...      0\n",
       "1  CT-0002-0002.dcm  [[-2000.0, -2000.0, -2000.0, -2000.0, -2000.0,...      0\n",
       "2  CT-0002-0003.dcm  [[-2000.0, -2000.0, -2000.0, -2000.0, -2000.0,...      0\n",
       "3  CT-0002-0004.dcm  [[-2000.0, -2000.0, -2000.0, -2000.0, -2000.0,...      1\n",
       "4  CT-0002-0005.dcm  [[-2000.0, -2000.0, -2000.0, -2000.0, -2000.0,...      1\n",
       "5  CT-0002-0006.dcm  [[-2000.0, -2000.0, -2000.0, -2000.0, -2000.0,...      1\n",
       "6  CT-0002-0007.dcm  [[-2000.0, -2000.0, -2000.0, -2000.0, -2000.0,...      1\n",
       "7  CT-0002-0008.dcm  [[-2000.0, -2000.0, -2000.0, -2000.0, -2000.0,...      0\n",
       "8  CT-0002-0009.dcm  [[-2000.0, -2000.0, -2000.0, -2000.0, -2000.0,...      0\n",
       "9  CT-0002-0010.dcm  [[-2000.0, -2000.0, -2000.0, -2000.0, -2000.0,...      0"
      ]
     },
     "execution_count": 3,
     "metadata": {},
     "output_type": "execute_result"
    }
   ],
   "source": [
    "# Pulling dataframe \n",
    "\n",
    "df_fibrosis = pd.read_pickle(r'D:\\\\Rafa\\\\A1Uni\\\\2semestre\\\\Estágio\\\\fibrosis_data.pkl')\n",
    "df_fibrosis.head(10)"
   ]
  }
 ],
 "metadata": {
  "kernelspec": {
   "display_name": "fibrosis",
   "language": "python",
   "name": "python3"
  },
  "language_info": {
   "codemirror_mode": {
    "name": "ipython",
    "version": 3
   },
   "file_extension": ".py",
   "mimetype": "text/x-python",
   "name": "python",
   "nbconvert_exporter": "python",
   "pygments_lexer": "ipython3",
   "version": "3.12.9"
  }
 },
 "nbformat": 4,
 "nbformat_minor": 2
}
