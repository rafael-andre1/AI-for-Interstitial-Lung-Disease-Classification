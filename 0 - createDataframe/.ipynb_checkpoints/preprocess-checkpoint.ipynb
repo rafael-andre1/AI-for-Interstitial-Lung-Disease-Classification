{
 "cells": [
  {
   "cell_type": "markdown",
   "metadata": {
    "vscode": {
     "languageId": "plaintext"
    }
   },
   "source": [
    "## Creating a dataframe with ID -> Label"
   ]
  },
  {
   "cell_type": "markdown",
   "metadata": {},
   "source": [
    "Imports"
   ]
  },
  {
   "cell_type": "code",
   "execution_count": 23,
   "metadata": {},
   "outputs": [],
   "source": [
    "import os\n",
    "import pandas as pd\n",
    "import pickle\n",
    "\n",
    "# Export dataframe as .csv if only ID -> Label, .pkl otherwise"
   ]
  },
  {
   "cell_type": "code",
   "execution_count": 25,
   "metadata": {},
   "outputs": [],
   "source": [
    "# Setting variables \n",
    "\n",
    "# root_dir = 'X:\\\\RafaelAndre\\\\MedGIFT\\\\ILD_DB_txtROIs'\n",
    "\n",
    "root_dir = 'C:\\\\Users\\\\compe\\\\Desktop\\\\Main'\n",
    "\n",
    "# Dictionary for guarantee of correct assignment \n",
    "\n",
    "featureLabel = {}"
   ]
  },
  {
   "cell_type": "code",
   "execution_count": 27,
   "metadata": {},
   "outputs": [],
   "source": [
    "# Function to correctly update dictionary\n",
    "\n",
    "def update_feature_label(featureLabel, id, num):\n",
    "\n",
    "    # If the key exists do this, otherwise create\n",
    "    cur = featureLabel[id]\n",
    "\n",
    "    if cur == 0: featureLabel[id] = num"
   ]
  },
  {
   "cell_type": "code",
   "execution_count": 29,
   "metadata": {},
   "outputs": [
    {
     "name": "stdout",
     "output_type": "stream",
     "text": [
      "['1', '2', '3']\n"
     ]
    }
   ],
   "source": [
    "# Identify every folder available\n",
    "\n",
    "folderIdList = [d for d in os.listdir(root_dir) if os.path.isdir(os.path.join(root_dir, d))]\n",
    "print(folderIdList)"
   ]
  },
  {
   "cell_type": "code",
   "execution_count": 31,
   "metadata": {},
   "outputs": [
    {
     "name": "stdout",
     "output_type": "stream",
     "text": [
      "Current directory ID: 1\n",
      "Selected: content1.txt\n"
     ]
    },
    {
     "ename": "KeyError",
     "evalue": "'1'",
     "output_type": "error",
     "traceback": [
      "\u001b[1;31m---------------------------------------------------------------------------\u001b[0m",
      "\u001b[1;31mKeyError\u001b[0m                                  Traceback (most recent call last)",
      "Cell \u001b[1;32mIn[31], line 30\u001b[0m\n\u001b[0;32m     26\u001b[0m content \u001b[38;5;241m=\u001b[39m file\u001b[38;5;241m.\u001b[39mread()\n\u001b[0;32m     29\u001b[0m \u001b[38;5;66;03m# If it contains keyword \"fibrosis\" set label to 1, otherwise 0 \u001b[39;00m\n\u001b[1;32m---> 30\u001b[0m update_feature_label(featureLabel, patientID, ((\u001b[38;5;241m1\u001b[39m) \u001b[38;5;28;01mif\u001b[39;00m \u001b[38;5;124m\"\u001b[39m\u001b[38;5;124mfibrosis\u001b[39m\u001b[38;5;124m\"\u001b[39m \u001b[38;5;129;01min\u001b[39;00m content \u001b[38;5;28;01melse\u001b[39;00m (\u001b[38;5;241m0\u001b[39m)))\n",
      "Cell \u001b[1;32mIn[27], line 4\u001b[0m, in \u001b[0;36mupdate_feature_label\u001b[1;34m(featureLabel, id, num)\u001b[0m\n\u001b[0;32m      3\u001b[0m \u001b[38;5;28;01mdef\u001b[39;00m \u001b[38;5;21mupdate_feature_label\u001b[39m(featureLabel, \u001b[38;5;28mid\u001b[39m, num):\n\u001b[1;32m----> 4\u001b[0m     cur \u001b[38;5;241m=\u001b[39m featureLabel[\u001b[38;5;28mid\u001b[39m]\n\u001b[0;32m      6\u001b[0m     \u001b[38;5;28;01mif\u001b[39;00m cur \u001b[38;5;241m==\u001b[39m \u001b[38;5;241m0\u001b[39m: featureLabel[\u001b[38;5;28mid\u001b[39m] \u001b[38;5;241m=\u001b[39m num\n",
      "\u001b[1;31mKeyError\u001b[0m: '1'"
     ]
    }
   ],
   "source": [
    "# File analysis loop\n",
    "\n",
    "for patientID in folderIdList:\n",
    "\n",
    "    for dirpath, dirnames, filenames in os.walk(os.path.join(root_dir, patientID)):\n",
    "        # Open MedGIFT / txtROI\n",
    "        print(f\"Current directory ID: {patientID}\")\n",
    "    \n",
    "        # For cases where detects nested folders, we want only patient ID, no matter the scan\n",
    "        # For that reason (although inneficient), I will be separating those cases into 2 loops\n",
    "    \n",
    "        # If a directory name is not entirely composed of numbers, and is different from root,\n",
    "        # Then we cannot check it\n",
    "    \n",
    "    \n",
    "        # For each folder create id (ex patientID = folder number)\n",
    "        for file in filenames:\n",
    "            # Iterate through files in order to find .txt\n",
    "            if 'txt' in file:\n",
    "                fileID = f\"{file}\"\n",
    "                print(f\"Selected: {fileID}\")\n",
    "    \n",
    "                # Define path for access\n",
    "                file_path = os.path.join(dirpath,file)\n",
    "                with open(file_path, 'r') as file:\n",
    "                    content = file.read()\n",
    "    \n",
    "    \n",
    "                    # If it contains keyword \"fibrosis\" set label to 1, otherwise 0 \n",
    "                    update_feature_label(featureLabel, patientID, ((1) if \"fibrosis\" in content else (0)))\n"
   ]
  },
  {
   "cell_type": "code",
   "execution_count": 21,
   "metadata": {},
   "outputs": [
    {
     "name": "stdout",
     "output_type": "stream",
     "text": [
      "['1', '2', '2', '3']\n",
      "[1, 1, 1, 1]\n",
      "True\n"
     ]
    }
   ],
   "source": [
    "print(X)\n",
    "print(y)\n",
    "print(len(X) == len(y))"
   ]
  },
  {
   "cell_type": "code",
   "execution_count": null,
   "metadata": {},
   "outputs": [],
   "source": [
    "df = pd.DataFrame(X, columns=['PatientID'])\n",
    "df['Class'] = y"
   ]
  },
  {
   "cell_type": "code",
   "execution_count": null,
   "metadata": {},
   "outputs": [],
   "source": [
    "df.head(5)"
   ]
  },
  {
   "cell_type": "code",
   "execution_count": null,
   "metadata": {},
   "outputs": [],
   "source": []
  },
  {
   "cell_type": "code",
   "execution_count": null,
   "metadata": {},
   "outputs": [],
   "source": []
  },
  {
   "cell_type": "code",
   "execution_count": null,
   "metadata": {},
   "outputs": [],
   "source": []
  }
 ],
 "metadata": {
  "kernelspec": {
   "display_name": "Python 3 (ipykernel)",
   "language": "python",
   "name": "python3"
  },
  "language_info": {
   "codemirror_mode": {
    "name": "ipython",
    "version": 3
   },
   "file_extension": ".py",
   "mimetype": "text/x-python",
   "name": "python",
   "nbconvert_exporter": "python",
   "pygments_lexer": "ipython3",
   "version": "3.11.4"
  }
 },
 "nbformat": 4,
 "nbformat_minor": 4
}
