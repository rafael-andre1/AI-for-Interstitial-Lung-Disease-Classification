{
 "cells": [
  {
   "cell_type": "markdown",
   "id": "98d89485",
   "metadata": {},
   "source": [
    "# Proportion representative test split (90% 0 | 10% 1)"
   ]
  },
  {
   "cell_type": "markdown",
   "id": "c5efddf8",
   "metadata": {},
   "source": [
    "As referenced in `1 - dataPreprocessing`, the HRCT_Pilot folder is not representative of the dataset's class imbalance, and portrays exceedingly small fibrosis cases (only 2 in 301 slices)."
   ]
  },
  {
   "cell_type": "markdown",
   "id": "4d6a3217",
   "metadata": {},
   "source": [
    "For that reason, the next logical step is to build a test dataframe containing ``SliceID`` and ``Class`` pairs with the following characteristics:\n",
    "\n",
    " - if patient is present in the test dataset, then it cannot be in the train dataset (and vice-versa), in order to respect data validity \n",
    " - class imbalance must simulate overall 90-10 proportion, considering a reasonable difference threshold, in order for the sample to be representative of the entire dataset\n",
    " - test dataframe size must represent 20 to 30% of the entire dataset, yielding 630-900 out of 3075 slices"
   ]
  },
  {
   "cell_type": "markdown",
   "id": "361ccbed",
   "metadata": {},
   "source": [
    "Respecting these rules will ensure the creation of a valid test split."
   ]
  },
  {
   "cell_type": "markdown",
   "id": "e70f0a8c",
   "metadata": {},
   "source": [
    "Code intuition is as follows:\n",
    "\n",
    " - Randomly select a patient from the full dataset (can easily be extracted from `SliceID`)\n",
    " - Remove patient from train and add to test dataframe\n",
    "\n",
    "After that, the new dataframe will undergo a series of tests and approximation measures:\n",
    "\n",
    " - if conditions_above_met: test split successful\n",
    " - elif test_split[`Class` == 0] < 90% - threshold: add patient with imbalance > (90% 0 | 10% 1), increasing `Class` == 0 imbalance, approximating emulation of dataset imbalance\n",
    " - elif test_split[`Class` == 0] > 90% + threshold: add patient with imbalance < (90% 0 | 10% 1), increasing `Class` == 1 examples, approximating emulation of dataset imbalance\n",
    " - elif len(test_split) < 630 - threshold: add patient with closest imbalance to (90% 0 | 10% 1)\n",
    " - elif len(test_split) > 900 + threshold: remove patient with closest imbalance to (90% 0 | 10% 1)\n",
    "\n",
    "For efficiency sake, after n iterations, the function will print the test dataframe size and proportion. This will also allow for fine-tuning, in case proportion and size are already sufficiently good but the code doesn't stop running due to poorly chosen thresholds."
   ]
  },
  {
   "cell_type": "code",
   "execution_count": 1,
   "id": "d637e2b8",
   "metadata": {},
   "outputs": [],
   "source": [
    "import pandas as pd\n",
    "import pickle\n",
    "import random "
   ]
  },
  {
   "cell_type": "code",
   "execution_count": 2,
   "id": "61329336",
   "metadata": {},
   "outputs": [],
   "source": [
    "#df_fibrosis = pd.read_pickle(r'D:\\Rafa\\A1Uni\\2semestre\\Estágio\\fibrosis_data.pkl')\n",
    "\n",
    "df_fibrosis = pd.read_pickle(r'..\\..\\\\fibrosis_data.pkl')\n",
    "\n",
    "# Removing SliceData as it is not necessary for this procedure\n",
    "df_fibrosis = df_fibrosis.drop(columns=[\"SliceData\"])"
   ]
  },
  {
   "cell_type": "markdown",
   "id": "44efd67b",
   "metadata": {},
   "source": [
    "### Utility functions"
   ]
  },
  {
   "cell_type": "markdown",
   "id": "a7c63ac7",
   "metadata": {},
   "source": [
    "Produced ID will end in \"\\__\\\" in order to facilitate finding same patient slices, which guarantees \"if slice_id in df[\"SliceID\"]\" correctly identifies pateint even if the number appears in a different place (for example, 142__[...] is correct for patient 142, but [...]__142-77 is not):"
   ]
  },
  {
   "cell_type": "code",
   "execution_count": 3,
   "id": "cfdc7e60",
   "metadata": {},
   "outputs": [],
   "source": [
    "def getPatientID(slice_id):\n",
    "    \n",
    "    # Finds index of \"__\" occurence -> finds flag index\n",
    "    flag = slice_id.find(\"__\")\n",
    "\n",
    "    # Finds main folder in \"txt ROI's\" \n",
    "    main_folder = slice_id[:flag] if flag != -1 else slice_id\n",
    "\n",
    "    # Main folder is not a number, patient is in the \n",
    "    # \"HRCT_Pilot\" folder, extract the patient id in front\n",
    "    if \"HRCT_Pilot\" in str(main_folder):\n",
    "        # Removes \"HRCT_Pilot__\"\n",
    "        patientID = slice_id[12:]\n",
    "        # Crops to \"PatientID__\"\n",
    "        return patientID[:5]\n",
    "\n",
    "    # Main folder is already a number, even if a patient\n",
    "    # has more than 1 exam folder, use number as ID\n",
    "    elif str(main_folder).isnumeric: return main_folder + \"__\"\n",
    "\n",
    "    else: \n",
    "        print(\"ERROR IN GETPATIENTID\")\n",
    "        print(slice_id)\n",
    "        return slice_id"
   ]
  },
  {
   "cell_type": "markdown",
   "id": "939d29c4",
   "metadata": {},
   "source": [
    "Uses pre-defined flag in order to correctly identify patients, correctly handling every special case:\n",
    "\n",
    " - `HRCT_Pilot`: all patient id's are >= 200, and flagged as \"HRCT_Pilot__PatientID__SliceID\"\n",
    " - `Nested Folders`: SliceID for patients with more than 1 exam still start with PatientID\n",
    " - `Regular`: same as above"
   ]
  },
  {
   "cell_type": "code",
   "execution_count": 4,
   "id": "6e195719",
   "metadata": {},
   "outputs": [],
   "source": [
    "# Moves all patient slices from one dataset to another\n",
    "def movePatient(patient, goes_from, to):\n",
    "\n",
    "    # If the first 3 represent a number >= 200 then it's contains \"_number__\"\n",
    "    # NOT WORKING\n",
    "    if int(patient[:-2]) >= 200: mask = goes_from[\"SliceID\"].str.contains(f\"_{patient}\")\n",
    "    else: mask = goes_from[\"SliceID\"].str.startswith(patient)\n",
    "    to = pd.concat([to, goes_from[mask]])\n",
    "    goes_from = goes_from[~mask]\n",
    "\n",
    "    return goes_from, to"
   ]
  },
  {
   "cell_type": "markdown",
   "id": "58278017",
   "metadata": {},
   "source": [
    "Simple calculation of proportion of Class 0 in defined dataframe:"
   ]
  },
  {
   "cell_type": "code",
   "execution_count": 5,
   "id": "3b5ce96a",
   "metadata": {},
   "outputs": [],
   "source": [
    "# Returns proportion of class 0\n",
    "def getProportion(df):\n",
    "    class_counts, total_samples = df['Class'].value_counts(), len(df)\n",
    "    if total_samples == 0: return 0\n",
    "    return class_counts[0] / total_samples"
   ]
  },
  {
   "cell_type": "markdown",
   "id": "3f27a829",
   "metadata": {},
   "source": [
    "The code below creates a dictionary with with (patientID: proportion in df) pairs:"
   ]
  },
  {
   "cell_type": "code",
   "execution_count": 6,
   "id": "67921487",
   "metadata": {},
   "outputs": [],
   "source": [
    "# Returns list containing proportions for each patient\n",
    "def getInfoDict(df_original):\n",
    "    df = df_original.copy()\n",
    "    info_dict = {}\n",
    "\n",
    "    while not df.empty:\n",
    "        patient_id = getPatientID(df[\"SliceID\"].iloc[0])\n",
    "\n",
    "        # Get all rows for that patient\n",
    "        mask = df[\"SliceID\"].str.contains(patient_id)\n",
    "        df_patient = df[mask]\n",
    "\n",
    "        # Add info\n",
    "        proportion = getProportion(df_patient) \n",
    "        info_dict[patient_id] = proportion\n",
    "\n",
    "        # Remove from df\n",
    "        df = df[~mask]\n",
    "\n",
    "    return info_dict"
   ]
  },
  {
   "cell_type": "markdown",
   "id": "d6c7206a",
   "metadata": {},
   "source": [
    "Each utility function serves a useful purpose in the main function below. If needed, it can easily be changed to customizable proportion as well as test size:"
   ]
  },
  {
   "cell_type": "code",
   "execution_count": 7,
   "id": "1edb1d4c",
   "metadata": {},
   "outputs": [],
   "source": [
    "def fibrosisTestSplit(original_dataframe, show_updates=False):\n",
    "\n",
    "    df = original_dataframe.copy()\n",
    "    test_df = pd.DataFrame(columns=[\"SliceID\", \"Class\"])\n",
    "\n",
    "\n",
    "    # Initialize loop with random slice\n",
    "    init_slice = df.iloc[random.choice(range(len(df)))]\n",
    "    cur_id = getPatientID(init_slice[\"SliceID\"])\n",
    "    df, test_df = movePatient(patient=cur_id, goes_from=df, to=test_df)\n",
    "\n",
    "    print(\"Started by moving patient \",cur_id)\n",
    "    print(\"Initial proportion: \", getProportion(test_df),\"   |    Initial size: \",len(test_df))\n",
    "\n",
    "    # Proportion and size tolerance/threshold\n",
    "    prop_thr, size_thr = 0.01, 25\n",
    "\n",
    "    # Counter for integrity checks\n",
    "    n, nothing_counter = 0, 0\n",
    "\n",
    "\n",
    "    # Until test dataframe has reasonable size and proportion, loop will run \n",
    "    # Also includes iteration limit\n",
    "    while (not ((getProportion(test_df) in [0.9-prop_thr, 0.9+prop_thr])\n",
    "            and (len(test_df) in [630, 900+size_thr]))) and n<=1000:\n",
    "        \n",
    "        # Dictionary with (patientID: proportion in df) pairs\n",
    "        info_train = getInfoDict(df)\n",
    "        info_test = getInfoDict(test_df)\n",
    "\n",
    "        # Approximation measures\n",
    "        if getProportion(test_df) < 0.9-prop_thr: \n",
    "            nothing_counter = 0\n",
    "            # Add from random.choice(list of patient ids with proportion >0.9)\n",
    "            cur_patient = random.choice([key for key, value in info_train.items() if value > 0.9])\n",
    "            df, test_df = movePatient(cur_patient,goes_from=df,to=test_df)\n",
    "\n",
    "        elif getProportion(test_df) > 0.9+prop_thr: \n",
    "            nothing_counter = 0\n",
    "            # Add from random.choice(list of patient ids with proportion <0.9)\n",
    "            cur_patient = random.choice([key for key, value in info_train.items() if value < 0.9])\n",
    "            df, test_df = movePatient(cur_patient,goes_from=df,to=test_df)\n",
    "\n",
    "        elif len(test_df) < 630: \n",
    "            nothing_counter = 0\n",
    "            # Add random.choice(list of patient ids closer to 0.9 FROM TRAIN)\n",
    "            cur_patient = min(info_train, key=lambda k: abs(info_train[k] - 0.9))\n",
    "            df, test_df = movePatient(cur_patient,goes_from=df,to=test_df)\n",
    "\n",
    "        elif len(test_df) > 900+size_thr: \n",
    "            nothing_counter = 0\n",
    "            # Remove random.choice(list of patient ids closer to 0.9 FROM TEST)\n",
    "            cur_patient = min(info_train, key=lambda k: abs(info_test[k] - 0.9))\n",
    "            # Swap order of patient trade\n",
    "            test_df, df = movePatient(cur_patient,goes_from=test_df,to=df)\n",
    "\n",
    "        else: \n",
    "            nothing_counter += 1\n",
    "\n",
    "        # Useful for debugging\n",
    "        if show_updates and n % 10 == 0:\n",
    "            print(\"Proportion: \", getProportion(test_df),\"   |    Size: \",len(test_df))\n",
    "\n",
    "        # Early stop if program is doing nothing\n",
    "        if nothing_counter > 50: break\n",
    "\n",
    "        n+=1\n",
    "\n",
    "    print(\"\\n----------------------------------------------\\n\")\n",
    "    print(\"Final test proportion: \", getProportion(test_df),\"   |    Final test size: \",len(test_df))\n",
    "    print(\"Final train proportion: \", getProportion(df),\"   |    Final train size: \",len(df))\n",
    "\n",
    "    return df, test_df"
   ]
  },
  {
   "cell_type": "code",
   "execution_count": 8,
   "id": "0987a7d8",
   "metadata": {},
   "outputs": [
    {
     "name": "stdout",
     "output_type": "stream",
     "text": [
      "Started by moving patient  107__\n",
      "Initial proportion:  1.0    |    Initial size:  31\n",
      "\n",
      "----------------------------------------------\n",
      "\n",
      "Final test proportion:  0.8917682926829268    |    Final test size:  656\n",
      "Final train proportion:  0.9073614557485525    |    Final train size:  2418\n"
     ]
    }
   ],
   "source": [
    "df_train, df_test = fibrosisTestSplit(df_fibrosis)"
   ]
  },
  {
   "cell_type": "markdown",
   "id": "fdeafbca",
   "metadata": {},
   "source": [
    "Code below is disabled in order to prevent overwrite:"
   ]
  },
  {
   "cell_type": "markdown",
   "id": "5941afbd",
   "metadata": {},
   "source": [
    "```py\n",
    "\n",
    "df_train, df_test = pd.read_csv(\"train_dataframe.csv\"), pd.read_csv(\"test_dataframe.csv\")\n",
    "\n",
    "```"
   ]
  },
  {
   "cell_type": "code",
   "execution_count": 9,
   "id": "825b4faf",
   "metadata": {},
   "outputs": [
    {
     "name": "stdout",
     "output_type": "stream",
     "text": [
      "Proportion (0.89) is representative of entire dataset.\n",
      "Test dataframe consists of 21.34% of entire dataset.\n"
     ]
    }
   ],
   "source": [
    "if int(getProportion(df_test)*100) in range(89,91): print(f\"Proportion ({getProportion(df_test):.2f}) is representative of entire dataset.\")\n",
    "print(f\"Test dataframe consists of {len(df_test)/len(df_fibrosis)*100:.2f}% of entire dataset.\")"
   ]
  },
  {
   "cell_type": "markdown",
   "id": "58f88aa7",
   "metadata": {},
   "source": [
    "Code below is disabled in order to prevent overwrite:"
   ]
  },
  {
   "cell_type": "markdown",
   "id": "870ce17c",
   "metadata": {},
   "source": [
    "```py\n",
    "\n",
    "df_train.to_csv(\"train_dataframe.csv\", index=False)\n",
    "df_test.to_csv(\"test_dataframe.csv\", index=False)\n",
    "\n",
    "```"
   ]
  }
 ],
 "metadata": {
  "kernelspec": {
   "display_name": "fibrosis",
   "language": "python",
   "name": "python3"
  },
  "language_info": {
   "codemirror_mode": {
    "name": "ipython",
    "version": 3
   },
   "file_extension": ".py",
   "mimetype": "text/x-python",
   "name": "python",
   "nbconvert_exporter": "python",
   "pygments_lexer": "ipython3",
   "version": "3.12.9"
  }
 },
 "nbformat": 4,
 "nbformat_minor": 5
}
