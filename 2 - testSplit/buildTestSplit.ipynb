{
 "cells": [
  {
   "cell_type": "markdown",
   "id": "98d89485",
   "metadata": {},
   "source": [
    "# Proportion representative test split (90% 0 | 10% 1)"
   ]
  },
  {
   "cell_type": "markdown",
   "id": "c5efddf8",
   "metadata": {},
   "source": [
    "As referenced in `1 - dataPreprocessing`, the HRCT_Pilot folder is not representative of the dataset's class imbalance, and portrays exceedingly small fibrosis cases (only 2 in 301 slices)."
   ]
  },
  {
   "cell_type": "markdown",
   "id": "4d6a3217",
   "metadata": {},
   "source": [
    "For that reason, the next logical step is to build a test dataframe containing ``SliceID`` and ``Class`` pairs with the following characteristics:\n",
    "\n",
    " - if patient is present in the test dataset, then it cannot be in the train dataset (and vice-versa), in order to respect data validity \n",
    " - class imbalance must simulate overall 90-10 proportion, considering a reasonable difference threshold, in order for the sample to be representative of the entire dataset\n",
    " - test dataframe size must represent 20 to 30% of the entire dataset, yielding 615-900 out of 3075 slices"
   ]
  },
  {
   "cell_type": "markdown",
   "id": "361ccbed",
   "metadata": {},
   "source": [
    "Respecting these rules will ensure the creation of a valid test split."
   ]
  },
  {
   "cell_type": "markdown",
   "id": "e70f0a8c",
   "metadata": {},
   "source": [
    "Code intuition is as follows:\n",
    "\n",
    " - Randomly select a patient from the full dataset (can easily be extracted from `SliceID`)\n",
    " - Remove patient from train and add to test dataframe\n",
    "\n",
    "After that, the new dataframe will undergo a series of tests and approximation measures:\n",
    "\n",
    " - if conditions_above_met: test split successful\n",
    " - elif test_split[`Class` == 0] < 90% - threshold: add patient with imbalance > (90% 0 | 10% 1), increasing `Class` == 0 imbalance, approximating emulation of dataset imbalance\n",
    " - elif test_split[`Class` == 0] > 90% + threshold: add patient with imbalance < (90% 0 | 10% 1), increasing `Class` == 1 examples, approximating emulation of dataset imbalance\n",
    " - elif len(test_split) < 615 - threshold: add patient with closest imbalance to (90% 0 | 10% 1)\n",
    " - elif len(test_split) > 900 + threshold: remove patient with closest imbalance to (90% 0 | 10% 1)\n",
    "\n",
    "For efficiency sake, after n iterations, the function will print the test dataframe size and proportion. This will also allow for fine-tuning, in case proportion and size are already sufficiently good but the code doesn't stop running due to poorly chosen thresholds."
   ]
  },
  {
   "cell_type": "code",
   "execution_count": 97,
   "id": "d637e2b8",
   "metadata": {},
   "outputs": [],
   "source": [
    "import pandas as pd\n",
    "import pickle\n",
    "import random "
   ]
  },
  {
   "cell_type": "code",
   "execution_count": 98,
   "id": "61329336",
   "metadata": {},
   "outputs": [],
   "source": [
    "df_fibrosis = pd.read_pickle(r'D:\\Rafa\\A1Uni\\2semestre\\Estágio\\fibrosis_data.pkl')\n",
    "\n",
    "# Removing SliceData as it is not necessary for this procedure\n",
    "df_fibrosis = df_fibrosis.drop(columns=[\"SliceData\"])"
   ]
  },
  {
   "cell_type": "markdown",
   "id": "44efd67b",
   "metadata": {},
   "source": [
    "### Utility functions"
   ]
  },
  {
   "cell_type": "markdown",
   "id": "a7c63ac7",
   "metadata": {},
   "source": [
    "Produced ID will end in \"\\__\\\" in order to facilitate finding same patient slices, which guarantees \"if slice_id in df[\"SliceID\"]\" correctly identifies pateint even if the number appears in a different place (for example, 142__[...] is correct for patient 142, but [...]__142-77 is not)"
   ]
  },
  {
   "cell_type": "code",
   "execution_count": 99,
   "id": "cfdc7e60",
   "metadata": {},
   "outputs": [],
   "source": [
    "def getPatientID(slice_id):\n",
    "    \n",
    "    # Finds index of \"__\" occurence -> finds flag index\n",
    "    flag = slice_id.find(\"__\")\n",
    "\n",
    "    # Finds main folder in \"txt ROI's\" \n",
    "    main_folder = slice_id[:flag] if flag != -1 else slice_id\n",
    "\n",
    "    # Main folder is not a number, patient is in the \n",
    "    # \"HRCT_Pilot\" folder, extract the patient id in front\n",
    "    if \"HRCT_Pilot\" in str(main_folder):\n",
    "        # Removes \"HRCT_Pilot__\"\n",
    "        patientID = slice_id[12:]\n",
    "        # Crops to \"PatientID__\"\n",
    "        return patientID[:5]\n",
    "\n",
    "    # Main folder is already a number, even if a patient\n",
    "    # has more than 1 exam folder, use number as ID\n",
    "    elif str(main_folder).isnumeric: return main_folder + \"__\"\n",
    "\n",
    "    else: \n",
    "        print(\"ERROR IN GETPATIENTID\")\n",
    "        print(slice_id)\n",
    "        return slice_id"
   ]
  },
  {
   "cell_type": "code",
   "execution_count": null,
   "id": "6e195719",
   "metadata": {},
   "outputs": [],
   "source": [
    "# Moves all patient slices from one dataset to another\n",
    "def movePatient(patient, goes_from, to):\n",
    "\n",
    "    # If the first 3 represent a number >= 200 then it's contains \"_number__\"\n",
    "    # NOT WORKING\n",
    "    if goes_from[\"SliceID\"].str[:3].str.isnumeric and int(goes_from[\"SliceID\"].str[:3].values())>=200:\n",
    "        mask = goes_from[\"SliceID\"].str.contains(f\"_{patient}\")\n",
    "    else: mask = goes_from[\"SliceID\"].str.startswith(patient)\n",
    "    to = pd.concat([to, goes_from[mask]])\n",
    "    goes_from = goes_from[~mask]\n",
    "\n",
    "    return goes_from, to"
   ]
  },
  {
   "cell_type": "code",
   "execution_count": 121,
   "id": "3b5ce96a",
   "metadata": {},
   "outputs": [],
   "source": [
    "# Returns proportion of class 0\n",
    "def getProportion(df):\n",
    "    class_counts, total_samples = df['Class'].value_counts(), len(df)\n",
    "    return class_counts[0] / total_samples"
   ]
  },
  {
   "cell_type": "code",
   "execution_count": 122,
   "id": "67921487",
   "metadata": {},
   "outputs": [],
   "source": [
    "# Returns list containing proportions for each patient\n",
    "def getInfoDict(df_original):\n",
    "    df = df_original.copy()\n",
    "    info_dict = {}\n",
    "\n",
    "    while not df.empty:\n",
    "        patient_id = getPatientID(df[\"SliceID\"].iloc[0])\n",
    "\n",
    "        # Get all rows for that patient\n",
    "        mask = df[\"SliceID\"].str.contains(patient_id)\n",
    "        df_patient = df[mask]\n",
    "\n",
    "        # Add info\n",
    "        proportion = getProportion(df_patient) \n",
    "        info_dict[patient_id] = proportion\n",
    "\n",
    "        # Remove from df\n",
    "        df = df[~mask]\n",
    "\n",
    "    return info_dict"
   ]
  },
  {
   "cell_type": "code",
   "execution_count": 123,
   "id": "1edb1d4c",
   "metadata": {},
   "outputs": [
    {
     "ename": "TypeError",
     "evalue": "'numpy.ndarray' object is not callable",
     "output_type": "error",
     "traceback": [
      "\u001b[1;31m---------------------------------------------------------------------------\u001b[0m",
      "\u001b[1;31mTypeError\u001b[0m                                 Traceback (most recent call last)",
      "Cell \u001b[1;32mIn[123], line 10\u001b[0m\n\u001b[0;32m      8\u001b[0m init_slice \u001b[38;5;241m=\u001b[39m df\u001b[38;5;241m.\u001b[39miloc[random\u001b[38;5;241m.\u001b[39mchoice(\u001b[38;5;28mrange\u001b[39m(\u001b[38;5;28mlen\u001b[39m(df)))]\n\u001b[0;32m      9\u001b[0m cur_id \u001b[38;5;241m=\u001b[39m getPatientID(init_slice[\u001b[38;5;124m\"\u001b[39m\u001b[38;5;124mSliceID\u001b[39m\u001b[38;5;124m\"\u001b[39m])\n\u001b[1;32m---> 10\u001b[0m df, test_df \u001b[38;5;241m=\u001b[39m \u001b[43mmovePatient\u001b[49m\u001b[43m(\u001b[49m\u001b[43mpatient\u001b[49m\u001b[38;5;241;43m=\u001b[39;49m\u001b[43mcur_id\u001b[49m\u001b[43m,\u001b[49m\u001b[43m \u001b[49m\u001b[43mgoes_from\u001b[49m\u001b[38;5;241;43m=\u001b[39;49m\u001b[43mdf\u001b[49m\u001b[43m,\u001b[49m\u001b[43m \u001b[49m\u001b[43mto\u001b[49m\u001b[38;5;241;43m=\u001b[39;49m\u001b[43mtest_df\u001b[49m\u001b[43m)\u001b[49m\n\u001b[0;32m     12\u001b[0m \u001b[38;5;28mprint\u001b[39m(\u001b[38;5;124m\"\u001b[39m\u001b[38;5;124mStarted by moving patient \u001b[39m\u001b[38;5;124m\"\u001b[39m,cur_id)\n\u001b[0;32m     14\u001b[0m \u001b[38;5;66;03m# Proportion and size tolerance/threshold\u001b[39;00m\n",
      "Cell \u001b[1;32mIn[120], line 6\u001b[0m, in \u001b[0;36mmovePatient\u001b[1;34m(patient, goes_from, to)\u001b[0m\n\u001b[0;32m      2\u001b[0m \u001b[38;5;28;01mdef\u001b[39;00m\u001b[38;5;250m \u001b[39m\u001b[38;5;21mmovePatient\u001b[39m(patient, goes_from, to):\n\u001b[0;32m      3\u001b[0m \n\u001b[0;32m      4\u001b[0m     \u001b[38;5;66;03m# CANT BE CONTAINS\u001b[39;00m\n\u001b[0;32m      5\u001b[0m     \u001b[38;5;66;03m# If the first 3 represent a number >= 200 then it's contains \"_number__\"\u001b[39;00m\n\u001b[1;32m----> 6\u001b[0m     \u001b[38;5;28;01mif\u001b[39;00m goes_from[\u001b[38;5;124m\"\u001b[39m\u001b[38;5;124mSliceID\u001b[39m\u001b[38;5;124m\"\u001b[39m]\u001b[38;5;241m.\u001b[39mstr[:\u001b[38;5;241m3\u001b[39m]\u001b[38;5;241m.\u001b[39mstr\u001b[38;5;241m.\u001b[39misnumeric \u001b[38;5;129;01mand\u001b[39;00m \u001b[38;5;28mint\u001b[39m(\u001b[43mgoes_from\u001b[49m\u001b[43m[\u001b[49m\u001b[38;5;124;43m\"\u001b[39;49m\u001b[38;5;124;43mSliceID\u001b[39;49m\u001b[38;5;124;43m\"\u001b[39;49m\u001b[43m]\u001b[49m\u001b[38;5;241;43m.\u001b[39;49m\u001b[43mstr\u001b[49m\u001b[43m[\u001b[49m\u001b[43m:\u001b[49m\u001b[38;5;241;43m3\u001b[39;49m\u001b[43m]\u001b[49m\u001b[38;5;241;43m.\u001b[39;49m\u001b[43mvalues\u001b[49m\u001b[43m(\u001b[49m\u001b[43m)\u001b[49m)\u001b[38;5;241m>\u001b[39m\u001b[38;5;241m=\u001b[39m\u001b[38;5;241m200\u001b[39m:\n\u001b[0;32m      7\u001b[0m         mask \u001b[38;5;241m=\u001b[39m goes_from[\u001b[38;5;124m\"\u001b[39m\u001b[38;5;124mSliceID\u001b[39m\u001b[38;5;124m\"\u001b[39m]\u001b[38;5;241m.\u001b[39mstr\u001b[38;5;241m.\u001b[39mcontains(\u001b[38;5;124mf\u001b[39m\u001b[38;5;124m\"\u001b[39m\u001b[38;5;124m_\u001b[39m\u001b[38;5;132;01m{\u001b[39;00mpatient\u001b[38;5;132;01m}\u001b[39;00m\u001b[38;5;124m\"\u001b[39m)\n\u001b[0;32m      8\u001b[0m     \u001b[38;5;28;01melse\u001b[39;00m: mask \u001b[38;5;241m=\u001b[39m goes_from[\u001b[38;5;124m\"\u001b[39m\u001b[38;5;124mSliceID\u001b[39m\u001b[38;5;124m\"\u001b[39m]\u001b[38;5;241m.\u001b[39mstr\u001b[38;5;241m.\u001b[39mstartswith(patient)\n",
      "\u001b[1;31mTypeError\u001b[0m: 'numpy.ndarray' object is not callable"
     ]
    }
   ],
   "source": [
    "#def fibrosisTestSplit(original_dataframe):\n",
    "\n",
    "df = df_fibrosis.copy()\n",
    "test_df = pd.DataFrame(columns=[\"SliceID\", \"Class\"])\n",
    "\n",
    "\n",
    "# Initialize loop with random slice\n",
    "init_slice = df.iloc[random.choice(range(len(df)))]\n",
    "cur_id = getPatientID(init_slice[\"SliceID\"])\n",
    "df, test_df = movePatient(patient=cur_id, goes_from=df, to=test_df)\n",
    "\n",
    "print(\"Started by moving patient \",cur_id)\n",
    "\n",
    "# Proportion and size tolerance/threshold\n",
    "prop_thr, size_thr = 0.01, 25\n",
    "\n",
    "# Counter for integrity checks\n",
    "n = 0\n",
    "\n",
    "# Until test dataframe has reasonable size and proportion, loop will run \n",
    "# Also includes iteration limit\n",
    "while (not ((getProportion(test_df) in [0.9-prop_thr, 0.9+prop_thr])\n",
    "           and (len(test_df) in [615-size_thr, 900+size_thr]))) and n<=1000:\n",
    "    \n",
    "    # Dictionary with (patientID: proportion in df) pairs\n",
    "    info_train = getInfoDict(df)\n",
    "    info_test = getInfoDict(test_df)\n",
    "\n",
    "    # Approximation measures\n",
    "    if getProportion(test_df) < 0.9-prop_thr: \n",
    "        # Add from random.choice(list of patient ids with proportion >0.9)\n",
    "        cur_patient = random.choice([key for key, value in info_train.items() if value > 0.9])\n",
    "        df, test_df = movePatient(cur_patient,goes_from=df,to=test_df)\n",
    "\n",
    "    elif getProportion(test_df) > 0.9+prop_thr: \n",
    "        # Add from random.choice(list of patient ids with proportion <0.9)\n",
    "        cur_patient = random.choice([key for key, value in info_train.items() if value < 0.9])\n",
    "        df, test_df = movePatient(cur_patient,goes_from=df,to=test_df)\n",
    "\n",
    "    elif len(test_df) < 615-size_thr: \n",
    "        # Add random.choice(list of patient ids closer to 0.9 FROM TRAIN)\n",
    "        cur_patient = min(info_train, key=lambda k: abs(info_train[k] - 0.9))\n",
    "        df, test_df = movePatient(cur_patient,goes_from=df,to=test_df)\n",
    "\n",
    "    elif len(test_df) > 900+size_thr: \n",
    "        # Remove random.choice(list of patient ids closer to 0.9 FROM TEST)\n",
    "        cur_patient = min(info_train, key=lambda k: abs(info_test[k] - 0.9))\n",
    "        # Swap order of patient trade\n",
    "        test_df, df = movePatient(cur_patient,goes_from=test_df,to=df)\n",
    "\n",
    "    else: print(\"Doing nothing...\")\n",
    "\n",
    "    show_updates = True\n",
    "\n",
    "    if show_updates and n % 50 == 0:\n",
    "        print(\"Proportion: \", getProportion(test_df),\"   |    Size: \",len(test_df))\n",
    "\n",
    "    n+=1\n"
   ]
  },
  {
   "cell_type": "code",
   "execution_count": null,
   "id": "0987a7d8",
   "metadata": {},
   "outputs": [],
   "source": []
  },
  {
   "cell_type": "code",
   "execution_count": null,
   "id": "870ce17c",
   "metadata": {},
   "outputs": [],
   "source": []
  }
 ],
 "metadata": {
  "kernelspec": {
   "display_name": "fibrosis",
   "language": "python",
   "name": "python3"
  },
  "language_info": {
   "codemirror_mode": {
    "name": "ipython",
    "version": 3
   },
   "file_extension": ".py",
   "mimetype": "text/x-python",
   "name": "python",
   "nbconvert_exporter": "python",
   "pygments_lexer": "ipython3",
   "version": "3.12.9"
  }
 },
 "nbformat": 4,
 "nbformat_minor": 5
}
