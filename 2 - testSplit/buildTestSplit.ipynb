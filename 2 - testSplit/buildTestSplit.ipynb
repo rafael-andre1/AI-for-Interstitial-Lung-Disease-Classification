{
 "cells": [
  {
   "cell_type": "markdown",
   "id": "98d89485",
   "metadata": {},
   "source": [
    "# Proportion representative test split (90% 0 | 10% 1)"
   ]
  },
  {
   "cell_type": "markdown",
   "id": "c5efddf8",
   "metadata": {},
   "source": [
    "As referenced in `1 - dataPreprocessing`, the HRCT_Pilot folder is not representative of the dataset's class imbalance, and portrays exceedingly small fibrosis cases (only 2 in 301 slices)."
   ]
  },
  {
   "cell_type": "markdown",
   "id": "4d6a3217",
   "metadata": {},
   "source": [
    "For that reason, the next logical step is to build a test dataframe containing ``SliceID`` and ``Class`` pairs with the following characteristics:\n",
    "\n",
    " - if patient is present in the test dataset, then it cannot be in the train dataset (and vice-versa), in order to respect data validity \n",
    " - class imbalance must simulate overall 90-10 proportion, considering a reasonable difference threshold, in order for the sample to be representative of the entire dataset\n",
    " - test dataframe size must represent 20 to 30% of the entire dataset, yielding 630-900 out of 3075 slices"
   ]
  },
  {
   "cell_type": "markdown",
   "id": "361ccbed",
   "metadata": {},
   "source": [
    "Respecting these rules will ensure the creation of a valid test split."
   ]
  },
  {
   "cell_type": "markdown",
   "id": "e70f0a8c",
   "metadata": {},
   "source": [
    "Code intuition is as follows:\n",
    "\n",
    " - Randomly select a patient from the full dataset (can easily be extracted from `SliceID`)\n",
    " - Remove patient from train and add to test dataframe\n",
    "\n",
    "After that, the new dataframe will undergo a series of tests and approximation measures:\n",
    "\n",
    " - if conditions_above_met: test split successful\n",
    " - elif test_split[`Class` == 0] < 90% - threshold: add patient with imbalance > (90% 0 | 10% 1), increasing `Class` == 0 imbalance, approximating emulation of dataset imbalance\n",
    " - elif test_split[`Class` == 0] > 90% + threshold: add patient with imbalance < (90% 0 | 10% 1), increasing `Class` == 1 examples, approximating emulation of dataset imbalance\n",
    " - elif len(test_split) < 630 - threshold: add patient with closest imbalance to (90% 0 | 10% 1)\n",
    " - elif len(test_split) > 900 + threshold: remove patient with closest imbalance to (90% 0 | 10% 1)\n",
    "\n",
    "For efficiency sake, after n iterations, the function will print the test dataframe size and proportion. This will also allow for fine-tuning, in case proportion and size are already sufficiently good but the code doesn't stop running due to poorly chosen thresholds."
   ]
  },
  {
   "cell_type": "markdown",
   "id": "cecbf705",
   "metadata": {},
   "source": [
    "## <span style=\"color: red\">Warning</span>\n",
    "\n",
    "The data extraction rules have changed since the making of this document. All of the intuition remains, but there were changes to the proportion, which will be reflected in the imbalance.\n",
    "\n",
    "\n",
    "## New Imbalance: (86.7% 0 | 13.3% 1)"
   ]
  },
  {
   "cell_type": "code",
   "execution_count": 27,
   "id": "d637e2b8",
   "metadata": {},
   "outputs": [],
   "source": [
    "import pandas as pd\n",
    "import random "
   ]
  },
  {
   "cell_type": "code",
   "execution_count": 28,
   "id": "61329336",
   "metadata": {},
   "outputs": [],
   "source": [
    "#df_fibrosis = pd.read_pickle(r'D:\\Rafa\\A1Uni\\2semestre\\Estágio\\fibrosis_data.pkl')\n",
    "\n",
    "df_fibrosis = pd.read_pickle(r'..\\..\\\\fibrosis_data.pkl')\n",
    "\n",
    "# Removing SliceData as it is not necessary for this procedure\n",
    "df_fibrosis = df_fibrosis.drop(columns=[\"SliceData\"])"
   ]
  },
  {
   "cell_type": "markdown",
   "id": "44efd67b",
   "metadata": {},
   "source": [
    "### Utility functions"
   ]
  },
  {
   "cell_type": "markdown",
   "id": "a7c63ac7",
   "metadata": {},
   "source": [
    "Produced ID will end in \"\\__\\\" in order to facilitate finding same patient slices, which guarantees \"if slice_id in df[\"SliceID\"]\" correctly identifies pateint even if the number appears in a different place (for example, 142__[...] is correct for patient 142, but [...]__142-77 is not):"
   ]
  },
  {
   "cell_type": "code",
   "execution_count": 29,
   "id": "cfdc7e60",
   "metadata": {},
   "outputs": [],
   "source": [
    "def getPatientID(slice_id):\n",
    "    \n",
    "    # Finds index of \"__\" occurence -> finds flag index\n",
    "    flag = slice_id.find(\"__\")\n",
    "\n",
    "    # Finds main folder in \"txt ROI's\" \n",
    "    main_folder = slice_id[:flag] if flag != -1 else slice_id\n",
    "\n",
    "    # Main folder is not a number, patient is in the \n",
    "    # \"HRCT_Pilot\" folder, extract the patient id in front\n",
    "    if \"HRCT_Pilot\" in str(main_folder):\n",
    "        # Removes \"HRCT_Pilot__\"\n",
    "        patientID = slice_id[12:]\n",
    "        # Crops to \"PatientID__\"\n",
    "        return patientID[:5]\n",
    "\n",
    "    # Main folder is already a number, even if a patient\n",
    "    # has more than 1 exam folder, use number as ID\n",
    "    elif str(main_folder).isnumeric: return main_folder + \"__\"\n",
    "\n",
    "    else: \n",
    "        print(\"ERROR IN GETPATIENTID\")\n",
    "        print(slice_id)\n",
    "        return slice_id"
   ]
  },
  {
   "cell_type": "markdown",
   "id": "939d29c4",
   "metadata": {},
   "source": [
    "Uses pre-defined flag in order to correctly identify patients, correctly handling every special case:\n",
    "\n",
    " - `HRCT_Pilot`: all patient id's are >= 200, and flagged as \"HRCT_Pilot__PatientID__SliceID\"\n",
    " - `Nested Folders`: SliceID for patients with more than 1 exam still start with PatientID\n",
    " - `Regular`: same as above"
   ]
  },
  {
   "cell_type": "code",
   "execution_count": 30,
   "id": "6e195719",
   "metadata": {},
   "outputs": [],
   "source": [
    "# Moves all patient slices from one dataset to another\n",
    "def movePatient(patient, goes_from, to):\n",
    "\n",
    "    # If the first 3 represent a number >= 200 then it's contains \"_number__\"\n",
    "    # NOT WORKING\n",
    "    if int(patient[:-2]) >= 200: mask = goes_from[\"SliceID\"].str.contains(f\"_{patient}\")\n",
    "    else: mask = goes_from[\"SliceID\"].str.startswith(patient)\n",
    "    to = pd.concat([to, goes_from[mask]])\n",
    "    goes_from = goes_from[~mask]\n",
    "\n",
    "    return goes_from, to"
   ]
  },
  {
   "cell_type": "markdown",
   "id": "58278017",
   "metadata": {},
   "source": [
    "Simple calculation of proportion of Class 0 in defined dataframe:"
   ]
  },
  {
   "cell_type": "code",
   "execution_count": 31,
   "id": "3b5ce96a",
   "metadata": {},
   "outputs": [],
   "source": [
    "# Returns proportion of class 0\n",
    "def getProportion(df):\n",
    "    class_counts, total_samples = df['Class'].value_counts(), len(df)\n",
    "    if total_samples == 0: return 0\n",
    "    return class_counts[0] / total_samples"
   ]
  },
  {
   "cell_type": "markdown",
   "id": "3f27a829",
   "metadata": {},
   "source": [
    "The code below creates a dictionary with with (patientID: proportion in df) pairs:"
   ]
  },
  {
   "cell_type": "code",
   "execution_count": 32,
   "id": "67921487",
   "metadata": {},
   "outputs": [],
   "source": [
    "# Returns list containing proportions for each patient\n",
    "def getInfoDict(df_original):\n",
    "    df = df_original.copy()\n",
    "    info_dict = {}\n",
    "\n",
    "    while not df.empty:\n",
    "        patient_id = getPatientID(df[\"SliceID\"].iloc[0])\n",
    "\n",
    "        # Get all rows for that patient\n",
    "        mask = df[\"SliceID\"].str.contains(patient_id)\n",
    "        df_patient = df[mask]\n",
    "\n",
    "        # Add info\n",
    "        proportion = getProportion(df_patient) \n",
    "        info_dict[patient_id] = proportion\n",
    "\n",
    "        # Remove from df\n",
    "        df = df[~mask]\n",
    "\n",
    "    return info_dict"
   ]
  },
  {
   "cell_type": "markdown",
   "id": "d6c7206a",
   "metadata": {},
   "source": [
    "Each utility function serves a useful purpose in the main function below, featuring customizable proportion as well as test size:"
   ]
  },
  {
   "cell_type": "code",
   "execution_count": 33,
   "id": "1edb1d4c",
   "metadata": {},
   "outputs": [],
   "source": [
    "def fibrosisTestSplit(original_dataframe, show_updates=False, standard_proportion=0.867):\n",
    "\n",
    "    df = original_dataframe.copy()\n",
    "    test_df = pd.DataFrame(columns=[\"SliceID\", \"Class\"])\n",
    "\n",
    "\n",
    "    # Initialize loop with random slice\n",
    "    init_slice = df.iloc[random.choice(range(len(df)))]\n",
    "    cur_id = getPatientID(init_slice[\"SliceID\"])\n",
    "    df, test_df = movePatient(patient=cur_id, goes_from=df, to=test_df)\n",
    "\n",
    "    print(\"Started by moving patient \",cur_id)\n",
    "    print(\"Initial proportion: \", getProportion(test_df),\"   |    Initial size: \",len(test_df))\n",
    "\n",
    "    # Proportion and size tolerance/threshold\n",
    "    prop_thr, size_thr = 0.005, 25\n",
    "\n",
    "    # Counter for integrity checks\n",
    "    n, nothing_counter = 0, 0\n",
    "\n",
    "\n",
    "    # Until test dataframe has reasonable size and proportion, loop will run \n",
    "    # Also includes iteration limit\n",
    "    while (not ((getProportion(test_df) in [standard_proportion-prop_thr, standard_proportion+prop_thr])\n",
    "            and (len(test_df) in [630, 900+size_thr]))) and n<=1000:\n",
    "        \n",
    "        # Dictionary with (patientID: proportion in df) pairs\n",
    "        info_train = getInfoDict(df)\n",
    "        info_test = getInfoDict(test_df)\n",
    "\n",
    "        # Approximation measures\n",
    "        if getProportion(test_df) < standard_proportion-prop_thr: \n",
    "            nothing_counter = 0\n",
    "            # Add from random.choice(list of patient ids with proportion >standard_proportion)\n",
    "            cur_patient = random.choice([key for key, value in info_train.items() if value > standard_proportion])\n",
    "            df, test_df = movePatient(cur_patient,goes_from=df,to=test_df)\n",
    "\n",
    "        elif getProportion(test_df) > standard_proportion+prop_thr: \n",
    "            nothing_counter = 0\n",
    "            # Add from random.choice(list of patient ids with proportion <standard_proportion)\n",
    "            cur_patient = random.choice([key for key, value in info_train.items() if value < standard_proportion])\n",
    "            df, test_df = movePatient(cur_patient,goes_from=df,to=test_df)\n",
    "\n",
    "        elif len(test_df) < 630: \n",
    "            nothing_counter = 0\n",
    "            # Add random.choice(list of patient ids closer to standard_proportion FROM TRAIN)\n",
    "            cur_patient = min(info_train, key=lambda k: abs(info_train[k] - standard_proportion))\n",
    "            df, test_df = movePatient(cur_patient,goes_from=df,to=test_df)\n",
    "\n",
    "        elif len(test_df) > 900+size_thr: \n",
    "            nothing_counter = 0\n",
    "            # Remove random.choice(list of patient ids closer to standard_proportion FROM TEST)\n",
    "            cur_patient = min(info_train, key=lambda k: abs(info_test[k] - standard_proportion))\n",
    "            # Swap order of patient trade\n",
    "            test_df, df = movePatient(cur_patient,goes_from=test_df,to=df)\n",
    "\n",
    "        else: \n",
    "            nothing_counter += 1\n",
    "\n",
    "        # Useful for debugging\n",
    "        if show_updates and n % 10 == 0:\n",
    "            print(\"Proportion: \", getProportion(test_df),\"   |    Size: \",len(test_df))\n",
    "\n",
    "        # Early stop if program is doing nothing\n",
    "        if nothing_counter > 50: break\n",
    "\n",
    "        n+=1\n",
    "\n",
    "    print(\"\\n----------------------------------------------\\n\")\n",
    "    print(\"Final test proportion: \", getProportion(test_df),\"   |    Final test size: \",len(test_df))\n",
    "    print(\"Final train proportion: \", getProportion(df),\"   |    Final train size: \",len(df))\n",
    "\n",
    "    return df, test_df"
   ]
  },
  {
   "cell_type": "code",
   "execution_count": 34,
   "id": "0987a7d8",
   "metadata": {},
   "outputs": [
    {
     "name": "stdout",
     "output_type": "stream",
     "text": [
      "Started by moving patient  130__\n",
      "Initial proportion:  1.0    |    Initial size:  23\n",
      "\n",
      "----------------------------------------------\n",
      "\n",
      "Final test proportion:  0.8688271604938271    |    Final test size:  648\n",
      "Final train proportion:  0.8665018541409147    |    Final train size:  2427\n"
     ]
    }
   ],
   "source": [
    "df_train, df_test = fibrosisTestSplit(df_fibrosis)"
   ]
  },
  {
   "cell_type": "markdown",
   "id": "fdeafbca",
   "metadata": {},
   "source": [
    "Code below is disabled in order to prevent overwrite:"
   ]
  },
  {
   "cell_type": "markdown",
   "id": "5941afbd",
   "metadata": {},
   "source": [
    "```py\n",
    "\n",
    "df_train, df_test = pd.read_csv(\"train_dataframe.csv\"), pd.read_csv(\"test_dataframe.csv\")\n",
    "\n",
    "```"
   ]
  },
  {
   "cell_type": "code",
   "execution_count": 35,
   "id": "825b4faf",
   "metadata": {},
   "outputs": [
    {
     "name": "stdout",
     "output_type": "stream",
     "text": [
      "Proportion (0.8688) is representative of entire dataset.\n",
      "Test dataframe consists of 21.07% of entire dataset.\n"
     ]
    }
   ],
   "source": [
    "if int(getProportion(df_test)*100) in range(86,87): print(f\"Proportion ({getProportion(df_test):.4f}) is representative of entire dataset.\")\n",
    "print(f\"Test dataframe consists of {len(df_test)/len(df_fibrosis)*100:.2f}% of entire dataset.\")"
   ]
  },
  {
   "cell_type": "markdown",
   "id": "7cfdfa48",
   "metadata": {},
   "source": [
    "## Getting validation splits"
   ]
  },
  {
   "cell_type": "markdown",
   "id": "f7fdd68b",
   "metadata": {},
   "source": [
    "The process is the same as above. The only difference is that the previously defined or obtained test split patients cannot be present in the new training datasets."
   ]
  },
  {
   "cell_type": "markdown",
   "id": "dfdcf7d0",
   "metadata": {},
   "source": [
    "### For HRCT_Pilot as Test"
   ]
  },
  {
   "cell_type": "code",
   "execution_count": 36,
   "id": "6aa5f118",
   "metadata": {},
   "outputs": [
    {
     "data": {
      "text/html": [
       "<div>\n",
       "<style scoped>\n",
       "    .dataframe tbody tr th:only-of-type {\n",
       "        vertical-align: middle;\n",
       "    }\n",
       "\n",
       "    .dataframe tbody tr th {\n",
       "        vertical-align: top;\n",
       "    }\n",
       "\n",
       "    .dataframe thead th {\n",
       "        text-align: right;\n",
       "    }\n",
       "</style>\n",
       "<table border=\"1\" class=\"dataframe\">\n",
       "  <thead>\n",
       "    <tr style=\"text-align: right;\">\n",
       "      <th></th>\n",
       "      <th>SliceID</th>\n",
       "      <th>Class</th>\n",
       "    </tr>\n",
       "  </thead>\n",
       "  <tbody>\n",
       "    <tr>\n",
       "      <th>2769</th>\n",
       "      <td>8__CT-INSPIRIUM-8873__CT-8873-0015</td>\n",
       "      <td>1</td>\n",
       "    </tr>\n",
       "    <tr>\n",
       "      <th>2770</th>\n",
       "      <td>8__CT-INSPIRIUM-8873__CT-8873-0016</td>\n",
       "      <td>0</td>\n",
       "    </tr>\n",
       "    <tr>\n",
       "      <th>2771</th>\n",
       "      <td>8__CT-INSPIRIUM-8873__CT-8873-0017</td>\n",
       "      <td>0</td>\n",
       "    </tr>\n",
       "    <tr>\n",
       "      <th>2772</th>\n",
       "      <td>8__CT-INSPIRIUM-8873__CT-8873-0018</td>\n",
       "      <td>0</td>\n",
       "    </tr>\n",
       "    <tr>\n",
       "      <th>2773</th>\n",
       "      <td>8__CT-INSPIRIUM-8873__CT-8873-0019</td>\n",
       "      <td>0</td>\n",
       "    </tr>\n",
       "  </tbody>\n",
       "</table>\n",
       "</div>"
      ],
      "text/plain": [
       "                                 SliceID  Class\n",
       "2769  8__CT-INSPIRIUM-8873__CT-8873-0015      1\n",
       "2770  8__CT-INSPIRIUM-8873__CT-8873-0016      0\n",
       "2771  8__CT-INSPIRIUM-8873__CT-8873-0017      0\n",
       "2772  8__CT-INSPIRIUM-8873__CT-8873-0018      0\n",
       "2773  8__CT-INSPIRIUM-8873__CT-8873-0019      0"
      ]
     },
     "execution_count": 36,
     "metadata": {},
     "output_type": "execute_result"
    }
   ],
   "source": [
    "full_hrct_dataframe = df_fibrosis[~df_fibrosis[\"SliceID\"].str.contains(\"HRCT\", na=False)]\n",
    "hrct_test = df_fibrosis[df_fibrosis[\"SliceID\"].str.contains(\"HRCT\", na=False)]\n",
    "full_hrct_dataframe.tail()"
   ]
  },
  {
   "cell_type": "code",
   "execution_count": 37,
   "id": "81c0272c",
   "metadata": {},
   "outputs": [
    {
     "data": {
      "text/html": [
       "<div>\n",
       "<style scoped>\n",
       "    .dataframe tbody tr th:only-of-type {\n",
       "        vertical-align: middle;\n",
       "    }\n",
       "\n",
       "    .dataframe tbody tr th {\n",
       "        vertical-align: top;\n",
       "    }\n",
       "\n",
       "    .dataframe thead th {\n",
       "        text-align: right;\n",
       "    }\n",
       "</style>\n",
       "<table border=\"1\" class=\"dataframe\">\n",
       "  <thead>\n",
       "    <tr style=\"text-align: right;\">\n",
       "      <th></th>\n",
       "      <th>SliceID</th>\n",
       "      <th>Class</th>\n",
       "    </tr>\n",
       "  </thead>\n",
       "  <tbody>\n",
       "    <tr>\n",
       "      <th>2774</th>\n",
       "      <td>HRCT_Pilot__200__SerieCT-0002-0001</td>\n",
       "      <td>0</td>\n",
       "    </tr>\n",
       "    <tr>\n",
       "      <th>2775</th>\n",
       "      <td>HRCT_Pilot__200__SerieCT-0002-0002</td>\n",
       "      <td>0</td>\n",
       "    </tr>\n",
       "    <tr>\n",
       "      <th>2776</th>\n",
       "      <td>HRCT_Pilot__200__SerieCT-0002-0003</td>\n",
       "      <td>0</td>\n",
       "    </tr>\n",
       "    <tr>\n",
       "      <th>2777</th>\n",
       "      <td>HRCT_Pilot__200__SerieCT-0002-0004</td>\n",
       "      <td>0</td>\n",
       "    </tr>\n",
       "    <tr>\n",
       "      <th>2778</th>\n",
       "      <td>HRCT_Pilot__200__SerieCT-0002-0005</td>\n",
       "      <td>0</td>\n",
       "    </tr>\n",
       "  </tbody>\n",
       "</table>\n",
       "</div>"
      ],
      "text/plain": [
       "                                 SliceID  Class\n",
       "2774  HRCT_Pilot__200__SerieCT-0002-0001      0\n",
       "2775  HRCT_Pilot__200__SerieCT-0002-0002      0\n",
       "2776  HRCT_Pilot__200__SerieCT-0002-0003      0\n",
       "2777  HRCT_Pilot__200__SerieCT-0002-0004      0\n",
       "2778  HRCT_Pilot__200__SerieCT-0002-0005      0"
      ]
     },
     "execution_count": 37,
     "metadata": {},
     "output_type": "execute_result"
    }
   ],
   "source": [
    "hrct_test.head()"
   ]
  },
  {
   "cell_type": "code",
   "execution_count": 38,
   "id": "34298f1a",
   "metadata": {},
   "outputs": [
    {
     "name": "stdout",
     "output_type": "stream",
     "text": [
      "Started by moving patient  138__\n",
      "Initial proportion:  1.0    |    Initial size:  29\n",
      "\n",
      "----------------------------------------------\n",
      "\n",
      "Final test proportion:  0.8652373660030628    |    Final test size:  653\n",
      "Final train proportion:  0.851956624233852    |    Final train size:  2121\n"
     ]
    }
   ],
   "source": [
    "hrct_train, hrct_val = fibrosisTestSplit(full_hrct_dataframe)"
   ]
  },
  {
   "cell_type": "markdown",
   "id": "83413073",
   "metadata": {},
   "source": [
    "This way, we have obtained a split where train does not contain HRCT and a validation set that represents 20% of the entire dataset."
   ]
  },
  {
   "cell_type": "markdown",
   "id": "1f922938",
   "metadata": {},
   "source": [
    "### For custom split (60-20-20)"
   ]
  },
  {
   "cell_type": "markdown",
   "id": "b1596d60",
   "metadata": {},
   "source": [
    "In this case, out train dataset remains the same, as all of the test patients have been moved to df_test:"
   ]
  },
  {
   "cell_type": "code",
   "execution_count": 39,
   "id": "97cad059",
   "metadata": {},
   "outputs": [
    {
     "name": "stdout",
     "output_type": "stream",
     "text": [
      "Started by moving patient  158__\n",
      "Initial proportion:  1.0    |    Initial size:  27\n",
      "\n",
      "----------------------------------------------\n",
      "\n",
      "Final test proportion:  0.8680057388809183    |    Final test size:  697\n",
      "Final train proportion:  0.8658959537572254    |    Final train size:  1730\n"
     ]
    }
   ],
   "source": [
    "df_train, df_val = fibrosisTestSplit(df_train)"
   ]
  },
  {
   "cell_type": "markdown",
   "id": "a2264c89",
   "metadata": {},
   "source": [
    "## Exporting and final tweaks"
   ]
  },
  {
   "cell_type": "markdown",
   "id": "3ec8018a",
   "metadata": {},
   "source": [
    "Adding \".npy\" to every slice in every split csv is important for further development:"
   ]
  },
  {
   "cell_type": "code",
   "execution_count": 40,
   "id": "acd11fea",
   "metadata": {},
   "outputs": [],
   "source": [
    "def addNpy(df):\n",
    "    i = random.choice(range(len(df)))\n",
    "    if \".npy\" not in df[\"SliceID\"].iloc[i]:\n",
    "        df[\"SliceID\"] = df[\"SliceID\"].apply(lambda x: x+\".npy\")\n",
    "    return df"
   ]
  },
  {
   "cell_type": "code",
   "execution_count": 41,
   "id": "19c099f2",
   "metadata": {},
   "outputs": [
    {
     "name": "stderr",
     "output_type": "stream",
     "text": [
      "C:\\Users\\hasht\\AppData\\Local\\Temp\\ipykernel_25988\\4138708114.py:4: SettingWithCopyWarning: \n",
      "A value is trying to be set on a copy of a slice from a DataFrame.\n",
      "Try using .loc[row_indexer,col_indexer] = value instead\n",
      "\n",
      "See the caveats in the documentation: https://pandas.pydata.org/pandas-docs/stable/user_guide/indexing.html#returning-a-view-versus-a-copy\n",
      "  df[\"SliceID\"] = df[\"SliceID\"].apply(lambda x: x+\".npy\")\n"
     ]
    }
   ],
   "source": [
    "df_list = [hrct_train, hrct_test, hrct_val, \n",
    "           df_train, df_test, df_val]\n",
    "\n",
    "for i in range(len(df_list)):\n",
    "    df_list[i] = addNpy(df_list[i])"
   ]
  },
  {
   "cell_type": "code",
   "execution_count": 42,
   "id": "d9c3944b",
   "metadata": {},
   "outputs": [],
   "source": [
    "hrct_train.to_csv(r\"..\\\\3 - resnetTesting\\\\trainTestHRCT\\\\train_hrct.csv\", index=False)\n",
    "hrct_test.to_csv(r\"..\\\\3 - resnetTesting\\\\trainTestHRCT\\\\test_hrct.csv\", index=False)\n",
    "hrct_val.to_csv(r\"..\\\\3 - resnetTesting\\\\trainTestHRCT\\\\val_hrct.csv\", index=False)"
   ]
  },
  {
   "cell_type": "code",
   "execution_count": 43,
   "id": "31519ac7",
   "metadata": {},
   "outputs": [],
   "source": [
    "df_train.to_csv(r\"..\\\\3 - resnetTesting\\\\trainTestCustom\\\\train.csv\", index=False)\n",
    "df_test.to_csv(r\"..\\\\3 - resnetTesting\\\\trainTestCustom\\\\test.csv\", index=False)\n",
    "df_val.to_csv(r\"..\\\\3 - resnetTesting\\\\trainTestCUstom\\\\val.csv\", index=False)"
   ]
  }
 ],
 "metadata": {
  "kernelspec": {
   "display_name": "fibrosis",
   "language": "python",
   "name": "python3"
  },
  "language_info": {
   "codemirror_mode": {
    "name": "ipython",
    "version": 3
   },
   "file_extension": ".py",
   "mimetype": "text/x-python",
   "name": "python",
   "nbconvert_exporter": "python",
   "pygments_lexer": "ipython3",
   "version": "3.12.9"
  }
 },
 "nbformat": 4,
 "nbformat_minor": 5
}
