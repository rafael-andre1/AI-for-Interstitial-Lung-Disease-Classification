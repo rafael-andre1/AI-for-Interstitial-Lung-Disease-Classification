{
 "cells": [
  {
   "cell_type": "markdown",
   "id": "68e5feaf",
   "metadata": {},
   "source": [
    "# CNN Development"
   ]
  },
  {
   "cell_type": "markdown",
   "id": "03e7b9ae",
   "metadata": {},
   "source": [
    "In this notebook, I will be using all of the data and knowledge obtained in the previous `.ipynb`'s through tests and processing.\n",
    "\n",
    "The final goal is to produce a 2D Convolutional Neural Network capable of classifying the **ILD_DB** dataset with acceptable performance.\n",
    "\n",
    "Performance metrics will take the strong class imbalance (90-10 full dataset, 99-1 pilot) and augmentation nature into consideration:\n",
    "\n",
    " - **Weighted Accuracy**\n",
    " - "
   ]
  }
 ],
 "metadata": {
  "language_info": {
   "name": "python"
  }
 },
 "nbformat": 4,
 "nbformat_minor": 5
}
