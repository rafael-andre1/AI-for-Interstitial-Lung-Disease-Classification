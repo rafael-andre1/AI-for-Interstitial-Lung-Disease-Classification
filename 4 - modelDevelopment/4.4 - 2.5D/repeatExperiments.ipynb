{
 "cells": [
  {
   "cell_type": "markdown",
   "id": "ec85fce9",
   "metadata": {},
   "source": [
    "# Repeating Every Assessment/Experiment With 2.5D Execution"
   ]
  },
  {
   "cell_type": "markdown",
   "id": "79a20bf6",
   "metadata": {},
   "source": [
    "\n",
    "\n",
    "##### <center> <i> <span style=\"color:green\"> Before we start... </span> </i> </center>\n",
    "\n",
    "As the title indicates, I'll be exploring results of using 2.5D classification, and comparing them with the replication of slices, in order to ascertain whether this approach is successful. \n",
    "\n",
    "Of course, these results will most likely be quite specific to my data set and methodologies, and will only represent a direct comparison and quality of my own methods.\n",
    "\n",
    "In order to maintain consistent cross-analysis results contrasts, each experiment will retain its original train-test-validation split and ResNet setup (architecture, settings, etc.).\n",
    "\n",
    "Additionally, I'll be avoiding some experimental comparisons, as they provided results that are guaranteed to be identical throughout both 2D and 2.5D classification. For example, I will not be using HRCT as the test split, nor testing whether the pure or conservative approach is best for best epoch choice. \n",
    "\n",
    "Still, all of this implies several code replications and re-executions. For this reason, I chose to display results in the form of a small report, with indexes and numbered titles, in order to facilitate comprehension and analysis."
   ]
  },
  {
   "cell_type": "markdown",
   "id": "380953fd",
   "metadata": {},
   "source": [
    "# Table of Contents\n",
    "\n",
    "- [1. Data Augmentation vs No Augmentation](#1-data-augmentation-vs-no-augmentation)\n",
    "  - [1.1 Concept Overview](#11-concept-overview)\n",
    "  - [1.2 Threshold Selection and Model Choice](#12-threshold-selection-and-model-choice)\n",
    "  - [1.3 2.5D Execution of Data Augmentation vs No Augmentation](#13-25d-execution-of-data-augmentation-vs-no-augmentation)\n",
    "  - [1.4 Comparison with 2D](#14-comparison-with-2d)\n",
    "\n",
    "- [2. Patient-wise Classification Methods](#2-patient-wise-classification-methods)\n",
    "  - [2.1 Concept Overview](#21-concept-overview)\n",
    "  - [2.2 Threshold Selection and Model Choice](#22-threshold-selection-and-model-choice)\n",
    "  - [2.3 2.5D Execution of Patient-wise Classification Methods](#23-25d-execution-of-patient-wise-classification-methods)\n",
    "  - [2.4 Comparison with 2D](#24-comparison-with-2d)\n",
    "\n",
    "- [3. Slice-level Feature-wise Classification](#3-slice-level-feature-wise-classification)\n",
    "  - [3.1 Concept Overview](#31-concept-overview)\n",
    "  - [3.2 Threshold Selection and Model Choice](#32-threshold-selection-and-model-choice)\n",
    "  - [3.3 2.5D Execution of Slice-level Feature-wise Classification](#33-25d-execution-of-slice-level-feature-wise-classification)\n",
    "  - [3.4 Comparison with 2D](#34-comparison-with-2d)\n"
   ]
  },
  {
   "cell_type": "markdown",
   "id": "1550709c",
   "metadata": {},
   "source": [
    "<a name=\"1-data-augmentation-vs-no-augmentation\"></a>\n",
    "## 1. Data Augmentation vs No Augmentation\n",
    "\n",
    "<a name=\"11-concept-overview\"></a>\n",
    "### 1.1 Concept Overview  \n",
    "\n",
    "<a name=\"12-threshold-selection-and-model-choice\"></a>\n",
    "### 1.2 Threshold Selection and Model Choice  \n",
    "\n",
    "<a name=\"13-25d-execution-of-data-augmentation-vs-no-augmentation\"></a>\n",
    "### 1.3 2.5D Execution of Data Augmentation vs No Augmentation  \n",
    "\n",
    "<a name=\"14-comparison-with-2d\"></a>\n",
    "### 1.4 Comparison with 2D  \n",
    "\n",
    "\n",
    "<a name=\"2-patient-wise-classification-methods\"></a>\n",
    "## 2. Patient-wise Classification Methods\n",
    "\n",
    "<a name=\"21-concept-overview\"></a>\n",
    "### 2.1 Concept Overview  \n",
    "\n",
    "<a name=\"22-threshold-selection-and-model-choice\"></a>\n",
    "### 2.2 Threshold Selection and Model Choice  \n",
    "\n",
    "<a name=\"23-25d-execution-of-patient-wise-classification-methods\"></a>\n",
    "### 2.3 2.5D Execution of Patient-wise Classification Methods  \n",
    "\n",
    "<a name=\"24-comparison-with-2d\"></a>\n",
    "### 2.4 Comparison with 2D  \n",
    "\n",
    "\n",
    "<a name=\"3-slice-level-feature-wise-classification\"></a>\n",
    "## 3. Slice-level Feature-wise Classification\n",
    "\n",
    "<a name=\"31-concept-overview\"></a>\n",
    "### 3.1 Concept Overview  \n",
    "\n",
    "<a name=\"32-threshold-selection-and-model-choice\"></a>\n",
    "### 3.2 Threshold Selection and Model Choice  \n",
    "\n",
    "<a name=\"33-25d-execution-of-slice-level-feature-wise-classification\"></a>\n",
    "### 3.3 2.5D Execution of Slice-level Feature-wise Classification  \n",
    "\n",
    "<a name=\"34-comparison-with-2d\"></a>\n",
    "### 3.4 Comparison with 2D  \n"
   ]
  }
 ],
 "metadata": {
  "language_info": {
   "name": "python"
  }
 },
 "nbformat": 4,
 "nbformat_minor": 5
}
